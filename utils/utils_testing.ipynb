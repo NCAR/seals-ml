{
 "cells": [
  {
   "cell_type": "markdown",
   "metadata": {},
   "source": [
    "# Small Notebook to double check functions"
   ]
  },
  {
   "cell_type": "code",
   "execution_count": 1,
   "metadata": {},
   "outputs": [],
   "source": [
    "import xarray as xr\n",
    "import pandas as pd\n",
    "import numpy as np\n",
    "\n",
    "import matplotlib.pyplot as plt"
   ]
  },
  {
   "cell_type": "code",
   "execution_count": 2,
   "metadata": {},
   "outputs": [],
   "source": [
    "from utils import points_within_dataset, distance_between_points_3d, azimuth"
   ]
  },
  {
   "cell_type": "markdown",
   "metadata": {},
   "source": [
    "## Data"
   ]
  },
  {
   "cell_type": "markdown",
   "metadata": {},
   "source": [
    "Note the file:"
   ]
  },
  {
   "cell_type": "code",
   "execution_count": 3,
   "metadata": {},
   "outputs": [],
   "source": [
    "file = '../data/FE_CBL2m_Ug5.4.nc'"
   ]
  },
  {
   "cell_type": "code",
   "execution_count": 4,
   "metadata": {},
   "outputs": [
    {
     "data": {
      "text/html": [
       "<div><svg style=\"position: absolute; width: 0; height: 0; overflow: hidden\">\n",
       "<defs>\n",
       "<symbol id=\"icon-database\" viewBox=\"0 0 32 32\">\n",
       "<path d=\"M16 0c-8.837 0-16 2.239-16 5v4c0 2.761 7.163 5 16 5s16-2.239 16-5v-4c0-2.761-7.163-5-16-5z\"></path>\n",
       "<path d=\"M16 17c-8.837 0-16-2.239-16-5v6c0 2.761 7.163 5 16 5s16-2.239 16-5v-6c0 2.761-7.163 5-16 5z\"></path>\n",
       "<path d=\"M16 26c-8.837 0-16-2.239-16-5v6c0 2.761 7.163 5 16 5s16-2.239 16-5v-6c0 2.761-7.163 5-16 5z\"></path>\n",
       "</symbol>\n",
       "<symbol id=\"icon-file-text2\" viewBox=\"0 0 32 32\">\n",
       "<path d=\"M28.681 7.159c-0.694-0.947-1.662-2.053-2.724-3.116s-2.169-2.030-3.116-2.724c-1.612-1.182-2.393-1.319-2.841-1.319h-15.5c-1.378 0-2.5 1.121-2.5 2.5v27c0 1.378 1.122 2.5 2.5 2.5h23c1.378 0 2.5-1.122 2.5-2.5v-19.5c0-0.448-0.137-1.23-1.319-2.841zM24.543 5.457c0.959 0.959 1.712 1.825 2.268 2.543h-4.811v-4.811c0.718 0.556 1.584 1.309 2.543 2.268zM28 29.5c0 0.271-0.229 0.5-0.5 0.5h-23c-0.271 0-0.5-0.229-0.5-0.5v-27c0-0.271 0.229-0.5 0.5-0.5 0 0 15.499-0 15.5 0v7c0 0.552 0.448 1 1 1h7v19.5z\"></path>\n",
       "<path d=\"M23 26h-14c-0.552 0-1-0.448-1-1s0.448-1 1-1h14c0.552 0 1 0.448 1 1s-0.448 1-1 1z\"></path>\n",
       "<path d=\"M23 22h-14c-0.552 0-1-0.448-1-1s0.448-1 1-1h14c0.552 0 1 0.448 1 1s-0.448 1-1 1z\"></path>\n",
       "<path d=\"M23 18h-14c-0.552 0-1-0.448-1-1s0.448-1 1-1h14c0.552 0 1 0.448 1 1s-0.448 1-1 1z\"></path>\n",
       "</symbol>\n",
       "</defs>\n",
       "</svg>\n",
       "<style>/* CSS stylesheet for displaying xarray objects in jupyterlab.\n",
       " *\n",
       " */\n",
       "\n",
       ":root {\n",
       "  --xr-font-color0: var(--jp-content-font-color0, rgba(0, 0, 0, 1));\n",
       "  --xr-font-color2: var(--jp-content-font-color2, rgba(0, 0, 0, 0.54));\n",
       "  --xr-font-color3: var(--jp-content-font-color3, rgba(0, 0, 0, 0.38));\n",
       "  --xr-border-color: var(--jp-border-color2, #e0e0e0);\n",
       "  --xr-disabled-color: var(--jp-layout-color3, #bdbdbd);\n",
       "  --xr-background-color: var(--jp-layout-color0, white);\n",
       "  --xr-background-color-row-even: var(--jp-layout-color1, white);\n",
       "  --xr-background-color-row-odd: var(--jp-layout-color2, #eeeeee);\n",
       "}\n",
       "\n",
       "html[theme=dark],\n",
       "body[data-theme=dark],\n",
       "body.vscode-dark {\n",
       "  --xr-font-color0: rgba(255, 255, 255, 1);\n",
       "  --xr-font-color2: rgba(255, 255, 255, 0.54);\n",
       "  --xr-font-color3: rgba(255, 255, 255, 0.38);\n",
       "  --xr-border-color: #1F1F1F;\n",
       "  --xr-disabled-color: #515151;\n",
       "  --xr-background-color: #111111;\n",
       "  --xr-background-color-row-even: #111111;\n",
       "  --xr-background-color-row-odd: #313131;\n",
       "}\n",
       "\n",
       ".xr-wrap {\n",
       "  display: block !important;\n",
       "  min-width: 300px;\n",
       "  max-width: 700px;\n",
       "}\n",
       "\n",
       ".xr-text-repr-fallback {\n",
       "  /* fallback to plain text repr when CSS is not injected (untrusted notebook) */\n",
       "  display: none;\n",
       "}\n",
       "\n",
       ".xr-header {\n",
       "  padding-top: 6px;\n",
       "  padding-bottom: 6px;\n",
       "  margin-bottom: 4px;\n",
       "  border-bottom: solid 1px var(--xr-border-color);\n",
       "}\n",
       "\n",
       ".xr-header > div,\n",
       ".xr-header > ul {\n",
       "  display: inline;\n",
       "  margin-top: 0;\n",
       "  margin-bottom: 0;\n",
       "}\n",
       "\n",
       ".xr-obj-type,\n",
       ".xr-array-name {\n",
       "  margin-left: 2px;\n",
       "  margin-right: 10px;\n",
       "}\n",
       "\n",
       ".xr-obj-type {\n",
       "  color: var(--xr-font-color2);\n",
       "}\n",
       "\n",
       ".xr-sections {\n",
       "  padding-left: 0 !important;\n",
       "  display: grid;\n",
       "  grid-template-columns: 150px auto auto 1fr 20px 20px;\n",
       "}\n",
       "\n",
       ".xr-section-item {\n",
       "  display: contents;\n",
       "}\n",
       "\n",
       ".xr-section-item input {\n",
       "  display: none;\n",
       "}\n",
       "\n",
       ".xr-section-item input + label {\n",
       "  color: var(--xr-disabled-color);\n",
       "}\n",
       "\n",
       ".xr-section-item input:enabled + label {\n",
       "  cursor: pointer;\n",
       "  color: var(--xr-font-color2);\n",
       "}\n",
       "\n",
       ".xr-section-item input:enabled + label:hover {\n",
       "  color: var(--xr-font-color0);\n",
       "}\n",
       "\n",
       ".xr-section-summary {\n",
       "  grid-column: 1;\n",
       "  color: var(--xr-font-color2);\n",
       "  font-weight: 500;\n",
       "}\n",
       "\n",
       ".xr-section-summary > span {\n",
       "  display: inline-block;\n",
       "  padding-left: 0.5em;\n",
       "}\n",
       "\n",
       ".xr-section-summary-in:disabled + label {\n",
       "  color: var(--xr-font-color2);\n",
       "}\n",
       "\n",
       ".xr-section-summary-in + label:before {\n",
       "  display: inline-block;\n",
       "  content: '►';\n",
       "  font-size: 11px;\n",
       "  width: 15px;\n",
       "  text-align: center;\n",
       "}\n",
       "\n",
       ".xr-section-summary-in:disabled + label:before {\n",
       "  color: var(--xr-disabled-color);\n",
       "}\n",
       "\n",
       ".xr-section-summary-in:checked + label:before {\n",
       "  content: '▼';\n",
       "}\n",
       "\n",
       ".xr-section-summary-in:checked + label > span {\n",
       "  display: none;\n",
       "}\n",
       "\n",
       ".xr-section-summary,\n",
       ".xr-section-inline-details {\n",
       "  padding-top: 4px;\n",
       "  padding-bottom: 4px;\n",
       "}\n",
       "\n",
       ".xr-section-inline-details {\n",
       "  grid-column: 2 / -1;\n",
       "}\n",
       "\n",
       ".xr-section-details {\n",
       "  display: none;\n",
       "  grid-column: 1 / -1;\n",
       "  margin-bottom: 5px;\n",
       "}\n",
       "\n",
       ".xr-section-summary-in:checked ~ .xr-section-details {\n",
       "  display: contents;\n",
       "}\n",
       "\n",
       ".xr-array-wrap {\n",
       "  grid-column: 1 / -1;\n",
       "  display: grid;\n",
       "  grid-template-columns: 20px auto;\n",
       "}\n",
       "\n",
       ".xr-array-wrap > label {\n",
       "  grid-column: 1;\n",
       "  vertical-align: top;\n",
       "}\n",
       "\n",
       ".xr-preview {\n",
       "  color: var(--xr-font-color3);\n",
       "}\n",
       "\n",
       ".xr-array-preview,\n",
       ".xr-array-data {\n",
       "  padding: 0 5px !important;\n",
       "  grid-column: 2;\n",
       "}\n",
       "\n",
       ".xr-array-data,\n",
       ".xr-array-in:checked ~ .xr-array-preview {\n",
       "  display: none;\n",
       "}\n",
       "\n",
       ".xr-array-in:checked ~ .xr-array-data,\n",
       ".xr-array-preview {\n",
       "  display: inline-block;\n",
       "}\n",
       "\n",
       ".xr-dim-list {\n",
       "  display: inline-block !important;\n",
       "  list-style: none;\n",
       "  padding: 0 !important;\n",
       "  margin: 0;\n",
       "}\n",
       "\n",
       ".xr-dim-list li {\n",
       "  display: inline-block;\n",
       "  padding: 0;\n",
       "  margin: 0;\n",
       "}\n",
       "\n",
       ".xr-dim-list:before {\n",
       "  content: '(';\n",
       "}\n",
       "\n",
       ".xr-dim-list:after {\n",
       "  content: ')';\n",
       "}\n",
       "\n",
       ".xr-dim-list li:not(:last-child):after {\n",
       "  content: ',';\n",
       "  padding-right: 5px;\n",
       "}\n",
       "\n",
       ".xr-has-index {\n",
       "  font-weight: bold;\n",
       "}\n",
       "\n",
       ".xr-var-list,\n",
       ".xr-var-item {\n",
       "  display: contents;\n",
       "}\n",
       "\n",
       ".xr-var-item > div,\n",
       ".xr-var-item label,\n",
       ".xr-var-item > .xr-var-name span {\n",
       "  background-color: var(--xr-background-color-row-even);\n",
       "  margin-bottom: 0;\n",
       "}\n",
       "\n",
       ".xr-var-item > .xr-var-name:hover span {\n",
       "  padding-right: 5px;\n",
       "}\n",
       "\n",
       ".xr-var-list > li:nth-child(odd) > div,\n",
       ".xr-var-list > li:nth-child(odd) > label,\n",
       ".xr-var-list > li:nth-child(odd) > .xr-var-name span {\n",
       "  background-color: var(--xr-background-color-row-odd);\n",
       "}\n",
       "\n",
       ".xr-var-name {\n",
       "  grid-column: 1;\n",
       "}\n",
       "\n",
       ".xr-var-dims {\n",
       "  grid-column: 2;\n",
       "}\n",
       "\n",
       ".xr-var-dtype {\n",
       "  grid-column: 3;\n",
       "  text-align: right;\n",
       "  color: var(--xr-font-color2);\n",
       "}\n",
       "\n",
       ".xr-var-preview {\n",
       "  grid-column: 4;\n",
       "}\n",
       "\n",
       ".xr-index-preview {\n",
       "  grid-column: 2 / 5;\n",
       "  color: var(--xr-font-color2);\n",
       "}\n",
       "\n",
       ".xr-var-name,\n",
       ".xr-var-dims,\n",
       ".xr-var-dtype,\n",
       ".xr-preview,\n",
       ".xr-attrs dt {\n",
       "  white-space: nowrap;\n",
       "  overflow: hidden;\n",
       "  text-overflow: ellipsis;\n",
       "  padding-right: 10px;\n",
       "}\n",
       "\n",
       ".xr-var-name:hover,\n",
       ".xr-var-dims:hover,\n",
       ".xr-var-dtype:hover,\n",
       ".xr-attrs dt:hover {\n",
       "  overflow: visible;\n",
       "  width: auto;\n",
       "  z-index: 1;\n",
       "}\n",
       "\n",
       ".xr-var-attrs,\n",
       ".xr-var-data,\n",
       ".xr-index-data {\n",
       "  display: none;\n",
       "  background-color: var(--xr-background-color) !important;\n",
       "  padding-bottom: 5px !important;\n",
       "}\n",
       "\n",
       ".xr-var-attrs-in:checked ~ .xr-var-attrs,\n",
       ".xr-var-data-in:checked ~ .xr-var-data,\n",
       ".xr-index-data-in:checked ~ .xr-index-data {\n",
       "  display: block;\n",
       "}\n",
       "\n",
       ".xr-var-data > table {\n",
       "  float: right;\n",
       "}\n",
       "\n",
       ".xr-var-name span,\n",
       ".xr-var-data,\n",
       ".xr-index-name div,\n",
       ".xr-index-data,\n",
       ".xr-attrs {\n",
       "  padding-left: 25px !important;\n",
       "}\n",
       "\n",
       ".xr-attrs,\n",
       ".xr-var-attrs,\n",
       ".xr-var-data,\n",
       ".xr-index-data {\n",
       "  grid-column: 1 / -1;\n",
       "}\n",
       "\n",
       "dl.xr-attrs {\n",
       "  padding: 0;\n",
       "  margin: 0;\n",
       "  display: grid;\n",
       "  grid-template-columns: 125px auto;\n",
       "}\n",
       "\n",
       ".xr-attrs dt,\n",
       ".xr-attrs dd {\n",
       "  padding: 0;\n",
       "  margin: 0;\n",
       "  float: left;\n",
       "  padding-right: 10px;\n",
       "  width: auto;\n",
       "}\n",
       "\n",
       ".xr-attrs dt {\n",
       "  font-weight: normal;\n",
       "  grid-column: 1;\n",
       "}\n",
       "\n",
       ".xr-attrs dt:hover span {\n",
       "  display: inline-block;\n",
       "  background: var(--xr-background-color);\n",
       "  padding-right: 10px;\n",
       "}\n",
       "\n",
       ".xr-attrs dd {\n",
       "  grid-column: 2;\n",
       "  white-space: pre-wrap;\n",
       "  word-break: break-all;\n",
       "}\n",
       "\n",
       ".xr-icon-database,\n",
       ".xr-icon-file-text2,\n",
       ".xr-no-icon {\n",
       "  display: inline-block;\n",
       "  vertical-align: middle;\n",
       "  width: 1em;\n",
       "  height: 1.5em !important;\n",
       "  stroke-width: 0;\n",
       "  stroke: currentColor;\n",
       "  fill: currentColor;\n",
       "}\n",
       "</style><pre class='xr-text-repr-fallback'>&lt;xarray.Dataset&gt;\n",
       "Dimensions:                (sourceDim: 8, locationDim: 3, z: 15, y: 30, x: 30,\n",
       "                            time: 240)\n",
       "Coordinates:\n",
       "  * time                   (time) int64 0 1 2 3 4 5 ... 234 235 236 237 238 239\n",
       "  * x                      (x) int64 0 1 2 3 4 5 6 7 ... 22 23 24 25 26 27 28 29\n",
       "  * y                      (y) int64 0 1 2 3 4 5 6 7 ... 22 23 24 25 26 27 28 29\n",
       "  * z                      (z) int64 0 1 2 3 4 5 6 7 8 9 10 11 12 13 14\n",
       "  * sourceDim              (sourceDim) int64 0 1 2 3 4 5 6 7\n",
       "  * locationDim            (locationDim) int64 0 1 2\n",
       "Data variables:\n",
       "    srcAuxScLocation       (sourceDim, locationDim) float64 ...\n",
       "    srcAuxScMassSpecValue  (sourceDim) float64 ...\n",
       "    structureMask          (z, y, x) float64 ...\n",
       "    xPos                   (z, y, x) float32 ...\n",
       "    yPos                   (z, y, x) float32 ...\n",
       "    zPos                   (z, y, x) float32 ...\n",
       "    u                      (time, z, y, x) float32 ...\n",
       "    v                      (time, z, y, x) float32 ...\n",
       "    w                      (time, z, y, x) float32 ...\n",
       "    q_CH4                  (time, z, y, x) float32 ...\n",
       "Attributes:\n",
       "    Original Filename:     FE_CBL2m_Ug5.4\n",
       "    Fast Eddy Run:         Fast Eddy Run 1\n",
       "    Time of Reformatting:  2023-09-11 08:34:26.197316</pre><div class='xr-wrap' style='display:none'><div class='xr-header'><div class='xr-obj-type'>xarray.Dataset</div></div><ul class='xr-sections'><li class='xr-section-item'><input id='section-9432bcf1-2f00-41d9-b084-065bcda8a8e0' class='xr-section-summary-in' type='checkbox' disabled ><label for='section-9432bcf1-2f00-41d9-b084-065bcda8a8e0' class='xr-section-summary'  title='Expand/collapse section'>Dimensions:</label><div class='xr-section-inline-details'><ul class='xr-dim-list'><li><span class='xr-has-index'>sourceDim</span>: 8</li><li><span class='xr-has-index'>locationDim</span>: 3</li><li><span class='xr-has-index'>z</span>: 15</li><li><span class='xr-has-index'>y</span>: 30</li><li><span class='xr-has-index'>x</span>: 30</li><li><span class='xr-has-index'>time</span>: 240</li></ul></div><div class='xr-section-details'></div></li><li class='xr-section-item'><input id='section-a44a1eb8-28ab-48db-80c8-202c0179b070' class='xr-section-summary-in' type='checkbox'  checked><label for='section-a44a1eb8-28ab-48db-80c8-202c0179b070' class='xr-section-summary' >Coordinates: <span>(6)</span></label><div class='xr-section-inline-details'></div><div class='xr-section-details'><ul class='xr-var-list'><li class='xr-var-item'><div class='xr-var-name'><span class='xr-has-index'>time</span></div><div class='xr-var-dims'>(time)</div><div class='xr-var-dtype'>int64</div><div class='xr-var-preview xr-preview'>0 1 2 3 4 5 ... 235 236 237 238 239</div><input id='attrs-45fdbad4-6bf4-4005-a7ed-dc2e53134ecf' class='xr-var-attrs-in' type='checkbox' disabled><label for='attrs-45fdbad4-6bf4-4005-a7ed-dc2e53134ecf' title='Show/Hide attributes'><svg class='icon xr-icon-file-text2'><use xlink:href='#icon-file-text2'></use></svg></label><input id='data-84b33d10-447e-4252-af1b-ba8a245ec130' class='xr-var-data-in' type='checkbox'><label for='data-84b33d10-447e-4252-af1b-ba8a245ec130' title='Show/Hide data repr'><svg class='icon xr-icon-database'><use xlink:href='#icon-database'></use></svg></label><div class='xr-var-attrs'><dl class='xr-attrs'></dl></div><div class='xr-var-data'><pre>array([  0,   1,   2, ..., 237, 238, 239])</pre></div></li><li class='xr-var-item'><div class='xr-var-name'><span class='xr-has-index'>x</span></div><div class='xr-var-dims'>(x)</div><div class='xr-var-dtype'>int64</div><div class='xr-var-preview xr-preview'>0 1 2 3 4 5 6 ... 24 25 26 27 28 29</div><input id='attrs-cedcdf9d-0eaf-463f-9bf3-9bd51b2de9ff' class='xr-var-attrs-in' type='checkbox' disabled><label for='attrs-cedcdf9d-0eaf-463f-9bf3-9bd51b2de9ff' title='Show/Hide attributes'><svg class='icon xr-icon-file-text2'><use xlink:href='#icon-file-text2'></use></svg></label><input id='data-5b941e26-29f2-43db-ae16-04f27690a1bc' class='xr-var-data-in' type='checkbox'><label for='data-5b941e26-29f2-43db-ae16-04f27690a1bc' title='Show/Hide data repr'><svg class='icon xr-icon-database'><use xlink:href='#icon-database'></use></svg></label><div class='xr-var-attrs'><dl class='xr-attrs'></dl></div><div class='xr-var-data'><pre>array([ 0,  1,  2,  3,  4,  5,  6,  7,  8,  9, 10, 11, 12, 13, 14, 15, 16, 17,\n",
       "       18, 19, 20, 21, 22, 23, 24, 25, 26, 27, 28, 29])</pre></div></li><li class='xr-var-item'><div class='xr-var-name'><span class='xr-has-index'>y</span></div><div class='xr-var-dims'>(y)</div><div class='xr-var-dtype'>int64</div><div class='xr-var-preview xr-preview'>0 1 2 3 4 5 6 ... 24 25 26 27 28 29</div><input id='attrs-f2937b59-c135-4c1e-9170-4ee386f62166' class='xr-var-attrs-in' type='checkbox' disabled><label for='attrs-f2937b59-c135-4c1e-9170-4ee386f62166' title='Show/Hide attributes'><svg class='icon xr-icon-file-text2'><use xlink:href='#icon-file-text2'></use></svg></label><input id='data-32c7916b-9d69-4101-96fd-2289100dd445' class='xr-var-data-in' type='checkbox'><label for='data-32c7916b-9d69-4101-96fd-2289100dd445' title='Show/Hide data repr'><svg class='icon xr-icon-database'><use xlink:href='#icon-database'></use></svg></label><div class='xr-var-attrs'><dl class='xr-attrs'></dl></div><div class='xr-var-data'><pre>array([ 0,  1,  2,  3,  4,  5,  6,  7,  8,  9, 10, 11, 12, 13, 14, 15, 16, 17,\n",
       "       18, 19, 20, 21, 22, 23, 24, 25, 26, 27, 28, 29])</pre></div></li><li class='xr-var-item'><div class='xr-var-name'><span class='xr-has-index'>z</span></div><div class='xr-var-dims'>(z)</div><div class='xr-var-dtype'>int64</div><div class='xr-var-preview xr-preview'>0 1 2 3 4 5 6 7 8 9 10 11 12 13 14</div><input id='attrs-9a1afd2e-75e2-4dd3-9879-5d7341c00e98' class='xr-var-attrs-in' type='checkbox' disabled><label for='attrs-9a1afd2e-75e2-4dd3-9879-5d7341c00e98' title='Show/Hide attributes'><svg class='icon xr-icon-file-text2'><use xlink:href='#icon-file-text2'></use></svg></label><input id='data-bc835999-5cff-4ace-a94e-dfa8b4237796' class='xr-var-data-in' type='checkbox'><label for='data-bc835999-5cff-4ace-a94e-dfa8b4237796' title='Show/Hide data repr'><svg class='icon xr-icon-database'><use xlink:href='#icon-database'></use></svg></label><div class='xr-var-attrs'><dl class='xr-attrs'></dl></div><div class='xr-var-data'><pre>array([ 0,  1,  2,  3,  4,  5,  6,  7,  8,  9, 10, 11, 12, 13, 14])</pre></div></li><li class='xr-var-item'><div class='xr-var-name'><span class='xr-has-index'>sourceDim</span></div><div class='xr-var-dims'>(sourceDim)</div><div class='xr-var-dtype'>int64</div><div class='xr-var-preview xr-preview'>0 1 2 3 4 5 6 7</div><input id='attrs-f1ea4edf-9be0-4b95-acf8-9f29ba303ba2' class='xr-var-attrs-in' type='checkbox' disabled><label for='attrs-f1ea4edf-9be0-4b95-acf8-9f29ba303ba2' title='Show/Hide attributes'><svg class='icon xr-icon-file-text2'><use xlink:href='#icon-file-text2'></use></svg></label><input id='data-30b54641-d6ae-46bc-bf6d-fb45234ea33a' class='xr-var-data-in' type='checkbox'><label for='data-30b54641-d6ae-46bc-bf6d-fb45234ea33a' title='Show/Hide data repr'><svg class='icon xr-icon-database'><use xlink:href='#icon-database'></use></svg></label><div class='xr-var-attrs'><dl class='xr-attrs'></dl></div><div class='xr-var-data'><pre>array([0, 1, 2, 3, 4, 5, 6, 7])</pre></div></li><li class='xr-var-item'><div class='xr-var-name'><span class='xr-has-index'>locationDim</span></div><div class='xr-var-dims'>(locationDim)</div><div class='xr-var-dtype'>int64</div><div class='xr-var-preview xr-preview'>0 1 2</div><input id='attrs-1495fe1e-8ac2-4c42-91a9-4515add465d5' class='xr-var-attrs-in' type='checkbox' disabled><label for='attrs-1495fe1e-8ac2-4c42-91a9-4515add465d5' title='Show/Hide attributes'><svg class='icon xr-icon-file-text2'><use xlink:href='#icon-file-text2'></use></svg></label><input id='data-7b8abdfa-36d0-41f9-b4d5-b5d0b99401de' class='xr-var-data-in' type='checkbox'><label for='data-7b8abdfa-36d0-41f9-b4d5-b5d0b99401de' title='Show/Hide data repr'><svg class='icon xr-icon-database'><use xlink:href='#icon-database'></use></svg></label><div class='xr-var-attrs'><dl class='xr-attrs'></dl></div><div class='xr-var-data'><pre>array([0, 1, 2])</pre></div></li></ul></div></li><li class='xr-section-item'><input id='section-6d7bda20-2850-4bee-9f4f-435c6dba0dbe' class='xr-section-summary-in' type='checkbox'  checked><label for='section-6d7bda20-2850-4bee-9f4f-435c6dba0dbe' class='xr-section-summary' >Data variables: <span>(10)</span></label><div class='xr-section-inline-details'></div><div class='xr-section-details'><ul class='xr-var-list'><li class='xr-var-item'><div class='xr-var-name'><span>srcAuxScLocation</span></div><div class='xr-var-dims'>(sourceDim, locationDim)</div><div class='xr-var-dtype'>float64</div><div class='xr-var-preview xr-preview'>...</div><input id='attrs-e34ba18b-8e7b-43b6-8893-4fdb64784c59' class='xr-var-attrs-in' type='checkbox' ><label for='attrs-e34ba18b-8e7b-43b6-8893-4fdb64784c59' title='Show/Hide attributes'><svg class='icon xr-icon-file-text2'><use xlink:href='#icon-file-text2'></use></svg></label><input id='data-d66b68b1-176e-4a65-b747-734cb94f1335' class='xr-var-data-in' type='checkbox'><label for='data-d66b68b1-176e-4a65-b747-734cb94f1335' title='Show/Hide data repr'><svg class='icon xr-icon-database'><use xlink:href='#icon-database'></use></svg></label><div class='xr-var-attrs'><dl class='xr-attrs'><dt><span>units :</span></dt><dd>m</dd></dl></div><div class='xr-var-data'><pre>[24 values with dtype=float64]</pre></div></li><li class='xr-var-item'><div class='xr-var-name'><span>srcAuxScMassSpecValue</span></div><div class='xr-var-dims'>(sourceDim)</div><div class='xr-var-dtype'>float64</div><div class='xr-var-preview xr-preview'>...</div><input id='attrs-ee8c2aa2-eaa2-4611-99e5-28486015f245' class='xr-var-attrs-in' type='checkbox' ><label for='attrs-ee8c2aa2-eaa2-4611-99e5-28486015f245' title='Show/Hide attributes'><svg class='icon xr-icon-file-text2'><use xlink:href='#icon-file-text2'></use></svg></label><input id='data-df19ed51-87b3-440a-a213-a03d84b5ecc8' class='xr-var-data-in' type='checkbox'><label for='data-df19ed51-87b3-440a-a213-a03d84b5ecc8' title='Show/Hide data repr'><svg class='icon xr-icon-database'><use xlink:href='#icon-database'></use></svg></label><div class='xr-var-attrs'><dl class='xr-attrs'><dt><span>units :</span></dt><dd>kg/hr</dd></dl></div><div class='xr-var-data'><pre>[8 values with dtype=float64]</pre></div></li><li class='xr-var-item'><div class='xr-var-name'><span>structureMask</span></div><div class='xr-var-dims'>(z, y, x)</div><div class='xr-var-dtype'>float64</div><div class='xr-var-preview xr-preview'>...</div><input id='attrs-41a3a437-85a2-42b3-a8e5-0570b5b165d0' class='xr-var-attrs-in' type='checkbox' ><label for='attrs-41a3a437-85a2-42b3-a8e5-0570b5b165d0' title='Show/Hide attributes'><svg class='icon xr-icon-file-text2'><use xlink:href='#icon-file-text2'></use></svg></label><input id='data-35540ed1-b902-4e73-82cc-55945f6fe07f' class='xr-var-data-in' type='checkbox'><label for='data-35540ed1-b902-4e73-82cc-55945f6fe07f' title='Show/Hide data repr'><svg class='icon xr-icon-database'><use xlink:href='#icon-database'></use></svg></label><div class='xr-var-attrs'><dl class='xr-attrs'><dt><span>units :</span></dt><dd>-</dd></dl></div><div class='xr-var-data'><pre>[13500 values with dtype=float64]</pre></div></li><li class='xr-var-item'><div class='xr-var-name'><span>xPos</span></div><div class='xr-var-dims'>(z, y, x)</div><div class='xr-var-dtype'>float32</div><div class='xr-var-preview xr-preview'>...</div><input id='attrs-e1368687-b2ee-49ef-b375-b7237d237ad5' class='xr-var-attrs-in' type='checkbox' ><label for='attrs-e1368687-b2ee-49ef-b375-b7237d237ad5' title='Show/Hide attributes'><svg class='icon xr-icon-file-text2'><use xlink:href='#icon-file-text2'></use></svg></label><input id='data-6f665175-d348-418d-9249-29eb4e58f3e5' class='xr-var-data-in' type='checkbox'><label for='data-6f665175-d348-418d-9249-29eb4e58f3e5' title='Show/Hide data repr'><svg class='icon xr-icon-database'><use xlink:href='#icon-database'></use></svg></label><div class='xr-var-attrs'><dl class='xr-attrs'><dt><span>units :</span></dt><dd>m</dd></dl></div><div class='xr-var-data'><pre>[13500 values with dtype=float32]</pre></div></li><li class='xr-var-item'><div class='xr-var-name'><span>yPos</span></div><div class='xr-var-dims'>(z, y, x)</div><div class='xr-var-dtype'>float32</div><div class='xr-var-preview xr-preview'>...</div><input id='attrs-57ddf788-f9e0-4f5c-ae81-e60632efd6f8' class='xr-var-attrs-in' type='checkbox' ><label for='attrs-57ddf788-f9e0-4f5c-ae81-e60632efd6f8' title='Show/Hide attributes'><svg class='icon xr-icon-file-text2'><use xlink:href='#icon-file-text2'></use></svg></label><input id='data-fd6d8cf0-8c2c-4cfd-963a-c3a9273dbeb3' class='xr-var-data-in' type='checkbox'><label for='data-fd6d8cf0-8c2c-4cfd-963a-c3a9273dbeb3' title='Show/Hide data repr'><svg class='icon xr-icon-database'><use xlink:href='#icon-database'></use></svg></label><div class='xr-var-attrs'><dl class='xr-attrs'><dt><span>units :</span></dt><dd>m</dd></dl></div><div class='xr-var-data'><pre>[13500 values with dtype=float32]</pre></div></li><li class='xr-var-item'><div class='xr-var-name'><span>zPos</span></div><div class='xr-var-dims'>(z, y, x)</div><div class='xr-var-dtype'>float32</div><div class='xr-var-preview xr-preview'>...</div><input id='attrs-cb42405f-c1d5-49ed-9965-fedc307cf673' class='xr-var-attrs-in' type='checkbox' ><label for='attrs-cb42405f-c1d5-49ed-9965-fedc307cf673' title='Show/Hide attributes'><svg class='icon xr-icon-file-text2'><use xlink:href='#icon-file-text2'></use></svg></label><input id='data-9e003f3f-e12d-4064-a3d6-58574835b42d' class='xr-var-data-in' type='checkbox'><label for='data-9e003f3f-e12d-4064-a3d6-58574835b42d' title='Show/Hide data repr'><svg class='icon xr-icon-database'><use xlink:href='#icon-database'></use></svg></label><div class='xr-var-attrs'><dl class='xr-attrs'><dt><span>units :</span></dt><dd>m</dd></dl></div><div class='xr-var-data'><pre>[13500 values with dtype=float32]</pre></div></li><li class='xr-var-item'><div class='xr-var-name'><span>u</span></div><div class='xr-var-dims'>(time, z, y, x)</div><div class='xr-var-dtype'>float32</div><div class='xr-var-preview xr-preview'>...</div><input id='attrs-2f13ad12-5495-43ca-bad7-3ebcfc8271af' class='xr-var-attrs-in' type='checkbox' ><label for='attrs-2f13ad12-5495-43ca-bad7-3ebcfc8271af' title='Show/Hide attributes'><svg class='icon xr-icon-file-text2'><use xlink:href='#icon-file-text2'></use></svg></label><input id='data-96fe4baf-cbd2-4ebc-8460-2a27bba2f004' class='xr-var-data-in' type='checkbox'><label for='data-96fe4baf-cbd2-4ebc-8460-2a27bba2f004' title='Show/Hide data repr'><svg class='icon xr-icon-database'><use xlink:href='#icon-database'></use></svg></label><div class='xr-var-attrs'><dl class='xr-attrs'><dt><span>units :</span></dt><dd>m/s</dd></dl></div><div class='xr-var-data'><pre>[3240000 values with dtype=float32]</pre></div></li><li class='xr-var-item'><div class='xr-var-name'><span>v</span></div><div class='xr-var-dims'>(time, z, y, x)</div><div class='xr-var-dtype'>float32</div><div class='xr-var-preview xr-preview'>...</div><input id='attrs-7495d769-3619-4ab8-964a-5c544c279261' class='xr-var-attrs-in' type='checkbox' ><label for='attrs-7495d769-3619-4ab8-964a-5c544c279261' title='Show/Hide attributes'><svg class='icon xr-icon-file-text2'><use xlink:href='#icon-file-text2'></use></svg></label><input id='data-cd8ed450-51ca-454b-9954-e575eed0eb88' class='xr-var-data-in' type='checkbox'><label for='data-cd8ed450-51ca-454b-9954-e575eed0eb88' title='Show/Hide data repr'><svg class='icon xr-icon-database'><use xlink:href='#icon-database'></use></svg></label><div class='xr-var-attrs'><dl class='xr-attrs'><dt><span>units :</span></dt><dd>m/s</dd></dl></div><div class='xr-var-data'><pre>[3240000 values with dtype=float32]</pre></div></li><li class='xr-var-item'><div class='xr-var-name'><span>w</span></div><div class='xr-var-dims'>(time, z, y, x)</div><div class='xr-var-dtype'>float32</div><div class='xr-var-preview xr-preview'>...</div><input id='attrs-8eacbc0a-cbae-4c56-8bc2-7dfc46dcfd80' class='xr-var-attrs-in' type='checkbox' ><label for='attrs-8eacbc0a-cbae-4c56-8bc2-7dfc46dcfd80' title='Show/Hide attributes'><svg class='icon xr-icon-file-text2'><use xlink:href='#icon-file-text2'></use></svg></label><input id='data-9fdc4cb2-3727-40f2-9954-40796f2090ee' class='xr-var-data-in' type='checkbox'><label for='data-9fdc4cb2-3727-40f2-9954-40796f2090ee' title='Show/Hide data repr'><svg class='icon xr-icon-database'><use xlink:href='#icon-database'></use></svg></label><div class='xr-var-attrs'><dl class='xr-attrs'><dt><span>units :</span></dt><dd>m/s</dd></dl></div><div class='xr-var-data'><pre>[3240000 values with dtype=float32]</pre></div></li><li class='xr-var-item'><div class='xr-var-name'><span>q_CH4</span></div><div class='xr-var-dims'>(time, z, y, x)</div><div class='xr-var-dtype'>float32</div><div class='xr-var-preview xr-preview'>...</div><input id='attrs-78eef5f2-53a7-454d-a1b2-b45d39e853b0' class='xr-var-attrs-in' type='checkbox' ><label for='attrs-78eef5f2-53a7-454d-a1b2-b45d39e853b0' title='Show/Hide attributes'><svg class='icon xr-icon-file-text2'><use xlink:href='#icon-file-text2'></use></svg></label><input id='data-4eb4a622-d126-4026-955b-9565d7334106' class='xr-var-data-in' type='checkbox'><label for='data-4eb4a622-d126-4026-955b-9565d7334106' title='Show/Hide data repr'><svg class='icon xr-icon-database'><use xlink:href='#icon-database'></use></svg></label><div class='xr-var-attrs'><dl class='xr-attrs'><dt><span>units :</span></dt><dd>kg/kg</dd></dl></div><div class='xr-var-data'><pre>[3240000 values with dtype=float32]</pre></div></li></ul></div></li><li class='xr-section-item'><input id='section-d0284eb6-c288-4581-9e07-f79f65b596f5' class='xr-section-summary-in' type='checkbox'  ><label for='section-d0284eb6-c288-4581-9e07-f79f65b596f5' class='xr-section-summary' >Indexes: <span>(6)</span></label><div class='xr-section-inline-details'></div><div class='xr-section-details'><ul class='xr-var-list'><li class='xr-var-item'><div class='xr-index-name'><div>time</div></div><div class='xr-index-preview'>PandasIndex</div><div></div><input id='index-86adcae4-0b11-465f-b4f6-07618ca5e061' class='xr-index-data-in' type='checkbox'/><label for='index-86adcae4-0b11-465f-b4f6-07618ca5e061' title='Show/Hide index repr'><svg class='icon xr-icon-database'><use xlink:href='#icon-database'></use></svg></label><div class='xr-index-data'><pre>PandasIndex(Index([  0,   1,   2,   3,   4,   5,   6,   7,   8,   9,\n",
       "       ...\n",
       "       230, 231, 232, 233, 234, 235, 236, 237, 238, 239],\n",
       "      dtype=&#x27;int64&#x27;, name=&#x27;time&#x27;, length=240))</pre></div></li><li class='xr-var-item'><div class='xr-index-name'><div>x</div></div><div class='xr-index-preview'>PandasIndex</div><div></div><input id='index-ff624cbc-e4e8-4276-a2d8-21cabe71da8f' class='xr-index-data-in' type='checkbox'/><label for='index-ff624cbc-e4e8-4276-a2d8-21cabe71da8f' title='Show/Hide index repr'><svg class='icon xr-icon-database'><use xlink:href='#icon-database'></use></svg></label><div class='xr-index-data'><pre>PandasIndex(Index([ 0,  1,  2,  3,  4,  5,  6,  7,  8,  9, 10, 11, 12, 13, 14, 15, 16, 17,\n",
       "       18, 19, 20, 21, 22, 23, 24, 25, 26, 27, 28, 29],\n",
       "      dtype=&#x27;int64&#x27;, name=&#x27;x&#x27;))</pre></div></li><li class='xr-var-item'><div class='xr-index-name'><div>y</div></div><div class='xr-index-preview'>PandasIndex</div><div></div><input id='index-34bd83d3-3e69-4bae-84db-e18041b0a2eb' class='xr-index-data-in' type='checkbox'/><label for='index-34bd83d3-3e69-4bae-84db-e18041b0a2eb' title='Show/Hide index repr'><svg class='icon xr-icon-database'><use xlink:href='#icon-database'></use></svg></label><div class='xr-index-data'><pre>PandasIndex(Index([ 0,  1,  2,  3,  4,  5,  6,  7,  8,  9, 10, 11, 12, 13, 14, 15, 16, 17,\n",
       "       18, 19, 20, 21, 22, 23, 24, 25, 26, 27, 28, 29],\n",
       "      dtype=&#x27;int64&#x27;, name=&#x27;y&#x27;))</pre></div></li><li class='xr-var-item'><div class='xr-index-name'><div>z</div></div><div class='xr-index-preview'>PandasIndex</div><div></div><input id='index-5c93447e-6beb-41ff-a08c-a2db245c5107' class='xr-index-data-in' type='checkbox'/><label for='index-5c93447e-6beb-41ff-a08c-a2db245c5107' title='Show/Hide index repr'><svg class='icon xr-icon-database'><use xlink:href='#icon-database'></use></svg></label><div class='xr-index-data'><pre>PandasIndex(Index([0, 1, 2, 3, 4, 5, 6, 7, 8, 9, 10, 11, 12, 13, 14], dtype=&#x27;int64&#x27;, name=&#x27;z&#x27;))</pre></div></li><li class='xr-var-item'><div class='xr-index-name'><div>sourceDim</div></div><div class='xr-index-preview'>PandasIndex</div><div></div><input id='index-62e74c10-3861-4a1f-bbb1-d21e65b89ff8' class='xr-index-data-in' type='checkbox'/><label for='index-62e74c10-3861-4a1f-bbb1-d21e65b89ff8' title='Show/Hide index repr'><svg class='icon xr-icon-database'><use xlink:href='#icon-database'></use></svg></label><div class='xr-index-data'><pre>PandasIndex(Index([0, 1, 2, 3, 4, 5, 6, 7], dtype=&#x27;int64&#x27;, name=&#x27;sourceDim&#x27;))</pre></div></li><li class='xr-var-item'><div class='xr-index-name'><div>locationDim</div></div><div class='xr-index-preview'>PandasIndex</div><div></div><input id='index-fc979cba-9988-4f14-aeae-6f4efbaaf6f4' class='xr-index-data-in' type='checkbox'/><label for='index-fc979cba-9988-4f14-aeae-6f4efbaaf6f4' title='Show/Hide index repr'><svg class='icon xr-icon-database'><use xlink:href='#icon-database'></use></svg></label><div class='xr-index-data'><pre>PandasIndex(Index([0, 1, 2], dtype=&#x27;int64&#x27;, name=&#x27;locationDim&#x27;))</pre></div></li></ul></div></li><li class='xr-section-item'><input id='section-bdb5675b-d5fb-482f-aade-7b77196cfc5d' class='xr-section-summary-in' type='checkbox'  checked><label for='section-bdb5675b-d5fb-482f-aade-7b77196cfc5d' class='xr-section-summary' >Attributes: <span>(3)</span></label><div class='xr-section-inline-details'></div><div class='xr-section-details'><dl class='xr-attrs'><dt><span>Original Filename :</span></dt><dd>FE_CBL2m_Ug5.4</dd><dt><span>Fast Eddy Run :</span></dt><dd>Fast Eddy Run 1</dd><dt><span>Time of Reformatting :</span></dt><dd>2023-09-11 08:34:26.197316</dd></dl></div></li></ul></div></div>"
      ],
      "text/plain": [
       "<xarray.Dataset>\n",
       "Dimensions:                (sourceDim: 8, locationDim: 3, z: 15, y: 30, x: 30,\n",
       "                            time: 240)\n",
       "Coordinates:\n",
       "  * time                   (time) int64 0 1 2 3 4 5 ... 234 235 236 237 238 239\n",
       "  * x                      (x) int64 0 1 2 3 4 5 6 7 ... 22 23 24 25 26 27 28 29\n",
       "  * y                      (y) int64 0 1 2 3 4 5 6 7 ... 22 23 24 25 26 27 28 29\n",
       "  * z                      (z) int64 0 1 2 3 4 5 6 7 8 9 10 11 12 13 14\n",
       "  * sourceDim              (sourceDim) int64 0 1 2 3 4 5 6 7\n",
       "  * locationDim            (locationDim) int64 0 1 2\n",
       "Data variables:\n",
       "    srcAuxScLocation       (sourceDim, locationDim) float64 ...\n",
       "    srcAuxScMassSpecValue  (sourceDim) float64 ...\n",
       "    structureMask          (z, y, x) float64 ...\n",
       "    xPos                   (z, y, x) float32 ...\n",
       "    yPos                   (z, y, x) float32 ...\n",
       "    zPos                   (z, y, x) float32 ...\n",
       "    u                      (time, z, y, x) float32 ...\n",
       "    v                      (time, z, y, x) float32 ...\n",
       "    w                      (time, z, y, x) float32 ...\n",
       "    q_CH4                  (time, z, y, x) float32 ...\n",
       "Attributes:\n",
       "    Original Filename:     FE_CBL2m_Ug5.4\n",
       "    Fast Eddy Run:         Fast Eddy Run 1\n",
       "    Time of Reformatting:  2023-09-11 08:34:26.197316"
      ]
     },
     "execution_count": 4,
     "metadata": {},
     "output_type": "execute_result"
    }
   ],
   "source": [
    "ds = xr.open_dataset(file)\n",
    "ds"
   ]
  },
  {
   "cell_type": "code",
   "execution_count": 5,
   "metadata": {},
   "outputs": [
    {
     "data": {
      "text/plain": [
       "tuple"
      ]
     },
     "execution_count": 5,
     "metadata": {},
     "output_type": "execute_result"
    }
   ],
   "source": [
    "point1 = (1,3,6)\n",
    "type(point1)"
   ]
  },
  {
   "cell_type": "code",
   "execution_count": 6,
   "metadata": {},
   "outputs": [
    {
     "data": {
      "text/plain": [
       "tuple"
      ]
     },
     "execution_count": 6,
     "metadata": {},
     "output_type": "execute_result"
    }
   ],
   "source": [
    "point2 = (1,5,12)\n",
    "type(point2)"
   ]
  },
  {
   "cell_type": "code",
   "execution_count": 9,
   "metadata": {},
   "outputs": [
    {
     "name": "stdout",
     "output_type": "stream",
     "text": [
      "both points are within xarray dataset\n"
     ]
    },
    {
     "data": {
      "text/plain": [
       "6.324555320336759"
      ]
     },
     "execution_count": 9,
     "metadata": {},
     "output_type": "execute_result"
    }
   ],
   "source": [
    "points_within_dataset(ds, point1, point2)\n",
    "distance_between_points_3d(point1, point2)"
   ]
  },
  {
   "cell_type": "code",
   "execution_count": 10,
   "metadata": {},
   "outputs": [
    {
     "name": "stdout",
     "output_type": "stream",
     "text": [
      "both points are within xarray dataset\n"
     ]
    },
    {
     "data": {
      "text/plain": [
       "6.324555320336759"
      ]
     },
     "execution_count": 10,
     "metadata": {},
     "output_type": "execute_result"
    }
   ],
   "source": [
    "points_within_dataset(ds, point1, point2)\n",
    "distance_between_points_3d(point1, point2)"
   ]
  },
  {
   "cell_type": "markdown",
   "metadata": {},
   "source": [
    "point3 = (1, 222, 2)"
   ]
  },
  {
   "cell_type": "code",
   "execution_count": 12,
   "metadata": {},
   "outputs": [
    {
     "ename": "ValueError",
     "evalue": "The y-coordinate is out of bounds.",
     "output_type": "error",
     "traceback": [
      "\u001b[0;31m---------------------------------------------------------------------------\u001b[0m",
      "\u001b[0;31mValueError\u001b[0m                                Traceback (most recent call last)",
      "Cell \u001b[0;32mIn[12], line 1\u001b[0m\n\u001b[0;32m----> 1\u001b[0m points_within_dataset(ds, point1, point3)\n\u001b[1;32m      2\u001b[0m distance_between_points_3d(oint1, point3)\n",
      "File \u001b[0;32m~/Documents/GitHub/seals-ml/utils/utils.py:34\u001b[0m, in \u001b[0;36mpoints_within_dataset\u001b[0;34m(ds, point1, point2)\u001b[0m\n\u001b[1;32m     32\u001b[0m   \u001b[39mraise\u001b[39;00m \u001b[39mValueError\u001b[39;00m(\u001b[39m\"\u001b[39m\u001b[39mThe x-coordinate is out of bounds.\u001b[39m\u001b[39m\"\u001b[39m)\n\u001b[1;32m     33\u001b[0m \u001b[39mif\u001b[39;00m np\u001b[39m.\u001b[39many(np\u001b[39m.\u001b[39misin(ds\u001b[39m.\u001b[39my\u001b[39m.\u001b[39mvalues, point[\u001b[39m1\u001b[39m])) \u001b[39m!=\u001b[39m \u001b[39mTrue\u001b[39;00m:\n\u001b[0;32m---> 34\u001b[0m   \u001b[39mraise\u001b[39;00m \u001b[39mValueError\u001b[39;00m(\u001b[39m\"\u001b[39m\u001b[39mThe y-coordinate is out of bounds.\u001b[39m\u001b[39m\"\u001b[39m)\n\u001b[1;32m     35\u001b[0m \u001b[39mif\u001b[39;00m np\u001b[39m.\u001b[39many(np\u001b[39m.\u001b[39misin(ds\u001b[39m.\u001b[39mz\u001b[39m.\u001b[39mvalues, point[\u001b[39m2\u001b[39m])) \u001b[39m!=\u001b[39m \u001b[39mTrue\u001b[39;00m:\n\u001b[1;32m     36\u001b[0m   \u001b[39mraise\u001b[39;00m \u001b[39mValueError\u001b[39;00m(\u001b[39m\"\u001b[39m\u001b[39mThe z-coordinate is out of bounds.\u001b[39m\u001b[39m\"\u001b[39m)\n",
      "\u001b[0;31mValueError\u001b[0m: The y-coordinate is out of bounds."
     ]
    }
   ],
   "source": [
    "points_within_dataset(ds, point1, point3)\n",
    "distance_between_points_3d(oint1, point3)"
   ]
  },
  {
   "cell_type": "code",
   "execution_count": 13,
   "metadata": {},
   "outputs": [],
   "source": [
    "point4 = [1, 3, 2]"
   ]
  },
  {
   "cell_type": "code",
   "execution_count": 14,
   "metadata": {},
   "outputs": [
    {
     "ename": "TypeError",
     "evalue": "The `point1` argument must be a tuple of three numbers.",
     "output_type": "error",
     "traceback": [
      "\u001b[0;31m---------------------------------------------------------------------------\u001b[0m",
      "\u001b[0;31mTypeError\u001b[0m                                 Traceback (most recent call last)",
      "Cell \u001b[0;32mIn[14], line 1\u001b[0m\n\u001b[0;32m----> 1\u001b[0m points_within_dataset(ds, point4, point2)\n\u001b[1;32m      2\u001b[0m distance_between_points_3d(point4, point2)\n",
      "File \u001b[0;32m~/Documents/GitHub/seals-ml/utils/utils.py:24\u001b[0m, in \u001b[0;36mpoints_within_dataset\u001b[0;34m(ds, point1, point2)\u001b[0m\n\u001b[1;32m     22\u001b[0m \u001b[39m# Check that the point1 and point2 arguments are tuples of three numbers.\u001b[39;00m\n\u001b[1;32m     23\u001b[0m \u001b[39mif\u001b[39;00m \u001b[39mnot\u001b[39;00m \u001b[39misinstance\u001b[39m(point1, \u001b[39mtuple\u001b[39m) \u001b[39mor\u001b[39;00m \u001b[39mlen\u001b[39m(point1) \u001b[39m!=\u001b[39m \u001b[39m3\u001b[39m:\n\u001b[0;32m---> 24\u001b[0m   \u001b[39mraise\u001b[39;00m \u001b[39mTypeError\u001b[39;00m(\u001b[39m\"\u001b[39m\u001b[39mThe `point1` argument must be a tuple of three numbers.\u001b[39m\u001b[39m\"\u001b[39m)\n\u001b[1;32m     26\u001b[0m \u001b[39mif\u001b[39;00m \u001b[39mnot\u001b[39;00m \u001b[39misinstance\u001b[39m(point2, \u001b[39mtuple\u001b[39m) \u001b[39mor\u001b[39;00m \u001b[39mlen\u001b[39m(point2) \u001b[39m!=\u001b[39m \u001b[39m3\u001b[39m:\n\u001b[1;32m     27\u001b[0m   \u001b[39mraise\u001b[39;00m \u001b[39mTypeError\u001b[39;00m(\u001b[39m\"\u001b[39m\u001b[39mThe `point2` argument must be a tuple of three numbers.\u001b[39m\u001b[39m\"\u001b[39m)\n",
      "\u001b[0;31mTypeError\u001b[0m: The `point1` argument must be a tuple of three numbers."
     ]
    }
   ],
   "source": [
    "points_within_dataset(ds, point4, point2)\n",
    "distance_between_points_3d(point4, point2)"
   ]
  },
  {
   "cell_type": "markdown",
   "metadata": {},
   "source": [
    "## Azimuth"
   ]
  },
  {
   "cell_type": "code",
   "execution_count": 16,
   "metadata": {},
   "outputs": [
    {
     "name": "stdout",
     "output_type": "stream",
     "text": [
      "360.0\n"
     ]
    }
   ],
   "source": [
    "azi = azimuth(point1, point2)\n",
    "print(azi)"
   ]
  },
  {
   "cell_type": "code",
   "execution_count": null,
   "metadata": {},
   "outputs": [],
   "source": []
  }
 ],
 "metadata": {
  "kernelspec": {
   "display_name": "py10-viz",
   "language": "python",
   "name": "python3"
  },
  "language_info": {
   "codemirror_mode": {
    "name": "ipython",
    "version": 3
   },
   "file_extension": ".py",
   "mimetype": "text/x-python",
   "name": "python",
   "nbconvert_exporter": "python",
   "pygments_lexer": "ipython3",
   "version": "3.10.12"
  },
  "orig_nbformat": 4
 },
 "nbformat": 4,
 "nbformat_minor": 2
}
