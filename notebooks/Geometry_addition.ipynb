{
 "cells": [
  {
   "cell_type": "markdown",
   "metadata": {},
   "source": [
    "# Small Notebook to check geometery addition"
   ]
  },
  {
   "cell_type": "code",
   "execution_count": 1,
   "metadata": {},
   "outputs": [],
   "source": [
    "import xarray as xr\n",
    "import pandas as pd\n",
    "import numpy as np\n",
    "\n",
    "import matplotlib.pyplot as plt"
   ]
  },
  {
   "cell_type": "code",
   "execution_count": 2,
   "metadata": {},
   "outputs": [
    {
     "name": "stdout",
     "output_type": "stream",
     "text": [
      "/Users/thomasmartin/Documents/GitHub/seals-ml\n"
     ]
    }
   ],
   "source": [
    "cd .."
   ]
  },
  {
   "cell_type": "code",
   "execution_count": 3,
   "metadata": {},
   "outputs": [
    {
     "name": "stdout",
     "output_type": "stream",
     "text": [
      "Processing /Users/thomasmartin/Documents/GitHub/seals-ml\n",
      "  Preparing metadata (setup.py) ... \u001b[?25ldone\n",
      "\u001b[?25hBuilding wheels for collected packages: ai2estemplate\n",
      "  Building wheel for ai2estemplate (setup.py) ... \u001b[?25ldone\n",
      "\u001b[?25h  Created wheel for ai2estemplate: filename=ai2estemplate-0.1.0-py3-none-any.whl size=10007 sha256=637298b2ed9d4135dabf235766b9df6d5dede8651a5a1648a5ab2723159e31f7\n",
      "  Stored in directory: /Users/thomasmartin/Library/Caches/pip/wheels/68/ad/03/c3c5488afa84764c8f4f104549404f63499d18391f0f22db83\n",
      "Successfully built ai2estemplate\n",
      "Installing collected packages: ai2estemplate\n",
      "  Attempting uninstall: ai2estemplate\n",
      "    Found existing installation: ai2estemplate 0.1.0\n",
      "    Uninstalling ai2estemplate-0.1.0:\n",
      "      Successfully uninstalled ai2estemplate-0.1.0\n",
      "Successfully installed ai2estemplate-0.1.0\n"
     ]
    }
   ],
   "source": [
    "!pip install ."
   ]
  },
  {
   "cell_type": "code",
   "execution_count": 4,
   "metadata": {},
   "outputs": [],
   "source": [
    "from sealsml import geometry\n",
    "from sealsml.function_drawer import add_geo"
   ]
  },
  {
   "cell_type": "markdown",
   "metadata": {},
   "source": [
    "## Data"
   ]
  },
  {
   "cell_type": "code",
   "execution_count": 5,
   "metadata": {},
   "outputs": [
    {
     "data": {
      "text/plain": [
       "array([[14,  5, 14],\n",
       "       [10, 19, 21],\n",
       "       [15, 26,  3],\n",
       "       [24, 30, 28],\n",
       "       [ 2, 25, 22],\n",
       "       [23, 16, 17],\n",
       "       [30, 17, 21],\n",
       "       [18, 26,  1],\n",
       "       [23, 28, 12],\n",
       "       [ 7,  8, 16],\n",
       "       [ 9, 21, 19]])"
      ]
     },
     "execution_count": 5,
     "metadata": {},
     "output_type": "execute_result"
    }
   ],
   "source": [
    "random_array = np.random.randint(0, 31, size=(11, 3))\n",
    "random_array"
   ]
  },
  {
   "cell_type": "code",
   "execution_count": 6,
   "metadata": {},
   "outputs": [
    {
     "data": {
      "text/plain": [
       "array([[12, 12, 10],\n",
       "       [20, 19, 24],\n",
       "       [10, 14,  3],\n",
       "       [30, 23,  3],\n",
       "       [12, 14, 21],\n",
       "       [24, 30, 18],\n",
       "       [17, 23, 21]])"
      ]
     },
     "execution_count": 6,
     "metadata": {},
     "output_type": "execute_result"
    }
   ],
   "source": [
    "random_array2 = np.random.randint(0, 31, size=(7, 3))\n",
    "random_array2"
   ]
  },
  {
   "cell_type": "code",
   "execution_count": 7,
   "metadata": {},
   "outputs": [
    {
     "data": {
      "text/plain": [
       "array([11,  8,  2])"
      ]
     },
     "execution_count": 7,
     "metadata": {},
     "output_type": "execute_result"
    }
   ],
   "source": [
    "ref_point = np.random.randint(0, 31, size=(3,))\n",
    "ref_point "
   ]
  },
  {
   "cell_type": "code",
   "execution_count": 8,
   "metadata": {},
   "outputs": [
    {
     "data": {
      "text/plain": [
       "(3,)"
      ]
     },
     "execution_count": 8,
     "metadata": {},
     "output_type": "execute_result"
    }
   ],
   "source": [
    "ref_point.shape"
   ]
  },
  {
   "cell_type": "markdown",
   "metadata": {},
   "source": [
    "## Testing Azimuth"
   ]
  },
  {
   "cell_type": "code",
   "execution_count": 9,
   "metadata": {},
   "outputs": [
    {
     "name": "stdout",
     "output_type": "stream",
     "text": [
      "Warning, Azimuth Calculation might be wrong for vertically offset points\n"
     ]
    }
   ],
   "source": [
    "geometry_class = geometry.geo(ref_point, \n",
    "                              np.random.randint(0, 31, size=(1000, 3)))\n",
    "# azimuth\n",
    "azi = geometry_class.calculate_azimuth()"
   ]
  },
  {
   "cell_type": "code",
   "execution_count": 10,
   "metadata": {},
   "outputs": [
    {
     "name": "stdout",
     "output_type": "stream",
     "text": [
      "min azimuth 0.0\n",
      "max azimuth 357.4\n"
     ]
    }
   ],
   "source": [
    "print('min azimuth', np.min(azi))\n",
    "print('max azimuth', np.round(np.max(azi),2))"
   ]
  },
  {
   "cell_type": "markdown",
   "metadata": {},
   "source": [
    "This is what we want to see!"
   ]
  },
  {
   "cell_type": "code",
   "execution_count": 11,
   "metadata": {},
   "outputs": [
    {
     "name": "stdout",
     "output_type": "stream",
     "text": [
      "Warning, Azimuth Calculation might be wrong for vertically offset points\n"
     ]
    },
    {
     "data": {
      "text/plain": [
       "array([ 90.        ,   0.        ,  90.        , 180.        ,\n",
       "       270.        ,   0.        , 359.04515875,   0.95484125])"
      ]
     },
     "execution_count": 11,
     "metadata": {},
     "output_type": "execute_result"
    }
   ],
   "source": [
    "geometry_class2 = geometry.geo(np.array([0,   0,  0]), \n",
    "                               np.array([[0,  0,  0],\n",
    "                                                [0,  1,  0],\n",
    "                                                [1,  0,  12],\n",
    "                                                [0, -1,  3],\n",
    "                                                [-1, 0, -3],\n",
    "                                                [0,  7,  2],\n",
    "                                                [-.2, 12, 12],\n",
    "                                                [.2, 12, 12]]) )\n",
    "# azimuth\n",
    "azi2 = geometry_class2.calculate_azimuth()\n",
    "\n",
    "azi2"
   ]
  },
  {
   "cell_type": "markdown",
   "metadata": {},
   "source": [
    "Testing the 45's for Charlie"
   ]
  },
  {
   "cell_type": "code",
   "execution_count": 12,
   "metadata": {},
   "outputs": [
    {
     "data": {
      "text/plain": [
       "array([45., 45., 45.])"
      ]
     },
     "execution_count": 12,
     "metadata": {},
     "output_type": "execute_result"
    }
   ],
   "source": [
    "geometry_class4 = geometry.geo(np.array([0,   0,   0]), \n",
    "                               np.array([[2,  2,   0],\n",
    "                                                [4,  4,  -3],\n",
    "                                                [12, 12,  2]]) )\n",
    "# azimuth\n",
    "azi4 = geometry_class4.calculate_azimuth()\n",
    "azi4"
   ]
  },
  {
   "cell_type": "markdown",
   "metadata": {},
   "source": [
    "## Using the junk drawer"
   ]
  },
  {
   "cell_type": "code",
   "execution_count": 13,
   "metadata": {},
   "outputs": [
    {
     "name": "stdout",
     "output_type": "stream",
     "text": [
      "type: <class 'numpy.ndarray'>\n",
      "(11, 4)\n"
     ]
    }
   ],
   "source": [
    "yo = add_geo(ref_point, random_array, pd_export=False)\n",
    "print('type:', type(yo))\n",
    "print((np.shape(yo)))"
   ]
  },
  {
   "cell_type": "code",
   "execution_count": 14,
   "metadata": {},
   "outputs": [
    {
     "name": "stdout",
     "output_type": "stream",
     "text": [
      "type: <class 'pandas.core.frame.DataFrame'>\n"
     ]
    },
    {
     "data": {
      "text/html": [
       "<div>\n",
       "<style scoped>\n",
       "    .dataframe tbody tr th:only-of-type {\n",
       "        vertical-align: middle;\n",
       "    }\n",
       "\n",
       "    .dataframe tbody tr th {\n",
       "        vertical-align: top;\n",
       "    }\n",
       "\n",
       "    .dataframe thead th {\n",
       "        text-align: right;\n",
       "    }\n",
       "</style>\n",
       "<table border=\"1\" class=\"dataframe\">\n",
       "  <thead>\n",
       "    <tr style=\"text-align: right;\">\n",
       "      <th></th>\n",
       "      <th>distance</th>\n",
       "      <th>azimuth_cos</th>\n",
       "      <th>azimuth_sin</th>\n",
       "      <th>elevation_angle</th>\n",
       "    </tr>\n",
       "  </thead>\n",
       "  <tbody>\n",
       "    <tr>\n",
       "      <th>0</th>\n",
       "      <td>18.000000</td>\n",
       "      <td>0.970143</td>\n",
       "      <td>0.242536</td>\n",
       "      <td>41.633539</td>\n",
       "    </tr>\n",
       "    <tr>\n",
       "      <th>1</th>\n",
       "      <td>52.383203</td>\n",
       "      <td>0.773957</td>\n",
       "      <td>0.633238</td>\n",
       "      <td>40.029047</td>\n",
       "    </tr>\n",
       "    <tr>\n",
       "      <th>2</th>\n",
       "      <td>12.328828</td>\n",
       "      <td>0.986394</td>\n",
       "      <td>-0.164399</td>\n",
       "      <td>9.214335</td>\n",
       "    </tr>\n",
       "    <tr>\n",
       "      <th>3</th>\n",
       "      <td>48.456166</td>\n",
       "      <td>0.619644</td>\n",
       "      <td>0.784883</td>\n",
       "      <td>2.363508</td>\n",
       "    </tr>\n",
       "    <tr>\n",
       "      <th>4</th>\n",
       "      <td>39.899875</td>\n",
       "      <td>0.986394</td>\n",
       "      <td>0.164399</td>\n",
       "      <td>43.602909</td>\n",
       "    </tr>\n",
       "  </tbody>\n",
       "</table>\n",
       "</div>"
      ],
      "text/plain": [
       "    distance  azimuth_cos  azimuth_sin  elevation_angle\n",
       "0  18.000000     0.970143     0.242536        41.633539\n",
       "1  52.383203     0.773957     0.633238        40.029047\n",
       "2  12.328828     0.986394    -0.164399         9.214335\n",
       "3  48.456166     0.619644     0.784883         2.363508\n",
       "4  39.899875     0.986394     0.164399        43.602909"
      ]
     },
     "execution_count": 14,
     "metadata": {},
     "output_type": "execute_result"
    }
   ],
   "source": [
    "yo2 = add_geo(ref_point, random_array2, pd_export=True)\n",
    "print('type:', type(yo2))\n",
    "yo2.head()"
   ]
  },
  {
   "cell_type": "code",
   "execution_count": 15,
   "metadata": {},
   "outputs": [
    {
     "data": {
      "text/html": [
       "<div>\n",
       "<style scoped>\n",
       "    .dataframe tbody tr th:only-of-type {\n",
       "        vertical-align: middle;\n",
       "    }\n",
       "\n",
       "    .dataframe tbody tr th {\n",
       "        vertical-align: top;\n",
       "    }\n",
       "\n",
       "    .dataframe thead th {\n",
       "        text-align: right;\n",
       "    }\n",
       "</style>\n",
       "<table border=\"1\" class=\"dataframe\">\n",
       "  <thead>\n",
       "    <tr style=\"text-align: right;\">\n",
       "      <th></th>\n",
       "      <th>distance</th>\n",
       "      <th>azimuth_cos</th>\n",
       "      <th>azimuth_sin</th>\n",
       "      <th>elevation_angle</th>\n",
       "    </tr>\n",
       "  </thead>\n",
       "  <tbody>\n",
       "    <tr>\n",
       "      <th>count</th>\n",
       "      <td>7.000000</td>\n",
       "      <td>7.000000</td>\n",
       "      <td>7.000000</td>\n",
       "      <td>7.000000</td>\n",
       "    </tr>\n",
       "    <tr>\n",
       "      <th>mean</th>\n",
       "      <td>40.178169</td>\n",
       "      <td>0.875134</td>\n",
       "      <td>0.362968</td>\n",
       "      <td>28.871269</td>\n",
       "    </tr>\n",
       "    <tr>\n",
       "      <th>std</th>\n",
       "      <td>18.184257</td>\n",
       "      <td>0.136835</td>\n",
       "      <td>0.317392</td>\n",
       "      <td>16.660106</td>\n",
       "    </tr>\n",
       "    <tr>\n",
       "      <th>min</th>\n",
       "      <td>12.328828</td>\n",
       "      <td>0.619644</td>\n",
       "      <td>-0.164399</td>\n",
       "      <td>2.363508</td>\n",
       "    </tr>\n",
       "    <tr>\n",
       "      <th>25%</th>\n",
       "      <td>28.949937</td>\n",
       "      <td>0.817442</td>\n",
       "      <td>0.203467</td>\n",
       "      <td>18.584312</td>\n",
       "    </tr>\n",
       "    <tr>\n",
       "      <th>50%</th>\n",
       "      <td>48.456166</td>\n",
       "      <td>0.928477</td>\n",
       "      <td>0.371391</td>\n",
       "      <td>37.301259</td>\n",
       "    </tr>\n",
       "    <tr>\n",
       "      <th>75%</th>\n",
       "      <td>51.131530</td>\n",
       "      <td>0.978268</td>\n",
       "      <td>0.570984</td>\n",
       "      <td>40.831293</td>\n",
       "    </tr>\n",
       "    <tr>\n",
       "      <th>max</th>\n",
       "      <td>60.299254</td>\n",
       "      <td>0.986394</td>\n",
       "      <td>0.784883</td>\n",
       "      <td>43.602909</td>\n",
       "    </tr>\n",
       "  </tbody>\n",
       "</table>\n",
       "</div>"
      ],
      "text/plain": [
       "        distance  azimuth_cos  azimuth_sin  elevation_angle\n",
       "count   7.000000     7.000000     7.000000         7.000000\n",
       "mean   40.178169     0.875134     0.362968        28.871269\n",
       "std    18.184257     0.136835     0.317392        16.660106\n",
       "min    12.328828     0.619644    -0.164399         2.363508\n",
       "25%    28.949937     0.817442     0.203467        18.584312\n",
       "50%    48.456166     0.928477     0.371391        37.301259\n",
       "75%    51.131530     0.978268     0.570984        40.831293\n",
       "max    60.299254     0.986394     0.784883        43.602909"
      ]
     },
     "execution_count": 15,
     "metadata": {},
     "output_type": "execute_result"
    }
   ],
   "source": [
    "yo2.describe()"
   ]
  },
  {
   "cell_type": "markdown",
   "metadata": {},
   "source": [
    "#### How expensive is the junk drawer?"
   ]
  },
  {
   "cell_type": "code",
   "execution_count": 16,
   "metadata": {},
   "outputs": [
    {
     "name": "stdout",
     "output_type": "stream",
     "text": [
      "Warning, Azimuth Calculation might be wrong for vertically offset points\n",
      "CPU times: user 17.9 ms, sys: 4.31 ms, total: 22.3 ms\n",
      "Wall time: 20.3 ms\n"
     ]
    }
   ],
   "source": [
    "%%time\n",
    "\n",
    "random_array4 = np.random.randint(0, 31, size=(100000, 3))\n",
    "yo4 = add_geo(ref_point, random_array4, pd_export=True)"
   ]
  },
  {
   "cell_type": "code",
   "execution_count": null,
   "metadata": {},
   "outputs": [],
   "source": []
  }
 ],
 "metadata": {
  "kernelspec": {
   "display_name": "py10-viz",
   "language": "python",
   "name": "python3"
  },
  "language_info": {
   "codemirror_mode": {
    "name": "ipython",
    "version": 3
   },
   "file_extension": ".py",
   "mimetype": "text/x-python",
   "name": "python",
   "nbconvert_exporter": "python",
   "pygments_lexer": "ipython3",
   "version": "3.10.12"
  },
  "orig_nbformat": 4
 },
 "nbformat": 4,
 "nbformat_minor": 2
}
