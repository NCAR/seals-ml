{
 "cells": [
  {
   "cell_type": "markdown",
   "metadata": {},
   "source": [
    "# Small Notebook to check geometery addition"
   ]
  },
  {
   "cell_type": "code",
   "execution_count": 1,
   "metadata": {},
   "outputs": [],
   "source": [
    "import xarray as xr\n",
    "import pandas as pd\n",
    "import numpy as np\n",
    "\n",
    "import matplotlib.pyplot as plt"
   ]
  },
  {
   "cell_type": "code",
   "execution_count": 2,
   "metadata": {},
   "outputs": [
    {
     "name": "stdout",
     "output_type": "stream",
     "text": [
      "/Users/thomasmartin/Documents/GitHub/seals-ml\n"
     ]
    }
   ],
   "source": [
    "cd .."
   ]
  },
  {
   "cell_type": "code",
   "execution_count": 3,
   "metadata": {},
   "outputs": [
    {
     "name": "stdout",
     "output_type": "stream",
     "text": [
      "Processing /Users/thomasmartin/Documents/GitHub/seals-ml\n",
      "  Preparing metadata (setup.py) ... \u001b[?25ldone\n",
      "\u001b[?25hBuilding wheels for collected packages: ai2estemplate\n",
      "  Building wheel for ai2estemplate (setup.py) ... \u001b[?25ldone\n",
      "\u001b[?25h  Created wheel for ai2estemplate: filename=ai2estemplate-0.1.0-py3-none-any.whl size=9872 sha256=9730fb2628313f74459e883f8d62a1e7bebbf130682f2b727bfdca0449b16634\n",
      "  Stored in directory: /Users/thomasmartin/Library/Caches/pip/wheels/68/ad/03/c3c5488afa84764c8f4f104549404f63499d18391f0f22db83\n",
      "Successfully built ai2estemplate\n",
      "Installing collected packages: ai2estemplate\n",
      "  Attempting uninstall: ai2estemplate\n",
      "    Found existing installation: ai2estemplate 0.1.0\n",
      "    Uninstalling ai2estemplate-0.1.0:\n",
      "      Successfully uninstalled ai2estemplate-0.1.0\n",
      "Successfully installed ai2estemplate-0.1.0\n"
     ]
    }
   ],
   "source": [
    "!pip install ."
   ]
  },
  {
   "cell_type": "code",
   "execution_count": 4,
   "metadata": {},
   "outputs": [],
   "source": [
    "from sealsml import geometry\n",
    "from sealsml.function_drawer import add_geo"
   ]
  },
  {
   "cell_type": "markdown",
   "metadata": {},
   "source": [
    "## Data"
   ]
  },
  {
   "cell_type": "code",
   "execution_count": 5,
   "metadata": {},
   "outputs": [
    {
     "data": {
      "text/plain": [
       "array([[29,  3, 25],\n",
       "       [25, 14, 24],\n",
       "       [20,  2, 20],\n",
       "       [ 4, 20, 22],\n",
       "       [16, 28, 15],\n",
       "       [15,  3, 20],\n",
       "       [21, 23, 21],\n",
       "       [ 1, 14,  7],\n",
       "       [ 0,  1, 12],\n",
       "       [26,  7,  2],\n",
       "       [ 1, 11, 30]])"
      ]
     },
     "execution_count": 5,
     "metadata": {},
     "output_type": "execute_result"
    }
   ],
   "source": [
    "random_array = np.random.randint(0, 31, size=(11, 3))\n",
    "random_array"
   ]
  },
  {
   "cell_type": "code",
   "execution_count": 6,
   "metadata": {},
   "outputs": [
    {
     "data": {
      "text/plain": [
       "array([[17, 26, 22],\n",
       "       [12, 21, 18],\n",
       "       [ 5, 23,  6],\n",
       "       [13,  1,  6],\n",
       "       [ 3,  0, 26],\n",
       "       [28, 10, 17],\n",
       "       [ 0, 26,  5]])"
      ]
     },
     "execution_count": 6,
     "metadata": {},
     "output_type": "execute_result"
    }
   ],
   "source": [
    "random_array2 = np.random.randint(0, 31, size=(7, 3))\n",
    "random_array2"
   ]
  },
  {
   "cell_type": "code",
   "execution_count": 7,
   "metadata": {},
   "outputs": [
    {
     "data": {
      "text/plain": [
       "array([ 8, 25, 19])"
      ]
     },
     "execution_count": 7,
     "metadata": {},
     "output_type": "execute_result"
    }
   ],
   "source": [
    "ref_point = np.random.randint(0, 31, size=(3,))\n",
    "ref_point "
   ]
  },
  {
   "cell_type": "code",
   "execution_count": 8,
   "metadata": {},
   "outputs": [
    {
     "data": {
      "text/plain": [
       "(3,)"
      ]
     },
     "execution_count": 8,
     "metadata": {},
     "output_type": "execute_result"
    }
   ],
   "source": [
    "ref_point.shape"
   ]
  },
  {
   "cell_type": "markdown",
   "metadata": {},
   "source": [
    "## Testing Azimuth"
   ]
  },
  {
   "cell_type": "code",
   "execution_count": 9,
   "metadata": {},
   "outputs": [],
   "source": [
    "geometry_class = geometry.geo(array1=ref_point, \n",
    "                              array2=np.random.randint(0, 31, size=(100000, 3)))\n",
    "# azimuth\n",
    "azi = geometry_class.calculate_azimuth()"
   ]
  },
  {
   "cell_type": "code",
   "execution_count": 10,
   "metadata": {},
   "outputs": [
    {
     "name": "stdout",
     "output_type": "stream",
     "text": [
      "min azimuth 0.0\n",
      "max azimuth 348.69\n"
     ]
    }
   ],
   "source": [
    "print('min azimuth', np.min(azi))\n",
    "print('max azimuth', np.round(np.max(azi),2))"
   ]
  },
  {
   "cell_type": "markdown",
   "metadata": {},
   "source": [
    "This is what we want to see!"
   ]
  },
  {
   "cell_type": "code",
   "execution_count": 11,
   "metadata": {},
   "outputs": [
    {
     "data": {
      "text/plain": [
       "array([ 90.        ,   0.        ,  90.        , 180.        ,\n",
       "       270.        ,   0.        , 359.04515875,   0.95484125])"
      ]
     },
     "execution_count": 11,
     "metadata": {},
     "output_type": "execute_result"
    }
   ],
   "source": [
    "geometry_class2 = geometry.geo(array1=np.array([0,   0,  0]), \n",
    "                               array2=np.array([[0,  0,  0],\n",
    "                                                [0,  1,  0],\n",
    "                                                [1,  0,  12],\n",
    "                                                [0, -1,  3],\n",
    "                                                [-1, 0, -3],\n",
    "                                                [0,  7,  2],\n",
    "                                                [-.2, 12, 12],\n",
    "                                                [.2, 12, 12]]) )\n",
    "# azimuth\n",
    "azi2 = geometry_class2.calculate_azimuth()\n",
    "\n",
    "azi2"
   ]
  },
  {
   "cell_type": "markdown",
   "metadata": {},
   "source": [
    "Testing the 45's for Charlie"
   ]
  },
  {
   "cell_type": "code",
   "execution_count": 12,
   "metadata": {},
   "outputs": [
    {
     "data": {
      "text/plain": [
       "array([45., 45., 45.])"
      ]
     },
     "execution_count": 12,
     "metadata": {},
     "output_type": "execute_result"
    }
   ],
   "source": [
    "geometry_class4 = geometry.geo(array1=np.array([0,   0,   0]), \n",
    "                               array2=np.array([[2,  2,   0],\n",
    "                                                [4,  4,  -3],\n",
    "                                                [12, 12,  2]]) )\n",
    "# azimuth\n",
    "azi4 = geometry_class4.calculate_azimuth()\n",
    "azi4"
   ]
  },
  {
   "cell_type": "markdown",
   "metadata": {},
   "source": [
    "## Using the junk drawer"
   ]
  },
  {
   "cell_type": "code",
   "execution_count": 13,
   "metadata": {},
   "outputs": [
    {
     "name": "stdout",
     "output_type": "stream",
     "text": [
      "type: <class 'numpy.ndarray'>\n",
      "(11, 4)\n"
     ]
    }
   ],
   "source": [
    "yo = add_geo(ref_point, random_array, pd_export=False)\n",
    "print('type:', type(yo))\n",
    "print((np.shape(yo)))"
   ]
  },
  {
   "cell_type": "code",
   "execution_count": 14,
   "metadata": {},
   "outputs": [
    {
     "name": "stdout",
     "output_type": "stream",
     "text": [
      "type: <class 'pandas.core.frame.DataFrame'>\n"
     ]
    },
    {
     "data": {
      "text/html": [
       "<div>\n",
       "<style scoped>\n",
       "    .dataframe tbody tr th:only-of-type {\n",
       "        vertical-align: middle;\n",
       "    }\n",
       "\n",
       "    .dataframe tbody tr th {\n",
       "        vertical-align: top;\n",
       "    }\n",
       "\n",
       "    .dataframe thead th {\n",
       "        text-align: right;\n",
       "    }\n",
       "</style>\n",
       "<table border=\"1\" class=\"dataframe\">\n",
       "  <thead>\n",
       "    <tr style=\"text-align: right;\">\n",
       "      <th></th>\n",
       "      <th>distance</th>\n",
       "      <th>azimuth_cos</th>\n",
       "      <th>azimuth_sin</th>\n",
       "      <th>elevation_angle</th>\n",
       "    </tr>\n",
       "  </thead>\n",
       "  <tbody>\n",
       "    <tr>\n",
       "      <th>0</th>\n",
       "      <td>19.078784</td>\n",
       "      <td>0.110432</td>\n",
       "      <td>0.993884</td>\n",
       "      <td>17.457603</td>\n",
       "    </tr>\n",
       "    <tr>\n",
       "      <th>1</th>\n",
       "      <td>11.489125</td>\n",
       "      <td>-0.707107</td>\n",
       "      <td>0.707107</td>\n",
       "      <td>-9.874961</td>\n",
       "    </tr>\n",
       "    <tr>\n",
       "      <th>2</th>\n",
       "      <td>26.981475</td>\n",
       "      <td>-0.554700</td>\n",
       "      <td>-0.832050</td>\n",
       "      <td>-43.938724</td>\n",
       "    </tr>\n",
       "    <tr>\n",
       "      <th>3</th>\n",
       "      <td>55.497748</td>\n",
       "      <td>-0.978980</td>\n",
       "      <td>0.203954</td>\n",
       "      <td>-25.102502</td>\n",
       "    </tr>\n",
       "    <tr>\n",
       "      <th>4</th>\n",
       "      <td>52.877216</td>\n",
       "      <td>-0.980581</td>\n",
       "      <td>-0.196116</td>\n",
       "      <td>14.829609</td>\n",
       "    </tr>\n",
       "  </tbody>\n",
       "</table>\n",
       "</div>"
      ],
      "text/plain": [
       "    distance  azimuth_cos  azimuth_sin  elevation_angle\n",
       "0  19.078784     0.110432     0.993884        17.457603\n",
       "1  11.489125    -0.707107     0.707107        -9.874961\n",
       "2  26.981475    -0.554700    -0.832050       -43.938724\n",
       "3  55.497748    -0.978980     0.203954       -25.102502\n",
       "4  52.877216    -0.980581    -0.196116        14.829609"
      ]
     },
     "execution_count": 14,
     "metadata": {},
     "output_type": "execute_result"
    }
   ],
   "source": [
    "yo2 = add_geo(ref_point, random_array2, pd_export=True)\n",
    "print('type:', type(yo2))\n",
    "yo2.head()"
   ]
  },
  {
   "cell_type": "code",
   "execution_count": 15,
   "metadata": {},
   "outputs": [
    {
     "data": {
      "text/html": [
       "<div>\n",
       "<style scoped>\n",
       "    .dataframe tbody tr th:only-of-type {\n",
       "        vertical-align: middle;\n",
       "    }\n",
       "\n",
       "    .dataframe tbody tr th {\n",
       "        vertical-align: top;\n",
       "    }\n",
       "\n",
       "    .dataframe thead th {\n",
       "        text-align: right;\n",
       "    }\n",
       "</style>\n",
       "<table border=\"1\" class=\"dataframe\">\n",
       "  <thead>\n",
       "    <tr style=\"text-align: right;\">\n",
       "      <th></th>\n",
       "      <th>distance</th>\n",
       "      <th>azimuth_cos</th>\n",
       "      <th>azimuth_sin</th>\n",
       "      <th>elevation_angle</th>\n",
       "    </tr>\n",
       "  </thead>\n",
       "  <tbody>\n",
       "    <tr>\n",
       "      <th>count</th>\n",
       "      <td>7.000000</td>\n",
       "      <td>7.000000</td>\n",
       "      <td>7.000000</td>\n",
       "      <td>7.000000</td>\n",
       "    </tr>\n",
       "    <tr>\n",
       "      <th>mean</th>\n",
       "      <td>35.485012</td>\n",
       "      <td>-0.512415</td>\n",
       "      <td>0.097786</td>\n",
       "      <td>-13.157126</td>\n",
       "    </tr>\n",
       "    <tr>\n",
       "      <th>std</th>\n",
       "      <td>17.538993</td>\n",
       "      <td>0.461381</td>\n",
       "      <td>0.797690</td>\n",
       "      <td>24.717456</td>\n",
       "    </tr>\n",
       "    <tr>\n",
       "      <th>min</th>\n",
       "      <td>11.489125</td>\n",
       "      <td>-0.980581</td>\n",
       "      <td>-0.992278</td>\n",
       "      <td>-43.938724</td>\n",
       "    </tr>\n",
       "    <tr>\n",
       "      <th>25%</th>\n",
       "      <td>23.030130</td>\n",
       "      <td>-0.843044</td>\n",
       "      <td>-0.514083</td>\n",
       "      <td>-33.006996</td>\n",
       "    </tr>\n",
       "    <tr>\n",
       "      <th>50%</th>\n",
       "      <td>32.310989</td>\n",
       "      <td>-0.600000</td>\n",
       "      <td>0.203954</td>\n",
       "      <td>-9.874961</td>\n",
       "    </tr>\n",
       "    <tr>\n",
       "      <th>75%</th>\n",
       "      <td>51.518481</td>\n",
       "      <td>-0.222134</td>\n",
       "      <td>0.753553</td>\n",
       "      <td>5.135096</td>\n",
       "    </tr>\n",
       "    <tr>\n",
       "      <th>max</th>\n",
       "      <td>55.497748</td>\n",
       "      <td>0.124035</td>\n",
       "      <td>0.993884</td>\n",
       "      <td>17.457603</td>\n",
       "    </tr>\n",
       "  </tbody>\n",
       "</table>\n",
       "</div>"
      ],
      "text/plain": [
       "        distance  azimuth_cos  azimuth_sin  elevation_angle\n",
       "count   7.000000     7.000000     7.000000         7.000000\n",
       "mean   35.485012    -0.512415     0.097786       -13.157126\n",
       "std    17.538993     0.461381     0.797690        24.717456\n",
       "min    11.489125    -0.980581    -0.992278       -43.938724\n",
       "25%    23.030130    -0.843044    -0.514083       -33.006996\n",
       "50%    32.310989    -0.600000     0.203954        -9.874961\n",
       "75%    51.518481    -0.222134     0.753553         5.135096\n",
       "max    55.497748     0.124035     0.993884        17.457603"
      ]
     },
     "execution_count": 15,
     "metadata": {},
     "output_type": "execute_result"
    }
   ],
   "source": [
    "yo2.describe()"
   ]
  },
  {
   "cell_type": "markdown",
   "metadata": {},
   "source": [
    "#### How expensive is the junk drawer?"
   ]
  },
  {
   "cell_type": "code",
   "execution_count": 16,
   "metadata": {},
   "outputs": [
    {
     "name": "stdout",
     "output_type": "stream",
     "text": [
      "CPU times: user 11 ms, sys: 2.72 ms, total: 13.7 ms\n",
      "Wall time: 12.9 ms\n"
     ]
    }
   ],
   "source": [
    "%%time\n",
    "\n",
    "random_array4 = np.random.randint(0, 31, size=(100000, 3))\n",
    "yo4 = add_geo(ref_point, random_array4, pd_export=True)"
   ]
  },
  {
   "cell_type": "code",
   "execution_count": null,
   "metadata": {},
   "outputs": [],
   "source": []
  }
 ],
 "metadata": {
  "kernelspec": {
   "display_name": "py10-viz",
   "language": "python",
   "name": "python3"
  },
  "language_info": {
   "codemirror_mode": {
    "name": "ipython",
    "version": 3
   },
   "file_extension": ".py",
   "mimetype": "text/x-python",
   "name": "python",
   "nbconvert_exporter": "python",
   "pygments_lexer": "ipython3",
   "version": "3.10.12"
  },
  "orig_nbformat": 4
 },
 "nbformat": 4,
 "nbformat_minor": 2
}
