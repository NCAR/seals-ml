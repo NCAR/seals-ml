{
 "cells": [
  {
   "cell_type": "markdown",
   "metadata": {},
   "source": [
    "# Small Notebook to check geometery addition"
   ]
  },
  {
   "cell_type": "code",
   "execution_count": 1,
   "metadata": {},
   "outputs": [],
   "source": [
    "import xarray as xr\n",
    "import pandas as pd\n",
    "import numpy as np\n",
    "\n",
    "import matplotlib.pyplot as plt"
   ]
  },
  {
   "cell_type": "code",
   "execution_count": 2,
   "metadata": {},
   "outputs": [
    {
     "name": "stdout",
     "output_type": "stream",
     "text": [
      "/Users/thomasmartin/Documents/GitHub/seals-ml\n"
     ]
    }
   ],
   "source": [
    "cd .."
   ]
  },
  {
   "cell_type": "code",
   "execution_count": 3,
   "metadata": {},
   "outputs": [
    {
     "name": "stdout",
     "output_type": "stream",
     "text": [
      "Processing /Users/thomasmartin/Documents/GitHub/seals-ml\n",
      "  Preparing metadata (setup.py) ... \u001b[?25ldone\n",
      "\u001b[?25hBuilding wheels for collected packages: ai2estemplate\n",
      "  Building wheel for ai2estemplate (setup.py) ... \u001b[?25ldone\n",
      "\u001b[?25h  Created wheel for ai2estemplate: filename=ai2estemplate-0.1.0-py3-none-any.whl size=9941 sha256=f103adc6c6a254741f2140324f6b9d427a8df7da8729b0cbc5dd07e49762905d\n",
      "  Stored in directory: /Users/thomasmartin/Library/Caches/pip/wheels/68/ad/03/c3c5488afa84764c8f4f104549404f63499d18391f0f22db83\n",
      "Successfully built ai2estemplate\n",
      "Installing collected packages: ai2estemplate\n",
      "  Attempting uninstall: ai2estemplate\n",
      "    Found existing installation: ai2estemplate 0.1.0\n",
      "    Uninstalling ai2estemplate-0.1.0:\n",
      "      Successfully uninstalled ai2estemplate-0.1.0\n",
      "Successfully installed ai2estemplate-0.1.0\n"
     ]
    }
   ],
   "source": [
    "!pip install ."
   ]
  },
  {
   "cell_type": "code",
   "execution_count": 4,
   "metadata": {},
   "outputs": [],
   "source": [
    "from sealsml import geometry\n",
    "from sealsml.function_drawer import add_geo"
   ]
  },
  {
   "cell_type": "markdown",
   "metadata": {},
   "source": [
    "## Data"
   ]
  },
  {
   "cell_type": "code",
   "execution_count": 5,
   "metadata": {},
   "outputs": [
    {
     "data": {
      "text/plain": [
       "array([[19,  4, 25],\n",
       "       [ 8, 19, 20],\n",
       "       [12, 13,  1],\n",
       "       [ 3,  1, 14],\n",
       "       [29,  8, 12],\n",
       "       [11,  2, 20],\n",
       "       [25, 24,  9],\n",
       "       [21, 26,  4],\n",
       "       [13, 24, 23],\n",
       "       [28, 29, 21],\n",
       "       [27,  3, 18]])"
      ]
     },
     "execution_count": 5,
     "metadata": {},
     "output_type": "execute_result"
    }
   ],
   "source": [
    "random_array = np.random.randint(0, 31, size=(11, 3))\n",
    "random_array"
   ]
  },
  {
   "cell_type": "code",
   "execution_count": 6,
   "metadata": {},
   "outputs": [
    {
     "data": {
      "text/plain": [
       "array([[24, 11, 14],\n",
       "       [27, 16, 24],\n",
       "       [ 7, 13, 14],\n",
       "       [24, 21, 29],\n",
       "       [12, 14, 21],\n",
       "       [17, 10,  8],\n",
       "       [ 3, 13, 13]])"
      ]
     },
     "execution_count": 6,
     "metadata": {},
     "output_type": "execute_result"
    }
   ],
   "source": [
    "random_array2 = np.random.randint(0, 31, size=(7, 3))\n",
    "random_array2"
   ]
  },
  {
   "cell_type": "code",
   "execution_count": 7,
   "metadata": {},
   "outputs": [
    {
     "data": {
      "text/plain": [
       "array([ 4, 13, 17])"
      ]
     },
     "execution_count": 7,
     "metadata": {},
     "output_type": "execute_result"
    }
   ],
   "source": [
    "ref_point = np.random.randint(0, 31, size=(3,))\n",
    "ref_point "
   ]
  },
  {
   "cell_type": "code",
   "execution_count": 8,
   "metadata": {},
   "outputs": [
    {
     "data": {
      "text/plain": [
       "(3,)"
      ]
     },
     "execution_count": 8,
     "metadata": {},
     "output_type": "execute_result"
    }
   ],
   "source": [
    "ref_point.shape"
   ]
  },
  {
   "cell_type": "markdown",
   "metadata": {},
   "source": [
    "## Testing Azimuth"
   ]
  },
  {
   "cell_type": "code",
   "execution_count": 9,
   "metadata": {},
   "outputs": [],
   "source": [
    "geometry_class = geometry.geo(array1=ref_point, \n",
    "                              array2=np.random.randint(0, 31, size=(1000, 3)))\n",
    "# azimuth\n",
    "azi = geometry_class.calculate_azimuth()"
   ]
  },
  {
   "cell_type": "code",
   "execution_count": 10,
   "metadata": {},
   "outputs": [
    {
     "name": "stdout",
     "output_type": "stream",
     "text": [
      "max azimuth 359.927\n",
      "min azimuth 0.0\n"
     ]
    }
   ],
   "source": [
    "print('max azimuth', np.max(azi))\n",
    "print('min azimuth', np.min(azi))"
   ]
  },
  {
   "cell_type": "markdown",
   "metadata": {},
   "source": [
    "This is what we want to see!"
   ]
  },
  {
   "cell_type": "code",
   "execution_count": 11,
   "metadata": {},
   "outputs": [
    {
     "data": {
      "text/plain": [
       "array([  0.,  90., 180., 270.,   0.])"
      ]
     },
     "execution_count": 11,
     "metadata": {},
     "output_type": "execute_result"
    }
   ],
   "source": [
    "geometry_class2 = geometry.geo(array1=np.array([0,   0,  0]), \n",
    "                               array2=np.array([[0,  1,  0],\n",
    "                                                [1,  0,  12],\n",
    "                                                [0, -1,  3],\n",
    "                                                [-1, 0, -3],\n",
    "                                                [0,  7,  2]]) )\n",
    "# azimuth\n",
    "azi2 = geometry_class2.calculate_azimuth()\n",
    "\n",
    "azi2"
   ]
  },
  {
   "cell_type": "markdown",
   "metadata": {},
   "source": [
    "## Using the junk drawer"
   ]
  },
  {
   "cell_type": "code",
   "execution_count": 12,
   "metadata": {},
   "outputs": [
    {
     "name": "stdout",
     "output_type": "stream",
     "text": [
      "type: <class 'numpy.ndarray'>\n",
      "(11, 4)\n"
     ]
    }
   ],
   "source": [
    "yo = add_geo(ref_point, random_array, pd_export=False)\n",
    "print('type:', type(yo))\n",
    "print((np.shape(yo)))"
   ]
  },
  {
   "cell_type": "code",
   "execution_count": 13,
   "metadata": {},
   "outputs": [
    {
     "name": "stdout",
     "output_type": "stream",
     "text": [
      "type: <class 'pandas.core.frame.DataFrame'>\n"
     ]
    },
    {
     "data": {
      "text/html": [
       "<div>\n",
       "<style scoped>\n",
       "    .dataframe tbody tr th:only-of-type {\n",
       "        vertical-align: middle;\n",
       "    }\n",
       "\n",
       "    .dataframe tbody tr th {\n",
       "        vertical-align: top;\n",
       "    }\n",
       "\n",
       "    .dataframe thead th {\n",
       "        text-align: right;\n",
       "    }\n",
       "</style>\n",
       "<table border=\"1\" class=\"dataframe\">\n",
       "  <thead>\n",
       "    <tr style=\"text-align: right;\">\n",
       "      <th></th>\n",
       "      <th>distance</th>\n",
       "      <th>azimuth_cos</th>\n",
       "      <th>azimuth_sin</th>\n",
       "      <th>elevation_angle</th>\n",
       "    </tr>\n",
       "  </thead>\n",
       "  <tbody>\n",
       "    <tr>\n",
       "      <th>0</th>\n",
       "      <td>40.644803</td>\n",
       "      <td>-0.999990</td>\n",
       "      <td>0.004451</td>\n",
       "      <td>-8.397376</td>\n",
       "    </tr>\n",
       "    <tr>\n",
       "      <th>1</th>\n",
       "      <td>48.456166</td>\n",
       "      <td>-0.506199</td>\n",
       "      <td>0.862417</td>\n",
       "      <td>16.115112</td>\n",
       "    </tr>\n",
       "    <tr>\n",
       "      <th>2</th>\n",
       "      <td>8.485281</td>\n",
       "      <td>0.986054</td>\n",
       "      <td>0.166425</td>\n",
       "      <td>-35.264390</td>\n",
       "    </tr>\n",
       "    <tr>\n",
       "      <th>3</th>\n",
       "      <td>49.315312</td>\n",
       "      <td>0.862726</td>\n",
       "      <td>-0.505672</td>\n",
       "      <td>25.950531</td>\n",
       "    </tr>\n",
       "    <tr>\n",
       "      <th>4</th>\n",
       "      <td>18.000000</td>\n",
       "      <td>0.989065</td>\n",
       "      <td>0.147481</td>\n",
       "      <td>23.962489</td>\n",
       "    </tr>\n",
       "  </tbody>\n",
       "</table>\n",
       "</div>"
      ],
      "text/plain": [
       "    distance  azimuth_cos  azimuth_sin  elevation_angle\n",
       "0  40.644803    -0.999990     0.004451        -8.397376\n",
       "1  48.456166    -0.506199     0.862417        16.115112\n",
       "2   8.485281     0.986054     0.166425       -35.264390\n",
       "3  49.315312     0.862726    -0.505672        25.950531\n",
       "4  18.000000     0.989065     0.147481        23.962489"
      ]
     },
     "execution_count": 13,
     "metadata": {},
     "output_type": "execute_result"
    }
   ],
   "source": [
    "yo2 = add_geo(ref_point, random_array2, pd_export=True)\n",
    "print('type:', type(yo2))\n",
    "yo2.head()"
   ]
  },
  {
   "cell_type": "code",
   "execution_count": 14,
   "metadata": {},
   "outputs": [
    {
     "data": {
      "text/html": [
       "<div>\n",
       "<style scoped>\n",
       "    .dataframe tbody tr th:only-of-type {\n",
       "        vertical-align: middle;\n",
       "    }\n",
       "\n",
       "    .dataframe tbody tr th {\n",
       "        vertical-align: top;\n",
       "    }\n",
       "\n",
       "    .dataframe thead th {\n",
       "        text-align: right;\n",
       "    }\n",
       "</style>\n",
       "<table border=\"1\" class=\"dataframe\">\n",
       "  <thead>\n",
       "    <tr style=\"text-align: right;\">\n",
       "      <th></th>\n",
       "      <th>distance</th>\n",
       "      <th>azimuth_cos</th>\n",
       "      <th>azimuth_sin</th>\n",
       "      <th>elevation_angle</th>\n",
       "    </tr>\n",
       "  </thead>\n",
       "  <tbody>\n",
       "    <tr>\n",
       "      <th>count</th>\n",
       "      <td>7.000000</td>\n",
       "      <td>7.000000</td>\n",
       "      <td>7.000000</td>\n",
       "      <td>7.000000</td>\n",
       "    </tr>\n",
       "    <tr>\n",
       "      <th>mean</th>\n",
       "      <td>29.333532</td>\n",
       "      <td>0.159045</td>\n",
       "      <td>-0.170933</td>\n",
       "      <td>-7.282962</td>\n",
       "    </tr>\n",
       "    <tr>\n",
       "      <th>std</th>\n",
       "      <td>17.836326</td>\n",
       "      <td>0.818482</td>\n",
       "      <td>0.658145</td>\n",
       "      <td>29.584000</td>\n",
       "    </tr>\n",
       "    <tr>\n",
       "      <th>min</th>\n",
       "      <td>8.246211</td>\n",
       "      <td>-0.999990</td>\n",
       "      <td>-0.974652</td>\n",
       "      <td>-44.131749</td>\n",
       "    </tr>\n",
       "    <tr>\n",
       "      <th>25%</th>\n",
       "      <td>13.242641</td>\n",
       "      <td>-0.474134</td>\n",
       "      <td>-0.701327</td>\n",
       "      <td>-32.239871</td>\n",
       "    </tr>\n",
       "    <tr>\n",
       "      <th>50%</th>\n",
       "      <td>32.186954</td>\n",
       "      <td>0.223726</td>\n",
       "      <td>0.004451</td>\n",
       "      <td>-8.397376</td>\n",
       "    </tr>\n",
       "    <tr>\n",
       "      <th>75%</th>\n",
       "      <td>44.550484</td>\n",
       "      <td>0.924390</td>\n",
       "      <td>0.156953</td>\n",
       "      <td>20.038801</td>\n",
       "    </tr>\n",
       "    <tr>\n",
       "      <th>max</th>\n",
       "      <td>49.315312</td>\n",
       "      <td>0.989065</td>\n",
       "      <td>0.862417</td>\n",
       "      <td>25.950531</td>\n",
       "    </tr>\n",
       "  </tbody>\n",
       "</table>\n",
       "</div>"
      ],
      "text/plain": [
       "        distance  azimuth_cos  azimuth_sin  elevation_angle\n",
       "count   7.000000     7.000000     7.000000         7.000000\n",
       "mean   29.333532     0.159045    -0.170933        -7.282962\n",
       "std    17.836326     0.818482     0.658145        29.584000\n",
       "min     8.246211    -0.999990    -0.974652       -44.131749\n",
       "25%    13.242641    -0.474134    -0.701327       -32.239871\n",
       "50%    32.186954     0.223726     0.004451        -8.397376\n",
       "75%    44.550484     0.924390     0.156953        20.038801\n",
       "max    49.315312     0.989065     0.862417        25.950531"
      ]
     },
     "execution_count": 14,
     "metadata": {},
     "output_type": "execute_result"
    }
   ],
   "source": [
    "yo2.describe()"
   ]
  },
  {
   "cell_type": "markdown",
   "metadata": {},
   "source": [
    "#### How expensive is the junk drawer?"
   ]
  },
  {
   "cell_type": "code",
   "execution_count": 15,
   "metadata": {},
   "outputs": [
    {
     "name": "stdout",
     "output_type": "stream",
     "text": [
      "CPU times: user 19.1 ms, sys: 4.39 ms, total: 23.5 ms\n",
      "Wall time: 23.3 ms\n"
     ]
    }
   ],
   "source": [
    "%%time\n",
    "\n",
    "random_array4 = np.random.randint(0, 31, size=(100000, 3))\n",
    "yo4 = add_geo(ref_point, random_array4, pd_export=True)"
   ]
  }
 ],
 "metadata": {
  "kernelspec": {
   "display_name": "py10-viz",
   "language": "python",
   "name": "python3"
  },
  "language_info": {
   "codemirror_mode": {
    "name": "ipython",
    "version": 3
   },
   "file_extension": ".py",
   "mimetype": "text/x-python",
   "name": "python",
   "nbconvert_exporter": "python",
   "pygments_lexer": "ipython3",
   "version": "3.10.12"
  },
  "orig_nbformat": 4
 },
 "nbformat": 4,
 "nbformat_minor": 2
}
