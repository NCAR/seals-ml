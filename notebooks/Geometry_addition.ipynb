{
 "cells": [
  {
   "cell_type": "markdown",
   "metadata": {},
   "source": [
    "# Small Notebook to check geometery addition"
   ]
  },
  {
   "cell_type": "code",
   "execution_count": 1,
   "metadata": {},
   "outputs": [],
   "source": [
    "import xarray as xr\n",
    "import pandas as pd\n",
    "import numpy as np\n",
    "\n",
    "import matplotlib.pyplot as plt"
   ]
  },
  {
   "cell_type": "code",
   "execution_count": 2,
   "metadata": {},
   "outputs": [
    {
     "name": "stdout",
     "output_type": "stream",
     "text": [
      "/Users/thomasmartin/Documents/GitHub/seals-ml\n"
     ]
    }
   ],
   "source": [
    "cd .."
   ]
  },
  {
   "cell_type": "code",
   "execution_count": 3,
   "metadata": {},
   "outputs": [
    {
     "name": "stdout",
     "output_type": "stream",
     "text": [
      "Processing /Users/thomasmartin/Documents/GitHub/seals-ml\n",
      "  Preparing metadata (setup.py) ... \u001b[?25ldone\n",
      "\u001b[?25hBuilding wheels for collected packages: ai2estemplate\n",
      "  Building wheel for ai2estemplate (setup.py) ... \u001b[?25ldone\n",
      "\u001b[?25h  Created wheel for ai2estemplate: filename=ai2estemplate-0.1.0-py3-none-any.whl size=9766 sha256=e6b9df0d2c1d06bf126e4f48291d9efb8f1940aa0433636509eee30c8fb88c12\n",
      "  Stored in directory: /Users/thomasmartin/Library/Caches/pip/wheels/68/ad/03/c3c5488afa84764c8f4f104549404f63499d18391f0f22db83\n",
      "Successfully built ai2estemplate\n",
      "Installing collected packages: ai2estemplate\n",
      "  Attempting uninstall: ai2estemplate\n",
      "    Found existing installation: ai2estemplate 0.1.0\n",
      "    Uninstalling ai2estemplate-0.1.0:\n",
      "      Successfully uninstalled ai2estemplate-0.1.0\n",
      "Successfully installed ai2estemplate-0.1.0\n"
     ]
    }
   ],
   "source": [
    "!pip install ."
   ]
  },
  {
   "cell_type": "code",
   "execution_count": 4,
   "metadata": {},
   "outputs": [],
   "source": [
    "from sealsml import geometry\n",
    "from sealsml.function_drawer import add_geo"
   ]
  },
  {
   "cell_type": "markdown",
   "metadata": {},
   "source": [
    "## Data"
   ]
  },
  {
   "cell_type": "code",
   "execution_count": 5,
   "metadata": {},
   "outputs": [
    {
     "data": {
      "text/plain": [
       "array([[29,  3,  0],\n",
       "       [26, 13,  9],\n",
       "       [ 2, 10, 20],\n",
       "       [12,  7, 13],\n",
       "       [29, 26,  4],\n",
       "       [17,  2, 21],\n",
       "       [20,  4, 11],\n",
       "       [30, 12, 17],\n",
       "       [13, 20, 17],\n",
       "       [20,  2, 10],\n",
       "       [23, 30,  5]])"
      ]
     },
     "execution_count": 5,
     "metadata": {},
     "output_type": "execute_result"
    }
   ],
   "source": [
    "random_array = np.random.randint(0, 31, size=(11, 3))\n",
    "random_array"
   ]
  },
  {
   "cell_type": "code",
   "execution_count": 6,
   "metadata": {},
   "outputs": [
    {
     "data": {
      "text/plain": [
       "array([[ 2,  7, 11],\n",
       "       [11, 28, 10],\n",
       "       [ 1, 13, 18],\n",
       "       [18,  9,  3],\n",
       "       [ 4,  3, 18],\n",
       "       [10, 20, 15],\n",
       "       [16, 18, 29]])"
      ]
     },
     "execution_count": 6,
     "metadata": {},
     "output_type": "execute_result"
    }
   ],
   "source": [
    "random_array2 = np.random.randint(0, 31, size=(7, 3))\n",
    "random_array2"
   ]
  },
  {
   "cell_type": "code",
   "execution_count": 7,
   "metadata": {},
   "outputs": [
    {
     "data": {
      "text/plain": [
       "array([10, 16, 26])"
      ]
     },
     "execution_count": 7,
     "metadata": {},
     "output_type": "execute_result"
    }
   ],
   "source": [
    "ref_point = np.random.randint(0, 31, size=(3,))\n",
    "ref_point "
   ]
  },
  {
   "cell_type": "code",
   "execution_count": 8,
   "metadata": {},
   "outputs": [
    {
     "data": {
      "text/plain": [
       "(3,)"
      ]
     },
     "execution_count": 8,
     "metadata": {},
     "output_type": "execute_result"
    }
   ],
   "source": [
    "ref_point.shape"
   ]
  },
  {
   "cell_type": "code",
   "execution_count": 9,
   "metadata": {},
   "outputs": [
    {
     "name": "stdout",
     "output_type": "stream",
     "text": [
      "type: <class 'numpy.ndarray'>\n",
      "(11, 4)\n"
     ]
    }
   ],
   "source": [
    "yo = add_geo(ref_point, random_array, pd_export=False)\n",
    "print('type:', type(yo))\n",
    "print((np.shape(yo)))"
   ]
  },
  {
   "cell_type": "code",
   "execution_count": 10,
   "metadata": {},
   "outputs": [
    {
     "name": "stdout",
     "output_type": "stream",
     "text": [
      "type: <class 'pandas.core.frame.DataFrame'>\n"
     ]
    },
    {
     "data": {
      "text/html": [
       "<div>\n",
       "<style scoped>\n",
       "    .dataframe tbody tr th:only-of-type {\n",
       "        vertical-align: middle;\n",
       "    }\n",
       "\n",
       "    .dataframe tbody tr th {\n",
       "        vertical-align: top;\n",
       "    }\n",
       "\n",
       "    .dataframe thead th {\n",
       "        text-align: right;\n",
       "    }\n",
       "</style>\n",
       "<table border=\"1\" class=\"dataframe\">\n",
       "  <thead>\n",
       "    <tr style=\"text-align: right;\">\n",
       "      <th></th>\n",
       "      <th>distance</th>\n",
       "      <th>azimuth_cos</th>\n",
       "      <th>azimuth_sin</th>\n",
       "      <th>elevation_angle</th>\n",
       "    </tr>\n",
       "  </thead>\n",
       "  <tbody>\n",
       "    <tr>\n",
       "      <th>0</th>\n",
       "      <td>19.235384</td>\n",
       "      <td>-0.664364</td>\n",
       "      <td>-0.747409</td>\n",
       "      <td>38.290163</td>\n",
       "    </tr>\n",
       "    <tr>\n",
       "      <th>1</th>\n",
       "      <td>20.024984</td>\n",
       "      <td>0.083045</td>\n",
       "      <td>0.996546</td>\n",
       "      <td>38.659808</td>\n",
       "    </tr>\n",
       "    <tr>\n",
       "      <th>2</th>\n",
       "      <td>12.409674</td>\n",
       "      <td>-0.948683</td>\n",
       "      <td>-0.316228</td>\n",
       "      <td>33.690068</td>\n",
       "    </tr>\n",
       "    <tr>\n",
       "      <th>3</th>\n",
       "      <td>25.337719</td>\n",
       "      <td>0.752577</td>\n",
       "      <td>-0.658505</td>\n",
       "      <td>42.614056</td>\n",
       "    </tr>\n",
       "    <tr>\n",
       "      <th>4</th>\n",
       "      <td>16.401219</td>\n",
       "      <td>-0.419058</td>\n",
       "      <td>-0.907959</td>\n",
       "      <td>26.565051</td>\n",
       "    </tr>\n",
       "  </tbody>\n",
       "</table>\n",
       "</div>"
      ],
      "text/plain": [
       "    distance  azimuth_cos  azimuth_sin  elevation_angle\n",
       "0  19.235384    -0.664364    -0.747409        38.290163\n",
       "1  20.024984     0.083045     0.996546        38.659808\n",
       "2  12.409674    -0.948683    -0.316228        33.690068\n",
       "3  25.337719     0.752577    -0.658505        42.614056\n",
       "4  16.401219    -0.419058    -0.907959        26.565051"
      ]
     },
     "execution_count": 10,
     "metadata": {},
     "output_type": "execute_result"
    }
   ],
   "source": [
    "yo2 = add_geo(ref_point, random_array2, pd_export=True)\n",
    "print('type:', type(yo2))\n",
    "yo2.head()"
   ]
  },
  {
   "cell_type": "code",
   "execution_count": 11,
   "metadata": {},
   "outputs": [
    {
     "data": {
      "text/html": [
       "<div>\n",
       "<style scoped>\n",
       "    .dataframe tbody tr th:only-of-type {\n",
       "        vertical-align: middle;\n",
       "    }\n",
       "\n",
       "    .dataframe tbody tr th {\n",
       "        vertical-align: top;\n",
       "    }\n",
       "\n",
       "    .dataframe thead th {\n",
       "        text-align: right;\n",
       "    }\n",
       "</style>\n",
       "<table border=\"1\" class=\"dataframe\">\n",
       "  <thead>\n",
       "    <tr style=\"text-align: right;\">\n",
       "      <th></th>\n",
       "      <th>distance</th>\n",
       "      <th>azimuth_cos</th>\n",
       "      <th>azimuth_sin</th>\n",
       "      <th>elevation_angle</th>\n",
       "    </tr>\n",
       "  </thead>\n",
       "  <tbody>\n",
       "    <tr>\n",
       "      <th>count</th>\n",
       "      <td>7.000000</td>\n",
       "      <td>7.000000e+00</td>\n",
       "      <td>7.000000</td>\n",
       "      <td>7.000000</td>\n",
       "    </tr>\n",
       "    <tr>\n",
       "      <th>mean</th>\n",
       "      <td>16.016240</td>\n",
       "      <td>-3.539998e-02</td>\n",
       "      <td>-0.045333</td>\n",
       "      <td>28.447286</td>\n",
       "    </tr>\n",
       "    <tr>\n",
       "      <th>std</th>\n",
       "      <td>6.142209</td>\n",
       "      <td>7.049214e-01</td>\n",
       "      <td>0.816023</td>\n",
       "      <td>23.444878</td>\n",
       "    </tr>\n",
       "    <tr>\n",
       "      <th>min</th>\n",
       "      <td>7.000000</td>\n",
       "      <td>-9.486833e-01</td>\n",
       "      <td>-0.907959</td>\n",
       "      <td>-23.198591</td>\n",
       "    </tr>\n",
       "    <tr>\n",
       "      <th>25%</th>\n",
       "      <td>12.057187</td>\n",
       "      <td>-5.417110e-01</td>\n",
       "      <td>-0.702957</td>\n",
       "      <td>30.127559</td>\n",
       "    </tr>\n",
       "    <tr>\n",
       "      <th>50%</th>\n",
       "      <td>16.401219</td>\n",
       "      <td>6.123234e-17</td>\n",
       "      <td>-0.316228</td>\n",
       "      <td>38.290163</td>\n",
       "    </tr>\n",
       "    <tr>\n",
       "      <th>75%</th>\n",
       "      <td>19.630184</td>\n",
       "      <td>4.178111e-01</td>\n",
       "      <td>0.656387</td>\n",
       "      <td>40.585128</td>\n",
       "    </tr>\n",
       "    <tr>\n",
       "      <th>max</th>\n",
       "      <td>25.337719</td>\n",
       "      <td>9.486833e-01</td>\n",
       "      <td>1.000000</td>\n",
       "      <td>42.614056</td>\n",
       "    </tr>\n",
       "  </tbody>\n",
       "</table>\n",
       "</div>"
      ],
      "text/plain": [
       "        distance   azimuth_cos  azimuth_sin  elevation_angle\n",
       "count   7.000000  7.000000e+00     7.000000         7.000000\n",
       "mean   16.016240 -3.539998e-02    -0.045333        28.447286\n",
       "std     6.142209  7.049214e-01     0.816023        23.444878\n",
       "min     7.000000 -9.486833e-01    -0.907959       -23.198591\n",
       "25%    12.057187 -5.417110e-01    -0.702957        30.127559\n",
       "50%    16.401219  6.123234e-17    -0.316228        38.290163\n",
       "75%    19.630184  4.178111e-01     0.656387        40.585128\n",
       "max    25.337719  9.486833e-01     1.000000        42.614056"
      ]
     },
     "execution_count": 11,
     "metadata": {},
     "output_type": "execute_result"
    }
   ],
   "source": [
    "yo2.describe()"
   ]
  },
  {
   "cell_type": "code",
   "execution_count": 12,
   "metadata": {},
   "outputs": [
    {
     "name": "stdout",
     "output_type": "stream",
     "text": [
      "CPU times: user 16 ms, sys: 3.56 ms, total: 19.5 ms\n",
      "Wall time: 18.1 ms\n"
     ]
    }
   ],
   "source": [
    "%%time\n",
    "\n",
    "random_array4 = np.random.randint(0, 31, size=(100000, 3))\n",
    "yo4 = add_geo(ref_point, random_array4, pd_export=True)"
   ]
  },
  {
   "cell_type": "code",
   "execution_count": null,
   "metadata": {},
   "outputs": [],
   "source": []
  }
 ],
 "metadata": {
  "kernelspec": {
   "display_name": "py10-viz",
   "language": "python",
   "name": "python3"
  },
  "language_info": {
   "codemirror_mode": {
    "name": "ipython",
    "version": 3
   },
   "file_extension": ".py",
   "mimetype": "text/x-python",
   "name": "python",
   "nbconvert_exporter": "python",
   "pygments_lexer": "ipython3",
   "version": "3.10.12"
  },
  "orig_nbformat": 4
 },
 "nbformat": 4,
 "nbformat_minor": 2
}
