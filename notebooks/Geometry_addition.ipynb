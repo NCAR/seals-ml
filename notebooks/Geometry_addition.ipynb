{
 "cells": [
  {
   "cell_type": "markdown",
   "metadata": {},
   "source": [
    "# Small Notebook to check geometery addition"
   ]
  },
  {
   "cell_type": "code",
   "execution_count": 1,
   "metadata": {},
   "outputs": [],
   "source": [
    "import xarray as xr\n",
    "import pandas as pd\n",
    "import numpy as np\n",
    "\n",
    "import matplotlib.pyplot as plt"
   ]
  },
  {
   "cell_type": "code",
   "execution_count": 2,
   "metadata": {},
   "outputs": [
    {
     "name": "stdout",
     "output_type": "stream",
     "text": [
      "/Users/thomasmartin/Documents/GitHub/seals-ml\n"
     ]
    }
   ],
   "source": [
    "cd .."
   ]
  },
  {
   "cell_type": "code",
   "execution_count": 3,
   "metadata": {},
   "outputs": [
    {
     "name": "stdout",
     "output_type": "stream",
     "text": [
      "Processing /Users/thomasmartin/Documents/GitHub/seals-ml\n",
      "  Preparing metadata (setup.py) ... \u001b[?25ldone\n",
      "\u001b[?25hBuilding wheels for collected packages: ai2estemplate\n",
      "  Building wheel for ai2estemplate (setup.py) ... \u001b[?25ldone\n",
      "\u001b[?25h  Created wheel for ai2estemplate: filename=ai2estemplate-0.1.0-py3-none-any.whl size=11632 sha256=cf50bc8409ee0e427e61646583fead5719dac8e6fcf62ffddb8cdeea6d065edd\n",
      "  Stored in directory: /Users/thomasmartin/Library/Caches/pip/wheels/68/ad/03/c3c5488afa84764c8f4f104549404f63499d18391f0f22db83\n",
      "Successfully built ai2estemplate\n",
      "Installing collected packages: ai2estemplate\n",
      "  Attempting uninstall: ai2estemplate\n",
      "    Found existing installation: ai2estemplate 0.1.0\n",
      "    Uninstalling ai2estemplate-0.1.0:\n",
      "      Successfully uninstalled ai2estemplate-0.1.0\n",
      "Successfully installed ai2estemplate-0.1.0\n"
     ]
    }
   ],
   "source": [
    "!pip install ."
   ]
  },
  {
   "cell_type": "code",
   "execution_count": 4,
   "metadata": {},
   "outputs": [],
   "source": [
    "from sealsml import geometry"
   ]
  },
  {
   "cell_type": "markdown",
   "metadata": {},
   "source": [
    "## Data"
   ]
  },
  {
   "cell_type": "code",
   "execution_count": 5,
   "metadata": {},
   "outputs": [
    {
     "data": {
      "text/plain": [
       "array([[ 4, 11, 24],\n",
       "       [28, 21, 10],\n",
       "       [23, 25, 12],\n",
       "       [19, 19, 20],\n",
       "       [12, 24, 30],\n",
       "       [30, 16, 11],\n",
       "       [ 9,  2, 22],\n",
       "       [ 6, 19,  2],\n",
       "       [27, 30,  2],\n",
       "       [ 9, 18, 24],\n",
       "       [15, 21, 19]])"
      ]
     },
     "execution_count": 5,
     "metadata": {},
     "output_type": "execute_result"
    }
   ],
   "source": [
    "random_array = np.random.randint(0, 31, size=(11, 3))\n",
    "random_array"
   ]
  },
  {
   "cell_type": "code",
   "execution_count": 6,
   "metadata": {},
   "outputs": [
    {
     "data": {
      "text/plain": [
       "array([[ 0, 30,  0],\n",
       "       [17, 16,  4],\n",
       "       [17,  5, 18],\n",
       "       [10, 25,  3],\n",
       "       [ 8,  3, 17],\n",
       "       [27,  2, 24],\n",
       "       [ 0, 20, 26]])"
      ]
     },
     "execution_count": 6,
     "metadata": {},
     "output_type": "execute_result"
    }
   ],
   "source": [
    "random_array2 = np.random.randint(0, 31, size=(7, 3))\n",
    "random_array2"
   ]
  },
  {
   "cell_type": "code",
   "execution_count": 7,
   "metadata": {},
   "outputs": [
    {
     "data": {
      "text/plain": [
       "array([15, 13, 17])"
      ]
     },
     "execution_count": 7,
     "metadata": {},
     "output_type": "execute_result"
    }
   ],
   "source": [
    "ref_point = np.random.randint(0, 31, size=(3,))\n",
    "ref_point "
   ]
  },
  {
   "cell_type": "code",
   "execution_count": 8,
   "metadata": {},
   "outputs": [
    {
     "data": {
      "text/plain": [
       "(3,)"
      ]
     },
     "execution_count": 8,
     "metadata": {},
     "output_type": "execute_result"
    }
   ],
   "source": [
    "ref_point.shape"
   ]
  },
  {
   "cell_type": "markdown",
   "metadata": {},
   "source": [
    "## Testing Azimuth"
   ]
  },
  {
   "cell_type": "code",
   "execution_count": 9,
   "metadata": {},
   "outputs": [
    {
     "name": "stdout",
     "output_type": "stream",
     "text": [
      "Warning, Azimuth Calculation might be wrong for vertically offset points\n"
     ]
    }
   ],
   "source": [
    "geometry_class = geometry.GeoCalculator(ref_point, \n",
    "                              np.random.randint(0, 31, size=(1000, 3)))\n",
    "# azimuth\n",
    "azi = geometry_class.calculate_azimuth()"
   ]
  },
  {
   "cell_type": "code",
   "execution_count": 10,
   "metadata": {},
   "outputs": [
    {
     "name": "stdout",
     "output_type": "stream",
     "text": [
      "min azimuth 0.0\n",
      "max azimuth 356.42\n"
     ]
    }
   ],
   "source": [
    "print('min azimuth', np.min(azi))\n",
    "print('max azimuth', np.round(np.max(azi),2))"
   ]
  },
  {
   "cell_type": "markdown",
   "metadata": {},
   "source": [
    "This is what we want to see!"
   ]
  },
  {
   "cell_type": "code",
   "execution_count": 11,
   "metadata": {},
   "outputs": [
    {
     "name": "stdout",
     "output_type": "stream",
     "text": [
      "Warning, Azimuth Calculation might be wrong for vertically offset points\n"
     ]
    },
    {
     "data": {
      "text/plain": [
       "array([ 90.        ,   0.        ,  90.        , 180.        ,\n",
       "       270.        ,   0.        , 359.04515875,   0.95484125])"
      ]
     },
     "execution_count": 11,
     "metadata": {},
     "output_type": "execute_result"
    }
   ],
   "source": [
    "geometry_class2 = geometry.GeoCalculator(np.array([0,   0,  0]), \n",
    "                               np.array([[0,  0,  0],\n",
    "                                                [0,  1,  0],\n",
    "                                                [1,  0,  12],\n",
    "                                                [0, -1,  3],\n",
    "                                                [-1, 0, -3],\n",
    "                                                [0,  7,  2],\n",
    "                                                [-.2, 12, 12],\n",
    "                                                [.2, 12, 12]]) )\n",
    "# azimuth\n",
    "azi2 = geometry_class2.calculate_azimuth()\n",
    "\n",
    "azi2"
   ]
  },
  {
   "cell_type": "markdown",
   "metadata": {},
   "source": [
    "Testing the 45's for Charlie"
   ]
  },
  {
   "cell_type": "code",
   "execution_count": 12,
   "metadata": {},
   "outputs": [
    {
     "data": {
      "text/plain": [
       "array([45., 45., 45.])"
      ]
     },
     "execution_count": 12,
     "metadata": {},
     "output_type": "execute_result"
    }
   ],
   "source": [
    "geometry_class4 = geometry.GeoCalculator(np.array([0,   0,   0]), \n",
    "                               np.array([[2,  2,   0],\n",
    "                                                [4,  4,  -3],\n",
    "                                                [12, 12,  2]]) )\n",
    "# azimuth\n",
    "azi4 = geometry_class4.calculate_azimuth()\n",
    "azi4"
   ]
  },
  {
   "cell_type": "markdown",
   "metadata": {},
   "source": [
    "## Using the junk drawer"
   ]
  },
  {
   "cell_type": "code",
   "execution_count": 14,
   "metadata": {},
   "outputs": [
    {
     "name": "stdout",
     "output_type": "stream",
     "text": [
      "CPU times: user 1.43 ms, sys: 948 µs, total: 2.38 ms\n",
      "Wall time: 1.44 ms\n"
     ]
    }
   ],
   "source": [
    "%%time\n",
    "\n",
    "random_array4 = np.random.randint(0, 31, size=(100000, 3))\n",
    "yo4 = geometry.GeoCalculator(ref_point, random_array4)\n"
   ]
  },
  {
   "cell_type": "code",
   "execution_count": 15,
   "metadata": {},
   "outputs": [
    {
     "name": "stdout",
     "output_type": "stream",
     "text": [
      "Warning, Azimuth Calculation might be wrong for vertically offset points\n"
     ]
    },
    {
     "data": {
      "text/html": [
       "<div>\n",
       "<style scoped>\n",
       "    .dataframe tbody tr th:only-of-type {\n",
       "        vertical-align: middle;\n",
       "    }\n",
       "\n",
       "    .dataframe tbody tr th {\n",
       "        vertical-align: top;\n",
       "    }\n",
       "\n",
       "    .dataframe thead th {\n",
       "        text-align: right;\n",
       "    }\n",
       "</style>\n",
       "<table border=\"1\" class=\"dataframe\">\n",
       "  <thead>\n",
       "    <tr style=\"text-align: right;\">\n",
       "      <th></th>\n",
       "      <th>distance</th>\n",
       "      <th>azimuth_cos</th>\n",
       "      <th>azimuth_sin</th>\n",
       "      <th>elevation_angle</th>\n",
       "    </tr>\n",
       "  </thead>\n",
       "  <tbody>\n",
       "    <tr>\n",
       "      <th>0</th>\n",
       "      <td>15.297059</td>\n",
       "      <td>-9.701425e-01</td>\n",
       "      <td>-0.242536</td>\n",
       "      <td>-36.039893</td>\n",
       "    </tr>\n",
       "    <tr>\n",
       "      <th>1</th>\n",
       "      <td>21.283797</td>\n",
       "      <td>9.048187e-01</td>\n",
       "      <td>-0.425797</td>\n",
       "      <td>-28.023975</td>\n",
       "    </tr>\n",
       "    <tr>\n",
       "      <th>2</th>\n",
       "      <td>14.866069</td>\n",
       "      <td>-8.087361e-01</td>\n",
       "      <td>-0.588172</td>\n",
       "      <td>23.803656</td>\n",
       "    </tr>\n",
       "    <tr>\n",
       "      <th>3</th>\n",
       "      <td>15.684387</td>\n",
       "      <td>8.944272e-01</td>\n",
       "      <td>-0.447214</td>\n",
       "      <td>3.655525</td>\n",
       "    </tr>\n",
       "    <tr>\n",
       "      <th>4</th>\n",
       "      <td>18.165902</td>\n",
       "      <td>-5.812382e-01</td>\n",
       "      <td>0.813733</td>\n",
       "      <td>-61.735510</td>\n",
       "    </tr>\n",
       "    <tr>\n",
       "      <th>...</th>\n",
       "      <td>...</td>\n",
       "      <td>...</td>\n",
       "      <td>...</td>\n",
       "      <td>...</td>\n",
       "    </tr>\n",
       "    <tr>\n",
       "      <th>99995</th>\n",
       "      <td>21.213203</td>\n",
       "      <td>-6.000000e-01</td>\n",
       "      <td>-0.800000</td>\n",
       "      <td>-45.000000</td>\n",
       "    </tr>\n",
       "    <tr>\n",
       "      <th>99996</th>\n",
       "      <td>13.928388</td>\n",
       "      <td>6.123234e-17</td>\n",
       "      <td>1.000000</td>\n",
       "      <td>68.962489</td>\n",
       "    </tr>\n",
       "    <tr>\n",
       "      <th>99997</th>\n",
       "      <td>21.189620</td>\n",
       "      <td>9.734172e-01</td>\n",
       "      <td>-0.229039</td>\n",
       "      <td>-34.493658</td>\n",
       "    </tr>\n",
       "    <tr>\n",
       "      <th>99998</th>\n",
       "      <td>20.024984</td>\n",
       "      <td>9.980526e-01</td>\n",
       "      <td>0.062378</td>\n",
       "      <td>-36.816302</td>\n",
       "    </tr>\n",
       "    <tr>\n",
       "      <th>99999</th>\n",
       "      <td>16.431677</td>\n",
       "      <td>6.726728e-01</td>\n",
       "      <td>0.739940</td>\n",
       "      <td>-25.214384</td>\n",
       "    </tr>\n",
       "  </tbody>\n",
       "</table>\n",
       "<p>100000 rows × 4 columns</p>\n",
       "</div>"
      ],
      "text/plain": [
       "        distance   azimuth_cos  azimuth_sin  elevation_angle\n",
       "0      15.297059 -9.701425e-01    -0.242536       -36.039893\n",
       "1      21.283797  9.048187e-01    -0.425797       -28.023975\n",
       "2      14.866069 -8.087361e-01    -0.588172        23.803656\n",
       "3      15.684387  8.944272e-01    -0.447214         3.655525\n",
       "4      18.165902 -5.812382e-01     0.813733       -61.735510\n",
       "...          ...           ...          ...              ...\n",
       "99995  21.213203 -6.000000e-01    -0.800000       -45.000000\n",
       "99996  13.928388  6.123234e-17     1.000000        68.962489\n",
       "99997  21.189620  9.734172e-01    -0.229039       -34.493658\n",
       "99998  20.024984  9.980526e-01     0.062378       -36.816302\n",
       "99999  16.431677  6.726728e-01     0.739940       -25.214384\n",
       "\n",
       "[100000 rows x 4 columns]"
      ]
     },
     "execution_count": 15,
     "metadata": {},
     "output_type": "execute_result"
    }
   ],
   "source": [
    "grid2 = yo4.get_geometry(ref_point, random_array4, pd_export=True)\n",
    "grid2"
   ]
  },
  {
   "cell_type": "code",
   "execution_count": 16,
   "metadata": {},
   "outputs": [
    {
     "name": "stdout",
     "output_type": "stream",
     "text": [
      "Warning, Azimuth Calculation might be wrong for vertically offset points\n"
     ]
    },
    {
     "data": {
      "text/html": [
       "<div>\n",
       "<style scoped>\n",
       "    .dataframe tbody tr th:only-of-type {\n",
       "        vertical-align: middle;\n",
       "    }\n",
       "\n",
       "    .dataframe tbody tr th {\n",
       "        vertical-align: top;\n",
       "    }\n",
       "\n",
       "    .dataframe thead th {\n",
       "        text-align: right;\n",
       "    }\n",
       "</style>\n",
       "<table border=\"1\" class=\"dataframe\">\n",
       "  <thead>\n",
       "    <tr style=\"text-align: right;\">\n",
       "      <th></th>\n",
       "      <th>distance</th>\n",
       "      <th>azimuth_cos</th>\n",
       "      <th>azimuth_sin</th>\n",
       "      <th>elevation_angle</th>\n",
       "    </tr>\n",
       "  </thead>\n",
       "  <tbody>\n",
       "    <tr>\n",
       "      <th>0</th>\n",
       "      <td>45.891176</td>\n",
       "      <td>-9.701425e-01</td>\n",
       "      <td>-0.242536</td>\n",
       "      <td>-36.039893</td>\n",
       "    </tr>\n",
       "    <tr>\n",
       "      <th>1</th>\n",
       "      <td>63.851390</td>\n",
       "      <td>9.048187e-01</td>\n",
       "      <td>-0.425797</td>\n",
       "      <td>-28.023975</td>\n",
       "    </tr>\n",
       "    <tr>\n",
       "      <th>2</th>\n",
       "      <td>44.598206</td>\n",
       "      <td>-8.087361e-01</td>\n",
       "      <td>-0.588172</td>\n",
       "      <td>23.803656</td>\n",
       "    </tr>\n",
       "    <tr>\n",
       "      <th>3</th>\n",
       "      <td>47.053161</td>\n",
       "      <td>8.944272e-01</td>\n",
       "      <td>-0.447214</td>\n",
       "      <td>3.655525</td>\n",
       "    </tr>\n",
       "    <tr>\n",
       "      <th>4</th>\n",
       "      <td>54.497706</td>\n",
       "      <td>-5.812382e-01</td>\n",
       "      <td>0.813733</td>\n",
       "      <td>-61.735510</td>\n",
       "    </tr>\n",
       "    <tr>\n",
       "      <th>...</th>\n",
       "      <td>...</td>\n",
       "      <td>...</td>\n",
       "      <td>...</td>\n",
       "      <td>...</td>\n",
       "    </tr>\n",
       "    <tr>\n",
       "      <th>99995</th>\n",
       "      <td>63.639610</td>\n",
       "      <td>-6.000000e-01</td>\n",
       "      <td>-0.800000</td>\n",
       "      <td>-45.000000</td>\n",
       "    </tr>\n",
       "    <tr>\n",
       "      <th>99996</th>\n",
       "      <td>41.785165</td>\n",
       "      <td>6.123234e-17</td>\n",
       "      <td>1.000000</td>\n",
       "      <td>68.962489</td>\n",
       "    </tr>\n",
       "    <tr>\n",
       "      <th>99997</th>\n",
       "      <td>63.568860</td>\n",
       "      <td>9.734172e-01</td>\n",
       "      <td>-0.229039</td>\n",
       "      <td>-34.493658</td>\n",
       "    </tr>\n",
       "    <tr>\n",
       "      <th>99998</th>\n",
       "      <td>60.074953</td>\n",
       "      <td>9.980526e-01</td>\n",
       "      <td>0.062378</td>\n",
       "      <td>-36.816302</td>\n",
       "    </tr>\n",
       "    <tr>\n",
       "      <th>99999</th>\n",
       "      <td>49.295030</td>\n",
       "      <td>6.726728e-01</td>\n",
       "      <td>0.739940</td>\n",
       "      <td>-25.214384</td>\n",
       "    </tr>\n",
       "  </tbody>\n",
       "</table>\n",
       "<p>100000 rows × 4 columns</p>\n",
       "</div>"
      ],
      "text/plain": [
       "        distance   azimuth_cos  azimuth_sin  elevation_angle\n",
       "0      45.891176 -9.701425e-01    -0.242536       -36.039893\n",
       "1      63.851390  9.048187e-01    -0.425797       -28.023975\n",
       "2      44.598206 -8.087361e-01    -0.588172        23.803656\n",
       "3      47.053161  8.944272e-01    -0.447214         3.655525\n",
       "4      54.497706 -5.812382e-01     0.813733       -61.735510\n",
       "...          ...           ...          ...              ...\n",
       "99995  63.639610 -6.000000e-01    -0.800000       -45.000000\n",
       "99996  41.785165  6.123234e-17     1.000000        68.962489\n",
       "99997  63.568860  9.734172e-01    -0.229039       -34.493658\n",
       "99998  60.074953  9.980526e-01     0.062378       -36.816302\n",
       "99999  49.295030  6.726728e-01     0.739940       -25.214384\n",
       "\n",
       "[100000 rows x 4 columns]"
      ]
     },
     "execution_count": 16,
     "metadata": {},
     "output_type": "execute_result"
    }
   ],
   "source": [
    "grid2 = yo4.get_geometry(ref_point, random_array4, grid_resolution=3, pd_export=True)\n",
    "grid2"
   ]
  },
  {
   "cell_type": "code",
   "execution_count": 17,
   "metadata": {},
   "outputs": [
    {
     "name": "stdout",
     "output_type": "stream",
     "text": [
      "Warning, Azimuth Calculation might be wrong for vertically offset points\n"
     ]
    },
    {
     "data": {
      "text/html": [
       "<div>\n",
       "<style scoped>\n",
       "    .dataframe tbody tr th:only-of-type {\n",
       "        vertical-align: middle;\n",
       "    }\n",
       "\n",
       "    .dataframe tbody tr th {\n",
       "        vertical-align: top;\n",
       "    }\n",
       "\n",
       "    .dataframe thead th {\n",
       "        text-align: right;\n",
       "    }\n",
       "</style>\n",
       "<table border=\"1\" class=\"dataframe\">\n",
       "  <thead>\n",
       "    <tr style=\"text-align: right;\">\n",
       "      <th></th>\n",
       "      <th>distance</th>\n",
       "      <th>azimuth_cos</th>\n",
       "      <th>azimuth_sin</th>\n",
       "      <th>elevation_angle</th>\n",
       "    </tr>\n",
       "  </thead>\n",
       "  <tbody>\n",
       "    <tr>\n",
       "      <th>0</th>\n",
       "      <td>15.297059</td>\n",
       "      <td>-9.701425e-01</td>\n",
       "      <td>-0.242536</td>\n",
       "      <td>-36.039893</td>\n",
       "    </tr>\n",
       "    <tr>\n",
       "      <th>1</th>\n",
       "      <td>21.283797</td>\n",
       "      <td>9.048187e-01</td>\n",
       "      <td>-0.425797</td>\n",
       "      <td>-28.023975</td>\n",
       "    </tr>\n",
       "    <tr>\n",
       "      <th>2</th>\n",
       "      <td>14.866069</td>\n",
       "      <td>-8.087361e-01</td>\n",
       "      <td>-0.588172</td>\n",
       "      <td>23.803656</td>\n",
       "    </tr>\n",
       "    <tr>\n",
       "      <th>3</th>\n",
       "      <td>15.684387</td>\n",
       "      <td>8.944272e-01</td>\n",
       "      <td>-0.447214</td>\n",
       "      <td>3.655525</td>\n",
       "    </tr>\n",
       "    <tr>\n",
       "      <th>4</th>\n",
       "      <td>18.165902</td>\n",
       "      <td>-5.812382e-01</td>\n",
       "      <td>0.813733</td>\n",
       "      <td>-61.735510</td>\n",
       "    </tr>\n",
       "    <tr>\n",
       "      <th>...</th>\n",
       "      <td>...</td>\n",
       "      <td>...</td>\n",
       "      <td>...</td>\n",
       "      <td>...</td>\n",
       "    </tr>\n",
       "    <tr>\n",
       "      <th>99995</th>\n",
       "      <td>21.213203</td>\n",
       "      <td>-6.000000e-01</td>\n",
       "      <td>-0.800000</td>\n",
       "      <td>-45.000000</td>\n",
       "    </tr>\n",
       "    <tr>\n",
       "      <th>99996</th>\n",
       "      <td>13.928388</td>\n",
       "      <td>6.123234e-17</td>\n",
       "      <td>1.000000</td>\n",
       "      <td>68.962489</td>\n",
       "    </tr>\n",
       "    <tr>\n",
       "      <th>99997</th>\n",
       "      <td>21.189620</td>\n",
       "      <td>9.734172e-01</td>\n",
       "      <td>-0.229039</td>\n",
       "      <td>-34.493658</td>\n",
       "    </tr>\n",
       "    <tr>\n",
       "      <th>99998</th>\n",
       "      <td>20.024984</td>\n",
       "      <td>9.980526e-01</td>\n",
       "      <td>0.062378</td>\n",
       "      <td>-36.816302</td>\n",
       "    </tr>\n",
       "    <tr>\n",
       "      <th>99999</th>\n",
       "      <td>16.431677</td>\n",
       "      <td>6.726728e-01</td>\n",
       "      <td>0.739940</td>\n",
       "      <td>-25.214384</td>\n",
       "    </tr>\n",
       "  </tbody>\n",
       "</table>\n",
       "<p>100000 rows × 4 columns</p>\n",
       "</div>"
      ],
      "text/plain": [
       "        distance   azimuth_cos  azimuth_sin  elevation_angle\n",
       "0      15.297059 -9.701425e-01    -0.242536       -36.039893\n",
       "1      21.283797  9.048187e-01    -0.425797       -28.023975\n",
       "2      14.866069 -8.087361e-01    -0.588172        23.803656\n",
       "3      15.684387  8.944272e-01    -0.447214         3.655525\n",
       "4      18.165902 -5.812382e-01     0.813733       -61.735510\n",
       "...          ...           ...          ...              ...\n",
       "99995  21.213203 -6.000000e-01    -0.800000       -45.000000\n",
       "99996  13.928388  6.123234e-17     1.000000        68.962489\n",
       "99997  21.189620  9.734172e-01    -0.229039       -34.493658\n",
       "99998  20.024984  9.980526e-01     0.062378       -36.816302\n",
       "99999  16.431677  6.726728e-01     0.739940       -25.214384\n",
       "\n",
       "[100000 rows x 4 columns]"
      ]
     },
     "execution_count": 17,
     "metadata": {},
     "output_type": "execute_result"
    }
   ],
   "source": [
    "grid4 = yo4.get_geometry(ref_point, random_array4, grid_resolution=False, pd_export=True)\n",
    "grid4"
   ]
  },
  {
   "cell_type": "code",
   "execution_count": null,
   "metadata": {},
   "outputs": [],
   "source": []
  }
 ],
 "metadata": {
  "kernelspec": {
   "display_name": "py10-viz",
   "language": "python",
   "name": "python3"
  },
  "language_info": {
   "codemirror_mode": {
    "name": "ipython",
    "version": 3
   },
   "file_extension": ".py",
   "mimetype": "text/x-python",
   "name": "python",
   "nbconvert_exporter": "python",
   "pygments_lexer": "ipython3",
   "version": "3.10.12"
  },
  "orig_nbformat": 4
 },
 "nbformat": 4,
 "nbformat_minor": 2
}
