{
 "cells": [
  {
   "cell_type": "markdown",
   "metadata": {},
   "source": [
    "# Small Notebook to double check functions"
   ]
  },
  {
   "cell_type": "code",
   "execution_count": 9,
   "metadata": {},
   "outputs": [],
   "source": [
    "import xarray as xr\n",
    "import pandas as pd\n",
    "import numpy as np\n",
    "\n",
    "import pytest\n",
    "import matplotlib.pyplot as plt"
   ]
  },
  {
   "cell_type": "code",
   "execution_count": 2,
   "metadata": {},
   "outputs": [
    {
     "name": "stdout",
     "output_type": "stream",
     "text": [
      "/Users/thomasmartin/Documents/GitHub/seals-ml\n"
     ]
    }
   ],
   "source": [
    "cd .."
   ]
  },
  {
   "cell_type": "code",
   "execution_count": 3,
   "metadata": {},
   "outputs": [
    {
     "name": "stdout",
     "output_type": "stream",
     "text": [
      "Processing /Users/thomasmartin/Documents/GitHub/seals-ml\n",
      "  Preparing metadata (setup.py) ... \u001b[?25ldone\n",
      "\u001b[?25hBuilding wheels for collected packages: ai2estemplate\n",
      "  Building wheel for ai2estemplate (setup.py) ... \u001b[?25ldone\n",
      "\u001b[?25h  Created wheel for ai2estemplate: filename=ai2estemplate-0.1.0-py3-none-any.whl size=6601 sha256=85728a90c61299e955ce1cc1b155e0d91a541406fec0fded6a1b1f15234b57cd\n",
      "  Stored in directory: /Users/thomasmartin/Library/Caches/pip/wheels/68/ad/03/c3c5488afa84764c8f4f104549404f63499d18391f0f22db83\n",
      "Successfully built ai2estemplate\n",
      "Installing collected packages: ai2estemplate\n",
      "  Attempting uninstall: ai2estemplate\n",
      "    Found existing installation: ai2estemplate 0.1.0\n",
      "    Uninstalling ai2estemplate-0.1.0:\n",
      "      Successfully uninstalled ai2estemplate-0.1.0\n",
      "Successfully installed ai2estemplate-0.1.0\n"
     ]
    }
   ],
   "source": [
    "!pip install ."
   ]
  },
  {
   "cell_type": "code",
   "execution_count": 10,
   "metadata": {},
   "outputs": [],
   "source": [
    "from sealsml.utils import distance_between_points_3d, calculate_azimuth, dip"
   ]
  },
  {
   "cell_type": "code",
   "execution_count": 11,
   "metadata": {},
   "outputs": [],
   "source": [
    "def test_distance_between_points_3d():\n",
    "    \"\"\"\n",
    "    Tests the `distance_between_points_3d` function.\n",
    "    \"\"\"\n",
    "    # Test that the function works when the points are valid.\n",
    "    point1 = np.array([1, 2, 3])\n",
    "    point2 = np.array([4, 5, 6])\n",
    "    distance_result = distance_between_points_3d(point1, point2)\n",
    "    expected_distance = np.sqrt(109)\n",
    "    assert np.allclose(distance_result, expected_distance)  # Use np.allclose for floating-point comparisons\n",
    "\n",
    "    # Test that the function raises an error when the points are not valid.\n",
    "    point1 = np.array([1, 2, 3])\n",
    "    point2 = np.array([4, 5, 3, 2])\n",
    "    with pytest.raises(TypeError):\n",
    "        distance_between_points_3d(point1, point2)"
   ]
  },
  {
   "cell_type": "code",
   "execution_count": 12,
   "metadata": {},
   "outputs": [
    {
     "data": {
      "text/plain": [
       "<function __main__.test_distance_between_points_3d()>"
      ]
     },
     "execution_count": 12,
     "metadata": {},
     "output_type": "execute_result"
    }
   ],
   "source": [
    "test_distance_between_points_3d"
   ]
  },
  {
   "cell_type": "code",
   "execution_count": 17,
   "metadata": {},
   "outputs": [],
   "source": [
    "def test_azimuth():\n",
    "    '''\n",
    "    Tests the `azimuth` function.\n",
    "    '''\n",
    "\n",
    "    # Test that the function works when the points are valid.\n",
    "    point1 = np.array([1, 0, 0])\n",
    "    point2 = np.array([1, 1, 0])\n",
    "    azimuth_result = azimuth(point1, point2)\n",
    "    assert np.allclose(azimuth_result, 45)  # Use np.allclose for floating-point comparisons\n",
    "\n",
    "    # Test that the function raises an error when the points are not valid.\n",
    "    point3 = np.array([1, 0, 0])\n",
    "    point4 = np.array([1, 2, 0],\n",
    "                       [4, 5, 4])\n",
    "    with pytest.raises(TypeError):\n",
    "        azimuth(point3, point4)"
   ]
  },
  {
   "cell_type": "code",
   "execution_count": 18,
   "metadata": {},
   "outputs": [
    {
     "data": {
      "text/plain": [
       "<function __main__.test_azimuth()>"
      ]
     },
     "execution_count": 18,
     "metadata": {},
     "output_type": "execute_result"
    }
   ],
   "source": [
    "test_azimuth"
   ]
  },
  {
   "cell_type": "code",
   "execution_count": 19,
   "metadata": {},
   "outputs": [],
   "source": [
    "def test_dip():\n",
    "    \"\"\"Tests the `dip` function.\"\"\"\n",
    "\n",
    "    # Test that the function works when the points are valid.\n",
    "    point1 = np.array([0, 0, 1])\n",
    "    point2 = np.array([0, 0, 2])\n",
    "    dip_result = dip(point1, point2)\n",
    "    assert np.allclose(dip_result, 90)  # Use np.allclose for floating-point comparisons\n",
    "\n",
    "    # Test that the function raises an error when the points are not valid.\n",
    "    point3 = np.array([0, 0, 1])\n",
    "    point4 = np.array([1, 0, 0, 4])\n",
    "    with pytest.raises(TypeError):\n",
    "        dip(point3, point4)"
   ]
  },
  {
   "cell_type": "code",
   "execution_count": 20,
   "metadata": {},
   "outputs": [
    {
     "data": {
      "text/plain": [
       "<function __main__.test_dip()>"
      ]
     },
     "execution_count": 20,
     "metadata": {},
     "output_type": "execute_result"
    }
   ],
   "source": [
    "test_dip"
   ]
  },
  {
   "cell_type": "code",
   "execution_count": null,
   "metadata": {},
   "outputs": [],
   "source": []
  }
 ],
 "metadata": {
  "kernelspec": {
   "display_name": "py10-viz",
   "language": "python",
   "name": "python3"
  },
  "language_info": {
   "codemirror_mode": {
    "name": "ipython",
    "version": 3
   },
   "file_extension": ".py",
   "mimetype": "text/x-python",
   "name": "python",
   "nbconvert_exporter": "python",
   "pygments_lexer": "ipython3",
   "version": "3.10.12"
  },
  "orig_nbformat": 4
 },
 "nbformat": 4,
 "nbformat_minor": 2
}
