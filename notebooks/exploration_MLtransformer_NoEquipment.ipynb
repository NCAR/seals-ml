{
 "cells": [
  {
   "cell_type": "code",
   "execution_count": 1,
   "id": "f08547c7-e7f0-4d9e-9f23-b259e4341f29",
   "metadata": {},
   "outputs": [
    {
     "name": "stderr",
     "output_type": "stream",
     "text": [
      "2024-05-28 08:49:46.233247: I tensorflow/core/platform/cpu_feature_guard.cc:210] This TensorFlow binary is optimized to use available CPU instructions in performance-critical operations.\n",
      "To enable the following instructions: AVX2 AVX512F FMA, in other operations, rebuild TensorFlow with the appropriate compiler flags.\n",
      "2024-05-28 08:49:47.085162: W tensorflow/compiler/tf2tensorrt/utils/py_utils.cc:38] TF-TRT Warning: Could not find TensorRT\n"
     ]
    }
   ],
   "source": [
    "import xarray as xr\n",
    "import matplotlib.pyplot as plt\n",
    "from keras.models import load_model\n",
    "from bridgescaler import load_scaler\n",
    "import pandas as pd\n",
    "from sealsml.data import Preprocessor\n",
    "import numpy as np\n",
    "import copy\n",
    "import yaml"
   ]
  },
  {
   "cell_type": "markdown",
   "id": "a09c4c85-a93d-430c-bc48-38a3be79cfc2",
   "metadata": {},
   "source": [
    "# Load trained transformer model"
   ]
  },
  {
   "cell_type": "code",
   "execution_count": 2,
   "id": "40bba5ab-da94-4e10-afe2-9af10fd469f7",
   "metadata": {},
   "outputs": [
    {
     "name": "stdout",
     "output_type": "stream",
     "text": [
      "scaler_tmp= /glade/derecho/scratch/domingom/SEALS_ML/test_train_v4/train_transformer/2024-05-23_1736/scaler_2024-05-23_1736.json\n",
      "model_tmp= /glade/derecho/scratch/domingom/SEALS_ML/test_train_v4/train_transformer/2024-05-23_1736/transformer_leak_loc_2024-05-23_1736.keras\n"
     ]
    }
   ],
   "source": [
    "path_mlmodel = '/glade/derecho/scratch/domingom/SEALS_ML/test_train_v4/train_transformer/2024-05-23_1736/'\n",
    "mlmodel_transformer = 'transformer_leak_loc_2024-05-23_1736.keras'\n",
    "mlmodel_scaler = 'scaler_2024-05-23_1736.json'\n",
    "mlmodel_specs = '/glade/derecho/scratch/domingom/SEALS_ML/test_train_v4/train_transformer_DME.yaml'\n",
    "\n",
    "model_tmp = path_mlmodel + mlmodel_transformer\n",
    "scaler_tmp = path_mlmodel + mlmodel_scaler\n",
    "print('scaler_tmp=',scaler_tmp)\n",
    "print('model_tmp=',model_tmp)"
   ]
  },
  {
   "cell_type": "code",
   "execution_count": 3,
   "id": "613b96b8-ca95-4492-95af-a04ea1b26b07",
   "metadata": {},
   "outputs": [
    {
     "name": "stderr",
     "output_type": "stream",
     "text": [
      "2024-05-28 08:49:52.471352: W tensorflow/core/common_runtime/gpu/gpu_device.cc:2251] Cannot dlopen some GPU libraries. Please make sure the missing libraries mentioned above are installed properly if you would like to use GPU. Follow the guide at https://www.tensorflow.org/install/gpu for how to download and setup the required libraries for your platform.\n",
      "Skipping registering GPU devices...\n"
     ]
    }
   ],
   "source": [
    "scaler = load_scaler(scaler_tmp)\n",
    "model = load_model(model_tmp)"
   ]
  },
  {
   "cell_type": "code",
   "execution_count": 4,
   "id": "eb118054-d6c1-4f34-b795-63d4b4909057",
   "metadata": {},
   "outputs": [
    {
     "data": {
      "text/plain": [
       "<bridgescaler.deep.DeepQuantileTransformer at 0x148363be2510>"
      ]
     },
     "execution_count": 4,
     "metadata": {},
     "output_type": "execute_result"
    }
   ],
   "source": [
    "scaler"
   ]
  },
  {
   "cell_type": "code",
   "execution_count": 5,
   "id": "bbeb7dcb-bd16-470c-85e8-99ee717cc11d",
   "metadata": {},
   "outputs": [
    {
     "data": {
      "text/plain": [
       "<QuantizedTransformer name=quantized_transformer, built=True>"
      ]
     },
     "execution_count": 5,
     "metadata": {},
     "output_type": "execute_result"
    }
   ],
   "source": [
    "model"
   ]
  },
  {
   "cell_type": "markdown",
   "id": "842c7047-7417-4e8f-84d1-234c155dcad2",
   "metadata": {},
   "source": [
    "# Load testing instance/s"
   ]
  },
  {
   "cell_type": "code",
   "execution_count": 6,
   "id": "f7786cfa-c5b1-4dcd-b995-9f6767af8434",
   "metadata": {},
   "outputs": [],
   "source": [
    "val_files = pd.read_csv(\"/glade/derecho/scratch/domingom/SEALS_ML/test_train_v4/train_transformer/validation_files.csv\")"
   ]
  },
  {
   "cell_type": "code",
   "execution_count": 7,
   "id": "34511d17-d3e5-4765-a679-ce3a900a2957",
   "metadata": {},
   "outputs": [
    {
     "data": {
      "text/plain": [
       "'/glade/derecho/scratch/domingom/SEALS_ML/test_datagen_v2/SEALS_training_data_Sample/data_gen_20240320/training_data_DC_Ug7p5_src_9_10kg_hour_12.0.nc'"
      ]
     },
     "execution_count": 7,
     "metadata": {},
     "output_type": "execute_result"
    }
   ],
   "source": [
    "val_files.loc[0,'validation_files']"
   ]
  },
  {
   "cell_type": "code",
   "execution_count": 8,
   "id": "65b084a6-0497-4702-b42b-eb3d5cb8b008",
   "metadata": {},
   "outputs": [
    {
     "name": "stdout",
     "output_type": "stream",
     "text": [
      "num_val_files= 65\n"
     ]
    }
   ],
   "source": [
    "num_val_files = len(val_files)\n",
    "print('num_val_files=',num_val_files)"
   ]
  },
  {
   "cell_type": "code",
   "execution_count": 9,
   "id": "f0076622-03df-4fd4-9508-4db45d4a3a75",
   "metadata": {},
   "outputs": [
    {
     "data": {
      "text/plain": [
       "{'data_path': '/glade/derecho/scratch/domingom/SEALS_ML/test_datagen_v2/SEALS_training_data_Sample/data_gen_20240320/',\n",
       " 'out_path': '/glade/derecho/scratch/domingom/SEALS_ML/test_train_v4/train_transformer/',\n",
       " 'random_seed': 812,\n",
       " 'save_model': True,\n",
       " 'save_output': True,\n",
       " 'validation_ratio': 0.3,\n",
       " 'sensor_type_mask': -999,\n",
       " 'sensor_exist_mask': -1,\n",
       " 'scaler_type': 'quantile',\n",
       " 'models': ['transformer_leak_loc'],\n",
       " 'transformer_leak_loc': {'kwargs': {'encoder_layers': 2,\n",
       "   'decoder_layers': 2,\n",
       "   'hidden_size': 128,\n",
       "   'n_heads': 8,\n",
       "   'num_quantized_embeddings': 500,\n",
       "   'hidden_activation': 'relu',\n",
       "   'output_activation': 'sigmoid',\n",
       "   'dropout_rate': 0.2,\n",
       "   'use_quantizer': 0,\n",
       "   'quantized_beta': 0.25,\n",
       "   'n_outputs': 1,\n",
       "   'min_filters': 4,\n",
       "   'kernel_size': 3,\n",
       "   'filter_growth_rate': 2,\n",
       "   'n_conv_layers': 3,\n",
       "   'pooling': 'average',\n",
       "   'pool_size': 2,\n",
       "   'padding': 'valid'},\n",
       "  'fit': {'epochs': 70, 'verbose': 1, 'batch_size': 1024},\n",
       "  'compile': {'loss': 'binary_crossentropy',\n",
       "   'optimizer': 'adam',\n",
       "   'metrics': ['binary_accuracy']}},\n",
       " 'transformer_leak_rate': {'kwargs': {'encoder_layers': 2,\n",
       "   'hidden_size': 128,\n",
       "   'n_heads': 2,\n",
       "   'num_quantized_embeddings': 500,\n",
       "   'hidden_activation': 'relu',\n",
       "   'output_activation': 'linear',\n",
       "   'dropout_rate': 0.4,\n",
       "   'use_quantizer': True,\n",
       "   'quantized_beta': 0.25,\n",
       "   'n_outputs': 1,\n",
       "   'min_filters': 4,\n",
       "   'kernel_size': 3,\n",
       "   'filter_growth_rate': 2,\n",
       "   'n_conv_layers': 3,\n",
       "   'pooling': 'max',\n",
       "   'pool_size': 10,\n",
       "   'padding': 'valid'},\n",
       "  'fit': {'epochs': 20, 'verbose': 1, 'batch_size': 512},\n",
       "  'compile': {'loss': 'mse', 'metrics': ['mse']}},\n",
       " 'backtracker': {'kwargs': {'hidden_layers': 1,\n",
       "   'hidden_neurons': 128,\n",
       "   'activation': 'relu',\n",
       "   'n_output_tasks': 4,\n",
       "   'optimizer': 'adam',\n",
       "   'lr': 0.001,\n",
       "   'l2_weight': 1e-05,\n",
       "   'batch_size': 128,\n",
       "   'use_dropout': False,\n",
       "   'dropout_alpha': 0.2,\n",
       "   'epochs': 20,\n",
       "   'verbose': 1},\n",
       "  'preprocess': {'n_sensors': 3,\n",
       "   'x_width': 40,\n",
       "   'y_width': 40,\n",
       "   'factor_x': 0.4,\n",
       "   'factor_y': 0.4},\n",
       "  'fit': {'kwargs': 'None'},\n",
       "  'compile': {'loss': 'mse'}},\n",
       " 'gaussian_process': {'kwargs': {'num_met_sensors': 1,\n",
       "   'normalize_y': True,\n",
       "   'n_restarts_optimizer': 4,\n",
       "   'length_scale_bounds': 'fixed'},\n",
       "  'fit': {'epochs': 'None'}},\n",
       " 'predict_batch_size': 10000}"
      ]
     },
     "execution_count": 9,
     "metadata": {},
     "output_type": "execute_result"
    }
   ],
   "source": [
    "# read in sensor_pad_value and sensor_type_value values\n",
    "with open(mlmodel_specs) as config_file:\n",
    "    config_mlmodel = yaml.safe_load(config_file)\n",
    "config_mlmodel"
   ]
  },
  {
   "cell_type": "code",
   "execution_count": 10,
   "id": "af9fa3e8-73a4-45e8-8034-21f97bffad8b",
   "metadata": {},
   "outputs": [
    {
     "name": "stdout",
     "output_type": "stream",
     "text": [
      "val_encoder.shape= (97500, 10, 100, 8, 2)\n",
      "val_decoder.shape= (97500, 20, 1, 8, 2)\n",
      "target_potleak.shape= (97500, 20)\n",
      "leak_rate.shape= (97500,)\n"
     ]
    }
   ],
   "source": [
    "pre = Preprocessor(scaler_type=\"quantile\", sensor_pad_value=config_mlmodel['sensor_exist_mask'],\\\n",
    "                   sensor_type_value=config_mlmodel['sensor_type_mask'])\n",
    "val_encoder, val_decoder, target_potleak, leak_rate = pre.load_data(val_files[\"validation_files\"].values)\n",
    "print('val_encoder.shape=',val_encoder.shape)\n",
    "print('val_decoder.shape=',val_decoder.shape)\n",
    "print('target_potleak.shape=',target_potleak.shape)\n",
    "print('leak_rate.shape=',leak_rate.shape)"
   ]
  },
  {
   "cell_type": "code",
   "execution_count": 11,
   "id": "60e160a5-0e7c-4b1f-8081-2842bb31289b",
   "metadata": {},
   "outputs": [
    {
     "name": "stdout",
     "output_type": "stream",
     "text": [
      "## After scaler pre-processing ##\n",
      "val_encoder_s.shape= (97500, 10, 100, 8)\n",
      "val_encoder_mask.shape= (97500, 10)\n",
      "val_decoder_s.shape= (97500, 20, 8)\n",
      "val_decoder_mask.shape= (97500, 20)\n"
     ]
    }
   ],
   "source": [
    "pre.scaler = scaler\n",
    "val_encoder_s, val_encoder_mask = pre.preprocess(val_encoder, fit_scaler=False)\n",
    "val_decoder_s, val_decoder_mask = pre.preprocess(val_decoder, fit_scaler=False)\n",
    "print('## After scaler pre-processing ##')\n",
    "print('val_encoder_s.shape=',val_encoder_s.shape)\n",
    "print('val_encoder_mask.shape=',val_encoder_mask.shape)\n",
    "print('val_decoder_s.shape=',val_decoder_s.shape)\n",
    "print('val_decoder_mask.shape=',val_decoder_mask.shape)"
   ]
  },
  {
   "cell_type": "code",
   "execution_count": 12,
   "id": "164c3571-0ed0-461c-9029-c022f590c092",
   "metadata": {},
   "outputs": [
    {
     "name": "stdout",
     "output_type": "stream",
     "text": [
      "samples_per_file= 1500\n"
     ]
    }
   ],
   "source": [
    "samples_per_file = int(val_encoder.shape[0]/num_val_files)\n",
    "print('samples_per_file=',samples_per_file)"
   ]
  },
  {
   "cell_type": "code",
   "execution_count": 13,
   "id": "dce89d04-b612-4fa1-9974-42b2cbb017cc",
   "metadata": {},
   "outputs": [
    {
     "name": "stdout",
     "output_type": "stream",
     "text": [
      "val_encoder_mask_ME.shape= (97500, 10)\n",
      "num_senors.shape= (97500,)\n"
     ]
    }
   ],
   "source": [
    "# Histogram of sensors\n",
    "val_encoder_mask_ME = np.zeros(val_encoder_mask.shape, dtype=int)\n",
    "print('val_encoder_mask_ME.shape=',val_encoder_mask_ME.shape)\n",
    "val_encoder_mask_ME[val_encoder_mask == True] = 1\n",
    "num_senors = np.sum(val_encoder_mask_ME,axis=1)\n",
    "print('num_senors.shape=',num_senors.shape)"
   ]
  },
  {
   "cell_type": "code",
   "execution_count": 14,
   "id": "d34118ee-d908-4526-a954-47410bfa4f6c",
   "metadata": {},
   "outputs": [
    {
     "name": "stdout",
     "output_type": "stream",
     "text": [
      "bin_min,bin_max= 5 , 10\n",
      "bins_tmp= [ 4.5  5.5  6.5  7.5  8.5  9.5 10.5]\n",
      "np.sum(hist)= 97500\n"
     ]
    },
    {
     "data": {
      "image/png": "[encoded data removed]",
      "text/plain": [
       "<Figure size 640x480 with 1 Axes>"
      ]
     },
     "metadata": {},
     "output_type": "display_data"
    }
   ],
   "source": [
    "bin_min = np.min(num_senors)\n",
    "bin_max = np.max(num_senors)\n",
    "print('bin_min,bin_max=',bin_min,',',bin_max)\n",
    "bins_tmp = np.arange(bin_min-0.5,bin_max+1.5)\n",
    "print('bins_tmp=',bins_tmp)\n",
    "#\n",
    "hist, bin_edges = np.histogram(num_senors, bins=bins_tmp)\n",
    "print('np.sum(hist)=',np.sum(hist))\n",
    "#\n",
    "plt.hist(num_senors,bins=bin_edges,edgecolor='black', linewidth=0.8,color='skyblue')\n",
    "plt.xlabel('# of CH$_4$ Sensors')\n",
    "plt.ylabel('Testing instances')\n",
    "plt.show()"
   ]
  },
  {
   "cell_type": "code",
   "execution_count": 15,
   "id": "8c85d53b-46bf-4df6-a07f-f649e1899ae6",
   "metadata": {},
   "outputs": [
    {
     "name": "stdout",
     "output_type": "stream",
     "text": [
      "val_decoder_mask_ME.shape= (97500, 20)\n",
      "num_potleaks.shape= (97500,)\n"
     ]
    }
   ],
   "source": [
    "# Histogram of potential leaks\n",
    "val_decoder_mask_ME = np.zeros(val_decoder_mask.shape, dtype=int)\n",
    "print('val_decoder_mask_ME.shape=',val_decoder_mask_ME.shape)\n",
    "val_decoder_mask_ME[val_decoder_mask == True] = 1\n",
    "num_potleaks = np.sum(val_decoder_mask_ME,axis=1)\n",
    "print('num_potleaks.shape=',num_potleaks.shape)"
   ]
  },
  {
   "cell_type": "code",
   "execution_count": 16,
   "id": "ca35804c-4cec-48fc-b571-4cf0319364e6",
   "metadata": {},
   "outputs": [
    {
     "name": "stdout",
     "output_type": "stream",
     "text": [
      "bin_min,bin_max= 5 , 20\n",
      "bins_tmp= [ 4.5  5.5  6.5  7.5  8.5  9.5 10.5 11.5 12.5 13.5 14.5 15.5 16.5 17.5\n",
      " 18.5 19.5 20.5]\n",
      "np.sum(hist)= 97500\n"
     ]
    },
    {
     "data": {
      "image/png": "[encoded data removed]",
      "text/plain": [
       "<Figure size 640x480 with 1 Axes>"
      ]
     },
     "metadata": {},
     "output_type": "display_data"
    }
   ],
   "source": [
    "bin_min = np.min(num_potleaks)\n",
    "bin_max = np.max(num_potleaks)\n",
    "print('bin_min,bin_max=',bin_min,',',bin_max)\n",
    "bins_tmp = np.arange(bin_min-0.5,bin_max+1.5)\n",
    "print('bins_tmp=',bins_tmp)\n",
    "#\n",
    "hist, bin_edges = np.histogram(num_potleaks, bins=bins_tmp)\n",
    "print('np.sum(hist)=',np.sum(hist))\n",
    "#\n",
    "plt.hist(num_potleaks,bins=bin_edges,edgecolor='black', linewidth=0.8,color='skyblue')\n",
    "plt.xlabel('# of Potential Leak Locations')\n",
    "plt.ylabel('Testing instances')\n",
    "plt.show()"
   ]
  },
  {
   "cell_type": "markdown",
   "id": "4c9b30b6-281a-4c86-830a-6982d81f6850",
   "metadata": {},
   "source": [
    "# ML model predictions"
   ]
  },
  {
   "cell_type": "code",
   "execution_count": 17,
   "id": "55143d80-310b-43dd-8a6a-bdfe785c4f3c",
   "metadata": {},
   "outputs": [
    {
     "name": "stderr",
     "output_type": "stream",
     "text": [
      "WARNING: All log messages before absl::InitializeLog() is called are written to STDERR\n",
      "I0000 00:00:1716907850.911332   31106 service.cc:145] XLA service 0x1482ec017840 initialized for platform Host (this does not guarantee that XLA will be used). Devices:\n",
      "I0000 00:00:1716907850.911370   31106 service.cc:153]   StreamExecutor device (0): Host, Default Version\n",
      "2024-05-28 08:50:51.011864: I tensorflow/compiler/mlir/tensorflow/utils/dump_mlir_util.cc:268] disabling MLIR crash reproducer, set env var `MLIR_CRASH_REPRODUCER_DIRECTORY` to enable.\n"
     ]
    },
    {
     "name": "stdout",
     "output_type": "stream",
     "text": [
      "\u001b[1m   3/3047\u001b[0m \u001b[37m━━━━━━━━━━━━━━━━━━━━\u001b[0m \u001b[1m1:51\u001b[0m 37ms/step "
     ]
    },
    {
     "name": "stderr",
     "output_type": "stream",
     "text": [
      "I0000 00:00:1716907852.865402   31106 device_compiler.h:188] Compiled cluster using XLA!  This line is logged at most once for the lifetime of the process.\n"
     ]
    },
    {
     "name": "stdout",
     "output_type": "stream",
     "text": [
      "\u001b[1m3047/3047\u001b[0m \u001b[32m━━━━━━━━━━━━━━━━━━━━\u001b[0m\u001b[37m\u001b[0m \u001b[1m102s\u001b[0m 33ms/step\n"
     ]
    }
   ],
   "source": [
    "pred = model.predict([val_encoder_s, val_decoder_s[..., 0:5], val_encoder_mask, val_decoder_mask]) # , batch_size=1024)"
   ]
  },
  {
   "cell_type": "code",
   "execution_count": 18,
   "id": "53d4009c-4acc-43ce-8c5b-60aa13c91b27",
   "metadata": {},
   "outputs": [
    {
     "name": "stdout",
     "output_type": "stream",
     "text": [
      "pred.shape= (97500, 20, 1)\n"
     ]
    }
   ],
   "source": [
    "print('pred.shape=',pred.shape)"
   ]
  },
  {
   "cell_type": "markdown",
   "id": "7b69331f-e5c2-4f91-a23b-571f02ce08dc",
   "metadata": {},
   "source": [
    "# Plot a specific prediction instance"
   ]
  },
  {
   "cell_type": "code",
   "execution_count": 19,
   "id": "764d4f24-fae8-432e-84d9-08ee521bbb30",
   "metadata": {},
   "outputs": [],
   "source": [
    "ii = 207"
   ]
  },
  {
   "cell_type": "code",
   "execution_count": 20,
   "id": "5ebf2c8b-56a8-4e9c-8157-693918546c9c",
   "metadata": {},
   "outputs": [
    {
     "name": "stdout",
     "output_type": "stream",
     "text": [
      "num_senors= 7\n",
      "num_potleaks= 10\n"
     ]
    }
   ],
   "source": [
    "print('num_senors=',num_senors[ii])\n",
    "print('num_potleaks=',num_potleaks[ii])"
   ]
  },
  {
   "cell_type": "code",
   "execution_count": 21,
   "id": "283f94f0-0ba7-467c-a01a-880de82094c8",
   "metadata": {},
   "outputs": [
    {
     "data": {
      "text/plain": [
       "Text(0.5, 1.0, 'SEALS Transformer (n$_{sens}$=7, n$_{leak}$=10)')"
      ]
     },
     "execution_count": 21,
     "metadata": {},
     "output_type": "execute_result"
    },
    {
     "data": {
      "image/png": "[encoded data removed]",
      "text/plain": [
       "<Figure size 640x480 with 3 Axes>"
      ]
     },
     "metadata": {},
     "output_type": "display_data"
    }
   ],
   "source": [
    "mask = val_decoder_mask[ii]\n",
    "plt.scatter(val_decoder[ii, :, 0, 0, 0].values[mask] * val_decoder[ii, :, 0, 2, 0].values[mask], \n",
    "            val_decoder[ii, :, 0, 0, 0].values[mask] * val_decoder[ii, :, 0, 1, 0].values[mask], 75, pred[ii,:][mask], \n",
    "            cmap=\"GnBu\", vmin=0, vmax=1, linewidths=0.75,edgecolors='k')\n",
    "plt.colorbar(label=\"Probability of CH4 Leak\")\n",
    "mask_en = val_encoder[ii, :, 0, -1, 0] > 0\n",
    "plt.scatter(val_encoder[ii, :, 0, 0, 0].values[mask_en] * val_encoder[ii, :, 0, 2, 0].values[mask_en], \n",
    "            val_encoder[ii, :, 0, 0, 0].values[mask_en] * val_encoder[ii, :, 0, 1, 0].values[mask_en], 80, \n",
    "            np.log10(val_encoder[ii, :, :, -1, 0].max(axis=1).values[mask_en]), marker='*', cmap=\"Reds\", linewidths=0.2,edgecolors='k')\n",
    "plt.colorbar(label=\"log10 CH4 Concentration\")\n",
    "\n",
    "t = target_potleak[ii].argmax()\n",
    "plt.scatter(val_decoder[ii, :, 0, 0, 0].values[t] * val_decoder[ii, :, 0, 2, 0].values[t], \n",
    "            val_decoder[ii, :, 0, 0, 0].values[t] * val_decoder[ii, :, 0, 1, 0].values[t], 100, marker='s', color='gold', zorder=0)\n",
    "\n",
    "t_pred = pred[ii,:][mask].argmax()\n",
    "plt.scatter(val_decoder[ii, :, 0, 0, 0].values[t_pred] * val_decoder[ii, :, 0, 2, 0].values[t_pred], \n",
    "            val_decoder[ii, :, 0, 0, 0].values[t_pred] * val_decoder[ii, :, 0, 1, 0].values[t_pred], 25, marker='X', color='red') # , zorder=0)\n",
    "\n",
    "met_ind = np.where(val_encoder[ii,:,0,4,1].values==0.0)\n",
    "plt.scatter(val_encoder[ii,:,0,0,0].values[met_ind] * val_encoder[ii,:,0,2,0].values[met_ind], \n",
    "            val_encoder[ii,:,0,0,0].values[met_ind] * val_encoder[ii,:,0,1,0].values[met_ind], 100, marker='x', color='black', zorder=0)\n",
    "\n",
    "plt.xlim([-70,70])\n",
    "plt.ylim([-70,70])\n",
    "\n",
    "plt.xlabel('x [m]')\n",
    "plt.ylabel('y [m]')\n",
    "\n",
    "str_tmp = \"SEALS Transformer (n$_{sens}$=\" + str(num_senors[ii]) + \", n$_{leak}$=\" + str(num_potleaks[ii]) + \")\"\n",
    "plt.title(str_tmp)\n",
    "###plt.savefig(f\"seals_case_{ii:d}.png\", dpi=300, bbox_inches=\"tight\")"
   ]
  },
  {
   "cell_type": "code",
   "execution_count": 22,
   "id": "e4fdeab0-877f-4209-bbd4-a1ff04a970e0",
   "metadata": {},
   "outputs": [],
   "source": [
    "#pred[ii,:]"
   ]
  },
  {
   "cell_type": "markdown",
   "id": "ffeb6316-f390-46ca-a3a9-a55f4cd1fb2c",
   "metadata": {},
   "source": [
    "# Fixed configuration skill analysis"
   ]
  },
  {
   "cell_type": "code",
   "execution_count": 23,
   "id": "0ad9d894-3d20-4443-b8e4-73e4e47c9c59",
   "metadata": {},
   "outputs": [],
   "source": [
    "n_sens = 10 # number of CH4 sensors\n",
    "n_leak = 20 # number of potential leak locations"
   ]
  },
  {
   "cell_type": "code",
   "execution_count": 24,
   "id": "fafdf154-165e-4df1-b53e-cbcb910b2559",
   "metadata": {},
   "outputs": [
    {
     "name": "stdout",
     "output_type": "stream",
     "text": [
      "ind_sens.shape= (97500,)\n"
     ]
    }
   ],
   "source": [
    "ind_sens = np.zeros(num_senors.shape)\n",
    "ind_leak = np.zeros(num_potleaks.shape)\n",
    "print('ind_sens.shape=',ind_sens.shape)"
   ]
  },
  {
   "cell_type": "code",
   "execution_count": 25,
   "id": "fdcc382b-e053-4576-9b94-d2ca87133db4",
   "metadata": {},
   "outputs": [
    {
     "name": "stdout",
     "output_type": "stream",
     "text": [
      "np.sum(ind_sens)= 16644.0\n",
      "np.sum(ind_leak)= 6093.0\n"
     ]
    }
   ],
   "source": [
    "ind_sens[np.where(num_senors==n_sens)] = 1.0\n",
    "ind_leak[np.where(num_potleaks==n_leak)] = 1.0\n",
    "print('np.sum(ind_sens)=',np.sum(ind_sens))\n",
    "print('np.sum(ind_leak)=',np.sum(ind_leak))"
   ]
  },
  {
   "cell_type": "code",
   "execution_count": 26,
   "id": "d5eabb5b-3564-497c-8370-2e6106dfcafd",
   "metadata": {},
   "outputs": [],
   "source": [
    "ind_tot = ind_sens + ind_leak"
   ]
  },
  {
   "cell_type": "code",
   "execution_count": 27,
   "id": "47aadcb3-94b0-49cd-b53c-274687fdac37",
   "metadata": {},
   "outputs": [
    {
     "name": "stdout",
     "output_type": "stream",
     "text": [
      "n_comb= 1078\n"
     ]
    }
   ],
   "source": [
    "ind_comb = np.where(ind_tot==2.0)\n",
    "ind_comb = ind_comb[0]\n",
    "n_comb = len(ind_comb)\n",
    "#print('ind_comb=',ind_comb)\n",
    "print('n_comb=',n_comb)"
   ]
  },
  {
   "cell_type": "code",
   "execution_count": 28,
   "id": "3fd41d5b-35e7-47a8-a179-7bf734a577ec",
   "metadata": {},
   "outputs": [],
   "source": [
    "error_conf = np.zeros([n_comb,1])"
   ]
  },
  {
   "cell_type": "code",
   "execution_count": 29,
   "id": "fbe8b11f-6479-46e6-879d-29a894fb11da",
   "metadata": {},
   "outputs": [],
   "source": [
    "for tt in range(0,n_comb):\n",
    "    t_pred_tt = pred[ind_comb[tt],:][mask].argmax()\n",
    "    t_leak_tt = target_potleak[ind_comb[tt]].argmax()\n",
    "    if (t_pred_tt==t_leak_tt):\n",
    "        error_conf[tt,0] = 0.0\n",
    "    else:\n",
    "        xc_pred = val_decoder[ind_comb[tt], :, 0, 0, 0].values[t_pred_tt] * val_decoder[ind_comb[tt], :, 0, 2, 0].values[t_pred_tt] \n",
    "        yc_pred = val_decoder[ind_comb[tt], :, 0, 0, 0].values[t_pred_tt] * val_decoder[ind_comb[tt], :, 0, 1, 0].values[t_pred_tt]\n",
    "        xc_leak = val_decoder[ind_comb[tt], :, 0, 0, 0].values[t_leak_tt] * val_decoder[ind_comb[tt], :, 0, 2, 0].values[t_leak_tt] \n",
    "        yc_leak = val_decoder[ind_comb[tt], :, 0, 0, 0].values[t_leak_tt] * val_decoder[ind_comb[tt], :, 0, 1, 0].values[t_leak_tt]\n",
    "        error_dist = np.sqrt(np.power(xc_pred-xc_leak,2.0)+np.power(yc_pred-yc_leak,2.0))\n",
    "        error_conf[tt,0] = error_dist"
   ]
  },
  {
   "cell_type": "code",
   "execution_count": 30,
   "id": "d00801e4-6f0a-45cb-a5ec-89c959af4332",
   "metadata": {},
   "outputs": [
    {
     "name": "stdout",
     "output_type": "stream",
     "text": [
      "Sample size: 1078\n",
      "Perfect prediction: 50.83487940630798 %\n"
     ]
    }
   ],
   "source": [
    "n_perf = np.where(error_conf[:,0]==0.0)\n",
    "n_perf = n_perf[0]\n",
    "print('Sample size:',n_comb)\n",
    "print('Perfect prediction:',100.0*len(n_perf)/error_conf.shape[0],'%')"
   ]
  },
  {
   "cell_type": "code",
   "execution_count": 31,
   "id": "9f00e1f6-ea54-403f-a5ec-dbed2e7c6b10",
   "metadata": {},
   "outputs": [],
   "source": [
    "ind_err = np.where(error_conf!=0.0)\n",
    "ind_err = ind_err[0]"
   ]
  },
  {
   "cell_type": "code",
   "execution_count": 32,
   "id": "6561e5e4-4160-4d68-b3b6-427d08bbcd16",
   "metadata": {},
   "outputs": [],
   "source": [
    "#ind_comb[ind_err]"
   ]
  },
  {
   "cell_type": "code",
   "execution_count": 33,
   "id": "4eff5d3c-6fb6-4928-abf8-151a38cb1a60",
   "metadata": {},
   "outputs": [],
   "source": [
    "#error_conf[np.where(error_conf!=0.0)]"
   ]
  },
  {
   "cell_type": "code",
   "execution_count": 34,
   "id": "dee59797-4cab-48fd-93a6-04e3c90a4ef2",
   "metadata": {},
   "outputs": [],
   "source": [
    "#error_conf"
   ]
  },
  {
   "cell_type": "markdown",
   "id": "36144c21-b7d4-490d-8c39-a97f745ef41d",
   "metadata": {},
   "source": [
    "# Skill vs sensors & potential leak locations"
   ]
  },
  {
   "cell_type": "code",
   "execution_count": 35,
   "id": "a3901b5b-0009-40cb-9bb2-d9362f073cfb",
   "metadata": {},
   "outputs": [
    {
     "name": "stdout",
     "output_type": "stream",
     "text": [
      "potleaks_v= [ 5  6  7  8  9 10 11 12 13 14 15 16 17 18 19 20]\n",
      "sensors_v= [5, 10]\n"
     ]
    }
   ],
   "source": [
    "potleaks_v = np.arange(np.min(num_potleaks),np.max(num_potleaks)+1)\n",
    "print('potleaks_v=',potleaks_v)\n",
    "sensors_v = [np.min(num_senors),np.max(num_senors)]\n",
    "print('sensors_v=',sensors_v)"
   ]
  },
  {
   "cell_type": "code",
   "execution_count": 36,
   "id": "315a8fd9-4ac2-4785-97bc-d6d8e9c228b5",
   "metadata": {},
   "outputs": [
    {
     "name": "stdout",
     "output_type": "stream",
     "text": [
      "error_conf_v.shape= (2, 16)\n",
      "error_conf_dist_v.shape= (2, 16, 2)\n"
     ]
    }
   ],
   "source": [
    "error_conf_v = np.zeros([len(sensors_v),len(potleaks_v)])\n",
    "error_conf_dist_v = np.zeros([len(sensors_v),len(potleaks_v),2])\n",
    "print('error_conf_v.shape=',error_conf_v.shape)\n",
    "print('error_conf_dist_v.shape=',error_conf_dist_v.shape)"
   ]
  },
  {
   "cell_type": "code",
   "execution_count": 37,
   "id": "21169b13-1be2-4003-bd99-f24650032ea4",
   "metadata": {},
   "outputs": [
    {
     "name": "stdout",
     "output_type": "stream",
     "text": [
      "### n_sens_tmp =  5  ###\n",
      "Leak locations: 5 . Perfect prediction: 99.11991199119912 %\n",
      "Leak locations: 6 . Perfect prediction: 98.0295566502463 %\n",
      "Leak locations: 7 . Perfect prediction: 97.83923941227312 %\n",
      "Leak locations: 8 . Perfect prediction: 98.57142857142857 %\n",
      "Leak locations: 9 . Perfect prediction: 96.39448568398727 %\n",
      "Leak locations: 10 . Perfect prediction: 96.52173913043478 %\n",
      "Leak locations: 11 . Perfect prediction: 89.25992779783394 %\n",
      "Leak locations: 12 . Perfect prediction: 82.08092485549133 %\n",
      "Leak locations: 13 . Perfect prediction: 69.49475691134414 %\n",
      "Leak locations: 14 . Perfect prediction: 69.5861405197305 %\n",
      "Leak locations: 15 . Perfect prediction: 69.27966101694915 %\n",
      "Leak locations: 16 . Perfect prediction: 54.424357754519505 %\n",
      "Leak locations: 17 . Perfect prediction: 55.05836575875487 %\n",
      "Leak locations: 18 . Perfect prediction: 54.85770363101079 %\n",
      "Leak locations: 19 . Perfect prediction: 54.59715639810427 %\n",
      "Leak locations: 20 . Perfect prediction: 48.06910569105691 %\n",
      "### n_sens_tmp =  10  ###\n",
      "Leak locations: 5 . Perfect prediction: 98.77622377622377 %\n",
      "Leak locations: 6 . Perfect prediction: 99.0721649484536 %\n",
      "Leak locations: 7 . Perfect prediction: 99.6987951807229 %\n",
      "Leak locations: 8 . Perfect prediction: 97.40980573543015 %\n",
      "Leak locations: 9 . Perfect prediction: 98.06714140386572 %\n",
      "Leak locations: 10 . Perfect prediction: 97.01060752169721 %\n",
      "Leak locations: 11 . Perfect prediction: 86.56987295825772 %\n",
      "Leak locations: 12 . Perfect prediction: 77.75768535262206 %\n",
      "Leak locations: 13 . Perfect prediction: 75.81395348837209 %\n",
      "Leak locations: 14 . Perfect prediction: 69.46216955332726 %\n",
      "Leak locations: 15 . Perfect prediction: 62.107396149949345 %\n",
      "Leak locations: 16 . Perfect prediction: 61.47623862487361 %\n",
      "Leak locations: 17 . Perfect prediction: 56.691253951527926 %\n",
      "Leak locations: 18 . Perfect prediction: 59.79087452471483 %\n",
      "Leak locations: 19 . Perfect prediction: 52.20440881763527 %\n",
      "Leak locations: 20 . Perfect prediction: 50.83487940630798 %\n"
     ]
    }
   ],
   "source": [
    "for ss in range(0,len(sensors_v)):\n",
    "    n_sens_tmp = sensors_v[ss]\n",
    "    print('### n_sens_tmp = ',n_sens_tmp,' ###')\n",
    "    for ll in range(0,len(potleaks_v)):\n",
    "        n_leak_tmp = potleaks_v[ll]\n",
    "        #\n",
    "        ind_sens = np.zeros(num_senors.shape)\n",
    "        ind_leak = np.zeros(num_potleaks.shape)\n",
    "        ind_sens[np.where(num_senors==n_sens_tmp)] = 1.0\n",
    "        ind_leak[np.where(num_potleaks==n_leak_tmp)] = 1.0\n",
    "        ind_tot = ind_sens + ind_leak\n",
    "        ind_comb = np.where(ind_tot==2.0)\n",
    "        ind_comb = ind_comb[0]\n",
    "        n_comb = len(ind_comb)\n",
    "        error_conf_tmp = np.zeros([n_comb])\n",
    "        for tt in range(0,n_comb):\n",
    "            t_pred_tt = pred[ind_comb[tt],:][mask].argmax()\n",
    "            t_leak_tt = target_potleak[ind_comb[tt]].argmax()\n",
    "            if (t_pred_tt==t_leak_tt):\n",
    "                error_conf_tmp[tt] = 0.0\n",
    "            else:\n",
    "                xc_pred = val_decoder[ind_comb[tt], :, 0, 0, 0].values[t_pred_tt] * val_decoder[ind_comb[tt], :, 0, 2, 0].values[t_pred_tt] \n",
    "                yc_pred = val_decoder[ind_comb[tt], :, 0, 0, 0].values[t_pred_tt] * val_decoder[ind_comb[tt], :, 0, 1, 0].values[t_pred_tt]\n",
    "                xc_leak = val_decoder[ind_comb[tt], :, 0, 0, 0].values[t_leak_tt] * val_decoder[ind_comb[tt], :, 0, 2, 0].values[t_leak_tt] \n",
    "                yc_leak = val_decoder[ind_comb[tt], :, 0, 0, 0].values[t_leak_tt] * val_decoder[ind_comb[tt], :, 0, 1, 0].values[t_leak_tt]\n",
    "                error_dist = np.sqrt(np.power(xc_pred-xc_leak,2.0)+np.power(yc_pred-yc_leak,2.0))\n",
    "                error_conf_tmp[tt] = error_dist\n",
    "        #\n",
    "        n_perf = np.where(error_conf_tmp[:]==0.0)\n",
    "        n_perf = n_perf[0]\n",
    "        error_conf_v[ss,ll] = 100.0*len(n_perf)/error_conf_tmp.shape[0]\n",
    "        print('Leak locations:',n_leak_tmp,'. Perfect prediction:',error_conf_v[ss,ll],'%')\n",
    "        #\n",
    "        ind_err_tmp = np.where(error_conf_tmp!=0.0)\n",
    "        n_err = len(ind_err_tmp[0])\n",
    "        error_conf_dist_v[ss,ll,0] = np.median(error_conf_tmp[ind_err_tmp])\n",
    "        error_conf_dist_v[ss,ll,1] = np.std(error_conf_tmp[ind_err_tmp])"
   ]
  },
  {
   "cell_type": "code",
   "execution_count": 38,
   "id": "4c1e6141-4978-412d-a406-87071cac148f",
   "metadata": {},
   "outputs": [],
   "source": [
    "cc = 0 # sensor number case"
   ]
  },
  {
   "cell_type": "code",
   "execution_count": 39,
   "id": "e5e6ffdd-3a11-4975-a5f4-8fe722f48dfd",
   "metadata": {},
   "outputs": [
    {
     "data": {
      "image/png": "[encoded data removed]",
      "text/plain": [
       "<Figure size 640x480 with 2 Axes>"
      ]
     },
     "metadata": {},
     "output_type": "display_data"
    }
   ],
   "source": [
    "fig, ax1 = plt.subplots()\n",
    "color = 'tab:red'\n",
    "ax1.set_xlabel('# of Potential Leak Locations')\n",
    "ax1.set_ylabel('Perfect Location [%]', color=color)\n",
    "ax1.plot(potleaks_v,error_conf_v[cc,:],'o-', color=color)\n",
    "ax1.tick_params(axis='y', labelcolor=color)\n",
    "ax1.set_zorder(1)\n",
    "ax1.patch.set_visible(False)\n",
    "\n",
    "ax2 = ax1.twinx()\n",
    "color = 'blue' # 'tab:blue'\n",
    "ax2.set_ylabel('Distance error (median, std - bars) [m]', color=color)\n",
    "ax2.errorbar(potleaks_v,error_conf_dist_v[cc,:,0],yerr=error_conf_dist_v[cc,:,1],marker='o',color=color,capsize=7.5,zorder=0)\n",
    "ax2.tick_params(axis='y', labelcolor=color)\n",
    "\n",
    "fig.tight_layout()\n",
    "plt.show()"
   ]
  },
  {
   "cell_type": "code",
   "execution_count": null,
   "id": "dbe22dcb-2905-4db2-bd6f-8e0dc63a4203",
   "metadata": {},
   "outputs": [],
   "source": []
  },
  {
   "cell_type": "code",
   "execution_count": null,
   "id": "03c6b093-fd99-4fda-8663-bc5e6ab3a0f3",
   "metadata": {},
   "outputs": [],
   "source": []
  }
 ],
 "metadata": {
  "kernelspec": {
   "display_name": "Python 3 (ipykernel)",
   "language": "python",
   "name": "python3"
  },
  "language_info": {
   "codemirror_mode": {
    "name": "ipython",
    "version": 3
   },
   "file_extension": ".py",
   "mimetype": "text/x-python",
   "name": "python",
   "nbconvert_exporter": "python",
   "pygments_lexer": "ipython3",
   "version": "3.11.9"
  }
 },
 "nbformat": 4,
 "nbformat_minor": 5
}
