{
 "cells": [
  {
   "cell_type": "markdown",
   "metadata": {},
   "source": [
    "## Short Minimum distance test"
   ]
  },
  {
   "cell_type": "markdown",
   "metadata": {},
   "source": [
    "Note: this only cares about the x and y coords. "
   ]
  },
  {
   "cell_type": "code",
   "execution_count": 1,
   "metadata": {},
   "outputs": [],
   "source": [
    "import numpy as np\n",
    "import matplotlib.pyplot as plt"
   ]
  },
  {
   "cell_type": "code",
   "execution_count": 2,
   "metadata": {},
   "outputs": [],
   "source": [
    "def generate_sensor_positions_min_distance(n_sensors, min_distance, iDim, jDim, grid_resolution=0.5, max_attempts=100):\n",
    "    \"\"\"\n",
    "    Generate random sensor positions within specified dimensions with a minimum distance constraint,\n",
    "    adjusted by a grid resolution factor. Includes an iteration limit to prevent infinite loops.\n",
    "\n",
    "    Parameters:\n",
    "    - n_sensors (int): Number of sensor positions to generate.\n",
    "    - min_distance (float): Minimum distance between any two sensors.\n",
    "    - iDim (float): Maximum value for the i-coordinate (x-axis).\n",
    "    - jDim (float): Maximum value for the j-coordinate (y-axis).\n",
    "    - grid_resolution (float, optional): Factor to adjust the minimum distance. Default is 0.5.\n",
    "    - max_attempts (int, optional): Maximum number of attempts to place a sensor before giving up. Default is 100.\n",
    "\n",
    "    Returns:\n",
    "    - i_sensor (np.ndarray): Array of i-coordinates of the generated sensors.\n",
    "    - j_sensor (np.ndarray): Array of j-coordinates of the generated sensors.\n",
    "    \"\"\"\n",
    "    \n",
    "    sensors = []  # List to store the (i, j) coordinates of sensors.\n",
    "    i_sensor = []  # List to store i-coordinates (x-axis).\n",
    "    j_sensor = []  # List to store j-coordinates (y-axis).\n",
    "    \n",
    "    attempts = 0  # Counter for attempts to place a sensor.\n",
    "    \n",
    "    while len(sensors) < n_sensors and attempts < max_attempts:\n",
    "        new_point = (np.random.uniform(0, iDim), np.random.uniform(0, jDim))\n",
    "        adjusted_min_distance = min_distance / grid_resolution\n",
    "        \n",
    "        if all(np.linalg.norm(np.array(new_point) - np.array(existing_point)) >= adjusted_min_distance for existing_point in sensors):\n",
    "            sensors.append(new_point)\n",
    "            i_sensor.append(new_point[0])\n",
    "            j_sensor.append(new_point[1])\n",
    "        attempts += 1\n",
    "        \n",
    "    if len(sensors) < n_sensors:\n",
    "        print(f\"Warning: Only {len(sensors)} sensors placed out of {n_sensors} requested.\")\n",
    "    \n",
    "    i_sensor = np.array(i_sensor)\n",
    "    j_sensor = np.array(j_sensor)\n",
    "    \n",
    "    return i_sensor, j_sensor\n"
   ]
  },
  {
   "cell_type": "markdown",
   "metadata": {},
   "source": [
    "## Standard way"
   ]
  },
  {
   "cell_type": "code",
   "execution_count": 25,
   "metadata": {},
   "outputs": [],
   "source": [
    "n_sensors = 10"
   ]
  },
  {
   "cell_type": "code",
   "execution_count": 26,
   "metadata": {},
   "outputs": [],
   "source": [
    "i_sensor = np.random.randint(low=0, high=100, size=n_sensors)\n",
    "j_sensor = np.random.randint(low=0, high=100, size=n_sensors)"
   ]
  },
  {
   "cell_type": "markdown",
   "metadata": {},
   "source": [
    "## Minimum Distance"
   ]
  },
  {
   "cell_type": "code",
   "execution_count": 27,
   "metadata": {},
   "outputs": [],
   "source": [
    "i_sensor_min, j_sensor_min = generate_sensor_positions_min_distance(n_sensors, \n",
    "                                                                    min_distance=25, \n",
    "                                                                    iDim=100, \n",
    "                                                                    jDim=100, \n",
    "                                                                    grid_resolution=1)"
   ]
  },
  {
   "cell_type": "code",
   "execution_count": 28,
   "metadata": {},
   "outputs": [
    {
     "data": {
      "text/plain": [
       "<matplotlib.legend.Legend at 0x14789ebc0>"
      ]
     },
     "execution_count": 28,
     "metadata": {},
     "output_type": "execute_result"
    },
    {
     "data": {
      "image/png": "[encoded data removed]",
      "text/plain": [
       "<Figure size 640x480 with 1 Axes>"
      ]
     },
     "metadata": {},
     "output_type": "display_data"
    }
   ],
   "source": [
    "plt.scatter(i_sensor, j_sensor, alpha=0.5, label='random')\n",
    "plt.scatter(i_sensor_min, j_sensor_min, alpha=0.5, label='minimum distance')\n",
    "plt.legend()"
   ]
  },
  {
   "cell_type": "markdown",
   "metadata": {},
   "source": [
    "If you try to do too many sensors:"
   ]
  },
  {
   "cell_type": "code",
   "execution_count": 29,
   "metadata": {},
   "outputs": [
    {
     "name": "stdout",
     "output_type": "stream",
     "text": [
      "Warning: Only 45 sensors placed out of 100 requested.\n"
     ]
    }
   ],
   "source": [
    "i_sensor_min, j_sensor_min = generate_sensor_positions_min_distance(n_sensors=100, min_distance=10, iDim=100, jDim=100, grid_resolution=1)"
   ]
  },
  {
   "cell_type": "code",
   "execution_count": 30,
   "metadata": {},
   "outputs": [
    {
     "data": {
      "text/plain": [
       "45"
      ]
     },
     "execution_count": 30,
     "metadata": {},
     "output_type": "execute_result"
    }
   ],
   "source": [
    "len(i_sensor_min)"
   ]
  }
 ],
 "metadata": {
  "kernelspec": {
   "display_name": "Python 3",
   "language": "python",
   "name": "python3"
  },
  "language_info": {
   "codemirror_mode": {
    "name": "ipython",
    "version": 3
   },
   "file_extension": ".py",
   "mimetype": "text/x-python",
   "name": "python",
   "nbconvert_exporter": "python",
   "pygments_lexer": "ipython3",
   "version": "3.10.12"
  },
  "orig_nbformat": 4
 },
 "nbformat": 4,
 "nbformat_minor": 2
}
