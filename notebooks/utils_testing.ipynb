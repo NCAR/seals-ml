{
 "cells": [
  {
   "cell_type": "markdown",
   "metadata": {},
   "source": [
    "# Small Notebook to double check functions"
   ]
  },
  {
   "cell_type": "code",
   "execution_count": 1,
   "metadata": {},
   "outputs": [],
   "source": [
    "import xarray as xr\n",
    "import pandas as pd\n",
    "import numpy as np\n",
    "\n",
    "import matplotlib.pyplot as plt"
   ]
  },
  {
   "cell_type": "code",
   "execution_count": 2,
   "metadata": {},
   "outputs": [
    {
     "name": "stdout",
     "output_type": "stream",
     "text": [
      "/Users/thomasmartin/Documents/GitHub/seals-ml\n"
     ]
    }
   ],
   "source": [
    "cd .."
   ]
  },
  {
   "cell_type": "code",
   "execution_count": 3,
   "metadata": {},
   "outputs": [
    {
     "name": "stdout",
     "output_type": "stream",
     "text": [
      "Processing /Users/thomasmartin/Documents/GitHub/seals-ml\n",
      "  Preparing metadata (setup.py) ... \u001b[?25ldone\n",
      "\u001b[?25hBuilding wheels for collected packages: ai2estemplate\n",
      "  Building wheel for ai2estemplate (setup.py) ... \u001b[?25ldone\n",
      "\u001b[?25h  Created wheel for ai2estemplate: filename=ai2estemplate-0.1.0-py3-none-any.whl size=4130 sha256=74af2fb94a8a72b3fb45ce3f32cde0bf3fdadbbff74c2d8c65c363744c50ef5f\n",
      "  Stored in directory: /Users/thomasmartin/Library/Caches/pip/wheels/68/ad/03/c3c5488afa84764c8f4f104549404f63499d18391f0f22db83\n",
      "Successfully built ai2estemplate\n",
      "Installing collected packages: ai2estemplate\n",
      "  Attempting uninstall: ai2estemplate\n",
      "    Found existing installation: ai2estemplate 0.1.0\n",
      "    Uninstalling ai2estemplate-0.1.0:\n",
      "      Successfully uninstalled ai2estemplate-0.1.0\n",
      "Successfully installed ai2estemplate-0.1.0\n"
     ]
    }
   ],
   "source": [
    "!pip install ."
   ]
  },
  {
   "cell_type": "code",
   "execution_count": 4,
   "metadata": {},
   "outputs": [],
   "source": [
    "from sealsml.utils import points_within_dataset, distance_between_points_3d, calculate_azimuth, dip"
   ]
  },
  {
   "cell_type": "markdown",
   "metadata": {},
   "source": [
    "## Data"
   ]
  },
  {
   "cell_type": "markdown",
   "metadata": {},
   "source": [
    "Note the file:"
   ]
  },
  {
   "cell_type": "code",
   "execution_count": 5,
   "metadata": {},
   "outputs": [
    {
     "name": "stdout",
     "output_type": "stream",
     "text": [
      "CONTRIBUTING.md         \u001b[34mdata\u001b[m\u001b[m/                   \u001b[34mseals_ml.egg-info\u001b[m\u001b[m/\n",
      "LICENSE                 \u001b[34mdist\u001b[m\u001b[m/                   \u001b[34msealsml\u001b[m\u001b[m/\n",
      "README.md               environment.yml         setup.py\n",
      "\u001b[34mai2estemplate.egg-info\u001b[m\u001b[m/ githubcommand.md        \u001b[34mtests\u001b[m\u001b[m/\n",
      "\u001b[34mbuild\u001b[m\u001b[m/                  \u001b[34mnotebooks\u001b[m\u001b[m/\n"
     ]
    }
   ],
   "source": [
    "ls"
   ]
  },
  {
   "cell_type": "code",
   "execution_count": 6,
   "metadata": {},
   "outputs": [],
   "source": [
    "file = 'data/FE_CBL2m_Ug5.4.nc'"
   ]
  },
  {
   "cell_type": "code",
   "execution_count": 7,
   "metadata": {},
   "outputs": [
    {
     "data": {
      "text/html": [
       "<div><svg style=\"position: absolute; width: 0; height: 0; overflow: hidden\">\n",
       "<defs>\n",
       "<symbol id=\"icon-database\" viewBox=\"0 0 32 32\">\n",
       "<path d=\"M16 0c-8.837 0-16 2.239-16 5v4c0 2.761 7.163 5 16 5s16-2.239 16-5v-4c0-2.761-7.163-5-16-5z\"></path>\n",
       "<path d=\"M16 17c-8.837 0-16-2.239-16-5v6c0 2.761 7.163 5 16 5s16-2.239 16-5v-6c0 2.761-7.163 5-16 5z\"></path>\n",
       "<path d=\"M16 26c-8.837 0-16-2.239-16-5v6c0 2.761 7.163 5 16 5s16-2.239 16-5v-6c0 2.761-7.163 5-16 5z\"></path>\n",
       "</symbol>\n",
       "<symbol id=\"icon-file-text2\" viewBox=\"0 0 32 32\">\n",
       "<path d=\"M28.681 7.159c-0.694-0.947-1.662-2.053-2.724-3.116s-2.169-2.030-3.116-2.724c-1.612-1.182-2.393-1.319-2.841-1.319h-15.5c-1.378 0-2.5 1.121-2.5 2.5v27c0 1.378 1.122 2.5 2.5 2.5h23c1.378 0 2.5-1.122 2.5-2.5v-19.5c0-0.448-0.137-1.23-1.319-2.841zM24.543 5.457c0.959 0.959 1.712 1.825 2.268 2.543h-4.811v-4.811c0.718 0.556 1.584 1.309 2.543 2.268zM28 29.5c0 0.271-0.229 0.5-0.5 0.5h-23c-0.271 0-0.5-0.229-0.5-0.5v-27c0-0.271 0.229-0.5 0.5-0.5 0 0 15.499-0 15.5 0v7c0 0.552 0.448 1 1 1h7v19.5z\"></path>\n",
       "<path d=\"M23 26h-14c-0.552 0-1-0.448-1-1s0.448-1 1-1h14c0.552 0 1 0.448 1 1s-0.448 1-1 1z\"></path>\n",
       "<path d=\"M23 22h-14c-0.552 0-1-0.448-1-1s0.448-1 1-1h14c0.552 0 1 0.448 1 1s-0.448 1-1 1z\"></path>\n",
       "<path d=\"M23 18h-14c-0.552 0-1-0.448-1-1s0.448-1 1-1h14c0.552 0 1 0.448 1 1s-0.448 1-1 1z\"></path>\n",
       "</symbol>\n",
       "</defs>\n",
       "</svg>\n",
       "<style>/* CSS stylesheet for displaying xarray objects in jupyterlab.\n",
       " *\n",
       " */\n",
       "\n",
       ":root {\n",
       "  --xr-font-color0: var(--jp-content-font-color0, rgba(0, 0, 0, 1));\n",
       "  --xr-font-color2: var(--jp-content-font-color2, rgba(0, 0, 0, 0.54));\n",
       "  --xr-font-color3: var(--jp-content-font-color3, rgba(0, 0, 0, 0.38));\n",
       "  --xr-border-color: var(--jp-border-color2, #e0e0e0);\n",
       "  --xr-disabled-color: var(--jp-layout-color3, #bdbdbd);\n",
       "  --xr-background-color: var(--jp-layout-color0, white);\n",
       "  --xr-background-color-row-even: var(--jp-layout-color1, white);\n",
       "  --xr-background-color-row-odd: var(--jp-layout-color2, #eeeeee);\n",
       "}\n",
       "\n",
       "html[theme=dark],\n",
       "body[data-theme=dark],\n",
       "body.vscode-dark {\n",
       "  --xr-font-color0: rgba(255, 255, 255, 1);\n",
       "  --xr-font-color2: rgba(255, 255, 255, 0.54);\n",
       "  --xr-font-color3: rgba(255, 255, 255, 0.38);\n",
       "  --xr-border-color: #1F1F1F;\n",
       "  --xr-disabled-color: #515151;\n",
       "  --xr-background-color: #111111;\n",
       "  --xr-background-color-row-even: #111111;\n",
       "  --xr-background-color-row-odd: #313131;\n",
       "}\n",
       "\n",
       ".xr-wrap {\n",
       "  display: block !important;\n",
       "  min-width: 300px;\n",
       "  max-width: 700px;\n",
       "}\n",
       "\n",
       ".xr-text-repr-fallback {\n",
       "  /* fallback to plain text repr when CSS is not injected (untrusted notebook) */\n",
       "  display: none;\n",
       "}\n",
       "\n",
       ".xr-header {\n",
       "  padding-top: 6px;\n",
       "  padding-bottom: 6px;\n",
       "  margin-bottom: 4px;\n",
       "  border-bottom: solid 1px var(--xr-border-color);\n",
       "}\n",
       "\n",
       ".xr-header > div,\n",
       ".xr-header > ul {\n",
       "  display: inline;\n",
       "  margin-top: 0;\n",
       "  margin-bottom: 0;\n",
       "}\n",
       "\n",
       ".xr-obj-type,\n",
       ".xr-array-name {\n",
       "  margin-left: 2px;\n",
       "  margin-right: 10px;\n",
       "}\n",
       "\n",
       ".xr-obj-type {\n",
       "  color: var(--xr-font-color2);\n",
       "}\n",
       "\n",
       ".xr-sections {\n",
       "  padding-left: 0 !important;\n",
       "  display: grid;\n",
       "  grid-template-columns: 150px auto auto 1fr 20px 20px;\n",
       "}\n",
       "\n",
       ".xr-section-item {\n",
       "  display: contents;\n",
       "}\n",
       "\n",
       ".xr-section-item input {\n",
       "  display: none;\n",
       "}\n",
       "\n",
       ".xr-section-item input + label {\n",
       "  color: var(--xr-disabled-color);\n",
       "}\n",
       "\n",
       ".xr-section-item input:enabled + label {\n",
       "  cursor: pointer;\n",
       "  color: var(--xr-font-color2);\n",
       "}\n",
       "\n",
       ".xr-section-item input:enabled + label:hover {\n",
       "  color: var(--xr-font-color0);\n",
       "}\n",
       "\n",
       ".xr-section-summary {\n",
       "  grid-column: 1;\n",
       "  color: var(--xr-font-color2);\n",
       "  font-weight: 500;\n",
       "}\n",
       "\n",
       ".xr-section-summary > span {\n",
       "  display: inline-block;\n",
       "  padding-left: 0.5em;\n",
       "}\n",
       "\n",
       ".xr-section-summary-in:disabled + label {\n",
       "  color: var(--xr-font-color2);\n",
       "}\n",
       "\n",
       ".xr-section-summary-in + label:before {\n",
       "  display: inline-block;\n",
       "  content: '►';\n",
       "  font-size: 11px;\n",
       "  width: 15px;\n",
       "  text-align: center;\n",
       "}\n",
       "\n",
       ".xr-section-summary-in:disabled + label:before {\n",
       "  color: var(--xr-disabled-color);\n",
       "}\n",
       "\n",
       ".xr-section-summary-in:checked + label:before {\n",
       "  content: '▼';\n",
       "}\n",
       "\n",
       ".xr-section-summary-in:checked + label > span {\n",
       "  display: none;\n",
       "}\n",
       "\n",
       ".xr-section-summary,\n",
       ".xr-section-inline-details {\n",
       "  padding-top: 4px;\n",
       "  padding-bottom: 4px;\n",
       "}\n",
       "\n",
       ".xr-section-inline-details {\n",
       "  grid-column: 2 / -1;\n",
       "}\n",
       "\n",
       ".xr-section-details {\n",
       "  display: none;\n",
       "  grid-column: 1 / -1;\n",
       "  margin-bottom: 5px;\n",
       "}\n",
       "\n",
       ".xr-section-summary-in:checked ~ .xr-section-details {\n",
       "  display: contents;\n",
       "}\n",
       "\n",
       ".xr-array-wrap {\n",
       "  grid-column: 1 / -1;\n",
       "  display: grid;\n",
       "  grid-template-columns: 20px auto;\n",
       "}\n",
       "\n",
       ".xr-array-wrap > label {\n",
       "  grid-column: 1;\n",
       "  vertical-align: top;\n",
       "}\n",
       "\n",
       ".xr-preview {\n",
       "  color: var(--xr-font-color3);\n",
       "}\n",
       "\n",
       ".xr-array-preview,\n",
       ".xr-array-data {\n",
       "  padding: 0 5px !important;\n",
       "  grid-column: 2;\n",
       "}\n",
       "\n",
       ".xr-array-data,\n",
       ".xr-array-in:checked ~ .xr-array-preview {\n",
       "  display: none;\n",
       "}\n",
       "\n",
       ".xr-array-in:checked ~ .xr-array-data,\n",
       ".xr-array-preview {\n",
       "  display: inline-block;\n",
       "}\n",
       "\n",
       ".xr-dim-list {\n",
       "  display: inline-block !important;\n",
       "  list-style: none;\n",
       "  padding: 0 !important;\n",
       "  margin: 0;\n",
       "}\n",
       "\n",
       ".xr-dim-list li {\n",
       "  display: inline-block;\n",
       "  padding: 0;\n",
       "  margin: 0;\n",
       "}\n",
       "\n",
       ".xr-dim-list:before {\n",
       "  content: '(';\n",
       "}\n",
       "\n",
       ".xr-dim-list:after {\n",
       "  content: ')';\n",
       "}\n",
       "\n",
       ".xr-dim-list li:not(:last-child):after {\n",
       "  content: ',';\n",
       "  padding-right: 5px;\n",
       "}\n",
       "\n",
       ".xr-has-index {\n",
       "  font-weight: bold;\n",
       "}\n",
       "\n",
       ".xr-var-list,\n",
       ".xr-var-item {\n",
       "  display: contents;\n",
       "}\n",
       "\n",
       ".xr-var-item > div,\n",
       ".xr-var-item label,\n",
       ".xr-var-item > .xr-var-name span {\n",
       "  background-color: var(--xr-background-color-row-even);\n",
       "  margin-bottom: 0;\n",
       "}\n",
       "\n",
       ".xr-var-item > .xr-var-name:hover span {\n",
       "  padding-right: 5px;\n",
       "}\n",
       "\n",
       ".xr-var-list > li:nth-child(odd) > div,\n",
       ".xr-var-list > li:nth-child(odd) > label,\n",
       ".xr-var-list > li:nth-child(odd) > .xr-var-name span {\n",
       "  background-color: var(--xr-background-color-row-odd);\n",
       "}\n",
       "\n",
       ".xr-var-name {\n",
       "  grid-column: 1;\n",
       "}\n",
       "\n",
       ".xr-var-dims {\n",
       "  grid-column: 2;\n",
       "}\n",
       "\n",
       ".xr-var-dtype {\n",
       "  grid-column: 3;\n",
       "  text-align: right;\n",
       "  color: var(--xr-font-color2);\n",
       "}\n",
       "\n",
       ".xr-var-preview {\n",
       "  grid-column: 4;\n",
       "}\n",
       "\n",
       ".xr-index-preview {\n",
       "  grid-column: 2 / 5;\n",
       "  color: var(--xr-font-color2);\n",
       "}\n",
       "\n",
       ".xr-var-name,\n",
       ".xr-var-dims,\n",
       ".xr-var-dtype,\n",
       ".xr-preview,\n",
       ".xr-attrs dt {\n",
       "  white-space: nowrap;\n",
       "  overflow: hidden;\n",
       "  text-overflow: ellipsis;\n",
       "  padding-right: 10px;\n",
       "}\n",
       "\n",
       ".xr-var-name:hover,\n",
       ".xr-var-dims:hover,\n",
       ".xr-var-dtype:hover,\n",
       ".xr-attrs dt:hover {\n",
       "  overflow: visible;\n",
       "  width: auto;\n",
       "  z-index: 1;\n",
       "}\n",
       "\n",
       ".xr-var-attrs,\n",
       ".xr-var-data,\n",
       ".xr-index-data {\n",
       "  display: none;\n",
       "  background-color: var(--xr-background-color) !important;\n",
       "  padding-bottom: 5px !important;\n",
       "}\n",
       "\n",
       ".xr-var-attrs-in:checked ~ .xr-var-attrs,\n",
       ".xr-var-data-in:checked ~ .xr-var-data,\n",
       ".xr-index-data-in:checked ~ .xr-index-data {\n",
       "  display: block;\n",
       "}\n",
       "\n",
       ".xr-var-data > table {\n",
       "  float: right;\n",
       "}\n",
       "\n",
       ".xr-var-name span,\n",
       ".xr-var-data,\n",
       ".xr-index-name div,\n",
       ".xr-index-data,\n",
       ".xr-attrs {\n",
       "  padding-left: 25px !important;\n",
       "}\n",
       "\n",
       ".xr-attrs,\n",
       ".xr-var-attrs,\n",
       ".xr-var-data,\n",
       ".xr-index-data {\n",
       "  grid-column: 1 / -1;\n",
       "}\n",
       "\n",
       "dl.xr-attrs {\n",
       "  padding: 0;\n",
       "  margin: 0;\n",
       "  display: grid;\n",
       "  grid-template-columns: 125px auto;\n",
       "}\n",
       "\n",
       ".xr-attrs dt,\n",
       ".xr-attrs dd {\n",
       "  padding: 0;\n",
       "  margin: 0;\n",
       "  float: left;\n",
       "  padding-right: 10px;\n",
       "  width: auto;\n",
       "}\n",
       "\n",
       ".xr-attrs dt {\n",
       "  font-weight: normal;\n",
       "  grid-column: 1;\n",
       "}\n",
       "\n",
       ".xr-attrs dt:hover span {\n",
       "  display: inline-block;\n",
       "  background: var(--xr-background-color);\n",
       "  padding-right: 10px;\n",
       "}\n",
       "\n",
       ".xr-attrs dd {\n",
       "  grid-column: 2;\n",
       "  white-space: pre-wrap;\n",
       "  word-break: break-all;\n",
       "}\n",
       "\n",
       ".xr-icon-database,\n",
       ".xr-icon-file-text2,\n",
       ".xr-no-icon {\n",
       "  display: inline-block;\n",
       "  vertical-align: middle;\n",
       "  width: 1em;\n",
       "  height: 1.5em !important;\n",
       "  stroke-width: 0;\n",
       "  stroke: currentColor;\n",
       "  fill: currentColor;\n",
       "}\n",
       "</style><pre class='xr-text-repr-fallback'>&lt;xarray.Dataset&gt;\n",
       "Dimensions:                (sourceDim: 8, locationDim: 3, z: 15, y: 30, x: 30,\n",
       "                            time: 240)\n",
       "Coordinates:\n",
       "  * time                   (time) int64 0 1 2 3 4 5 ... 234 235 236 237 238 239\n",
       "  * x                      (x) int64 0 1 2 3 4 5 6 7 ... 22 23 24 25 26 27 28 29\n",
       "  * y                      (y) int64 0 1 2 3 4 5 6 7 ... 22 23 24 25 26 27 28 29\n",
       "  * z                      (z) int64 0 1 2 3 4 5 6 7 8 9 10 11 12 13 14\n",
       "  * sourceDim              (sourceDim) int64 0 1 2 3 4 5 6 7\n",
       "  * locationDim            (locationDim) int64 0 1 2\n",
       "Data variables:\n",
       "    srcAuxScLocation       (sourceDim, locationDim) float64 ...\n",
       "    srcAuxScMassSpecValue  (sourceDim) float64 ...\n",
       "    structureMask          (z, y, x) float64 ...\n",
       "    xPos                   (z, y, x) float32 ...\n",
       "    yPos                   (z, y, x) float32 ...\n",
       "    zPos                   (z, y, x) float32 ...\n",
       "    u                      (time, z, y, x) float32 ...\n",
       "    v                      (time, z, y, x) float32 ...\n",
       "    w                      (time, z, y, x) float32 ...\n",
       "    q_CH4                  (time, z, y, x) float32 ...\n",
       "Attributes:\n",
       "    Original Filename:     FE_CBL2m_Ug5.4\n",
       "    Fast Eddy Run:         Fast Eddy Run 1\n",
       "    Time of Reformatting:  2023-09-11 08:34:26.197316</pre><div class='xr-wrap' style='display:none'><div class='xr-header'><div class='xr-obj-type'>xarray.Dataset</div></div><ul class='xr-sections'><li class='xr-section-item'><input id='section-de4889a5-8e1b-49ee-bfba-fc5004983e5b' class='xr-section-summary-in' type='checkbox' disabled ><label for='section-de4889a5-8e1b-49ee-bfba-fc5004983e5b' class='xr-section-summary'  title='Expand/collapse section'>Dimensions:</label><div class='xr-section-inline-details'><ul class='xr-dim-list'><li><span class='xr-has-index'>sourceDim</span>: 8</li><li><span class='xr-has-index'>locationDim</span>: 3</li><li><span class='xr-has-index'>z</span>: 15</li><li><span class='xr-has-index'>y</span>: 30</li><li><span class='xr-has-index'>x</span>: 30</li><li><span class='xr-has-index'>time</span>: 240</li></ul></div><div class='xr-section-details'></div></li><li class='xr-section-item'><input id='section-4b008633-f786-4c7e-b189-41973c2c0c8c' class='xr-section-summary-in' type='checkbox'  checked><label for='section-4b008633-f786-4c7e-b189-41973c2c0c8c' class='xr-section-summary' >Coordinates: <span>(6)</span></label><div class='xr-section-inline-details'></div><div class='xr-section-details'><ul class='xr-var-list'><li class='xr-var-item'><div class='xr-var-name'><span class='xr-has-index'>time</span></div><div class='xr-var-dims'>(time)</div><div class='xr-var-dtype'>int64</div><div class='xr-var-preview xr-preview'>0 1 2 3 4 5 ... 235 236 237 238 239</div><input id='attrs-e3db9df9-a1af-42ed-b151-bd3e4a125812' class='xr-var-attrs-in' type='checkbox' disabled><label for='attrs-e3db9df9-a1af-42ed-b151-bd3e4a125812' title='Show/Hide attributes'><svg class='icon xr-icon-file-text2'><use xlink:href='#icon-file-text2'></use></svg></label><input id='data-5b3cdd0d-2e97-4caf-a2a9-76cd24ad6797' class='xr-var-data-in' type='checkbox'><label for='data-5b3cdd0d-2e97-4caf-a2a9-76cd24ad6797' title='Show/Hide data repr'><svg class='icon xr-icon-database'><use xlink:href='#icon-database'></use></svg></label><div class='xr-var-attrs'><dl class='xr-attrs'></dl></div><div class='xr-var-data'><pre>array([  0,   1,   2, ..., 237, 238, 239])</pre></div></li><li class='xr-var-item'><div class='xr-var-name'><span class='xr-has-index'>x</span></div><div class='xr-var-dims'>(x)</div><div class='xr-var-dtype'>int64</div><div class='xr-var-preview xr-preview'>0 1 2 3 4 5 6 ... 24 25 26 27 28 29</div><input id='attrs-bcd118c9-8312-437e-ae26-a6f0e719d7e5' class='xr-var-attrs-in' type='checkbox' disabled><label for='attrs-bcd118c9-8312-437e-ae26-a6f0e719d7e5' title='Show/Hide attributes'><svg class='icon xr-icon-file-text2'><use xlink:href='#icon-file-text2'></use></svg></label><input id='data-2fb5b33f-abb6-41e1-affc-5f3c33ab2f1f' class='xr-var-data-in' type='checkbox'><label for='data-2fb5b33f-abb6-41e1-affc-5f3c33ab2f1f' title='Show/Hide data repr'><svg class='icon xr-icon-database'><use xlink:href='#icon-database'></use></svg></label><div class='xr-var-attrs'><dl class='xr-attrs'></dl></div><div class='xr-var-data'><pre>array([ 0,  1,  2,  3,  4,  5,  6,  7,  8,  9, 10, 11, 12, 13, 14, 15, 16, 17,\n",
       "       18, 19, 20, 21, 22, 23, 24, 25, 26, 27, 28, 29])</pre></div></li><li class='xr-var-item'><div class='xr-var-name'><span class='xr-has-index'>y</span></div><div class='xr-var-dims'>(y)</div><div class='xr-var-dtype'>int64</div><div class='xr-var-preview xr-preview'>0 1 2 3 4 5 6 ... 24 25 26 27 28 29</div><input id='attrs-8b0ce539-e9d0-4e2d-89d8-75ae1fefc88f' class='xr-var-attrs-in' type='checkbox' disabled><label for='attrs-8b0ce539-e9d0-4e2d-89d8-75ae1fefc88f' title='Show/Hide attributes'><svg class='icon xr-icon-file-text2'><use xlink:href='#icon-file-text2'></use></svg></label><input id='data-78775afb-693e-46f6-a62f-174042023064' class='xr-var-data-in' type='checkbox'><label for='data-78775afb-693e-46f6-a62f-174042023064' title='Show/Hide data repr'><svg class='icon xr-icon-database'><use xlink:href='#icon-database'></use></svg></label><div class='xr-var-attrs'><dl class='xr-attrs'></dl></div><div class='xr-var-data'><pre>array([ 0,  1,  2,  3,  4,  5,  6,  7,  8,  9, 10, 11, 12, 13, 14, 15, 16, 17,\n",
       "       18, 19, 20, 21, 22, 23, 24, 25, 26, 27, 28, 29])</pre></div></li><li class='xr-var-item'><div class='xr-var-name'><span class='xr-has-index'>z</span></div><div class='xr-var-dims'>(z)</div><div class='xr-var-dtype'>int64</div><div class='xr-var-preview xr-preview'>0 1 2 3 4 5 6 7 8 9 10 11 12 13 14</div><input id='attrs-a5717611-5e4d-44eb-a1fc-95b1c769323b' class='xr-var-attrs-in' type='checkbox' disabled><label for='attrs-a5717611-5e4d-44eb-a1fc-95b1c769323b' title='Show/Hide attributes'><svg class='icon xr-icon-file-text2'><use xlink:href='#icon-file-text2'></use></svg></label><input id='data-256fea97-95a2-46ce-91eb-ff28434b4093' class='xr-var-data-in' type='checkbox'><label for='data-256fea97-95a2-46ce-91eb-ff28434b4093' title='Show/Hide data repr'><svg class='icon xr-icon-database'><use xlink:href='#icon-database'></use></svg></label><div class='xr-var-attrs'><dl class='xr-attrs'></dl></div><div class='xr-var-data'><pre>array([ 0,  1,  2,  3,  4,  5,  6,  7,  8,  9, 10, 11, 12, 13, 14])</pre></div></li><li class='xr-var-item'><div class='xr-var-name'><span class='xr-has-index'>sourceDim</span></div><div class='xr-var-dims'>(sourceDim)</div><div class='xr-var-dtype'>int64</div><div class='xr-var-preview xr-preview'>0 1 2 3 4 5 6 7</div><input id='attrs-39370d12-a19f-4778-8a41-a60ae0485ac4' class='xr-var-attrs-in' type='checkbox' disabled><label for='attrs-39370d12-a19f-4778-8a41-a60ae0485ac4' title='Show/Hide attributes'><svg class='icon xr-icon-file-text2'><use xlink:href='#icon-file-text2'></use></svg></label><input id='data-8a4480e0-0b4f-4389-a677-08f3858c4333' class='xr-var-data-in' type='checkbox'><label for='data-8a4480e0-0b4f-4389-a677-08f3858c4333' title='Show/Hide data repr'><svg class='icon xr-icon-database'><use xlink:href='#icon-database'></use></svg></label><div class='xr-var-attrs'><dl class='xr-attrs'></dl></div><div class='xr-var-data'><pre>array([0, 1, 2, 3, 4, 5, 6, 7])</pre></div></li><li class='xr-var-item'><div class='xr-var-name'><span class='xr-has-index'>locationDim</span></div><div class='xr-var-dims'>(locationDim)</div><div class='xr-var-dtype'>int64</div><div class='xr-var-preview xr-preview'>0 1 2</div><input id='attrs-15082c38-5174-4596-9f30-cf350891944a' class='xr-var-attrs-in' type='checkbox' disabled><label for='attrs-15082c38-5174-4596-9f30-cf350891944a' title='Show/Hide attributes'><svg class='icon xr-icon-file-text2'><use xlink:href='#icon-file-text2'></use></svg></label><input id='data-0b99dab8-343b-4c73-9835-238996ba1b95' class='xr-var-data-in' type='checkbox'><label for='data-0b99dab8-343b-4c73-9835-238996ba1b95' title='Show/Hide data repr'><svg class='icon xr-icon-database'><use xlink:href='#icon-database'></use></svg></label><div class='xr-var-attrs'><dl class='xr-attrs'></dl></div><div class='xr-var-data'><pre>array([0, 1, 2])</pre></div></li></ul></div></li><li class='xr-section-item'><input id='section-4be2f8eb-3b5d-4e73-9b0e-a33f85e3109e' class='xr-section-summary-in' type='checkbox'  checked><label for='section-4be2f8eb-3b5d-4e73-9b0e-a33f85e3109e' class='xr-section-summary' >Data variables: <span>(10)</span></label><div class='xr-section-inline-details'></div><div class='xr-section-details'><ul class='xr-var-list'><li class='xr-var-item'><div class='xr-var-name'><span>srcAuxScLocation</span></div><div class='xr-var-dims'>(sourceDim, locationDim)</div><div class='xr-var-dtype'>float64</div><div class='xr-var-preview xr-preview'>...</div><input id='attrs-f4f8a57b-ccaf-4425-800f-db214d84f78e' class='xr-var-attrs-in' type='checkbox' ><label for='attrs-f4f8a57b-ccaf-4425-800f-db214d84f78e' title='Show/Hide attributes'><svg class='icon xr-icon-file-text2'><use xlink:href='#icon-file-text2'></use></svg></label><input id='data-04ecb593-5aa3-4a0b-a754-4665bcb20a66' class='xr-var-data-in' type='checkbox'><label for='data-04ecb593-5aa3-4a0b-a754-4665bcb20a66' title='Show/Hide data repr'><svg class='icon xr-icon-database'><use xlink:href='#icon-database'></use></svg></label><div class='xr-var-attrs'><dl class='xr-attrs'><dt><span>units :</span></dt><dd>m</dd></dl></div><div class='xr-var-data'><pre>[24 values with dtype=float64]</pre></div></li><li class='xr-var-item'><div class='xr-var-name'><span>srcAuxScMassSpecValue</span></div><div class='xr-var-dims'>(sourceDim)</div><div class='xr-var-dtype'>float64</div><div class='xr-var-preview xr-preview'>...</div><input id='attrs-70246bce-edbd-4a59-9f03-8efb219a904e' class='xr-var-attrs-in' type='checkbox' ><label for='attrs-70246bce-edbd-4a59-9f03-8efb219a904e' title='Show/Hide attributes'><svg class='icon xr-icon-file-text2'><use xlink:href='#icon-file-text2'></use></svg></label><input id='data-9191f394-97ad-4f77-be76-85cdd32fab2a' class='xr-var-data-in' type='checkbox'><label for='data-9191f394-97ad-4f77-be76-85cdd32fab2a' title='Show/Hide data repr'><svg class='icon xr-icon-database'><use xlink:href='#icon-database'></use></svg></label><div class='xr-var-attrs'><dl class='xr-attrs'><dt><span>units :</span></dt><dd>kg/hr</dd></dl></div><div class='xr-var-data'><pre>[8 values with dtype=float64]</pre></div></li><li class='xr-var-item'><div class='xr-var-name'><span>structureMask</span></div><div class='xr-var-dims'>(z, y, x)</div><div class='xr-var-dtype'>float64</div><div class='xr-var-preview xr-preview'>...</div><input id='attrs-788b203b-18ee-474a-b9e4-82430c5bb340' class='xr-var-attrs-in' type='checkbox' ><label for='attrs-788b203b-18ee-474a-b9e4-82430c5bb340' title='Show/Hide attributes'><svg class='icon xr-icon-file-text2'><use xlink:href='#icon-file-text2'></use></svg></label><input id='data-fa4a49c6-c096-4097-b262-17664dab1735' class='xr-var-data-in' type='checkbox'><label for='data-fa4a49c6-c096-4097-b262-17664dab1735' title='Show/Hide data repr'><svg class='icon xr-icon-database'><use xlink:href='#icon-database'></use></svg></label><div class='xr-var-attrs'><dl class='xr-attrs'><dt><span>units :</span></dt><dd>-</dd></dl></div><div class='xr-var-data'><pre>[13500 values with dtype=float64]</pre></div></li><li class='xr-var-item'><div class='xr-var-name'><span>xPos</span></div><div class='xr-var-dims'>(z, y, x)</div><div class='xr-var-dtype'>float32</div><div class='xr-var-preview xr-preview'>...</div><input id='attrs-f20dae29-5a19-4ddf-b17b-59de733c5b02' class='xr-var-attrs-in' type='checkbox' ><label for='attrs-f20dae29-5a19-4ddf-b17b-59de733c5b02' title='Show/Hide attributes'><svg class='icon xr-icon-file-text2'><use xlink:href='#icon-file-text2'></use></svg></label><input id='data-b2e09a59-6f09-4f64-949e-41219ff3a17b' class='xr-var-data-in' type='checkbox'><label for='data-b2e09a59-6f09-4f64-949e-41219ff3a17b' title='Show/Hide data repr'><svg class='icon xr-icon-database'><use xlink:href='#icon-database'></use></svg></label><div class='xr-var-attrs'><dl class='xr-attrs'><dt><span>units :</span></dt><dd>m</dd></dl></div><div class='xr-var-data'><pre>[13500 values with dtype=float32]</pre></div></li><li class='xr-var-item'><div class='xr-var-name'><span>yPos</span></div><div class='xr-var-dims'>(z, y, x)</div><div class='xr-var-dtype'>float32</div><div class='xr-var-preview xr-preview'>...</div><input id='attrs-88d52629-5306-4971-b66d-43c1353faeb3' class='xr-var-attrs-in' type='checkbox' ><label for='attrs-88d52629-5306-4971-b66d-43c1353faeb3' title='Show/Hide attributes'><svg class='icon xr-icon-file-text2'><use xlink:href='#icon-file-text2'></use></svg></label><input id='data-90f08e30-e694-48d1-adba-85e90907c459' class='xr-var-data-in' type='checkbox'><label for='data-90f08e30-e694-48d1-adba-85e90907c459' title='Show/Hide data repr'><svg class='icon xr-icon-database'><use xlink:href='#icon-database'></use></svg></label><div class='xr-var-attrs'><dl class='xr-attrs'><dt><span>units :</span></dt><dd>m</dd></dl></div><div class='xr-var-data'><pre>[13500 values with dtype=float32]</pre></div></li><li class='xr-var-item'><div class='xr-var-name'><span>zPos</span></div><div class='xr-var-dims'>(z, y, x)</div><div class='xr-var-dtype'>float32</div><div class='xr-var-preview xr-preview'>...</div><input id='attrs-3835cd9a-dedd-4866-9a38-f5c54c1a3278' class='xr-var-attrs-in' type='checkbox' ><label for='attrs-3835cd9a-dedd-4866-9a38-f5c54c1a3278' title='Show/Hide attributes'><svg class='icon xr-icon-file-text2'><use xlink:href='#icon-file-text2'></use></svg></label><input id='data-5103996a-adfb-4e02-8e2b-261111d0c951' class='xr-var-data-in' type='checkbox'><label for='data-5103996a-adfb-4e02-8e2b-261111d0c951' title='Show/Hide data repr'><svg class='icon xr-icon-database'><use xlink:href='#icon-database'></use></svg></label><div class='xr-var-attrs'><dl class='xr-attrs'><dt><span>units :</span></dt><dd>m</dd></dl></div><div class='xr-var-data'><pre>[13500 values with dtype=float32]</pre></div></li><li class='xr-var-item'><div class='xr-var-name'><span>u</span></div><div class='xr-var-dims'>(time, z, y, x)</div><div class='xr-var-dtype'>float32</div><div class='xr-var-preview xr-preview'>...</div><input id='attrs-c6b5b7c7-ab21-4e46-be74-134a3e7fd46d' class='xr-var-attrs-in' type='checkbox' ><label for='attrs-c6b5b7c7-ab21-4e46-be74-134a3e7fd46d' title='Show/Hide attributes'><svg class='icon xr-icon-file-text2'><use xlink:href='#icon-file-text2'></use></svg></label><input id='data-7d92b5b9-98e6-46aa-8b43-9f89fc0855c6' class='xr-var-data-in' type='checkbox'><label for='data-7d92b5b9-98e6-46aa-8b43-9f89fc0855c6' title='Show/Hide data repr'><svg class='icon xr-icon-database'><use xlink:href='#icon-database'></use></svg></label><div class='xr-var-attrs'><dl class='xr-attrs'><dt><span>units :</span></dt><dd>m/s</dd></dl></div><div class='xr-var-data'><pre>[3240000 values with dtype=float32]</pre></div></li><li class='xr-var-item'><div class='xr-var-name'><span>v</span></div><div class='xr-var-dims'>(time, z, y, x)</div><div class='xr-var-dtype'>float32</div><div class='xr-var-preview xr-preview'>...</div><input id='attrs-33252e98-9f05-49fa-8b8c-b1158303a4be' class='xr-var-attrs-in' type='checkbox' ><label for='attrs-33252e98-9f05-49fa-8b8c-b1158303a4be' title='Show/Hide attributes'><svg class='icon xr-icon-file-text2'><use xlink:href='#icon-file-text2'></use></svg></label><input id='data-c69f7b03-99f1-4fb4-8c27-f9e1200d640f' class='xr-var-data-in' type='checkbox'><label for='data-c69f7b03-99f1-4fb4-8c27-f9e1200d640f' title='Show/Hide data repr'><svg class='icon xr-icon-database'><use xlink:href='#icon-database'></use></svg></label><div class='xr-var-attrs'><dl class='xr-attrs'><dt><span>units :</span></dt><dd>m/s</dd></dl></div><div class='xr-var-data'><pre>[3240000 values with dtype=float32]</pre></div></li><li class='xr-var-item'><div class='xr-var-name'><span>w</span></div><div class='xr-var-dims'>(time, z, y, x)</div><div class='xr-var-dtype'>float32</div><div class='xr-var-preview xr-preview'>...</div><input id='attrs-d270d173-bf4c-4df9-b9fa-4c65b1ee45c5' class='xr-var-attrs-in' type='checkbox' ><label for='attrs-d270d173-bf4c-4df9-b9fa-4c65b1ee45c5' title='Show/Hide attributes'><svg class='icon xr-icon-file-text2'><use xlink:href='#icon-file-text2'></use></svg></label><input id='data-4b571472-bede-4774-a66c-5407f860bec8' class='xr-var-data-in' type='checkbox'><label for='data-4b571472-bede-4774-a66c-5407f860bec8' title='Show/Hide data repr'><svg class='icon xr-icon-database'><use xlink:href='#icon-database'></use></svg></label><div class='xr-var-attrs'><dl class='xr-attrs'><dt><span>units :</span></dt><dd>m/s</dd></dl></div><div class='xr-var-data'><pre>[3240000 values with dtype=float32]</pre></div></li><li class='xr-var-item'><div class='xr-var-name'><span>q_CH4</span></div><div class='xr-var-dims'>(time, z, y, x)</div><div class='xr-var-dtype'>float32</div><div class='xr-var-preview xr-preview'>...</div><input id='attrs-5060bc4d-4633-4906-8625-22c72df1cb67' class='xr-var-attrs-in' type='checkbox' ><label for='attrs-5060bc4d-4633-4906-8625-22c72df1cb67' title='Show/Hide attributes'><svg class='icon xr-icon-file-text2'><use xlink:href='#icon-file-text2'></use></svg></label><input id='data-ff333fef-629c-45d8-be91-81fa6d68ffef' class='xr-var-data-in' type='checkbox'><label for='data-ff333fef-629c-45d8-be91-81fa6d68ffef' title='Show/Hide data repr'><svg class='icon xr-icon-database'><use xlink:href='#icon-database'></use></svg></label><div class='xr-var-attrs'><dl class='xr-attrs'><dt><span>units :</span></dt><dd>kg/kg</dd></dl></div><div class='xr-var-data'><pre>[3240000 values with dtype=float32]</pre></div></li></ul></div></li><li class='xr-section-item'><input id='section-32968f53-084f-4e97-a7da-3b38898b75df' class='xr-section-summary-in' type='checkbox'  ><label for='section-32968f53-084f-4e97-a7da-3b38898b75df' class='xr-section-summary' >Indexes: <span>(6)</span></label><div class='xr-section-inline-details'></div><div class='xr-section-details'><ul class='xr-var-list'><li class='xr-var-item'><div class='xr-index-name'><div>time</div></div><div class='xr-index-preview'>PandasIndex</div><div></div><input id='index-577e0411-84a7-4e86-9daf-95b32a33dd2e' class='xr-index-data-in' type='checkbox'/><label for='index-577e0411-84a7-4e86-9daf-95b32a33dd2e' title='Show/Hide index repr'><svg class='icon xr-icon-database'><use xlink:href='#icon-database'></use></svg></label><div class='xr-index-data'><pre>PandasIndex(Index([  0,   1,   2,   3,   4,   5,   6,   7,   8,   9,\n",
       "       ...\n",
       "       230, 231, 232, 233, 234, 235, 236, 237, 238, 239],\n",
       "      dtype=&#x27;int64&#x27;, name=&#x27;time&#x27;, length=240))</pre></div></li><li class='xr-var-item'><div class='xr-index-name'><div>x</div></div><div class='xr-index-preview'>PandasIndex</div><div></div><input id='index-e622a9f2-3e34-4139-965c-3fc4dd70d2b5' class='xr-index-data-in' type='checkbox'/><label for='index-e622a9f2-3e34-4139-965c-3fc4dd70d2b5' title='Show/Hide index repr'><svg class='icon xr-icon-database'><use xlink:href='#icon-database'></use></svg></label><div class='xr-index-data'><pre>PandasIndex(Index([ 0,  1,  2,  3,  4,  5,  6,  7,  8,  9, 10, 11, 12, 13, 14, 15, 16, 17,\n",
       "       18, 19, 20, 21, 22, 23, 24, 25, 26, 27, 28, 29],\n",
       "      dtype=&#x27;int64&#x27;, name=&#x27;x&#x27;))</pre></div></li><li class='xr-var-item'><div class='xr-index-name'><div>y</div></div><div class='xr-index-preview'>PandasIndex</div><div></div><input id='index-03746714-dab9-46bf-9dc7-476b2659d9a2' class='xr-index-data-in' type='checkbox'/><label for='index-03746714-dab9-46bf-9dc7-476b2659d9a2' title='Show/Hide index repr'><svg class='icon xr-icon-database'><use xlink:href='#icon-database'></use></svg></label><div class='xr-index-data'><pre>PandasIndex(Index([ 0,  1,  2,  3,  4,  5,  6,  7,  8,  9, 10, 11, 12, 13, 14, 15, 16, 17,\n",
       "       18, 19, 20, 21, 22, 23, 24, 25, 26, 27, 28, 29],\n",
       "      dtype=&#x27;int64&#x27;, name=&#x27;y&#x27;))</pre></div></li><li class='xr-var-item'><div class='xr-index-name'><div>z</div></div><div class='xr-index-preview'>PandasIndex</div><div></div><input id='index-b77b35b2-e95a-4af8-b2c9-9b92e9667ee0' class='xr-index-data-in' type='checkbox'/><label for='index-b77b35b2-e95a-4af8-b2c9-9b92e9667ee0' title='Show/Hide index repr'><svg class='icon xr-icon-database'><use xlink:href='#icon-database'></use></svg></label><div class='xr-index-data'><pre>PandasIndex(Index([0, 1, 2, 3, 4, 5, 6, 7, 8, 9, 10, 11, 12, 13, 14], dtype=&#x27;int64&#x27;, name=&#x27;z&#x27;))</pre></div></li><li class='xr-var-item'><div class='xr-index-name'><div>sourceDim</div></div><div class='xr-index-preview'>PandasIndex</div><div></div><input id='index-94947a0c-fdc6-4178-963f-61bd64d04d75' class='xr-index-data-in' type='checkbox'/><label for='index-94947a0c-fdc6-4178-963f-61bd64d04d75' title='Show/Hide index repr'><svg class='icon xr-icon-database'><use xlink:href='#icon-database'></use></svg></label><div class='xr-index-data'><pre>PandasIndex(Index([0, 1, 2, 3, 4, 5, 6, 7], dtype=&#x27;int64&#x27;, name=&#x27;sourceDim&#x27;))</pre></div></li><li class='xr-var-item'><div class='xr-index-name'><div>locationDim</div></div><div class='xr-index-preview'>PandasIndex</div><div></div><input id='index-6c9332bb-18da-45fc-84c1-896f2b699498' class='xr-index-data-in' type='checkbox'/><label for='index-6c9332bb-18da-45fc-84c1-896f2b699498' title='Show/Hide index repr'><svg class='icon xr-icon-database'><use xlink:href='#icon-database'></use></svg></label><div class='xr-index-data'><pre>PandasIndex(Index([0, 1, 2], dtype=&#x27;int64&#x27;, name=&#x27;locationDim&#x27;))</pre></div></li></ul></div></li><li class='xr-section-item'><input id='section-5baf52ef-f81f-459c-b959-c3d82dbc7e41' class='xr-section-summary-in' type='checkbox'  checked><label for='section-5baf52ef-f81f-459c-b959-c3d82dbc7e41' class='xr-section-summary' >Attributes: <span>(3)</span></label><div class='xr-section-inline-details'></div><div class='xr-section-details'><dl class='xr-attrs'><dt><span>Original Filename :</span></dt><dd>FE_CBL2m_Ug5.4</dd><dt><span>Fast Eddy Run :</span></dt><dd>Fast Eddy Run 1</dd><dt><span>Time of Reformatting :</span></dt><dd>2023-09-11 08:34:26.197316</dd></dl></div></li></ul></div></div>"
      ],
      "text/plain": [
       "<xarray.Dataset>\n",
       "Dimensions:                (sourceDim: 8, locationDim: 3, z: 15, y: 30, x: 30,\n",
       "                            time: 240)\n",
       "Coordinates:\n",
       "  * time                   (time) int64 0 1 2 3 4 5 ... 234 235 236 237 238 239\n",
       "  * x                      (x) int64 0 1 2 3 4 5 6 7 ... 22 23 24 25 26 27 28 29\n",
       "  * y                      (y) int64 0 1 2 3 4 5 6 7 ... 22 23 24 25 26 27 28 29\n",
       "  * z                      (z) int64 0 1 2 3 4 5 6 7 8 9 10 11 12 13 14\n",
       "  * sourceDim              (sourceDim) int64 0 1 2 3 4 5 6 7\n",
       "  * locationDim            (locationDim) int64 0 1 2\n",
       "Data variables:\n",
       "    srcAuxScLocation       (sourceDim, locationDim) float64 ...\n",
       "    srcAuxScMassSpecValue  (sourceDim) float64 ...\n",
       "    structureMask          (z, y, x) float64 ...\n",
       "    xPos                   (z, y, x) float32 ...\n",
       "    yPos                   (z, y, x) float32 ...\n",
       "    zPos                   (z, y, x) float32 ...\n",
       "    u                      (time, z, y, x) float32 ...\n",
       "    v                      (time, z, y, x) float32 ...\n",
       "    w                      (time, z, y, x) float32 ...\n",
       "    q_CH4                  (time, z, y, x) float32 ...\n",
       "Attributes:\n",
       "    Original Filename:     FE_CBL2m_Ug5.4\n",
       "    Fast Eddy Run:         Fast Eddy Run 1\n",
       "    Time of Reformatting:  2023-09-11 08:34:26.197316"
      ]
     },
     "execution_count": 7,
     "metadata": {},
     "output_type": "execute_result"
    }
   ],
   "source": [
    "ds = xr.open_dataset(file)\n",
    "ds"
   ]
  },
  {
   "cell_type": "code",
   "execution_count": 8,
   "metadata": {},
   "outputs": [],
   "source": [
    "array = np.arange(0, 15, dtype=float).reshape(5, 3)"
   ]
  },
  {
   "cell_type": "code",
   "execution_count": 9,
   "metadata": {},
   "outputs": [],
   "source": [
    "array2 = array + .75"
   ]
  },
  {
   "cell_type": "code",
   "execution_count": 10,
   "metadata": {},
   "outputs": [
    {
     "data": {
      "text/plain": [
       "array([[ 0.,  1.,  2.],\n",
       "       [ 3.,  4.,  5.],\n",
       "       [ 6.,  7.,  8.],\n",
       "       [ 9., 10., 11.],\n",
       "       [12., 13., 14.]])"
      ]
     },
     "execution_count": 10,
     "metadata": {},
     "output_type": "execute_result"
    }
   ],
   "source": [
    "array"
   ]
  },
  {
   "cell_type": "code",
   "execution_count": 11,
   "metadata": {},
   "outputs": [],
   "source": [
    "array2[:,0] = array2[:,0]+.23"
   ]
  },
  {
   "cell_type": "code",
   "execution_count": 12,
   "metadata": {},
   "outputs": [
    {
     "data": {
      "text/plain": [
       "array([1.44409141, 1.44409141, 1.44409141, 1.44409141, 1.44409141])"
      ]
     },
     "execution_count": 12,
     "metadata": {},
     "output_type": "execute_result"
    }
   ],
   "source": [
    "\n",
    "distance = distance_between_points_3d(array , array2)\n",
    "distance"
   ]
  },
  {
   "cell_type": "markdown",
   "metadata": {},
   "source": [
    "## Azimuth"
   ]
  },
  {
   "cell_type": "code",
   "execution_count": 13,
   "metadata": {},
   "outputs": [
    {
     "data": {
      "text/plain": [
       "array([346.47 ,   2.672,   6.905, 344.743,  22.637])"
      ]
     },
     "execution_count": 13,
     "metadata": {},
     "output_type": "execute_result"
    }
   ],
   "source": [
    "azi = calculate_azimuth(array, array2)\n",
    "azi"
   ]
  },
  {
   "cell_type": "code",
   "execution_count": 14,
   "metadata": {},
   "outputs": [],
   "source": [
    "array3= np.array([0,0,3])\n",
    "array4 = np.array([0,1,1])"
   ]
  },
  {
   "cell_type": "code",
   "execution_count": 15,
   "metadata": {},
   "outputs": [
    {
     "data": {
      "text/plain": [
       "0.0"
      ]
     },
     "execution_count": 15,
     "metadata": {},
     "output_type": "execute_result"
    }
   ],
   "source": [
    "\n",
    "azi = calculate_azimuth(array3, array4)\n",
    "azi"
   ]
  },
  {
   "cell_type": "markdown",
   "metadata": {},
   "source": [
    "## Dip"
   ]
  },
  {
   "cell_type": "code",
   "execution_count": 16,
   "metadata": {},
   "outputs": [
    {
     "data": {
      "text/plain": [
       "array([27.51, 27.51, 27.51, 27.51, 27.51])"
      ]
     },
     "execution_count": 16,
     "metadata": {},
     "output_type": "execute_result"
    }
   ],
   "source": [
    "dip(array, array2)"
   ]
  },
  {
   "cell_type": "code",
   "execution_count": 17,
   "metadata": {},
   "outputs": [
    {
     "data": {
      "text/plain": [
       "-41.76"
      ]
     },
     "execution_count": 17,
     "metadata": {},
     "output_type": "execute_result"
    }
   ],
   "source": [
    "dip(array3, array4)"
   ]
  },
  {
   "cell_type": "code",
   "execution_count": null,
   "metadata": {},
   "outputs": [],
   "source": []
  }
 ],
 "metadata": {
  "kernelspec": {
   "display_name": "py10-viz",
   "language": "python",
   "name": "python3"
  },
  "language_info": {
   "codemirror_mode": {
    "name": "ipython",
    "version": 3
   },
   "file_extension": ".py",
   "mimetype": "text/x-python",
   "name": "python",
   "nbconvert_exporter": "python",
   "pygments_lexer": "ipython3",
   "version": "3.10.12"
  },
  "orig_nbformat": 4
 },
 "nbformat": 4,
 "nbformat_minor": 2
}
