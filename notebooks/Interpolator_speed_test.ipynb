{
 "cells": [
  {
   "cell_type": "markdown",
   "id": "ae4fe916",
   "metadata": {},
   "source": [
    "# Testing Interpolators"
   ]
  },
  {
   "cell_type": "code",
   "execution_count": 2,
   "id": "0ef6e074-5ceb-47b1-b44b-7902437f75c0",
   "metadata": {},
   "outputs": [],
   "source": [
    "import numpy as np\n",
    "import xarray as xr\n",
    "import time\n",
    "\n",
    "from scipy.interpolate import griddata\n",
    "from scipy.interpolate import RegularGridInterpolator\n"
   ]
  },
  {
   "cell_type": "code",
   "execution_count": 3,
   "id": "5df533e1",
   "metadata": {},
   "outputs": [],
   "source": [
    "# Define the size of the array\n",
    "array_size = 100000  # Change this to the desired size of your array\n",
    "\n",
    "# Generate a random array of integers in the range [0, 30]\n",
    "x = np.random.randint(0, 31, size=array_size)\n",
    "y = np.random.randint(0, 31, size=array_size)\n",
    "data = np.random.uniform(-1, 1, size=array_size)"
   ]
  },
  {
   "cell_type": "code",
   "execution_count": 4,
   "id": "e55e004c",
   "metadata": {},
   "outputs": [],
   "source": [
    "# Create datasets of 20 elements each\n",
    "dataset_size = array_size // 20\n",
    "datasets = []\n",
    "\n",
    "for i in range(dataset_size):\n",
    "    start_idx = i * 20\n",
    "    end_idx = (i + 1) * 20\n",
    "    x_chunk = x[start_idx:end_idx]\n",
    "    y_chunk = y[start_idx:end_idx]\n",
    "    data_chunk = data[start_idx:end_idx]\n",
    "    \n",
    "    # Sort the data based on x-coordinates\n",
    "    sorted_indices = np.argsort(x_chunk)\n",
    "    x_chunk = x_chunk[sorted_indices]\n",
    "    y_chunk = y_chunk[sorted_indices]\n",
    "    data_chunk = data_chunk[sorted_indices]\n",
    "    \n",
    "    dataset = {\n",
    "        'x': x_chunk,\n",
    "        'y': y_chunk,\n",
    "        'data': data_chunk\n",
    "    }\n",
    "    \n",
    "    datasets.append(dataset)"
   ]
  },
  {
   "cell_type": "code",
   "execution_count": 5,
   "id": "f1dd911b",
   "metadata": {},
   "outputs": [
    {
     "name": "stdout",
     "output_type": "stream",
     "text": [
      "2D Interpolation method 'linear':\n",
      "Median time = 0.0003 seconds\n",
      "Maximum time = 0.0011 seconds\n",
      "2D Interpolation method 'nearest':\n",
      "Median time = 0.0023 seconds\n",
      "Maximum time = 0.0059 seconds\n"
     ]
    }
   ],
   "source": [
    "# Define interpolation methods (including 'metpy')\n",
    "interpolation_methods = ['linear', 'nearest']\n",
    "\n",
    "# Create a grid of coordinates\n",
    "x_grid, y_grid = np.meshgrid(np.linspace(0, 30, 100), np.linspace(0, 30, 100))\n",
    "grid_points = np.column_stack((x_grid.flatten(), y_grid.flatten()))\n",
    "\n",
    "# Initialize lists to store timing results\n",
    "timing_results = {method: [] for method in interpolation_methods}\n",
    "\n",
    "# Test the speed of 2D interpolation for various methods and collect timing results\n",
    "for dataset in datasets:\n",
    "    x_chunk = dataset['x']\n",
    "    y_chunk = dataset['y']\n",
    "    data_chunk = dataset['data']\n",
    "    \n",
    "    for method in interpolation_methods:\n",
    "        start_time = time.time()\n",
    "        \n",
    "        if method == 'linear':\n",
    "            # Use griddata for linear interpolation\n",
    "            interpolated_data = griddata((x_chunk, y_chunk), data_chunk, grid_points, method='linear')\n",
    "        elif method == 'nearest':\n",
    "            # Use griddata for nearest-neighbor interpolation\n",
    "            interpolated_data = griddata((x_chunk, y_chunk), data_chunk, grid_points, method='nearest')\n",
    "        \n",
    "        end_time = time.time()\n",
    "        elapsed_time = end_time - start_time\n",
    "        \n",
    "        timing_results[method].append(elapsed_time)\n",
    "\n",
    "# Create a dictionary to store the results\n",
    "results = {}\n",
    "\n",
    "# Calculate and print median and maximum times for each interpolation method\n",
    "for method, times in timing_results.items():\n",
    "    median_time = np.median(times)\n",
    "    max_time = np.max(times)\n",
    "    \n",
    "    # Store the results in the dictionary\n",
    "    results[method] = {\n",
    "        'Median Time': median_time,\n",
    "        'Maximum Time': max_time\n",
    "    }\n",
    "    print(f\"2D Interpolation method '{method}':\")\n",
    "    print(f\"Median time = {median_time:.4f} seconds\")\n",
    "    print(f\"Maximum time = {max_time:.4f} seconds\")"
   ]
  },
  {
   "cell_type": "code",
   "execution_count": 6,
   "id": "28c09bce",
   "metadata": {},
   "outputs": [
    {
     "name": "stdout",
     "output_type": "stream",
     "text": [
      "Linear to Nearest time increase: 755.9%\n"
     ]
    }
   ],
   "source": [
    "# Define the two values you want to compare\n",
    "value1 = results['linear']['Median Time']\n",
    "value2 = results['nearest']['Median Time']\n",
    "\n",
    "# Calculate the difference percentage\n",
    "difference_percentage = ((value2 - value1) / abs(value1)) * 100\n",
    "\n",
    "# Format the percentage with 2 decimal places\n",
    "formatted_percentage = f\"{difference_percentage:.1f}%\"\n",
    "\n",
    "# Print the formatted percentage\n",
    "print(f\"Linear to Nearest time increase: {formatted_percentage}\")"
   ]
  }
 ],
 "metadata": {
  "kernelspec": {
   "display_name": "Python 3 (ipykernel)",
   "language": "python",
   "name": "python3"
  },
  "language_info": {
   "codemirror_mode": {
    "name": "ipython",
    "version": 3
   },
   "file_extension": ".py",
   "mimetype": "text/x-python",
   "name": "python",
   "nbconvert_exporter": "python",
   "pygments_lexer": "ipython3",
   "version": "3.10.12"
  }
 },
 "nbformat": 4,
 "nbformat_minor": 5
}
