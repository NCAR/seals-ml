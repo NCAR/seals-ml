{
 "cells": [
  {
   "cell_type": "markdown",
   "id": "8f476814-f7e4-4e05-a18b-03167e350dfe",
   "metadata": {},
   "source": [
    "# Interpolation Testbed Notebook"
   ]
  },
  {
   "cell_type": "markdown",
   "id": "cd0a2c55-beff-4470-ab9e-703555abd3bc",
   "metadata": {},
   "source": [
    "Short notebook to test various interpolation strategies. "
   ]
  },
  {
   "cell_type": "code",
   "execution_count": 32,
   "id": "260a2b87-deb0-4671-be8e-30f968f72c39",
   "metadata": {
    "tags": []
   },
   "outputs": [],
   "source": [
    "import sys \n",
    "\n",
    "import numpy as np\n",
    "import pandas as pd\n",
    "import matplotlib.pyplot as plt\n",
    "import seaborn as sns\n",
    "from scipy.interpolate import griddata\n",
    "\n",
    "from sklearn.gaussian_process import GaussianProcessRegressor\n",
    "from sklearn.gaussian_process.kernels import RBF\n",
    "from sklearn.preprocessing import MinMaxScaler\n",
    "\n",
    "from sklearn.ensemble import RandomForestRegressor\n",
    "\n",
    "import xarray as xr"
   ]
  },
  {
   "cell_type": "code",
   "execution_count": 33,
   "id": "e785073f",
   "metadata": {},
   "outputs": [],
   "source": [
    "sys.path.insert(1, '../sealsml')"
   ]
  },
  {
   "cell_type": "code",
   "execution_count": 34,
   "id": "8853dcc9",
   "metadata": {},
   "outputs": [],
   "source": [
    "from baseline import create_meshgrid, find_closest_values_with_indices, nanargmax_to_one\n",
    "from baseline import ScipyInterpolate, GaussianProcessInterpolator, RandomForestInterpolator"
   ]
  },
  {
   "cell_type": "markdown",
   "id": "be516578-1cec-49e5-909c-751d9d13e9f0",
   "metadata": {},
   "source": [
    "## Loading in real data"
   ]
  },
  {
   "cell_type": "markdown",
   "id": "9ae94925",
   "metadata": {},
   "source": [
    "Since none of these need to be 'trained', if it works on one dataset, it will work on all of them. "
   ]
  },
  {
   "cell_type": "code",
   "execution_count": 35,
   "id": "a50529d4-4825-41e0-b2ac-3b5307c63a9f",
   "metadata": {
    "tags": []
   },
   "outputs": [],
   "source": [
    "data = '../data/training_data_SBL2m_Ug10_src10kg_b.0.nc'"
   ]
  },
  {
   "cell_type": "code",
   "execution_count": 36,
   "id": "3252d731",
   "metadata": {},
   "outputs": [
    {
     "data": {
      "text/html": [
       "<div><svg style=\"position: absolute; width: 0; height: 0; overflow: hidden\">\n",
       "<defs>\n",
       "<symbol id=\"icon-database\" viewBox=\"0 0 32 32\">\n",
       "<path d=\"M16 0c-8.837 0-16 2.239-16 5v4c0 2.761 7.163 5 16 5s16-2.239 16-5v-4c0-2.761-7.163-5-16-5z\"></path>\n",
       "<path d=\"M16 17c-8.837 0-16-2.239-16-5v6c0 2.761 7.163 5 16 5s16-2.239 16-5v-6c0 2.761-7.163 5-16 5z\"></path>\n",
       "<path d=\"M16 26c-8.837 0-16-2.239-16-5v6c0 2.761 7.163 5 16 5s16-2.239 16-5v-6c0 2.761-7.163 5-16 5z\"></path>\n",
       "</symbol>\n",
       "<symbol id=\"icon-file-text2\" viewBox=\"0 0 32 32\">\n",
       "<path d=\"M28.681 7.159c-0.694-0.947-1.662-2.053-2.724-3.116s-2.169-2.030-3.116-2.724c-1.612-1.182-2.393-1.319-2.841-1.319h-15.5c-1.378 0-2.5 1.121-2.5 2.5v27c0 1.378 1.122 2.5 2.5 2.5h23c1.378 0 2.5-1.122 2.5-2.5v-19.5c0-0.448-0.137-1.23-1.319-2.841zM24.543 5.457c0.959 0.959 1.712 1.825 2.268 2.543h-4.811v-4.811c0.718 0.556 1.584 1.309 2.543 2.268zM28 29.5c0 0.271-0.229 0.5-0.5 0.5h-23c-0.271 0-0.5-0.229-0.5-0.5v-27c0-0.271 0.229-0.5 0.5-0.5 0 0 15.499-0 15.5 0v7c0 0.552 0.448 1 1 1h7v19.5z\"></path>\n",
       "<path d=\"M23 26h-14c-0.552 0-1-0.448-1-1s0.448-1 1-1h14c0.552 0 1 0.448 1 1s-0.448 1-1 1z\"></path>\n",
       "<path d=\"M23 22h-14c-0.552 0-1-0.448-1-1s0.448-1 1-1h14c0.552 0 1 0.448 1 1s-0.448 1-1 1z\"></path>\n",
       "<path d=\"M23 18h-14c-0.552 0-1-0.448-1-1s0.448-1 1-1h14c0.552 0 1 0.448 1 1s-0.448 1-1 1z\"></path>\n",
       "</symbol>\n",
       "</defs>\n",
       "</svg>\n",
       "<style>/* CSS stylesheet for displaying xarray objects in jupyterlab.\n",
       " *\n",
       " */\n",
       "\n",
       ":root {\n",
       "  --xr-font-color0: var(--jp-content-font-color0, rgba(0, 0, 0, 1));\n",
       "  --xr-font-color2: var(--jp-content-font-color2, rgba(0, 0, 0, 0.54));\n",
       "  --xr-font-color3: var(--jp-content-font-color3, rgba(0, 0, 0, 0.38));\n",
       "  --xr-border-color: var(--jp-border-color2, #e0e0e0);\n",
       "  --xr-disabled-color: var(--jp-layout-color3, #bdbdbd);\n",
       "  --xr-background-color: var(--jp-layout-color0, white);\n",
       "  --xr-background-color-row-even: var(--jp-layout-color1, white);\n",
       "  --xr-background-color-row-odd: var(--jp-layout-color2, #eeeeee);\n",
       "}\n",
       "\n",
       "html[theme=dark],\n",
       "body[data-theme=dark],\n",
       "body.vscode-dark {\n",
       "  --xr-font-color0: rgba(255, 255, 255, 1);\n",
       "  --xr-font-color2: rgba(255, 255, 255, 0.54);\n",
       "  --xr-font-color3: rgba(255, 255, 255, 0.38);\n",
       "  --xr-border-color: #1F1F1F;\n",
       "  --xr-disabled-color: #515151;\n",
       "  --xr-background-color: #111111;\n",
       "  --xr-background-color-row-even: #111111;\n",
       "  --xr-background-color-row-odd: #313131;\n",
       "}\n",
       "\n",
       ".xr-wrap {\n",
       "  display: block !important;\n",
       "  min-width: 300px;\n",
       "  max-width: 700px;\n",
       "}\n",
       "\n",
       ".xr-text-repr-fallback {\n",
       "  /* fallback to plain text repr when CSS is not injected (untrusted notebook) */\n",
       "  display: none;\n",
       "}\n",
       "\n",
       ".xr-header {\n",
       "  padding-top: 6px;\n",
       "  padding-bottom: 6px;\n",
       "  margin-bottom: 4px;\n",
       "  border-bottom: solid 1px var(--xr-border-color);\n",
       "}\n",
       "\n",
       ".xr-header > div,\n",
       ".xr-header > ul {\n",
       "  display: inline;\n",
       "  margin-top: 0;\n",
       "  margin-bottom: 0;\n",
       "}\n",
       "\n",
       ".xr-obj-type,\n",
       ".xr-array-name {\n",
       "  margin-left: 2px;\n",
       "  margin-right: 10px;\n",
       "}\n",
       "\n",
       ".xr-obj-type {\n",
       "  color: var(--xr-font-color2);\n",
       "}\n",
       "\n",
       ".xr-sections {\n",
       "  padding-left: 0 !important;\n",
       "  display: grid;\n",
       "  grid-template-columns: 150px auto auto 1fr 20px 20px;\n",
       "}\n",
       "\n",
       ".xr-section-item {\n",
       "  display: contents;\n",
       "}\n",
       "\n",
       ".xr-section-item input {\n",
       "  display: none;\n",
       "}\n",
       "\n",
       ".xr-section-item input + label {\n",
       "  color: var(--xr-disabled-color);\n",
       "}\n",
       "\n",
       ".xr-section-item input:enabled + label {\n",
       "  cursor: pointer;\n",
       "  color: var(--xr-font-color2);\n",
       "}\n",
       "\n",
       ".xr-section-item input:enabled + label:hover {\n",
       "  color: var(--xr-font-color0);\n",
       "}\n",
       "\n",
       ".xr-section-summary {\n",
       "  grid-column: 1;\n",
       "  color: var(--xr-font-color2);\n",
       "  font-weight: 500;\n",
       "}\n",
       "\n",
       ".xr-section-summary > span {\n",
       "  display: inline-block;\n",
       "  padding-left: 0.5em;\n",
       "}\n",
       "\n",
       ".xr-section-summary-in:disabled + label {\n",
       "  color: var(--xr-font-color2);\n",
       "}\n",
       "\n",
       ".xr-section-summary-in + label:before {\n",
       "  display: inline-block;\n",
       "  content: '►';\n",
       "  font-size: 11px;\n",
       "  width: 15px;\n",
       "  text-align: center;\n",
       "}\n",
       "\n",
       ".xr-section-summary-in:disabled + label:before {\n",
       "  color: var(--xr-disabled-color);\n",
       "}\n",
       "\n",
       ".xr-section-summary-in:checked + label:before {\n",
       "  content: '▼';\n",
       "}\n",
       "\n",
       ".xr-section-summary-in:checked + label > span {\n",
       "  display: none;\n",
       "}\n",
       "\n",
       ".xr-section-summary,\n",
       ".xr-section-inline-details {\n",
       "  padding-top: 4px;\n",
       "  padding-bottom: 4px;\n",
       "}\n",
       "\n",
       ".xr-section-inline-details {\n",
       "  grid-column: 2 / -1;\n",
       "}\n",
       "\n",
       ".xr-section-details {\n",
       "  display: none;\n",
       "  grid-column: 1 / -1;\n",
       "  margin-bottom: 5px;\n",
       "}\n",
       "\n",
       ".xr-section-summary-in:checked ~ .xr-section-details {\n",
       "  display: contents;\n",
       "}\n",
       "\n",
       ".xr-array-wrap {\n",
       "  grid-column: 1 / -1;\n",
       "  display: grid;\n",
       "  grid-template-columns: 20px auto;\n",
       "}\n",
       "\n",
       ".xr-array-wrap > label {\n",
       "  grid-column: 1;\n",
       "  vertical-align: top;\n",
       "}\n",
       "\n",
       ".xr-preview {\n",
       "  color: var(--xr-font-color3);\n",
       "}\n",
       "\n",
       ".xr-array-preview,\n",
       ".xr-array-data {\n",
       "  padding: 0 5px !important;\n",
       "  grid-column: 2;\n",
       "}\n",
       "\n",
       ".xr-array-data,\n",
       ".xr-array-in:checked ~ .xr-array-preview {\n",
       "  display: none;\n",
       "}\n",
       "\n",
       ".xr-array-in:checked ~ .xr-array-data,\n",
       ".xr-array-preview {\n",
       "  display: inline-block;\n",
       "}\n",
       "\n",
       ".xr-dim-list {\n",
       "  display: inline-block !important;\n",
       "  list-style: none;\n",
       "  padding: 0 !important;\n",
       "  margin: 0;\n",
       "}\n",
       "\n",
       ".xr-dim-list li {\n",
       "  display: inline-block;\n",
       "  padding: 0;\n",
       "  margin: 0;\n",
       "}\n",
       "\n",
       ".xr-dim-list:before {\n",
       "  content: '(';\n",
       "}\n",
       "\n",
       ".xr-dim-list:after {\n",
       "  content: ')';\n",
       "}\n",
       "\n",
       ".xr-dim-list li:not(:last-child):after {\n",
       "  content: ',';\n",
       "  padding-right: 5px;\n",
       "}\n",
       "\n",
       ".xr-has-index {\n",
       "  font-weight: bold;\n",
       "}\n",
       "\n",
       ".xr-var-list,\n",
       ".xr-var-item {\n",
       "  display: contents;\n",
       "}\n",
       "\n",
       ".xr-var-item > div,\n",
       ".xr-var-item label,\n",
       ".xr-var-item > .xr-var-name span {\n",
       "  background-color: var(--xr-background-color-row-even);\n",
       "  margin-bottom: 0;\n",
       "}\n",
       "\n",
       ".xr-var-item > .xr-var-name:hover span {\n",
       "  padding-right: 5px;\n",
       "}\n",
       "\n",
       ".xr-var-list > li:nth-child(odd) > div,\n",
       ".xr-var-list > li:nth-child(odd) > label,\n",
       ".xr-var-list > li:nth-child(odd) > .xr-var-name span {\n",
       "  background-color: var(--xr-background-color-row-odd);\n",
       "}\n",
       "\n",
       ".xr-var-name {\n",
       "  grid-column: 1;\n",
       "}\n",
       "\n",
       ".xr-var-dims {\n",
       "  grid-column: 2;\n",
       "}\n",
       "\n",
       ".xr-var-dtype {\n",
       "  grid-column: 3;\n",
       "  text-align: right;\n",
       "  color: var(--xr-font-color2);\n",
       "}\n",
       "\n",
       ".xr-var-preview {\n",
       "  grid-column: 4;\n",
       "}\n",
       "\n",
       ".xr-index-preview {\n",
       "  grid-column: 2 / 5;\n",
       "  color: var(--xr-font-color2);\n",
       "}\n",
       "\n",
       ".xr-var-name,\n",
       ".xr-var-dims,\n",
       ".xr-var-dtype,\n",
       ".xr-preview,\n",
       ".xr-attrs dt {\n",
       "  white-space: nowrap;\n",
       "  overflow: hidden;\n",
       "  text-overflow: ellipsis;\n",
       "  padding-right: 10px;\n",
       "}\n",
       "\n",
       ".xr-var-name:hover,\n",
       ".xr-var-dims:hover,\n",
       ".xr-var-dtype:hover,\n",
       ".xr-attrs dt:hover {\n",
       "  overflow: visible;\n",
       "  width: auto;\n",
       "  z-index: 1;\n",
       "}\n",
       "\n",
       ".xr-var-attrs,\n",
       ".xr-var-data,\n",
       ".xr-index-data {\n",
       "  display: none;\n",
       "  background-color: var(--xr-background-color) !important;\n",
       "  padding-bottom: 5px !important;\n",
       "}\n",
       "\n",
       ".xr-var-attrs-in:checked ~ .xr-var-attrs,\n",
       ".xr-var-data-in:checked ~ .xr-var-data,\n",
       ".xr-index-data-in:checked ~ .xr-index-data {\n",
       "  display: block;\n",
       "}\n",
       "\n",
       ".xr-var-data > table {\n",
       "  float: right;\n",
       "}\n",
       "\n",
       ".xr-var-name span,\n",
       ".xr-var-data,\n",
       ".xr-index-name div,\n",
       ".xr-index-data,\n",
       ".xr-attrs {\n",
       "  padding-left: 25px !important;\n",
       "}\n",
       "\n",
       ".xr-attrs,\n",
       ".xr-var-attrs,\n",
       ".xr-var-data,\n",
       ".xr-index-data {\n",
       "  grid-column: 1 / -1;\n",
       "}\n",
       "\n",
       "dl.xr-attrs {\n",
       "  padding: 0;\n",
       "  margin: 0;\n",
       "  display: grid;\n",
       "  grid-template-columns: 125px auto;\n",
       "}\n",
       "\n",
       ".xr-attrs dt,\n",
       ".xr-attrs dd {\n",
       "  padding: 0;\n",
       "  margin: 0;\n",
       "  float: left;\n",
       "  padding-right: 10px;\n",
       "  width: auto;\n",
       "}\n",
       "\n",
       ".xr-attrs dt {\n",
       "  font-weight: normal;\n",
       "  grid-column: 1;\n",
       "}\n",
       "\n",
       ".xr-attrs dt:hover span {\n",
       "  display: inline-block;\n",
       "  background: var(--xr-background-color);\n",
       "  padding-right: 10px;\n",
       "}\n",
       "\n",
       ".xr-attrs dd {\n",
       "  grid-column: 2;\n",
       "  white-space: pre-wrap;\n",
       "  word-break: break-all;\n",
       "}\n",
       "\n",
       ".xr-icon-database,\n",
       ".xr-icon-file-text2,\n",
       ".xr-no-icon {\n",
       "  display: inline-block;\n",
       "  vertical-align: middle;\n",
       "  width: 1em;\n",
       "  height: 1.5em !important;\n",
       "  stroke-width: 0;\n",
       "  stroke: currentColor;\n",
       "  fill: currentColor;\n",
       "}\n",
       "</style><pre class='xr-text-repr-fallback'>&lt;xarray.Dataset&gt;\n",
       "Dimensions:         (variable: 8, sample: 600, sensor: 10, time: 100, mask: 2,\n",
       "                     pot_leak: 20, target_time: 1, sensor_loc: 3)\n",
       "Coordinates:\n",
       "  * variable        (variable) object &#x27;ref_distance&#x27; &#x27;ref_azi_sin&#x27; ... &#x27;q_CH4&#x27;\n",
       "  * sensor_loc      (sensor_loc) object &#x27;xPos&#x27; &#x27;yPos&#x27; &#x27;zPos&#x27;\n",
       "Dimensions without coordinates: sample, sensor, time, mask, pot_leak,\n",
       "                                target_time\n",
       "Data variables:\n",
       "    encoder_input   (sample, sensor, time, variable, mask) float64 ...\n",
       "    decoder_input   (sample, pot_leak, target_time, variable, mask) float64 ...\n",
       "    target          (sample, pot_leak, target_time) float64 ...\n",
       "    sensor_meta     (sample, sensor, sensor_loc) float64 ...\n",
       "    leak_meta       (sample, pot_leak, sensor_loc) float64 ...\n",
       "    met_sensor_loc  (sample, sensor_loc) float64 ...</pre><div class='xr-wrap' style='display:none'><div class='xr-header'><div class='xr-obj-type'>xarray.Dataset</div></div><ul class='xr-sections'><li class='xr-section-item'><input id='section-f6b44912-e9e7-452a-86fd-4963c776a4a2' class='xr-section-summary-in' type='checkbox' disabled ><label for='section-f6b44912-e9e7-452a-86fd-4963c776a4a2' class='xr-section-summary'  title='Expand/collapse section'>Dimensions:</label><div class='xr-section-inline-details'><ul class='xr-dim-list'><li><span class='xr-has-index'>variable</span>: 8</li><li><span>sample</span>: 600</li><li><span>sensor</span>: 10</li><li><span>time</span>: 100</li><li><span>mask</span>: 2</li><li><span>pot_leak</span>: 20</li><li><span>target_time</span>: 1</li><li><span class='xr-has-index'>sensor_loc</span>: 3</li></ul></div><div class='xr-section-details'></div></li><li class='xr-section-item'><input id='section-d346d41a-5ae2-44b8-9cdd-885ddb78a363' class='xr-section-summary-in' type='checkbox'  checked><label for='section-d346d41a-5ae2-44b8-9cdd-885ddb78a363' class='xr-section-summary' >Coordinates: <span>(2)</span></label><div class='xr-section-inline-details'></div><div class='xr-section-details'><ul class='xr-var-list'><li class='xr-var-item'><div class='xr-var-name'><span class='xr-has-index'>variable</span></div><div class='xr-var-dims'>(variable)</div><div class='xr-var-dtype'>object</div><div class='xr-var-preview xr-preview'>&#x27;ref_distance&#x27; ... &#x27;q_CH4&#x27;</div><input id='attrs-2cc01574-e055-4710-87b6-33548e24b07c' class='xr-var-attrs-in' type='checkbox' disabled><label for='attrs-2cc01574-e055-4710-87b6-33548e24b07c' title='Show/Hide attributes'><svg class='icon xr-icon-file-text2'><use xlink:href='#icon-file-text2'></use></svg></label><input id='data-dcf1c70d-f23e-49b5-b483-633fdd348b76' class='xr-var-data-in' type='checkbox'><label for='data-dcf1c70d-f23e-49b5-b483-633fdd348b76' title='Show/Hide data repr'><svg class='icon xr-icon-database'><use xlink:href='#icon-database'></use></svg></label><div class='xr-var-attrs'><dl class='xr-attrs'></dl></div><div class='xr-var-data'><pre>array([&#x27;ref_distance&#x27;, &#x27;ref_azi_sin&#x27;, &#x27;ref_azi_cos&#x27;, &#x27;ref_elv&#x27;, &#x27;u&#x27;, &#x27;v&#x27;, &#x27;w&#x27;,\n",
       "       &#x27;q_CH4&#x27;], dtype=object)</pre></div></li><li class='xr-var-item'><div class='xr-var-name'><span class='xr-has-index'>sensor_loc</span></div><div class='xr-var-dims'>(sensor_loc)</div><div class='xr-var-dtype'>object</div><div class='xr-var-preview xr-preview'>&#x27;xPos&#x27; &#x27;yPos&#x27; &#x27;zPos&#x27;</div><input id='attrs-912750c5-fd15-4168-bfbe-b4a2f35bb38e' class='xr-var-attrs-in' type='checkbox' disabled><label for='attrs-912750c5-fd15-4168-bfbe-b4a2f35bb38e' title='Show/Hide attributes'><svg class='icon xr-icon-file-text2'><use xlink:href='#icon-file-text2'></use></svg></label><input id='data-ba43cfba-c85e-43bb-b3d5-42db78c3c19b' class='xr-var-data-in' type='checkbox'><label for='data-ba43cfba-c85e-43bb-b3d5-42db78c3c19b' title='Show/Hide data repr'><svg class='icon xr-icon-database'><use xlink:href='#icon-database'></use></svg></label><div class='xr-var-attrs'><dl class='xr-attrs'></dl></div><div class='xr-var-data'><pre>array([&#x27;xPos&#x27;, &#x27;yPos&#x27;, &#x27;zPos&#x27;], dtype=object)</pre></div></li></ul></div></li><li class='xr-section-item'><input id='section-410b9fa7-b496-4fb3-bb3f-178fe2bdf219' class='xr-section-summary-in' type='checkbox'  checked><label for='section-410b9fa7-b496-4fb3-bb3f-178fe2bdf219' class='xr-section-summary' >Data variables: <span>(6)</span></label><div class='xr-section-inline-details'></div><div class='xr-section-details'><ul class='xr-var-list'><li class='xr-var-item'><div class='xr-var-name'><span>encoder_input</span></div><div class='xr-var-dims'>(sample, sensor, time, variable, mask)</div><div class='xr-var-dtype'>float64</div><div class='xr-var-preview xr-preview'>...</div><input id='attrs-abbf2763-5ec6-47b3-ab56-7e17ca8855ed' class='xr-var-attrs-in' type='checkbox' disabled><label for='attrs-abbf2763-5ec6-47b3-ab56-7e17ca8855ed' title='Show/Hide attributes'><svg class='icon xr-icon-file-text2'><use xlink:href='#icon-file-text2'></use></svg></label><input id='data-e7cdc7f3-d61c-49eb-b5ec-ddde5ad49ac4' class='xr-var-data-in' type='checkbox'><label for='data-e7cdc7f3-d61c-49eb-b5ec-ddde5ad49ac4' title='Show/Hide data repr'><svg class='icon xr-icon-database'><use xlink:href='#icon-database'></use></svg></label><div class='xr-var-attrs'><dl class='xr-attrs'></dl></div><div class='xr-var-data'><pre>[9600000 values with dtype=float64]</pre></div></li><li class='xr-var-item'><div class='xr-var-name'><span>decoder_input</span></div><div class='xr-var-dims'>(sample, pot_leak, target_time, variable, mask)</div><div class='xr-var-dtype'>float64</div><div class='xr-var-preview xr-preview'>...</div><input id='attrs-30ad4e2e-2969-43ac-a822-c47518f58c38' class='xr-var-attrs-in' type='checkbox' disabled><label for='attrs-30ad4e2e-2969-43ac-a822-c47518f58c38' title='Show/Hide attributes'><svg class='icon xr-icon-file-text2'><use xlink:href='#icon-file-text2'></use></svg></label><input id='data-010002c7-fc6d-44d7-801a-26dc2a59cc7a' class='xr-var-data-in' type='checkbox'><label for='data-010002c7-fc6d-44d7-801a-26dc2a59cc7a' title='Show/Hide data repr'><svg class='icon xr-icon-database'><use xlink:href='#icon-database'></use></svg></label><div class='xr-var-attrs'><dl class='xr-attrs'></dl></div><div class='xr-var-data'><pre>[192000 values with dtype=float64]</pre></div></li><li class='xr-var-item'><div class='xr-var-name'><span>target</span></div><div class='xr-var-dims'>(sample, pot_leak, target_time)</div><div class='xr-var-dtype'>float64</div><div class='xr-var-preview xr-preview'>...</div><input id='attrs-9c135587-68f4-4e2b-b025-1eaf48956514' class='xr-var-attrs-in' type='checkbox' disabled><label for='attrs-9c135587-68f4-4e2b-b025-1eaf48956514' title='Show/Hide attributes'><svg class='icon xr-icon-file-text2'><use xlink:href='#icon-file-text2'></use></svg></label><input id='data-5beb9eec-23b7-4aa8-9f5f-3b9670ab0c56' class='xr-var-data-in' type='checkbox'><label for='data-5beb9eec-23b7-4aa8-9f5f-3b9670ab0c56' title='Show/Hide data repr'><svg class='icon xr-icon-database'><use xlink:href='#icon-database'></use></svg></label><div class='xr-var-attrs'><dl class='xr-attrs'></dl></div><div class='xr-var-data'><pre>[12000 values with dtype=float64]</pre></div></li><li class='xr-var-item'><div class='xr-var-name'><span>sensor_meta</span></div><div class='xr-var-dims'>(sample, sensor, sensor_loc)</div><div class='xr-var-dtype'>float64</div><div class='xr-var-preview xr-preview'>...</div><input id='attrs-09aaa8c2-8848-44ea-8c59-1c1cc89c49ba' class='xr-var-attrs-in' type='checkbox' disabled><label for='attrs-09aaa8c2-8848-44ea-8c59-1c1cc89c49ba' title='Show/Hide attributes'><svg class='icon xr-icon-file-text2'><use xlink:href='#icon-file-text2'></use></svg></label><input id='data-9c2b6378-38fa-4570-9a2b-06c6a1c60d7c' class='xr-var-data-in' type='checkbox'><label for='data-9c2b6378-38fa-4570-9a2b-06c6a1c60d7c' title='Show/Hide data repr'><svg class='icon xr-icon-database'><use xlink:href='#icon-database'></use></svg></label><div class='xr-var-attrs'><dl class='xr-attrs'></dl></div><div class='xr-var-data'><pre>[18000 values with dtype=float64]</pre></div></li><li class='xr-var-item'><div class='xr-var-name'><span>leak_meta</span></div><div class='xr-var-dims'>(sample, pot_leak, sensor_loc)</div><div class='xr-var-dtype'>float64</div><div class='xr-var-preview xr-preview'>...</div><input id='attrs-4897606f-88cc-467c-bd36-199f0169fd40' class='xr-var-attrs-in' type='checkbox' disabled><label for='attrs-4897606f-88cc-467c-bd36-199f0169fd40' title='Show/Hide attributes'><svg class='icon xr-icon-file-text2'><use xlink:href='#icon-file-text2'></use></svg></label><input id='data-7a879598-aba5-4a93-8fca-efc257eb97cc' class='xr-var-data-in' type='checkbox'><label for='data-7a879598-aba5-4a93-8fca-efc257eb97cc' title='Show/Hide data repr'><svg class='icon xr-icon-database'><use xlink:href='#icon-database'></use></svg></label><div class='xr-var-attrs'><dl class='xr-attrs'></dl></div><div class='xr-var-data'><pre>[36000 values with dtype=float64]</pre></div></li><li class='xr-var-item'><div class='xr-var-name'><span>met_sensor_loc</span></div><div class='xr-var-dims'>(sample, sensor_loc)</div><div class='xr-var-dtype'>float64</div><div class='xr-var-preview xr-preview'>...</div><input id='attrs-02375171-320f-4953-b54b-93c1f6de63bc' class='xr-var-attrs-in' type='checkbox' disabled><label for='attrs-02375171-320f-4953-b54b-93c1f6de63bc' title='Show/Hide attributes'><svg class='icon xr-icon-file-text2'><use xlink:href='#icon-file-text2'></use></svg></label><input id='data-610525ff-3416-4f25-9039-3268a2feb13c' class='xr-var-data-in' type='checkbox'><label for='data-610525ff-3416-4f25-9039-3268a2feb13c' title='Show/Hide data repr'><svg class='icon xr-icon-database'><use xlink:href='#icon-database'></use></svg></label><div class='xr-var-attrs'><dl class='xr-attrs'></dl></div><div class='xr-var-data'><pre>[1800 values with dtype=float64]</pre></div></li></ul></div></li><li class='xr-section-item'><input id='section-5b7aca8f-be61-4305-b926-d6a4b3828335' class='xr-section-summary-in' type='checkbox'  ><label for='section-5b7aca8f-be61-4305-b926-d6a4b3828335' class='xr-section-summary' >Indexes: <span>(2)</span></label><div class='xr-section-inline-details'></div><div class='xr-section-details'><ul class='xr-var-list'><li class='xr-var-item'><div class='xr-index-name'><div>variable</div></div><div class='xr-index-preview'>PandasIndex</div><div></div><input id='index-ec44a630-dc0d-4016-a227-cc1e1f01415d' class='xr-index-data-in' type='checkbox'/><label for='index-ec44a630-dc0d-4016-a227-cc1e1f01415d' title='Show/Hide index repr'><svg class='icon xr-icon-database'><use xlink:href='#icon-database'></use></svg></label><div class='xr-index-data'><pre>PandasIndex(Index([&#x27;ref_distance&#x27;, &#x27;ref_azi_sin&#x27;, &#x27;ref_azi_cos&#x27;, &#x27;ref_elv&#x27;, &#x27;u&#x27;, &#x27;v&#x27;, &#x27;w&#x27;,\n",
       "       &#x27;q_CH4&#x27;],\n",
       "      dtype=&#x27;object&#x27;, name=&#x27;variable&#x27;))</pre></div></li><li class='xr-var-item'><div class='xr-index-name'><div>sensor_loc</div></div><div class='xr-index-preview'>PandasIndex</div><div></div><input id='index-e2900b0b-3a92-4f84-a51a-95f31c5cab88' class='xr-index-data-in' type='checkbox'/><label for='index-e2900b0b-3a92-4f84-a51a-95f31c5cab88' title='Show/Hide index repr'><svg class='icon xr-icon-database'><use xlink:href='#icon-database'></use></svg></label><div class='xr-index-data'><pre>PandasIndex(Index([&#x27;xPos&#x27;, &#x27;yPos&#x27;, &#x27;zPos&#x27;], dtype=&#x27;object&#x27;, name=&#x27;sensor_loc&#x27;))</pre></div></li></ul></div></li><li class='xr-section-item'><input id='section-b8f43294-ef35-4bb8-af20-5787bf6abcf4' class='xr-section-summary-in' type='checkbox' disabled ><label for='section-b8f43294-ef35-4bb8-af20-5787bf6abcf4' class='xr-section-summary'  title='Expand/collapse section'>Attributes: <span>(0)</span></label><div class='xr-section-inline-details'></div><div class='xr-section-details'><dl class='xr-attrs'></dl></div></li></ul></div></div>"
      ],
      "text/plain": [
       "<xarray.Dataset>\n",
       "Dimensions:         (variable: 8, sample: 600, sensor: 10, time: 100, mask: 2,\n",
       "                     pot_leak: 20, target_time: 1, sensor_loc: 3)\n",
       "Coordinates:\n",
       "  * variable        (variable) object 'ref_distance' 'ref_azi_sin' ... 'q_CH4'\n",
       "  * sensor_loc      (sensor_loc) object 'xPos' 'yPos' 'zPos'\n",
       "Dimensions without coordinates: sample, sensor, time, mask, pot_leak,\n",
       "                                target_time\n",
       "Data variables:\n",
       "    encoder_input   (sample, sensor, time, variable, mask) float64 ...\n",
       "    decoder_input   (sample, pot_leak, target_time, variable, mask) float64 ...\n",
       "    target          (sample, pot_leak, target_time) float64 ...\n",
       "    sensor_meta     (sample, sensor, sensor_loc) float64 ...\n",
       "    leak_meta       (sample, pot_leak, sensor_loc) float64 ...\n",
       "    met_sensor_loc  (sample, sensor_loc) float64 ..."
      ]
     },
     "execution_count": 36,
     "metadata": {},
     "output_type": "execute_result"
    }
   ],
   "source": [
    "ds = xr.open_dataset(data)\n",
    "ds"
   ]
  },
  {
   "cell_type": "markdown",
   "id": "2654b93a",
   "metadata": {},
   "source": [
    "## Dataset Exploration"
   ]
  },
  {
   "cell_type": "markdown",
   "id": "d10b1b67",
   "metadata": {},
   "source": [
    "in this dataset, there are 600 samples."
   ]
  },
  {
   "cell_type": "code",
   "execution_count": 37,
   "id": "e1634920",
   "metadata": {},
   "outputs": [
    {
     "data": {
      "text/plain": [
       "422"
      ]
     },
     "execution_count": 37,
     "metadata": {},
     "output_type": "execute_result"
    }
   ],
   "source": [
    "sample_num = np.random.choice(ds.sample.values)\n",
    "sample_num"
   ]
  },
  {
   "cell_type": "markdown",
   "id": "b6f7b120",
   "metadata": {},
   "source": [
    "#### Small Function to drop rows of zeros"
   ]
  },
  {
   "cell_type": "code",
   "execution_count": 38,
   "id": "1c9c63cc",
   "metadata": {},
   "outputs": [],
   "source": [
    "def remove_zero_rows(arr):\n",
    "    \"\"\"\n",
    "    Removes rows containing all zeros from a NumPy array.\n",
    "\n",
    "    Parameters:\n",
    "    - arr (numpy.ndarray): The input array from which rows with all zeros will be removed.\n",
    "\n",
    "    Returns:\n",
    "    numpy.ndarray: An array with rows containing all zeros removed.\n",
    "\n",
    "    Raises:\n",
    "    TypeError: If the input is not a NumPy array.\n",
    "    \"\"\"\n",
    "    # Check if the input is a numpy array\n",
    "    if not isinstance(arr, np.ndarray):\n",
    "        raise TypeError(\"Input must be a numpy array\")\n",
    "\n",
    "    # Check if the array is empty\n",
    "    if arr.size == 0:\n",
    "        return arr\n",
    "\n",
    "    # Find rows where all elements are zero\n",
    "    non_zero_rows = np.any(arr != 0, axis=1)\n",
    "\n",
    "    # Filter the array to keep only non-zero rows\n",
    "    result = arr[non_zero_rows]\n",
    "\n",
    "    return result"
   ]
  },
  {
   "cell_type": "code",
   "execution_count": 39,
   "id": "e5fddaf7",
   "metadata": {},
   "outputs": [
    {
     "name": "stdout",
     "output_type": "stream",
     "text": [
      "number of sensors in this sample: 8\n"
     ]
    }
   ],
   "source": [
    "sensor_locations = remove_zero_rows(ds.sensor_meta.isel(sample=sample_num).values)\n",
    "num_of_sensors = sensor_locations.shape[0]\n",
    "print('number of sensors in this sample:', num_of_sensors)"
   ]
  },
  {
   "cell_type": "code",
   "execution_count": 40,
   "id": "7c7e693b",
   "metadata": {},
   "outputs": [
    {
     "name": "stdout",
     "output_type": "stream",
     "text": [
      "shape of ch4 output! (8, 100)\n"
     ]
    }
   ],
   "source": [
    "print('shape of ch4 output!', ds.encoder_input.isel(sample=sample_num, sensor=slice(0, num_of_sensors), mask=0).sel(variable='q_CH4').values.shape)\n",
    "ch4_data = ds.encoder_input.isel(sample=sample_num, sensor=slice(0, num_of_sensors), mask=0).sel(variable='q_CH4').values"
   ]
  },
  {
   "cell_type": "code",
   "execution_count": 41,
   "id": "3e5bf447",
   "metadata": {},
   "outputs": [
    {
     "data": {
      "image/png": "[encoded data removed]",
      "text/plain": [
       "<Figure size 1000x600 with 1 Axes>"
      ]
     },
     "metadata": {},
     "output_type": "display_data"
    }
   ],
   "source": [
    "# Convert the NumPy array to a pandas DataFrame for Seaborn\n",
    "\n",
    "sensor_names = [f'Sensor {i+1}' for i in range(num_of_sensors)]\n",
    "#sensor_names\n",
    "df = pd.DataFrame(ch4_data.T, columns=sensor_names)\n",
    "\n",
    "# Create violin plots using Seaborn\n",
    "sns.set(style=\"whitegrid\")\n",
    "plt.figure(figsize=(10, 6))  # Adjust the figure size as needed\n",
    "sns.violinplot(data=df, palette=\"Set3\", inner=\"quartile\")\n",
    "\n",
    "# Set plot labels and title\n",
    "plt.xlabel('Sensors')\n",
    "plt.ylabel('Values')\n",
    "plt.title('Violin Plots for Each Sensor')\n",
    "\n",
    "# Show the plot\n",
    "plt.show()"
   ]
  },
  {
   "cell_type": "code",
   "execution_count": 42,
   "id": "c0f7e347",
   "metadata": {},
   "outputs": [
    {
     "data": {
      "text/plain": [
       "array([[9.70000000e+01, 2.00500000e+03, 1.00002539e+00],\n",
       "       [9.90000000e+01, 1.99900000e+03, 1.00002539e+00],\n",
       "       [9.50000000e+01, 2.00500000e+03, 1.00002539e+00],\n",
       "       [9.90000000e+01, 2.00500000e+03, 1.00002539e+00],\n",
       "       [1.15000000e+02, 1.98900000e+03, 1.00002539e+00],\n",
       "       [7.50000000e+01, 2.00700000e+03, 1.00002539e+00],\n",
       "       [8.30000000e+01, 1.99900000e+03, 1.00002539e+00],\n",
       "       [1.13000000e+02, 1.98700000e+03, 1.00002539e+00]])"
      ]
     },
     "execution_count": 42,
     "metadata": {},
     "output_type": "execute_result"
    }
   ],
   "source": [
    "leak_locations = remove_zero_rows(ds.leak_meta.isel(sample=sample_num).values)\n",
    "leak_locations"
   ]
  },
  {
   "cell_type": "markdown",
   "id": "ead69346-703a-4bc7-aec6-cc2a227d0972",
   "metadata": {},
   "source": [
    "## Create x and y locations"
   ]
  },
  {
   "cell_type": "markdown",
   "id": "889cea07-3905-4200-8702-38dc7388acf0",
   "metadata": {},
   "source": [
    "#### Quick Plot"
   ]
  },
  {
   "cell_type": "code",
   "execution_count": 43,
   "id": "fff7df0d-4137-4ea3-85d5-bfbf0e5f2a84",
   "metadata": {
    "tags": []
   },
   "outputs": [
    {
     "data": {
      "image/png": "[encoded data removed]",
      "text/plain": [
       "<Figure size 600x700 with 1 Axes>"
      ]
     },
     "metadata": {},
     "output_type": "display_data"
    }
   ],
   "source": [
    "plt.figure(figsize=(6, 7))\n",
    "\n",
    "plt.scatter(sensor_locations[:,0], sensor_locations[:,1], label='sensors', color='black')\n",
    "plt.scatter(leak_locations[:,0], leak_locations[:,1], marker=\"v\", label='leak locations', color='red')\n",
    "\n",
    "plt.legend()\n",
    "plt.xlabel('X Dim')\n",
    "plt.ylabel('Y Dim')\n",
    "plt.title('Sensor and Leak Locations')\n",
    "\n",
    "plt.show()"
   ]
  },
  {
   "cell_type": "code",
   "execution_count": 44,
   "id": "5801e274",
   "metadata": {},
   "outputs": [
    {
     "data": {
      "text/plain": [
       "(8, 100)"
      ]
     },
     "execution_count": 44,
     "metadata": {},
     "output_type": "execute_result"
    }
   ],
   "source": [
    "ch4_data.shape"
   ]
  },
  {
   "cell_type": "code",
   "execution_count": 45,
   "id": "84566256",
   "metadata": {},
   "outputs": [],
   "source": [
    "ch4_median = np.median(ch4_data, axis=1)"
   ]
  },
  {
   "cell_type": "code",
   "execution_count": 46,
   "id": "74952a9b",
   "metadata": {},
   "outputs": [
    {
     "data": {
      "text/plain": [
       "True"
      ]
     },
     "execution_count": 46,
     "metadata": {},
     "output_type": "execute_result"
    }
   ],
   "source": [
    "len(sensor_locations[:,0]) == len(ch4_data) == len(sensor_locations[:,1])"
   ]
  },
  {
   "cell_type": "markdown",
   "id": "bdcce125-c668-4f83-9a7e-84d0f19f4232",
   "metadata": {},
   "source": [
    "## Interpolate the Data"
   ]
  },
  {
   "cell_type": "markdown",
   "id": "6aff9417",
   "metadata": {},
   "source": [
    "First step is creating a new meshgrid that is more dense"
   ]
  },
  {
   "cell_type": "code",
   "execution_count": 47,
   "id": "c78ef658",
   "metadata": {},
   "outputs": [],
   "source": [
    "x_new, y_new = create_meshgrid(sensor_locations[:,0], sensor_locations[:,1], buffer=20, grid_points=100)"
   ]
  },
  {
   "cell_type": "code",
   "execution_count": 48,
   "id": "2e2651c3",
   "metadata": {},
   "outputs": [
    {
     "data": {
      "text/plain": [
       "(100, 100)"
      ]
     },
     "execution_count": 48,
     "metadata": {},
     "output_type": "execute_result"
    }
   ],
   "source": [
    "x_new.shape"
   ]
  },
  {
   "cell_type": "markdown",
   "id": "95b83a33",
   "metadata": {},
   "source": [
    "#### Create X and y training data"
   ]
  },
  {
   "cell_type": "code",
   "execution_count": 49,
   "id": "bb3d68f2",
   "metadata": {},
   "outputs": [
    {
     "data": {
      "text/plain": [
       "(10000, 2)"
      ]
     },
     "execution_count": 49,
     "metadata": {},
     "output_type": "execute_result"
    }
   ],
   "source": [
    "X_train = np.column_stack((sensor_locations[:,0], sensor_locations[:,1]))\n",
    "y_train = ch4_median\n",
    "\n",
    "# new mesh data points\n",
    "X_test = np.column_stack((x_new.ravel(), y_new.ravel()))\n",
    "np.shape(X_test)"
   ]
  },
  {
   "cell_type": "markdown",
   "id": "17a489a0",
   "metadata": {},
   "source": [
    "## SciPy Interpolator"
   ]
  },
  {
   "cell_type": "code",
   "execution_count": 50,
   "id": "9a3f6d9b",
   "metadata": {},
   "outputs": [
    {
     "data": {
      "text/plain": [
       "<baseline.ScipyInterpolate at 0x16a723190>"
      ]
     },
     "execution_count": 50,
     "metadata": {},
     "output_type": "execute_result"
    }
   ],
   "source": [
    "scipy_model = ScipyInterpolate()\n",
    "scipy_model.fit(X_train, y_train)"
   ]
  },
  {
   "cell_type": "code",
   "execution_count": 51,
   "id": "32903506",
   "metadata": {},
   "outputs": [
    {
     "name": "stdout",
     "output_type": "stream",
     "text": [
      "type: <class 'numpy.ndarray'>\n",
      "size: (100, 100)\n"
     ]
    }
   ],
   "source": [
    "z_interpolated = scipy_model.predict(X_test)\n",
    "\n",
    "print('type:', type(z_interpolated))\n",
    "print('size:', np.shape(z_interpolated))\n",
    "\n",
    "max_z = np.nanmax(z_interpolated)\n",
    "max_indices = np.where(z_interpolated == max_z)"
   ]
  },
  {
   "cell_type": "markdown",
   "id": "57d953d4-72d7-4300-8a19-880479fb7d69",
   "metadata": {
    "tags": []
   },
   "source": [
    "## Using Scikit-learn methods"
   ]
  },
  {
   "cell_type": "markdown",
   "id": "478e1d5d-3fd5-415a-a5da-f89c791c7b5f",
   "metadata": {},
   "source": [
    "### Gaussian Processes Regressor"
   ]
  },
  {
   "cell_type": "code",
   "execution_count": 52,
   "id": "d43b7810",
   "metadata": {},
   "outputs": [
    {
     "name": "stderr",
     "output_type": "stream",
     "text": [
      "/Users/thomasmartin/anaconda3/envs/py10-viz/lib/python3.10/site-packages/sklearn/gaussian_process/kernels.py:429: ConvergenceWarning: The optimal value found for dimension 0 of parameter length_scale is close to the specified upper bound 100000.0. Increasing the bound and calling fit again may find a better value.\n",
      "  warnings.warn(\n"
     ]
    },
    {
     "data": {
      "text/plain": [
       "<baseline.GaussianProcessInterpolator at 0x16a7232e0>"
      ]
     },
     "execution_count": 52,
     "metadata": {},
     "output_type": "execute_result"
    }
   ],
   "source": [
    "gp_mo = GaussianProcessInterpolator()\n",
    "gp_mo.fit(X_train, y_train)"
   ]
  },
  {
   "cell_type": "code",
   "execution_count": 53,
   "id": "77945a31",
   "metadata": {},
   "outputs": [
    {
     "name": "stdout",
     "output_type": "stream",
     "text": [
      "type: <class 'numpy.ndarray'>\n",
      "size: (100, 100)\n"
     ]
    }
   ],
   "source": [
    "reshaped_gp_results = gp_mo.predict(X_test)\n",
    "\n",
    "print('type:', type(reshaped_gp_results))\n",
    "print('size:', np.shape(reshaped_gp_results))\n",
    "\n",
    "max_z_gp = np.nanmax(reshaped_gp_results)\n",
    "max_indices_gp = np.where(max_z_gp == reshaped_gp_results)"
   ]
  },
  {
   "cell_type": "markdown",
   "id": "782377db-632a-4eeb-83d8-06933d814489",
   "metadata": {},
   "source": [
    "#### Random Forest Model"
   ]
  },
  {
   "cell_type": "code",
   "execution_count": 54,
   "id": "a3880b35",
   "metadata": {},
   "outputs": [
    {
     "data": {
      "text/plain": [
       "<baseline.RandomForestInterpolator at 0x16a54b0a0>"
      ]
     },
     "execution_count": 54,
     "metadata": {},
     "output_type": "execute_result"
    }
   ],
   "source": [
    "rf_mo = RandomForestInterpolator()\n",
    "rf_mo.fit(X_train, y_train)"
   ]
  },
  {
   "cell_type": "code",
   "execution_count": 55,
   "id": "a42e782b",
   "metadata": {},
   "outputs": [
    {
     "name": "stdout",
     "output_type": "stream",
     "text": [
      "type: <class 'numpy.ndarray'>\n",
      "size: (100, 100)\n"
     ]
    }
   ],
   "source": [
    "reshaped_rf_results = rf_mo.predict(X_test)\n",
    "\n",
    "print('type:', type(reshaped_rf_results))\n",
    "print('size:', np.shape(reshaped_rf_results))\n",
    "\n",
    "max_z_rf = np.nanmax(reshaped_rf_results)\n",
    "max_indices_rf = np.where(max_z_rf == reshaped_rf_results)"
   ]
  },
  {
   "cell_type": "markdown",
   "id": "dcdf9335-5ed1-489a-b880-c5e1225b36fc",
   "metadata": {
    "tags": []
   },
   "source": [
    "## Find which sensor has the highest value"
   ]
  },
  {
   "cell_type": "code",
   "execution_count": 56,
   "id": "1185357c-3c2e-4e04-93f4-f2ab103f317c",
   "metadata": {
    "tags": []
   },
   "outputs": [
    {
     "data": {
      "text/plain": [
       "[96.51515151515152,\n",
       " 99.42424242424242,\n",
       " 94.57575757575758,\n",
       " 99.42424242424242,\n",
       " 114.93939393939394,\n",
       " 75.18181818181819,\n",
       " 82.93939393939394,\n",
       " 113.0]"
      ]
     },
     "execution_count": 56,
     "metadata": {},
     "output_type": "execute_result"
    }
   ],
   "source": [
    "closest_values_x, indicies_x = find_closest_values_with_indices(leak_locations[:,0], x_new.diagonal())\n",
    "closest_values_x"
   ]
  },
  {
   "cell_type": "code",
   "execution_count": 57,
   "id": "cc5e49ae-b1da-434d-86dd-08e454b8822e",
   "metadata": {
    "tags": []
   },
   "outputs": [
    {
     "data": {
      "text/plain": [
       "[2005.2222222222222,\n",
       " 1998.5757575757575,\n",
       " 2005.2222222222222,\n",
       " 2005.2222222222222,\n",
       " 1989.080808080808,\n",
       " 2007.121212121212,\n",
       " 1998.5757575757575,\n",
       " 1987.1818181818182]"
      ]
     },
     "execution_count": 57,
     "metadata": {},
     "output_type": "execute_result"
    }
   ],
   "source": [
    "closest_values_y, indicies_y = find_closest_values_with_indices(leak_locations[:,1], y_new.diagonal())\n",
    "closest_values_y"
   ]
  },
  {
   "cell_type": "code",
   "execution_count": 58,
   "id": "86fc78b3",
   "metadata": {},
   "outputs": [],
   "source": [
    "scipy_ = z_interpolated[indicies_x, indicies_y]\n",
    "gp_    = reshaped_gp_results[indicies_x, indicies_y]\n",
    "rf_    = reshaped_rf_results[indicies_x, indicies_y]"
   ]
  },
  {
   "cell_type": "code",
   "execution_count": 59,
   "id": "b1a69e7c-de2a-4337-bd79-1be528639637",
   "metadata": {
    "tags": []
   },
   "outputs": [
    {
     "name": "stdout",
     "output_type": "stream",
     "text": [
      "Which Leak location is most likely? - Using Standard Interpolator\n",
      "Index of the maximum value (ignoring NaN) is: 3\n"
     ]
    }
   ],
   "source": [
    "print(\"Which Leak location is most likely? - Using Standard Interpolator\")\n",
    "index_of_max_value = np.where(nanargmax_to_one(scipy_) == 1)[0][0]\n",
    "print(\"Index of the maximum value (ignoring NaN) is:\", index_of_max_value)"
   ]
  },
  {
   "cell_type": "code",
   "execution_count": 60,
   "id": "0c1aabe7-5428-4196-a7ff-233fc6d49904",
   "metadata": {
    "tags": []
   },
   "outputs": [
    {
     "name": "stdout",
     "output_type": "stream",
     "text": [
      "Which Leak location is most likely - Using Gaussian processes?\n",
      "Index of the maximum value (ignoring NaN) is: 3\n"
     ]
    }
   ],
   "source": [
    "print(\"Which Leak location is most likely - Using Gaussian processes?\")\n",
    "index_of_max_value_gp = np.where(nanargmax_to_one(gp_) == 1)[0][0]\n",
    "print(\"Index of the maximum value (ignoring NaN) is:\", index_of_max_value_gp)"
   ]
  },
  {
   "cell_type": "code",
   "execution_count": 61,
   "id": "d692b944-06e4-4f04-a6a7-0ef51a245e71",
   "metadata": {
    "tags": []
   },
   "outputs": [
    {
     "name": "stdout",
     "output_type": "stream",
     "text": [
      "Which Leak location is most likely - Using Random Forest?\n",
      "Index of the maximum value (ignoring NaN) is: 0\n"
     ]
    }
   ],
   "source": [
    "print(\"Which Leak location is most likely - Using Random Forest?\")\n",
    "index_of_max_value_rf = np.where(nanargmax_to_one(rf_) == 1)[0][0]\n",
    "print(\"Index of the maximum value (ignoring NaN) is:\", index_of_max_value_rf)"
   ]
  },
  {
   "cell_type": "markdown",
   "id": "d99f3dd4-dff6-4f3f-bdd1-ce148134533d",
   "metadata": {
    "tags": []
   },
   "source": [
    "## Comparison Plot"
   ]
  },
  {
   "cell_type": "code",
   "execution_count": 62,
   "id": "6e8418cd",
   "metadata": {},
   "outputs": [
    {
     "data": {
      "image/png": "[encoded data removed]",
      "text/plain": [
       "<Figure size 1600x1200 with 3 Axes>"
      ]
     },
     "metadata": {},
     "output_type": "display_data"
    }
   ],
   "source": [
    "x_pos = sensor_locations[:,0]\n",
    "y_pos = sensor_locations[:,1]\n",
    "\n",
    "x_pos_leak = leak_locations[:,0]\n",
    "y_pos_leak = leak_locations[:,1]\n",
    "\n",
    "\n",
    "buffer = 6\n",
    "\n",
    "global_min = np.round(np.min(ch4_median), 3) \n",
    "global_max = np.round(np.max(ch4_median), 3) \n",
    "\n",
    "fig, axes = plt.subplots(1, 3, figsize=(16, 12))\n",
    "\n",
    "# Common settings for all subplots\n",
    "for ax in axes:\n",
    "    ax.scatter(x_pos, y_pos, label='sensors', color='black')\n",
    "    ax.scatter(x_pos_leak, y_pos_leak, marker=\"v\", label='leak locations', color='red')\n",
    "    ax.set_xlim(min(x_pos - buffer - 4), max(x_pos + buffer + 4))\n",
    "    ax.set_ylim(min(y_pos - buffer - 4), max(y_pos + buffer + 4))\n",
    "\n",
    "# Plot 1 - First Block\n",
    "img = axes[0].imshow(z_interpolated.T, extent=(min(x_pos - buffer), max(x_pos + buffer), min(y_pos - buffer), max(y_pos + buffer)),\n",
    "                    origin='lower', cmap='viridis', alpha=0.5)\n",
    "\n",
    "#img.set_clim(global_min, global_max)  # Set color bar range\n",
    "\n",
    "axes[0].scatter(x_new[max_indices[0][0]][0], y_new[0][max_indices[1][0]], marker=\"X\", label='Global Max', color='Green', s=100, alpha=0.55)\n",
    "axes[0].scatter(x_pos_leak[index_of_max_value], y_pos_leak[index_of_max_value], marker=\"s\", label='Max Likely Sensor', color='Green', facecolors='none', s=300, linewidths=4)\n",
    "axes[0].legend()\n",
    "axes[0].set_title('Scipy Cubic Interpolator')\n",
    "\n",
    "# Plot 2 - Second Block\n",
    "img2 = axes[1].imshow(reshaped_gp_results.T, extent=(min(x_pos - buffer), max(x_pos + buffer), min(y_pos - buffer), max(y_pos + buffer)),\n",
    "                    origin='lower', cmap='viridis', alpha=0.5)\n",
    "\n",
    "#img2.set_clim(global_min, global_max)\n",
    "\n",
    "axes[1].scatter(x_pos_leak[index_of_max_value_gp], y_pos_leak[index_of_max_value_gp], marker=\"s\", label='Max Likely Sensor', color='Green', facecolors='none', s=300, linewidths=4)\n",
    "axes[1].scatter(x_new[max_indices_gp[0][0]][0], y_new[0][max_indices_gp[1][0]], marker=\"X\", label='Global Max', color='Green', s=100, alpha=0.55)\n",
    "axes[1].set_title('Scikit-learn Gaussian Processes')\n",
    "\n",
    "# Third Across\n",
    "img3 = axes[2].imshow(reshaped_rf_results.T, extent=(min(x_pos - buffer), max(x_pos + buffer), min(y_pos - buffer), max(y_pos + buffer)),\n",
    "                    origin='lower', cmap='viridis', alpha=0.5)\n",
    "\n",
    "#img3.set_clim(global_min, global_max)\n",
    "\n",
    "axes[2].scatter(x_new[max_indices_rf[0][0]][0], y_new[0][max_indices_rf[1][0]], marker=\"X\", label='Global Max', color='Green', s=100, alpha=0.55)\n",
    "axes[2].scatter(x_pos_leak[index_of_max_value_rf], y_pos_leak[index_of_max_value_rf], marker=\"s\", label='Max Likely Sensor', color='Green', facecolors='none', s=300, linewidths=4)\n",
    "axes[2].set_title('Random Forest Interpolation')\n",
    "\n",
    "# Add colorbar\n",
    "#cbar_ax = fig.add_axes([.94, 0.25, 0.05, 0.45])  # [x, y, width, height]\n",
    "#cbar = plt.colorbar(img, cax=cbar_ax)\n",
    "#cbar.set_label('Z values')\n",
    "\n",
    "# plt.tight_layout()\n",
    "plt.show()\n",
    "\n"
   ]
  },
  {
   "cell_type": "code",
   "execution_count": null,
   "id": "51d025cd",
   "metadata": {},
   "outputs": [],
   "source": []
  }
 ],
 "metadata": {
  "kernelspec": {
   "display_name": "py10-viz",
   "language": "python",
   "name": "python3"
  },
  "language_info": {
   "codemirror_mode": {
    "name": "ipython",
    "version": 3
   },
   "file_extension": ".py",
   "mimetype": "text/x-python",
   "name": "python",
   "nbconvert_exporter": "python",
   "pygments_lexer": "ipython3",
   "version": "3.10.12"
  }
 },
 "nbformat": 4,
 "nbformat_minor": 5
}
