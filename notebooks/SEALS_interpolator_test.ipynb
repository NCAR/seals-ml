{
 "cells": [
  {
   "cell_type": "markdown",
   "id": "8f476814-f7e4-4e05-a18b-03167e350dfe",
   "metadata": {},
   "source": [
    "# Interpolation Testbed Notebook"
   ]
  },
  {
   "cell_type": "markdown",
   "id": "cd0a2c55-beff-4470-ab9e-703555abd3bc",
   "metadata": {},
   "source": [
    "Short notebook to test various interpolation strategies. "
   ]
  },
  {
   "cell_type": "code",
   "execution_count": 30,
   "id": "260a2b87-deb0-4671-be8e-30f968f72c39",
   "metadata": {
    "tags": []
   },
   "outputs": [],
   "source": [
    "import sys \n",
    "\n",
    "import numpy as np\n",
    "import matplotlib.pyplot as plt\n",
    "\n",
    "from scipy.interpolate import griddata\n",
    "\n",
    "from sklearn.gaussian_process import GaussianProcessRegressor\n",
    "from sklearn.gaussian_process.kernels import RBF\n",
    "from sklearn.preprocessing import MinMaxScaler\n",
    "\n",
    "from sklearn.ensemble import RandomForestRegressor\n",
    "\n",
    "import xarray as xr"
   ]
  },
  {
   "cell_type": "code",
   "execution_count": 31,
   "id": "e785073f",
   "metadata": {},
   "outputs": [],
   "source": [
    "sys.path.insert(1, '../sealsml')"
   ]
  },
  {
   "cell_type": "code",
   "execution_count": 32,
   "id": "8853dcc9",
   "metadata": {},
   "outputs": [],
   "source": [
    "from baseline import create_meshgrid\n",
    "from baseline import ScipyInterpolate, GaussianProcessInterpolator, RandomForestInterpolator"
   ]
  },
  {
   "cell_type": "markdown",
   "id": "9f3cc516",
   "metadata": {},
   "source": [
    "## Random Sensor and Leak Grab"
   ]
  },
  {
   "cell_type": "code",
   "execution_count": 33,
   "id": "e9c73f8c",
   "metadata": {},
   "outputs": [],
   "source": [
    "num_sensors = 14"
   ]
  },
  {
   "cell_type": "code",
   "execution_count": 34,
   "id": "aef7ce4e",
   "metadata": {},
   "outputs": [
    {
     "name": "stdout",
     "output_type": "stream",
     "text": [
      "x locations [ 4 13 27 10  0 11  2 15 22 16 25 29 24 23]\n",
      "y locations [17 28 13 21 15  4 16  1 20  0  5 14 12 23]\n"
     ]
    }
   ],
   "source": [
    "random_x = np.random.choice(30, size=num_sensors, replace=False )  \n",
    "random_y = np.random.choice(30, size=num_sensors, replace=False )   \n",
    "print('x locations', random_x)\n",
    "print('y locations', random_y)"
   ]
  },
  {
   "cell_type": "code",
   "execution_count": 35,
   "id": "28628f22",
   "metadata": {},
   "outputs": [],
   "source": [
    "num_leaks = 5"
   ]
  },
  {
   "cell_type": "code",
   "execution_count": 36,
   "id": "00f22d44",
   "metadata": {},
   "outputs": [
    {
     "name": "stdout",
     "output_type": "stream",
     "text": [
      "x locations [ 3 12 28 11 15]\n",
      "y locations [ 8  1  3  9 15]\n"
     ]
    }
   ],
   "source": [
    "random_x_leak = np.random.choice(30, size=num_leaks-1, replace=False )  \n",
    "random_y_leak = np.random.choice(30, size=num_leaks-1, replace=False )  \n",
    "\n",
    "random_x_leak = np.append(random_x_leak, 15)\n",
    "random_y_leak = np.append(random_y_leak, 15)\n",
    "\n",
    "print('x locations', random_x_leak)\n",
    "print('y locations', random_y_leak)"
   ]
  },
  {
   "cell_type": "markdown",
   "id": "be516578-1cec-49e5-909c-751d9d13e9f0",
   "metadata": {},
   "source": [
    "## Loading in real data"
   ]
  },
  {
   "cell_type": "markdown",
   "id": "9ae94925",
   "metadata": {},
   "source": [
    "Since none of these need to be 'trained', if it works on one dataset, it will work on all of them. "
   ]
  },
  {
   "cell_type": "code",
   "execution_count": 37,
   "id": "a50529d4-4825-41e0-b2ac-3b5307c63a9f",
   "metadata": {
    "tags": []
   },
   "outputs": [],
   "source": [
    "data = '../data/SBL2m_Ug10_src10kg_a.6'"
   ]
  },
  {
   "cell_type": "code",
   "execution_count": 38,
   "id": "3252d731",
   "metadata": {},
   "outputs": [
    {
     "data": {
      "text/html": [
       "<div><svg style=\"position: absolute; width: 0; height: 0; overflow: hidden\">\n",
       "<defs>\n",
       "<symbol id=\"icon-database\" viewBox=\"0 0 32 32\">\n",
       "<path d=\"M16 0c-8.837 0-16 2.239-16 5v4c0 2.761 7.163 5 16 5s16-2.239 16-5v-4c0-2.761-7.163-5-16-5z\"></path>\n",
       "<path d=\"M16 17c-8.837 0-16-2.239-16-5v6c0 2.761 7.163 5 16 5s16-2.239 16-5v-6c0 2.761-7.163 5-16 5z\"></path>\n",
       "<path d=\"M16 26c-8.837 0-16-2.239-16-5v6c0 2.761 7.163 5 16 5s16-2.239 16-5v-6c0 2.761-7.163 5-16 5z\"></path>\n",
       "</symbol>\n",
       "<symbol id=\"icon-file-text2\" viewBox=\"0 0 32 32\">\n",
       "<path d=\"M28.681 7.159c-0.694-0.947-1.662-2.053-2.724-3.116s-2.169-2.030-3.116-2.724c-1.612-1.182-2.393-1.319-2.841-1.319h-15.5c-1.378 0-2.5 1.121-2.5 2.5v27c0 1.378 1.122 2.5 2.5 2.5h23c1.378 0 2.5-1.122 2.5-2.5v-19.5c0-0.448-0.137-1.23-1.319-2.841zM24.543 5.457c0.959 0.959 1.712 1.825 2.268 2.543h-4.811v-4.811c0.718 0.556 1.584 1.309 2.543 2.268zM28 29.5c0 0.271-0.229 0.5-0.5 0.5h-23c-0.271 0-0.5-0.229-0.5-0.5v-27c0-0.271 0.229-0.5 0.5-0.5 0 0 15.499-0 15.5 0v7c0 0.552 0.448 1 1 1h7v19.5z\"></path>\n",
       "<path d=\"M23 26h-14c-0.552 0-1-0.448-1-1s0.448-1 1-1h14c0.552 0 1 0.448 1 1s-0.448 1-1 1z\"></path>\n",
       "<path d=\"M23 22h-14c-0.552 0-1-0.448-1-1s0.448-1 1-1h14c0.552 0 1 0.448 1 1s-0.448 1-1 1z\"></path>\n",
       "<path d=\"M23 18h-14c-0.552 0-1-0.448-1-1s0.448-1 1-1h14c0.552 0 1 0.448 1 1s-0.448 1-1 1z\"></path>\n",
       "</symbol>\n",
       "</defs>\n",
       "</svg>\n",
       "<style>/* CSS stylesheet for displaying xarray objects in jupyterlab.\n",
       " *\n",
       " */\n",
       "\n",
       ":root {\n",
       "  --xr-font-color0: var(--jp-content-font-color0, rgba(0, 0, 0, 1));\n",
       "  --xr-font-color2: var(--jp-content-font-color2, rgba(0, 0, 0, 0.54));\n",
       "  --xr-font-color3: var(--jp-content-font-color3, rgba(0, 0, 0, 0.38));\n",
       "  --xr-border-color: var(--jp-border-color2, #e0e0e0);\n",
       "  --xr-disabled-color: var(--jp-layout-color3, #bdbdbd);\n",
       "  --xr-background-color: var(--jp-layout-color0, white);\n",
       "  --xr-background-color-row-even: var(--jp-layout-color1, white);\n",
       "  --xr-background-color-row-odd: var(--jp-layout-color2, #eeeeee);\n",
       "}\n",
       "\n",
       "html[theme=dark],\n",
       "body[data-theme=dark],\n",
       "body.vscode-dark {\n",
       "  --xr-font-color0: rgba(255, 255, 255, 1);\n",
       "  --xr-font-color2: rgba(255, 255, 255, 0.54);\n",
       "  --xr-font-color3: rgba(255, 255, 255, 0.38);\n",
       "  --xr-border-color: #1F1F1F;\n",
       "  --xr-disabled-color: #515151;\n",
       "  --xr-background-color: #111111;\n",
       "  --xr-background-color-row-even: #111111;\n",
       "  --xr-background-color-row-odd: #313131;\n",
       "}\n",
       "\n",
       ".xr-wrap {\n",
       "  display: block !important;\n",
       "  min-width: 300px;\n",
       "  max-width: 700px;\n",
       "}\n",
       "\n",
       ".xr-text-repr-fallback {\n",
       "  /* fallback to plain text repr when CSS is not injected (untrusted notebook) */\n",
       "  display: none;\n",
       "}\n",
       "\n",
       ".xr-header {\n",
       "  padding-top: 6px;\n",
       "  padding-bottom: 6px;\n",
       "  margin-bottom: 4px;\n",
       "  border-bottom: solid 1px var(--xr-border-color);\n",
       "}\n",
       "\n",
       ".xr-header > div,\n",
       ".xr-header > ul {\n",
       "  display: inline;\n",
       "  margin-top: 0;\n",
       "  margin-bottom: 0;\n",
       "}\n",
       "\n",
       ".xr-obj-type,\n",
       ".xr-array-name {\n",
       "  margin-left: 2px;\n",
       "  margin-right: 10px;\n",
       "}\n",
       "\n",
       ".xr-obj-type {\n",
       "  color: var(--xr-font-color2);\n",
       "}\n",
       "\n",
       ".xr-sections {\n",
       "  padding-left: 0 !important;\n",
       "  display: grid;\n",
       "  grid-template-columns: 150px auto auto 1fr 20px 20px;\n",
       "}\n",
       "\n",
       ".xr-section-item {\n",
       "  display: contents;\n",
       "}\n",
       "\n",
       ".xr-section-item input {\n",
       "  display: none;\n",
       "}\n",
       "\n",
       ".xr-section-item input + label {\n",
       "  color: var(--xr-disabled-color);\n",
       "}\n",
       "\n",
       ".xr-section-item input:enabled + label {\n",
       "  cursor: pointer;\n",
       "  color: var(--xr-font-color2);\n",
       "}\n",
       "\n",
       ".xr-section-item input:enabled + label:hover {\n",
       "  color: var(--xr-font-color0);\n",
       "}\n",
       "\n",
       ".xr-section-summary {\n",
       "  grid-column: 1;\n",
       "  color: var(--xr-font-color2);\n",
       "  font-weight: 500;\n",
       "}\n",
       "\n",
       ".xr-section-summary > span {\n",
       "  display: inline-block;\n",
       "  padding-left: 0.5em;\n",
       "}\n",
       "\n",
       ".xr-section-summary-in:disabled + label {\n",
       "  color: var(--xr-font-color2);\n",
       "}\n",
       "\n",
       ".xr-section-summary-in + label:before {\n",
       "  display: inline-block;\n",
       "  content: '►';\n",
       "  font-size: 11px;\n",
       "  width: 15px;\n",
       "  text-align: center;\n",
       "}\n",
       "\n",
       ".xr-section-summary-in:disabled + label:before {\n",
       "  color: var(--xr-disabled-color);\n",
       "}\n",
       "\n",
       ".xr-section-summary-in:checked + label:before {\n",
       "  content: '▼';\n",
       "}\n",
       "\n",
       ".xr-section-summary-in:checked + label > span {\n",
       "  display: none;\n",
       "}\n",
       "\n",
       ".xr-section-summary,\n",
       ".xr-section-inline-details {\n",
       "  padding-top: 4px;\n",
       "  padding-bottom: 4px;\n",
       "}\n",
       "\n",
       ".xr-section-inline-details {\n",
       "  grid-column: 2 / -1;\n",
       "}\n",
       "\n",
       ".xr-section-details {\n",
       "  display: none;\n",
       "  grid-column: 1 / -1;\n",
       "  margin-bottom: 5px;\n",
       "}\n",
       "\n",
       ".xr-section-summary-in:checked ~ .xr-section-details {\n",
       "  display: contents;\n",
       "}\n",
       "\n",
       ".xr-array-wrap {\n",
       "  grid-column: 1 / -1;\n",
       "  display: grid;\n",
       "  grid-template-columns: 20px auto;\n",
       "}\n",
       "\n",
       ".xr-array-wrap > label {\n",
       "  grid-column: 1;\n",
       "  vertical-align: top;\n",
       "}\n",
       "\n",
       ".xr-preview {\n",
       "  color: var(--xr-font-color3);\n",
       "}\n",
       "\n",
       ".xr-array-preview,\n",
       ".xr-array-data {\n",
       "  padding: 0 5px !important;\n",
       "  grid-column: 2;\n",
       "}\n",
       "\n",
       ".xr-array-data,\n",
       ".xr-array-in:checked ~ .xr-array-preview {\n",
       "  display: none;\n",
       "}\n",
       "\n",
       ".xr-array-in:checked ~ .xr-array-data,\n",
       ".xr-array-preview {\n",
       "  display: inline-block;\n",
       "}\n",
       "\n",
       ".xr-dim-list {\n",
       "  display: inline-block !important;\n",
       "  list-style: none;\n",
       "  padding: 0 !important;\n",
       "  margin: 0;\n",
       "}\n",
       "\n",
       ".xr-dim-list li {\n",
       "  display: inline-block;\n",
       "  padding: 0;\n",
       "  margin: 0;\n",
       "}\n",
       "\n",
       ".xr-dim-list:before {\n",
       "  content: '(';\n",
       "}\n",
       "\n",
       ".xr-dim-list:after {\n",
       "  content: ')';\n",
       "}\n",
       "\n",
       ".xr-dim-list li:not(:last-child):after {\n",
       "  content: ',';\n",
       "  padding-right: 5px;\n",
       "}\n",
       "\n",
       ".xr-has-index {\n",
       "  font-weight: bold;\n",
       "}\n",
       "\n",
       ".xr-var-list,\n",
       ".xr-var-item {\n",
       "  display: contents;\n",
       "}\n",
       "\n",
       ".xr-var-item > div,\n",
       ".xr-var-item label,\n",
       ".xr-var-item > .xr-var-name span {\n",
       "  background-color: var(--xr-background-color-row-even);\n",
       "  margin-bottom: 0;\n",
       "}\n",
       "\n",
       ".xr-var-item > .xr-var-name:hover span {\n",
       "  padding-right: 5px;\n",
       "}\n",
       "\n",
       ".xr-var-list > li:nth-child(odd) > div,\n",
       ".xr-var-list > li:nth-child(odd) > label,\n",
       ".xr-var-list > li:nth-child(odd) > .xr-var-name span {\n",
       "  background-color: var(--xr-background-color-row-odd);\n",
       "}\n",
       "\n",
       ".xr-var-name {\n",
       "  grid-column: 1;\n",
       "}\n",
       "\n",
       ".xr-var-dims {\n",
       "  grid-column: 2;\n",
       "}\n",
       "\n",
       ".xr-var-dtype {\n",
       "  grid-column: 3;\n",
       "  text-align: right;\n",
       "  color: var(--xr-font-color2);\n",
       "}\n",
       "\n",
       ".xr-var-preview {\n",
       "  grid-column: 4;\n",
       "}\n",
       "\n",
       ".xr-index-preview {\n",
       "  grid-column: 2 / 5;\n",
       "  color: var(--xr-font-color2);\n",
       "}\n",
       "\n",
       ".xr-var-name,\n",
       ".xr-var-dims,\n",
       ".xr-var-dtype,\n",
       ".xr-preview,\n",
       ".xr-attrs dt {\n",
       "  white-space: nowrap;\n",
       "  overflow: hidden;\n",
       "  text-overflow: ellipsis;\n",
       "  padding-right: 10px;\n",
       "}\n",
       "\n",
       ".xr-var-name:hover,\n",
       ".xr-var-dims:hover,\n",
       ".xr-var-dtype:hover,\n",
       ".xr-attrs dt:hover {\n",
       "  overflow: visible;\n",
       "  width: auto;\n",
       "  z-index: 1;\n",
       "}\n",
       "\n",
       ".xr-var-attrs,\n",
       ".xr-var-data,\n",
       ".xr-index-data {\n",
       "  display: none;\n",
       "  background-color: var(--xr-background-color) !important;\n",
       "  padding-bottom: 5px !important;\n",
       "}\n",
       "\n",
       ".xr-var-attrs-in:checked ~ .xr-var-attrs,\n",
       ".xr-var-data-in:checked ~ .xr-var-data,\n",
       ".xr-index-data-in:checked ~ .xr-index-data {\n",
       "  display: block;\n",
       "}\n",
       "\n",
       ".xr-var-data > table {\n",
       "  float: right;\n",
       "}\n",
       "\n",
       ".xr-var-name span,\n",
       ".xr-var-data,\n",
       ".xr-index-name div,\n",
       ".xr-index-data,\n",
       ".xr-attrs {\n",
       "  padding-left: 25px !important;\n",
       "}\n",
       "\n",
       ".xr-attrs,\n",
       ".xr-var-attrs,\n",
       ".xr-var-data,\n",
       ".xr-index-data {\n",
       "  grid-column: 1 / -1;\n",
       "}\n",
       "\n",
       "dl.xr-attrs {\n",
       "  padding: 0;\n",
       "  margin: 0;\n",
       "  display: grid;\n",
       "  grid-template-columns: 125px auto;\n",
       "}\n",
       "\n",
       ".xr-attrs dt,\n",
       ".xr-attrs dd {\n",
       "  padding: 0;\n",
       "  margin: 0;\n",
       "  float: left;\n",
       "  padding-right: 10px;\n",
       "  width: auto;\n",
       "}\n",
       "\n",
       ".xr-attrs dt {\n",
       "  font-weight: normal;\n",
       "  grid-column: 1;\n",
       "}\n",
       "\n",
       ".xr-attrs dt:hover span {\n",
       "  display: inline-block;\n",
       "  background: var(--xr-background-color);\n",
       "  padding-right: 10px;\n",
       "}\n",
       "\n",
       ".xr-attrs dd {\n",
       "  grid-column: 2;\n",
       "  white-space: pre-wrap;\n",
       "  word-break: break-all;\n",
       "}\n",
       "\n",
       ".xr-icon-database,\n",
       ".xr-icon-file-text2,\n",
       ".xr-no-icon {\n",
       "  display: inline-block;\n",
       "  vertical-align: middle;\n",
       "  width: 1em;\n",
       "  height: 1.5em !important;\n",
       "  stroke-width: 0;\n",
       "  stroke: currentColor;\n",
       "  fill: currentColor;\n",
       "}\n",
       "</style><pre class='xr-text-repr-fallback'>&lt;xarray.Dataset&gt;\n",
       "Dimensions:                (time: 361, srcDim: 1, locDim: 3, kDim: 15,\n",
       "                            jDim: 30, iDim: 30, timeDim: 361)\n",
       "Coordinates:\n",
       "  * time                   (time) float32 2.88e+04 2.881e+04 ... 3.06e+04\n",
       "Dimensions without coordinates: srcDim, locDim, kDim, jDim, iDim, timeDim\n",
       "Data variables:\n",
       "    srcAuxScLocation       (srcDim, locDim) float64 ...\n",
       "    srcAuxScMassSpecValue  (srcDim) float64 ...\n",
       "    structureMask          (kDim, jDim, iDim) float64 ...\n",
       "    xPos                   (kDim, jDim, iDim) float32 ...\n",
       "    yPos                   (kDim, jDim, iDim) float32 ...\n",
       "    zPos                   (kDim, jDim, iDim) float32 ...\n",
       "    u                      (timeDim, kDim, jDim, iDim) float32 ...\n",
       "    v                      (timeDim, kDim, jDim, iDim) float32 ...\n",
       "    w                      (timeDim, kDim, jDim, iDim) float32 ...\n",
       "    q_CH4                  (time, kDim, jDim, iDim) float32 ...</pre><div class='xr-wrap' style='display:none'><div class='xr-header'><div class='xr-obj-type'>xarray.Dataset</div></div><ul class='xr-sections'><li class='xr-section-item'><input id='section-8b89f524-15cf-40a7-ab82-8d53560afd1e' class='xr-section-summary-in' type='checkbox' disabled ><label for='section-8b89f524-15cf-40a7-ab82-8d53560afd1e' class='xr-section-summary'  title='Expand/collapse section'>Dimensions:</label><div class='xr-section-inline-details'><ul class='xr-dim-list'><li><span class='xr-has-index'>time</span>: 361</li><li><span>srcDim</span>: 1</li><li><span>locDim</span>: 3</li><li><span>kDim</span>: 15</li><li><span>jDim</span>: 30</li><li><span>iDim</span>: 30</li><li><span>timeDim</span>: 361</li></ul></div><div class='xr-section-details'></div></li><li class='xr-section-item'><input id='section-0daf3b6a-bb53-4af8-8476-e78eb49f022b' class='xr-section-summary-in' type='checkbox'  checked><label for='section-0daf3b6a-bb53-4af8-8476-e78eb49f022b' class='xr-section-summary' >Coordinates: <span>(1)</span></label><div class='xr-section-inline-details'></div><div class='xr-section-details'><ul class='xr-var-list'><li class='xr-var-item'><div class='xr-var-name'><span class='xr-has-index'>time</span></div><div class='xr-var-dims'>(time)</div><div class='xr-var-dtype'>float32</div><div class='xr-var-preview xr-preview'>2.88e+04 2.881e+04 ... 3.06e+04</div><input id='attrs-c5ec3262-9ae9-433a-a7f3-45e1c7ac0a7f' class='xr-var-attrs-in' type='checkbox' ><label for='attrs-c5ec3262-9ae9-433a-a7f3-45e1c7ac0a7f' title='Show/Hide attributes'><svg class='icon xr-icon-file-text2'><use xlink:href='#icon-file-text2'></use></svg></label><input id='data-7a7f9360-72d7-4e95-a139-6d6f36ba299d' class='xr-var-data-in' type='checkbox'><label for='data-7a7f9360-72d7-4e95-a139-6d6f36ba299d' title='Show/Hide data repr'><svg class='icon xr-icon-database'><use xlink:href='#icon-database'></use></svg></label><div class='xr-var-attrs'><dl class='xr-attrs'><dt><span>units :</span></dt><dd>s</dd></dl></div><div class='xr-var-data'><pre>array([28800.002, 28805.002, 28810.002, ..., 30590.002, 30595.002, 30600.002],\n",
       "      dtype=float32)</pre></div></li></ul></div></li><li class='xr-section-item'><input id='section-f54ab837-7c9d-4cd2-9010-2e6a97b45c3f' class='xr-section-summary-in' type='checkbox'  checked><label for='section-f54ab837-7c9d-4cd2-9010-2e6a97b45c3f' class='xr-section-summary' >Data variables: <span>(10)</span></label><div class='xr-section-inline-details'></div><div class='xr-section-details'><ul class='xr-var-list'><li class='xr-var-item'><div class='xr-var-name'><span>srcAuxScLocation</span></div><div class='xr-var-dims'>(srcDim, locDim)</div><div class='xr-var-dtype'>float64</div><div class='xr-var-preview xr-preview'>...</div><input id='attrs-c327f6e8-81f2-4289-98b6-84537d1cd30a' class='xr-var-attrs-in' type='checkbox' ><label for='attrs-c327f6e8-81f2-4289-98b6-84537d1cd30a' title='Show/Hide attributes'><svg class='icon xr-icon-file-text2'><use xlink:href='#icon-file-text2'></use></svg></label><input id='data-4cfba995-caa0-4e24-a01c-415e6a4b43b1' class='xr-var-data-in' type='checkbox'><label for='data-4cfba995-caa0-4e24-a01c-415e6a4b43b1' title='Show/Hide data repr'><svg class='icon xr-icon-database'><use xlink:href='#icon-database'></use></svg></label><div class='xr-var-attrs'><dl class='xr-attrs'><dt><span>units :</span></dt><dd>m</dd></dl></div><div class='xr-var-data'><pre>[3 values with dtype=float64]</pre></div></li><li class='xr-var-item'><div class='xr-var-name'><span>srcAuxScMassSpecValue</span></div><div class='xr-var-dims'>(srcDim)</div><div class='xr-var-dtype'>float64</div><div class='xr-var-preview xr-preview'>...</div><input id='attrs-b07cbd45-4ddf-4996-a268-615809c9f490' class='xr-var-attrs-in' type='checkbox' ><label for='attrs-b07cbd45-4ddf-4996-a268-615809c9f490' title='Show/Hide attributes'><svg class='icon xr-icon-file-text2'><use xlink:href='#icon-file-text2'></use></svg></label><input id='data-0ad2e4bc-3faf-49c3-a545-e0c66dba13f1' class='xr-var-data-in' type='checkbox'><label for='data-0ad2e4bc-3faf-49c3-a545-e0c66dba13f1' title='Show/Hide data repr'><svg class='icon xr-icon-database'><use xlink:href='#icon-database'></use></svg></label><div class='xr-var-attrs'><dl class='xr-attrs'><dt><span>units :</span></dt><dd>kg/hr</dd></dl></div><div class='xr-var-data'><pre>[1 values with dtype=float64]</pre></div></li><li class='xr-var-item'><div class='xr-var-name'><span>structureMask</span></div><div class='xr-var-dims'>(kDim, jDim, iDim)</div><div class='xr-var-dtype'>float64</div><div class='xr-var-preview xr-preview'>...</div><input id='attrs-a4a09692-cf96-4c3b-a5bd-10f52fbdd6ec' class='xr-var-attrs-in' type='checkbox' ><label for='attrs-a4a09692-cf96-4c3b-a5bd-10f52fbdd6ec' title='Show/Hide attributes'><svg class='icon xr-icon-file-text2'><use xlink:href='#icon-file-text2'></use></svg></label><input id='data-ba0b710b-eec9-482c-b007-2a3aa7deef07' class='xr-var-data-in' type='checkbox'><label for='data-ba0b710b-eec9-482c-b007-2a3aa7deef07' title='Show/Hide data repr'><svg class='icon xr-icon-database'><use xlink:href='#icon-database'></use></svg></label><div class='xr-var-attrs'><dl class='xr-attrs'><dt><span>units :</span></dt><dd>-</dd></dl></div><div class='xr-var-data'><pre>[13500 values with dtype=float64]</pre></div></li><li class='xr-var-item'><div class='xr-var-name'><span>xPos</span></div><div class='xr-var-dims'>(kDim, jDim, iDim)</div><div class='xr-var-dtype'>float32</div><div class='xr-var-preview xr-preview'>...</div><input id='attrs-33d4340b-7daa-4f9f-93bc-556c35dcdb44' class='xr-var-attrs-in' type='checkbox' ><label for='attrs-33d4340b-7daa-4f9f-93bc-556c35dcdb44' title='Show/Hide attributes'><svg class='icon xr-icon-file-text2'><use xlink:href='#icon-file-text2'></use></svg></label><input id='data-1b9abeba-f106-4052-a12f-49283d397b28' class='xr-var-data-in' type='checkbox'><label for='data-1b9abeba-f106-4052-a12f-49283d397b28' title='Show/Hide data repr'><svg class='icon xr-icon-database'><use xlink:href='#icon-database'></use></svg></label><div class='xr-var-attrs'><dl class='xr-attrs'><dt><span>units :</span></dt><dd>m</dd></dl></div><div class='xr-var-data'><pre>[13500 values with dtype=float32]</pre></div></li><li class='xr-var-item'><div class='xr-var-name'><span>yPos</span></div><div class='xr-var-dims'>(kDim, jDim, iDim)</div><div class='xr-var-dtype'>float32</div><div class='xr-var-preview xr-preview'>...</div><input id='attrs-b9939f5b-04af-49f9-9bfe-f505fbde2fec' class='xr-var-attrs-in' type='checkbox' ><label for='attrs-b9939f5b-04af-49f9-9bfe-f505fbde2fec' title='Show/Hide attributes'><svg class='icon xr-icon-file-text2'><use xlink:href='#icon-file-text2'></use></svg></label><input id='data-401b6072-c77a-4765-b573-df82efd28489' class='xr-var-data-in' type='checkbox'><label for='data-401b6072-c77a-4765-b573-df82efd28489' title='Show/Hide data repr'><svg class='icon xr-icon-database'><use xlink:href='#icon-database'></use></svg></label><div class='xr-var-attrs'><dl class='xr-attrs'><dt><span>units :</span></dt><dd>m</dd></dl></div><div class='xr-var-data'><pre>[13500 values with dtype=float32]</pre></div></li><li class='xr-var-item'><div class='xr-var-name'><span>zPos</span></div><div class='xr-var-dims'>(kDim, jDim, iDim)</div><div class='xr-var-dtype'>float32</div><div class='xr-var-preview xr-preview'>...</div><input id='attrs-0409f5b6-b8d3-4f22-9f07-45c8239f4584' class='xr-var-attrs-in' type='checkbox' ><label for='attrs-0409f5b6-b8d3-4f22-9f07-45c8239f4584' title='Show/Hide attributes'><svg class='icon xr-icon-file-text2'><use xlink:href='#icon-file-text2'></use></svg></label><input id='data-be51cbcb-900e-4d54-93cc-942446d5bd7c' class='xr-var-data-in' type='checkbox'><label for='data-be51cbcb-900e-4d54-93cc-942446d5bd7c' title='Show/Hide data repr'><svg class='icon xr-icon-database'><use xlink:href='#icon-database'></use></svg></label><div class='xr-var-attrs'><dl class='xr-attrs'><dt><span>units :</span></dt><dd>m</dd></dl></div><div class='xr-var-data'><pre>[13500 values with dtype=float32]</pre></div></li><li class='xr-var-item'><div class='xr-var-name'><span>u</span></div><div class='xr-var-dims'>(timeDim, kDim, jDim, iDim)</div><div class='xr-var-dtype'>float32</div><div class='xr-var-preview xr-preview'>...</div><input id='attrs-7123def5-1b15-496a-95d1-82897270b3e2' class='xr-var-attrs-in' type='checkbox' ><label for='attrs-7123def5-1b15-496a-95d1-82897270b3e2' title='Show/Hide attributes'><svg class='icon xr-icon-file-text2'><use xlink:href='#icon-file-text2'></use></svg></label><input id='data-08312958-96b3-4949-909f-8009644b7b54' class='xr-var-data-in' type='checkbox'><label for='data-08312958-96b3-4949-909f-8009644b7b54' title='Show/Hide data repr'><svg class='icon xr-icon-database'><use xlink:href='#icon-database'></use></svg></label><div class='xr-var-attrs'><dl class='xr-attrs'><dt><span>units :</span></dt><dd>m/s</dd></dl></div><div class='xr-var-data'><pre>[4873500 values with dtype=float32]</pre></div></li><li class='xr-var-item'><div class='xr-var-name'><span>v</span></div><div class='xr-var-dims'>(timeDim, kDim, jDim, iDim)</div><div class='xr-var-dtype'>float32</div><div class='xr-var-preview xr-preview'>...</div><input id='attrs-db9f8eed-2b5b-4b6c-9b50-77b2e70db53e' class='xr-var-attrs-in' type='checkbox' ><label for='attrs-db9f8eed-2b5b-4b6c-9b50-77b2e70db53e' title='Show/Hide attributes'><svg class='icon xr-icon-file-text2'><use xlink:href='#icon-file-text2'></use></svg></label><input id='data-332115d2-6015-4c9c-91a7-f452d89de233' class='xr-var-data-in' type='checkbox'><label for='data-332115d2-6015-4c9c-91a7-f452d89de233' title='Show/Hide data repr'><svg class='icon xr-icon-database'><use xlink:href='#icon-database'></use></svg></label><div class='xr-var-attrs'><dl class='xr-attrs'><dt><span>units :</span></dt><dd>m/s</dd></dl></div><div class='xr-var-data'><pre>[4873500 values with dtype=float32]</pre></div></li><li class='xr-var-item'><div class='xr-var-name'><span>w</span></div><div class='xr-var-dims'>(timeDim, kDim, jDim, iDim)</div><div class='xr-var-dtype'>float32</div><div class='xr-var-preview xr-preview'>...</div><input id='attrs-99d8ccad-d658-4a75-bbe3-63004413128e' class='xr-var-attrs-in' type='checkbox' ><label for='attrs-99d8ccad-d658-4a75-bbe3-63004413128e' title='Show/Hide attributes'><svg class='icon xr-icon-file-text2'><use xlink:href='#icon-file-text2'></use></svg></label><input id='data-8b2fbe70-45ef-4c15-a945-5a9efc5c2372' class='xr-var-data-in' type='checkbox'><label for='data-8b2fbe70-45ef-4c15-a945-5a9efc5c2372' title='Show/Hide data repr'><svg class='icon xr-icon-database'><use xlink:href='#icon-database'></use></svg></label><div class='xr-var-attrs'><dl class='xr-attrs'><dt><span>units :</span></dt><dd>m/s</dd></dl></div><div class='xr-var-data'><pre>[4873500 values with dtype=float32]</pre></div></li><li class='xr-var-item'><div class='xr-var-name'><span>q_CH4</span></div><div class='xr-var-dims'>(time, kDim, jDim, iDim)</div><div class='xr-var-dtype'>float32</div><div class='xr-var-preview xr-preview'>...</div><input id='attrs-7c1bfa15-6211-44dc-8068-8e38c6843af7' class='xr-var-attrs-in' type='checkbox' ><label for='attrs-7c1bfa15-6211-44dc-8068-8e38c6843af7' title='Show/Hide attributes'><svg class='icon xr-icon-file-text2'><use xlink:href='#icon-file-text2'></use></svg></label><input id='data-43a3e302-89fb-44d6-b158-b38482f0ca3f' class='xr-var-data-in' type='checkbox'><label for='data-43a3e302-89fb-44d6-b158-b38482f0ca3f' title='Show/Hide data repr'><svg class='icon xr-icon-database'><use xlink:href='#icon-database'></use></svg></label><div class='xr-var-attrs'><dl class='xr-attrs'><dt><span>units :</span></dt><dd>kg/kg</dd></dl></div><div class='xr-var-data'><pre>[4873500 values with dtype=float32]</pre></div></li></ul></div></li><li class='xr-section-item'><input id='section-8e0069d2-814c-4d96-a4b8-2369f430eb11' class='xr-section-summary-in' type='checkbox'  ><label for='section-8e0069d2-814c-4d96-a4b8-2369f430eb11' class='xr-section-summary' >Indexes: <span>(1)</span></label><div class='xr-section-inline-details'></div><div class='xr-section-details'><ul class='xr-var-list'><li class='xr-var-item'><div class='xr-index-name'><div>time</div></div><div class='xr-index-preview'>PandasIndex</div><div></div><input id='index-46533f87-d5b5-4ac3-8d66-31bb8065fe66' class='xr-index-data-in' type='checkbox'/><label for='index-46533f87-d5b5-4ac3-8d66-31bb8065fe66' title='Show/Hide index repr'><svg class='icon xr-icon-database'><use xlink:href='#icon-database'></use></svg></label><div class='xr-index-data'><pre>PandasIndex(Index([28800.001953125, 28805.001953125, 28810.001953125, 28815.001953125,\n",
       "       28820.001953125, 28825.001953125, 28830.001953125, 28835.001953125,\n",
       "       28840.001953125, 28845.001953125,\n",
       "       ...\n",
       "       30555.001953125, 30560.001953125, 30565.001953125, 30570.001953125,\n",
       "       30575.001953125, 30580.001953125, 30585.001953125, 30590.001953125,\n",
       "       30595.001953125, 30600.001953125],\n",
       "      dtype=&#x27;float32&#x27;, name=&#x27;time&#x27;, length=361))</pre></div></li></ul></div></li><li class='xr-section-item'><input id='section-0ca97f70-781f-4779-a06a-0f4b7cc35716' class='xr-section-summary-in' type='checkbox' disabled ><label for='section-0ca97f70-781f-4779-a06a-0f4b7cc35716' class='xr-section-summary'  title='Expand/collapse section'>Attributes: <span>(0)</span></label><div class='xr-section-inline-details'></div><div class='xr-section-details'><dl class='xr-attrs'></dl></div></li></ul></div></div>"
      ],
      "text/plain": [
       "<xarray.Dataset>\n",
       "Dimensions:                (time: 361, srcDim: 1, locDim: 3, kDim: 15,\n",
       "                            jDim: 30, iDim: 30, timeDim: 361)\n",
       "Coordinates:\n",
       "  * time                   (time) float32 2.88e+04 2.881e+04 ... 3.06e+04\n",
       "Dimensions without coordinates: srcDim, locDim, kDim, jDim, iDim, timeDim\n",
       "Data variables:\n",
       "    srcAuxScLocation       (srcDim, locDim) float64 ...\n",
       "    srcAuxScMassSpecValue  (srcDim) float64 ...\n",
       "    structureMask          (kDim, jDim, iDim) float64 ...\n",
       "    xPos                   (kDim, jDim, iDim) float32 ...\n",
       "    yPos                   (kDim, jDim, iDim) float32 ...\n",
       "    zPos                   (kDim, jDim, iDim) float32 ...\n",
       "    u                      (timeDim, kDim, jDim, iDim) float32 ...\n",
       "    v                      (timeDim, kDim, jDim, iDim) float32 ...\n",
       "    w                      (timeDim, kDim, jDim, iDim) float32 ...\n",
       "    q_CH4                  (time, kDim, jDim, iDim) float32 ..."
      ]
     },
     "execution_count": 38,
     "metadata": {},
     "output_type": "execute_result"
    }
   ],
   "source": [
    "ds = xr.open_dataset(data)\n",
    "ds"
   ]
  },
  {
   "cell_type": "code",
   "execution_count": 39,
   "id": "d883190e",
   "metadata": {},
   "outputs": [],
   "source": [
    "z_level = 1"
   ]
  },
  {
   "cell_type": "code",
   "execution_count": 40,
   "id": "b9d0d2fb",
   "metadata": {},
   "outputs": [],
   "source": [
    "x_pos = ds.xPos.sel(iDim=random_x, jDim=random_y, kDim = [z_level]).values.squeeze()\n",
    "x_pos = x_pos.diagonal()"
   ]
  },
  {
   "cell_type": "code",
   "execution_count": 41,
   "id": "4da0ccd1",
   "metadata": {},
   "outputs": [],
   "source": [
    "x_pos_leak = ds.xPos.sel(iDim=random_x_leak, jDim=random_y_leak, kDim = [z_level]).values.squeeze()\n",
    "x_pos_leak = x_pos_leak.diagonal()"
   ]
  },
  {
   "cell_type": "code",
   "execution_count": 42,
   "id": "2b9aba8e",
   "metadata": {},
   "outputs": [],
   "source": [
    "y_pos = ds.yPos.sel(iDim=random_x, jDim=random_y, kDim = [z_level]).values.squeeze()\n",
    "y_pos = y_pos.diagonal()"
   ]
  },
  {
   "cell_type": "code",
   "execution_count": 43,
   "id": "f7c9319b",
   "metadata": {},
   "outputs": [],
   "source": [
    "y_pos_leak = ds.yPos.sel(iDim=random_x_leak, jDim=random_y_leak, kDim = [z_level]).values.squeeze()\n",
    "y_pos_leak = y_pos_leak.diagonal()"
   ]
  },
  {
   "cell_type": "code",
   "execution_count": 44,
   "id": "019fa53f",
   "metadata": {},
   "outputs": [],
   "source": [
    "z_pos = ds.zPos.sel(iDim=random_x, jDim=random_y, kDim = [z_level]).values.squeeze()\n",
    "z_pos = z_pos.diagonal()"
   ]
  },
  {
   "cell_type": "code",
   "execution_count": 45,
   "id": "eb83a253",
   "metadata": {},
   "outputs": [
    {
     "name": "stdout",
     "output_type": "stream",
     "text": [
      "shape of data (361, 14, 14)\n"
     ]
    }
   ],
   "source": [
    "data = ds.q_CH4.sel(iDim=random_x, jDim=random_y, kDim = [z_level]).values.squeeze()\n",
    "print('shape of data', np.shape(data))"
   ]
  },
  {
   "cell_type": "code",
   "execution_count": 46,
   "id": "dd1aa03b",
   "metadata": {},
   "outputs": [
    {
     "data": {
      "text/plain": [
       "(14, 14)"
      ]
     },
     "execution_count": 46,
     "metadata": {},
     "output_type": "execute_result"
    }
   ],
   "source": [
    "percentile_80 = np.percentile(data, 80, axis=0)\n",
    "np.shape(percentile_80)"
   ]
  },
  {
   "cell_type": "code",
   "execution_count": 47,
   "id": "e1447de5",
   "metadata": {},
   "outputs": [
    {
     "data": {
      "text/plain": [
       "(14,)"
      ]
     },
     "execution_count": 47,
     "metadata": {},
     "output_type": "execute_result"
    }
   ],
   "source": [
    "scaler = MinMaxScaler()\n",
    "ch4_data = scaler.fit_transform(percentile_80.diagonal().reshape(-1,1)).squeeze()\n",
    "np.shape(ch4_data)"
   ]
  },
  {
   "cell_type": "markdown",
   "id": "ead69346-703a-4bc7-aec6-cc2a227d0972",
   "metadata": {},
   "source": [
    "## Create x and y locations"
   ]
  },
  {
   "cell_type": "markdown",
   "id": "889cea07-3905-4200-8702-38dc7388acf0",
   "metadata": {},
   "source": [
    "#### Quick Plot"
   ]
  },
  {
   "cell_type": "code",
   "execution_count": 48,
   "id": "fff7df0d-4137-4ea3-85d5-bfbf0e5f2a84",
   "metadata": {
    "tags": []
   },
   "outputs": [
    {
     "data": {
      "image/png": "[encoded data removed]",
      "text/plain": [
       "<Figure size 600x700 with 1 Axes>"
      ]
     },
     "metadata": {},
     "output_type": "display_data"
    }
   ],
   "source": [
    "plt.figure(figsize=(6, 7))\n",
    "\n",
    "plt.scatter(x_pos, y_pos, label='sensors', color='black')\n",
    "plt.scatter(x_pos_leak, y_pos_leak, marker=\"v\", label='leak locations', color='red')\n",
    "\n",
    "plt.legend()\n",
    "plt.xlabel('X Dim')\n",
    "plt.ylabel('Y Dim')\n",
    "plt.title('Sensor and Leak Locations')\n",
    "\n",
    "plt.show()"
   ]
  },
  {
   "cell_type": "markdown",
   "id": "bb02d2ac-f051-4ec2-a9f4-0f65f0153265",
   "metadata": {},
   "source": [
    "This is just for this toy problem, won't be used for the actual code as it will come from the data loader as built by C Becker."
   ]
  },
  {
   "cell_type": "markdown",
   "id": "bdcce125-c668-4f83-9a7e-84d0f19f4232",
   "metadata": {},
   "source": [
    "## Interpolate the Data"
   ]
  },
  {
   "cell_type": "markdown",
   "id": "6aff9417",
   "metadata": {},
   "source": [
    "First step is creating a new meshgrid that is more dense"
   ]
  },
  {
   "cell_type": "code",
   "execution_count": 49,
   "id": "c78ef658",
   "metadata": {},
   "outputs": [],
   "source": [
    "x_new, y_new = create_meshgrid(x_pos, y_pos, buffer=6, grid_points=100)"
   ]
  },
  {
   "cell_type": "markdown",
   "id": "95b83a33",
   "metadata": {},
   "source": [
    "#### Create X and y training data"
   ]
  },
  {
   "cell_type": "code",
   "execution_count": 50,
   "id": "bb3d68f2",
   "metadata": {},
   "outputs": [
    {
     "data": {
      "text/plain": [
       "(10000, 2)"
      ]
     },
     "execution_count": 50,
     "metadata": {},
     "output_type": "execute_result"
    }
   ],
   "source": [
    "X_train = np.column_stack((x_pos, y_pos))\n",
    "y_train = ch4_data\n",
    "\n",
    "# new mesh data points\n",
    "X_test = np.column_stack((x_new.ravel(), y_new.ravel()))\n",
    "np.shape(X_test)"
   ]
  },
  {
   "cell_type": "markdown",
   "id": "17a489a0",
   "metadata": {},
   "source": [
    "## SciPy Interpolator"
   ]
  },
  {
   "cell_type": "code",
   "execution_count": 51,
   "id": "9a3f6d9b",
   "metadata": {},
   "outputs": [
    {
     "data": {
      "text/plain": [
       "<baseline.ScipyInterpolate at 0x16e3c6e00>"
      ]
     },
     "execution_count": 51,
     "metadata": {},
     "output_type": "execute_result"
    }
   ],
   "source": [
    "scipy_model = ScipyInterpolate()\n",
    "scipy_model.fit(X_train, y_train)"
   ]
  },
  {
   "cell_type": "code",
   "execution_count": 52,
   "id": "32903506",
   "metadata": {},
   "outputs": [
    {
     "name": "stdout",
     "output_type": "stream",
     "text": [
      "type: <class 'numpy.ndarray'>\n",
      "size: (100, 100)\n"
     ]
    }
   ],
   "source": [
    "z_interpolated, max_z, max_indices = scipy_model.predict(X_test)\n",
    "\n",
    "print('type:', type(z_interpolated))\n",
    "print('size:', np.shape(z_interpolated))"
   ]
  },
  {
   "cell_type": "markdown",
   "id": "57d953d4-72d7-4300-8a19-880479fb7d69",
   "metadata": {
    "tags": []
   },
   "source": [
    "## Using Scikit-learn methods"
   ]
  },
  {
   "cell_type": "markdown",
   "id": "478e1d5d-3fd5-415a-a5da-f89c791c7b5f",
   "metadata": {},
   "source": [
    "### Gaussian Processes Regressor"
   ]
  },
  {
   "cell_type": "code",
   "execution_count": 57,
   "id": "d43b7810",
   "metadata": {},
   "outputs": [
    {
     "data": {
      "text/plain": [
       "<baseline.GaussianProcessInterpolator at 0x16e3c7b50>"
      ]
     },
     "execution_count": 57,
     "metadata": {},
     "output_type": "execute_result"
    }
   ],
   "source": [
    "gp_mo = GaussianProcessInterpolator()\n",
    "gp_mo.fit(X_train, y_train)"
   ]
  },
  {
   "cell_type": "code",
   "execution_count": 58,
   "id": "77945a31",
   "metadata": {},
   "outputs": [
    {
     "name": "stdout",
     "output_type": "stream",
     "text": [
      "type: <class 'numpy.ndarray'>\n",
      "size: (100, 100)\n"
     ]
    }
   ],
   "source": [
    "reshaped_gp_results, max_z_gp, max_indices_gp = gp_mo.predict(X_test)\n",
    "\n",
    "print('type:', type(reshaped_gp_results))\n",
    "print('size:', np.shape(reshaped_gp_results))"
   ]
  },
  {
   "cell_type": "markdown",
   "id": "782377db-632a-4eeb-83d8-06933d814489",
   "metadata": {},
   "source": [
    "#### Random Forest Model"
   ]
  },
  {
   "cell_type": "code",
   "execution_count": 59,
   "id": "a3880b35",
   "metadata": {},
   "outputs": [
    {
     "data": {
      "text/plain": [
       "<baseline.RandomForestInterpolator at 0x16e3c7ee0>"
      ]
     },
     "execution_count": 59,
     "metadata": {},
     "output_type": "execute_result"
    }
   ],
   "source": [
    "rf_mo = RandomForestInterpolator()\n",
    "rf_mo.fit(X_train, y_train)"
   ]
  },
  {
   "cell_type": "code",
   "execution_count": 60,
   "id": "a42e782b",
   "metadata": {},
   "outputs": [
    {
     "ename": "TypeError",
     "evalue": "RandomForestInterpolator.predict() missing 1 required positional argument: 'y_mesh'",
     "output_type": "error",
     "traceback": [
      "\u001b[0;31m---------------------------------------------------------------------------\u001b[0m",
      "\u001b[0;31mTypeError\u001b[0m                                 Traceback (most recent call last)",
      "\u001b[1;32m/Users/thomasmartin/Documents/GitHub/seals-ml/notebooks/SEALS_interpolator_test.ipynb Cell 42\u001b[0m line \u001b[0;36m1\n\u001b[0;32m----> <a href='vscode-notebook-cell:/Users/thomasmartin/Documents/GitHub/seals-ml/notebooks/SEALS_interpolator_test.ipynb#X53sZmlsZQ%3D%3D?line=0'>1</a>\u001b[0m reshaped_rf_results, max_z_rf, max_indices_rf \u001b[39m=\u001b[39m rf_mo\u001b[39m.\u001b[39;49mpredict(X_test)\n\u001b[1;32m      <a href='vscode-notebook-cell:/Users/thomasmartin/Documents/GitHub/seals-ml/notebooks/SEALS_interpolator_test.ipynb#X53sZmlsZQ%3D%3D?line=2'>3</a>\u001b[0m \u001b[39mprint\u001b[39m(\u001b[39m'\u001b[39m\u001b[39mtype:\u001b[39m\u001b[39m'\u001b[39m, \u001b[39mtype\u001b[39m(reshaped_rf_results))\n\u001b[1;32m      <a href='vscode-notebook-cell:/Users/thomasmartin/Documents/GitHub/seals-ml/notebooks/SEALS_interpolator_test.ipynb#X53sZmlsZQ%3D%3D?line=3'>4</a>\u001b[0m \u001b[39mprint\u001b[39m(\u001b[39m'\u001b[39m\u001b[39msize:\u001b[39m\u001b[39m'\u001b[39m, np\u001b[39m.\u001b[39mshape(reshaped_rf_results))\n",
      "\u001b[0;31mTypeError\u001b[0m: RandomForestInterpolator.predict() missing 1 required positional argument: 'y_mesh'"
     ]
    }
   ],
   "source": [
    "reshaped_rf_results, max_z_rf, max_indices_rf = rf_mo.predict(X_test)\n",
    "\n",
    "print('type:', type(reshaped_rf_results))\n",
    "print('size:', np.shape(reshaped_rf_results))"
   ]
  },
  {
   "cell_type": "markdown",
   "id": "dcdf9335-5ed1-489a-b880-c5e1225b36fc",
   "metadata": {
    "tags": []
   },
   "source": [
    "## Find which sensor has the highest value"
   ]
  },
  {
   "cell_type": "code",
   "execution_count": 39,
   "id": "b55b0a5c-6160-4ee3-b864-c8c5f7fba884",
   "metadata": {
    "tags": []
   },
   "outputs": [],
   "source": [
    "def find_closest_value(arr1, arr2):\n",
    "    closest_values = []\n",
    "\n",
    "    for val1 in arr1:\n",
    "        closest_val = min(arr2, key=lambda x: abs(x - val1))\n",
    "        closest_values.append(closest_val)\n",
    "\n",
    "    return closest_values"
   ]
  },
  {
   "cell_type": "code",
   "execution_count": 40,
   "id": "1185357c-3c2e-4e04-93f4-f2ab103f317c",
   "metadata": {
    "tags": []
   },
   "outputs": [
    {
     "data": {
      "text/plain": [
       "[82.71717171717171,\n",
       " 75.1010101010101,\n",
       " 72.75757575757575,\n",
       " 76.85858585858585,\n",
       " 99.12121212121212]"
      ]
     },
     "execution_count": 40,
     "metadata": {},
     "output_type": "execute_result"
    }
   ],
   "source": [
    "closest_values_x = find_closest_value(x_pos_leak, x_new[:,0])\n",
    "closest_values_x"
   ]
  },
  {
   "cell_type": "code",
   "execution_count": 41,
   "id": "cc5e49ae-b1da-434d-86dd-08e454b8822e",
   "metadata": {
    "tags": []
   },
   "outputs": [
    {
     "data": {
      "text/plain": [
       "[2603.0808080808083,\n",
       " 2581.161616161616,\n",
       " 2584.919191919192,\n",
       " 2598.6969696969695,\n",
       " 2598.6969696969695]"
      ]
     },
     "execution_count": 41,
     "metadata": {},
     "output_type": "execute_result"
    }
   ],
   "source": [
    "closest_values_y = find_closest_value(y_pos_leak, y_new[0,:])\n",
    "closest_values_y"
   ]
  },
  {
   "cell_type": "code",
   "execution_count": 42,
   "id": "71bbd82a-0efd-409e-9390-94b49da83efc",
   "metadata": {
    "tags": []
   },
   "outputs": [],
   "source": [
    "def find_indices(arr, values_to_find):\n",
    "    indices = np.concatenate([np.where(arr == val)[0] for val in values_to_find])\n",
    "    return indices"
   ]
  },
  {
   "cell_type": "code",
   "execution_count": 43,
   "id": "370719fa-d8ff-4048-9789-8fe705cfd29c",
   "metadata": {
    "tags": []
   },
   "outputs": [
    {
     "data": {
      "text/plain": [
       "array([20,  7,  3, 10, 48])"
      ]
     },
     "execution_count": 43,
     "metadata": {},
     "output_type": "execute_result"
    }
   ],
   "source": [
    "indices_x = find_indices(x_new[:,0], closest_values_x)\n",
    "indices_x"
   ]
  },
  {
   "cell_type": "code",
   "execution_count": 44,
   "id": "dd7fe75c-b075-48ce-8b4f-ec13682ad8dc",
   "metadata": {
    "tags": []
   },
   "outputs": [
    {
     "data": {
      "text/plain": [
       "array([64, 29, 35, 57, 57])"
      ]
     },
     "execution_count": 44,
     "metadata": {},
     "output_type": "execute_result"
    }
   ],
   "source": [
    "indices_y = find_indices(y_new[0,:], closest_values_y)\n",
    "indices_y"
   ]
  },
  {
   "cell_type": "code",
   "execution_count": 45,
   "id": "b1a69e7c-de2a-4337-bd79-1be528639637",
   "metadata": {
    "tags": []
   },
   "outputs": [
    {
     "name": "stdout",
     "output_type": "stream",
     "text": [
      "Which Leak location is most likely? - Using Standard Interpolator\n",
      "Index of the maximum value (ignoring NaN) is: 4\n"
     ]
    }
   ],
   "source": [
    "print(\"Which Leak location is most likely? - Using Standard Interpolator\")\n",
    "index_of_max_value = np.nanargmax(z_interpolated[indices_x, indices_y])\n",
    "print(\"Index of the maximum value (ignoring NaN) is:\", index_of_max_value)"
   ]
  },
  {
   "cell_type": "code",
   "execution_count": 46,
   "id": "0c1aabe7-5428-4196-a7ff-233fc6d49904",
   "metadata": {
    "tags": []
   },
   "outputs": [
    {
     "name": "stdout",
     "output_type": "stream",
     "text": [
      "Which Leak location is most likely - Using Gaussian processes?\n",
      "Index of the maximum value (ignoring NaN) is: 4\n"
     ]
    }
   ],
   "source": [
    "print(\"Which Leak location is most likely - Using Gaussian processes?\")\n",
    "index_of_max_value_gp = np.nanargmax(reshaped_gp_results[indices_x, indices_y])\n",
    "print(\"Index of the maximum value (ignoring NaN) is:\", index_of_max_value_gp)"
   ]
  },
  {
   "cell_type": "code",
   "execution_count": 47,
   "id": "d692b944-06e4-4f04-a6a7-0ef51a245e71",
   "metadata": {
    "tags": []
   },
   "outputs": [
    {
     "name": "stdout",
     "output_type": "stream",
     "text": [
      "Which Leak location is most likely - Using Random Forest?\n",
      "Index of the maximum value (ignoring NaN) is: 4\n"
     ]
    }
   ],
   "source": [
    "print(\"Which Leak location is most likely - Using Random Forest?\")\n",
    "index_of_max_value_rf = np.nanargmax(reshaped_rf_results[indices_x, indices_y])\n",
    "print(\"Index of the maximum value (ignoring NaN) is:\", index_of_max_value_rf)"
   ]
  },
  {
   "cell_type": "markdown",
   "id": "d99f3dd4-dff6-4f3f-bdd1-ce148134533d",
   "metadata": {
    "tags": []
   },
   "source": [
    "## Comparison Plot"
   ]
  },
  {
   "cell_type": "code",
   "execution_count": 48,
   "id": "6e8418cd",
   "metadata": {},
   "outputs": [
    {
     "ename": "IndexError",
     "evalue": "invalid index to scalar variable.",
     "output_type": "error",
     "traceback": [
      "\u001b[0;31m---------------------------------------------------------------------------\u001b[0m",
      "\u001b[0;31mIndexError\u001b[0m                                Traceback (most recent call last)",
      "\u001b[1;32m/Users/thomasmartin/Documents/GitHub/seals-ml/notebooks/SEALS_interpolator_test.ipynb Cell 54\u001b[0m line \u001b[0;36m3\n\u001b[1;32m     <a href='vscode-notebook-cell:/Users/thomasmartin/Documents/GitHub/seals-ml/notebooks/SEALS_interpolator_test.ipynb#Y101sZmlsZQ%3D%3D?line=27'>28</a>\u001b[0m img2 \u001b[39m=\u001b[39m axes[\u001b[39m0\u001b[39m, \u001b[39m1\u001b[39m]\u001b[39m.\u001b[39mimshow(reshaped_gp_results\u001b[39m.\u001b[39mT, extent\u001b[39m=\u001b[39m(\u001b[39mmin\u001b[39m(x_pos \u001b[39m-\u001b[39m buffer), \u001b[39mmax\u001b[39m(x_pos \u001b[39m+\u001b[39m buffer), \u001b[39mmin\u001b[39m(y_pos \u001b[39m-\u001b[39m buffer), \u001b[39mmax\u001b[39m(y_pos \u001b[39m+\u001b[39m buffer)),\n\u001b[1;32m     <a href='vscode-notebook-cell:/Users/thomasmartin/Documents/GitHub/seals-ml/notebooks/SEALS_interpolator_test.ipynb#Y101sZmlsZQ%3D%3D?line=28'>29</a>\u001b[0m                          origin\u001b[39m=\u001b[39m\u001b[39m'\u001b[39m\u001b[39mlower\u001b[39m\u001b[39m'\u001b[39m, cmap\u001b[39m=\u001b[39m\u001b[39m'\u001b[39m\u001b[39mviridis\u001b[39m\u001b[39m'\u001b[39m, alpha\u001b[39m=\u001b[39m\u001b[39m0.5\u001b[39m)\n\u001b[1;32m     <a href='vscode-notebook-cell:/Users/thomasmartin/Documents/GitHub/seals-ml/notebooks/SEALS_interpolator_test.ipynb#Y101sZmlsZQ%3D%3D?line=30'>31</a>\u001b[0m img2\u001b[39m.\u001b[39mset_clim(global_min, global_max)\n\u001b[0;32m---> <a href='vscode-notebook-cell:/Users/thomasmartin/Documents/GitHub/seals-ml/notebooks/SEALS_interpolator_test.ipynb#Y101sZmlsZQ%3D%3D?line=32'>33</a>\u001b[0m axes[\u001b[39m0\u001b[39m, \u001b[39m1\u001b[39m]\u001b[39m.\u001b[39mscatter(x_new[max_indices_gp[\u001b[39m0\u001b[39;49m][\u001b[39m0\u001b[39;49m]][\u001b[39m0\u001b[39m], y_new[\u001b[39m0\u001b[39m][max_indices_gp[\u001b[39m1\u001b[39m][\u001b[39m0\u001b[39m]], marker\u001b[39m=\u001b[39m\u001b[39m\"\u001b[39m\u001b[39mX\u001b[39m\u001b[39m\"\u001b[39m, label\u001b[39m=\u001b[39m\u001b[39m'\u001b[39m\u001b[39mGlobal Max\u001b[39m\u001b[39m'\u001b[39m, color\u001b[39m=\u001b[39m\u001b[39m'\u001b[39m\u001b[39mGreen\u001b[39m\u001b[39m'\u001b[39m, s\u001b[39m=\u001b[39m\u001b[39m100\u001b[39m, alpha\u001b[39m=\u001b[39m\u001b[39m0.55\u001b[39m)\n\u001b[1;32m     <a href='vscode-notebook-cell:/Users/thomasmartin/Documents/GitHub/seals-ml/notebooks/SEALS_interpolator_test.ipynb#Y101sZmlsZQ%3D%3D?line=33'>34</a>\u001b[0m axes[\u001b[39m0\u001b[39m, \u001b[39m1\u001b[39m]\u001b[39m.\u001b[39mset_title(\u001b[39m'\u001b[39m\u001b[39mScikit-learn Gaussian Processes\u001b[39m\u001b[39m'\u001b[39m)\n\u001b[1;32m     <a href='vscode-notebook-cell:/Users/thomasmartin/Documents/GitHub/seals-ml/notebooks/SEALS_interpolator_test.ipynb#Y101sZmlsZQ%3D%3D?line=35'>36</a>\u001b[0m \u001b[39m# Plot 4 - Third Block\u001b[39;00m\n",
      "\u001b[0;31mIndexError\u001b[0m: invalid index to scalar variable."
     ]
    },
    {
     "data": {
      "image/png": "[encoded data removed]",
      "text/plain": [
       "<Figure size 1600x1200 with 6 Axes>"
      ]
     },
     "metadata": {},
     "output_type": "display_data"
    }
   ],
   "source": [
    "# Calculate the overall minimum and maximum values for the color bar range\n",
    "buffer = 6\n",
    "\n",
    "global_min = np.round(np.min(ch4_data), 2) - 0.25\n",
    "global_max = np.round(np.max(ch4_data), 2) + 0.25\n",
    "\n",
    "fig, axes = plt.subplots(2, 3, figsize=(16, 12))\n",
    "\n",
    "# Common settings for all subplots\n",
    "for ax_row in axes:\n",
    "    for ax in ax_row:\n",
    "        ax.scatter(x_pos, y_pos, label='sensors', color='black')\n",
    "        ax.scatter(x_pos_leak, y_pos_leak, marker=\"v\", label='leak locations', color='red')\n",
    "        ax.set_xlim(min(x_pos - buffer - 4), max(x_pos + buffer + 4))\n",
    "        ax.set_ylim(min(y_pos - buffer - 4), max(y_pos + buffer + 4))\n",
    "\n",
    "# Plot 1 - First Block\n",
    "img = axes[0, 0].imshow(z_interpolated.T, extent=(min(x_pos - buffer), max(x_pos + buffer), min(y_pos - buffer), max(y_pos + buffer)),\n",
    "                        origin='lower', cmap='viridis', alpha=0.5)\n",
    "\n",
    "img.set_clim(global_min, global_max)  # Set color bar range\n",
    "\n",
    "axes[0, 0].scatter(x_new[max_indices[0][0]][0], y_new[0][max_indices[1][0]], marker=\"X\", label='Global Max', color='Green', s=100, alpha=0.55)\n",
    "axes[0, 0].legend()\n",
    "axes[0, 0].set_title('Scipy Cubic Interpolator')\n",
    "\n",
    "# Plot 2 - Second Block\n",
    "img2 = axes[0, 1].imshow(reshaped_gp_results.T, extent=(min(x_pos - buffer), max(x_pos + buffer), min(y_pos - buffer), max(y_pos + buffer)),\n",
    "                         origin='lower', cmap='viridis', alpha=0.5)\n",
    "\n",
    "img2.set_clim(global_min, global_max)\n",
    "\n",
    "axes[0, 1].scatter(x_new[max_indices_gp[0][0]][0], y_new[0][max_indices_gp[1][0]], marker=\"X\", label='Global Max', color='Green', s=100, alpha=0.55)\n",
    "axes[0, 1].set_title('Scikit-learn Gaussian Processes')\n",
    "\n",
    "# Plot 4 - Third Block\n",
    "img4 = axes[1, 0].imshow(z_interpolated.T, extent=(min(x_pos - buffer), max(x_pos + buffer), min(y_pos - buffer), max(y_pos + buffer)),\n",
    "                         origin='lower', cmap='viridis', alpha=0.5)\n",
    "\n",
    "img4.set_clim(global_min, global_max)\n",
    "\n",
    "axes[1, 0].scatter(x_pos_leak[index_of_max_value], y_pos_leak[index_of_max_value], marker=\"s\", label='Max Likely Leak Location', color='Green', facecolors='none', s=300, linewidths=4)\n",
    "axes[1, 0].legend()\n",
    "\n",
    "# Plot 5 - Fourth Block\n",
    "img5 = axes[1, 1].imshow(reshaped_gp_results.T, extent=(min(x_pos - buffer), max(x_pos + buffer), min(y_pos - buffer), max(y_pos + buffer)),\n",
    "                         origin='lower', cmap='viridis', alpha=0.5)\n",
    "\n",
    "img5.set_clim(global_min, global_max)\n",
    "axes[1, 1].scatter(x_pos_leak[index_of_max_value_gp], y_pos_leak[index_of_max_value_gp], marker=\"s\", label='Max Likely Sensor', color='Green', facecolors='none', s=300, linewidths=4)\n",
    "\n",
    "# Third Across\n",
    "img3 = axes[0, 2].imshow(reshaped_rf_results.T, extent=(min(x_pos - buffer), max(x_pos + buffer), min(y_pos - buffer), max(y_pos + buffer)),\n",
    "                         origin='lower', cmap='viridis', alpha=0.5)\n",
    "\n",
    "img3.set_clim(global_min, global_max)\n",
    "\n",
    "axes[0, 2].scatter(x_new[max_indices_rf[0]][0], y_new[0][max_indices_rf[1]], marker=\"X\", label='Global Max', color='Green', s=100, alpha=0.55)\n",
    "axes[0, 2].set_title('Random Forest Interpolation')\n",
    "\n",
    "# Third Across, second row\n",
    "img6 = axes[1, 2].imshow(reshaped_rf_results.T, extent=(min(x_pos - buffer), max(x_pos + buffer), min(y_pos - buffer), max(y_pos + buffer)),\n",
    "                         origin='lower', cmap='viridis', alpha=0.5)\n",
    "\n",
    "img6.set_clim(global_min, global_max)\n",
    "\n",
    "axes[1, 2].scatter(x_pos_leak[index_of_max_value_rf], y_pos_leak[index_of_max_value_rf], marker=\"s\", label='Max Likely Sensor', color='Green', facecolors='none', s=300, linewidths=4)\n",
    "\n",
    "# Add colorbar\n",
    "cbar_ax = fig.add_axes([.94, 0.17, 0.01, 0.65])  # [x, y, width, height]\n",
    "cbar = plt.colorbar(img, cax=cbar_ax)\n",
    "cbar.set_label('Z values')\n",
    "\n",
    "# plt.tight_layout()\n",
    "plt.show()"
   ]
  },
  {
   "cell_type": "code",
   "execution_count": null,
   "id": "957ac1e8",
   "metadata": {},
   "outputs": [],
   "source": []
  }
 ],
 "metadata": {
  "kernelspec": {
   "display_name": "py10-viz",
   "language": "python",
   "name": "python3"
  },
  "language_info": {
   "codemirror_mode": {
    "name": "ipython",
    "version": 3
   },
   "file_extension": ".py",
   "mimetype": "text/x-python",
   "name": "python",
   "nbconvert_exporter": "python",
   "pygments_lexer": "ipython3",
   "version": "3.10.12"
  }
 },
 "nbformat": 4,
 "nbformat_minor": 5
}
