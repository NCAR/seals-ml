{
 "cells": [
  {
   "cell_type": "markdown",
   "id": "8f476814-f7e4-4e05-a18b-03167e350dfe",
   "metadata": {},
   "source": [
    "# Backtrack Testbed Notebook"
   ]
  },
  {
   "cell_type": "markdown",
   "id": "cd0a2c55-beff-4470-ab9e-703555abd3bc",
   "metadata": {},
   "source": [
    "Short notebook to test various interpolation strategies. "
   ]
  },
  {
   "cell_type": "code",
   "execution_count": 3,
   "id": "260a2b87-deb0-4671-be8e-30f968f72c39",
   "metadata": {
    "tags": []
   },
   "outputs": [],
   "source": [
    "# Standard library\n",
    "import sys\n",
    "\n",
    "# Data manipulation and analysis\n",
    "import xarray as xr"
   ]
  },
  {
   "cell_type": "code",
   "execution_count": 4,
   "id": "e785073f",
   "metadata": {},
   "outputs": [],
   "source": [
    "sys.path.insert(1, '../sealsml')"
   ]
  },
  {
   "cell_type": "code",
   "execution_count": 5,
   "id": "b9c9961b",
   "metadata": {},
   "outputs": [],
   "source": [
    "from backtrack import polar"
   ]
  },
  {
   "cell_type": "code",
   "execution_count": null,
   "id": "1152f43d",
   "metadata": {},
   "outputs": [],
   "source": []
  }
 ],
 "metadata": {
  "kernelspec": {
   "display_name": "py10-viz",
   "language": "python",
   "name": "python3"
  },
  "language_info": {
   "codemirror_mode": {
    "name": "ipython",
    "version": 3
   },
   "file_extension": ".py",
   "mimetype": "text/x-python",
   "name": "python",
   "nbconvert_exporter": "python",
   "pygments_lexer": "ipython3",
   "version": "3.10.12"
  }
 },
 "nbformat": 4,
 "nbformat_minor": 5
}
