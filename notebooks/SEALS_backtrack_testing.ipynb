{
 "cells": [
  {
   "cell_type": "markdown",
   "id": "8f476814-f7e4-4e05-a18b-03167e350dfe",
   "metadata": {},
   "source": [
    "# Backtrack Testbed Notebook"
   ]
  },
  {
   "cell_type": "markdown",
   "id": "cd0a2c55-beff-4470-ab9e-703555abd3bc",
   "metadata": {},
   "source": [
    "Short notebook to test Bryans functions."
   ]
  },
  {
   "cell_type": "code",
   "execution_count": 1,
   "id": "260a2b87-deb0-4671-be8e-30f968f72c39",
   "metadata": {
    "tags": []
   },
   "outputs": [],
   "source": [
    "# Standard library\n",
    "import sys\n",
    "\n",
    "import numpy as np\n",
    "import matplotlib.pyplot as plt\n",
    "\n",
    "import metpy "
   ]
  },
  {
   "cell_type": "markdown",
   "id": "f1f5077a",
   "metadata": {},
   "source": [
    "We want MetPy ver 1.6.1"
   ]
  },
  {
   "cell_type": "code",
   "execution_count": 2,
   "id": "8bc10c65",
   "metadata": {},
   "outputs": [],
   "source": [
    "# !pip install metpy --upgrade"
   ]
  },
  {
   "cell_type": "code",
   "execution_count": 3,
   "id": "9f3b5d01",
   "metadata": {},
   "outputs": [
    {
     "name": "stdout",
     "output_type": "stream",
     "text": [
      " Harnessing the power of MetPy version 1.6.1 ️\n"
     ]
    }
   ],
   "source": [
    "print(f\" Harnessing the power of MetPy version {metpy.__version__} ️\")"
   ]
  },
  {
   "cell_type": "code",
   "execution_count": 4,
   "id": "e785073f",
   "metadata": {},
   "outputs": [],
   "source": [
    "sys.path.insert(1, '../sealsml')"
   ]
  },
  {
   "cell_type": "markdown",
   "id": "19e3ef9f",
   "metadata": {},
   "source": [
    "# Azimuth Testing"
   ]
  },
  {
   "cell_type": "code",
   "execution_count": 5,
   "id": "54b1cc9c",
   "metadata": {},
   "outputs": [],
   "source": [
    "from geometry import GeoCalculator"
   ]
  },
  {
   "cell_type": "code",
   "execution_count": 6,
   "id": "482f4a47",
   "metadata": {},
   "outputs": [],
   "source": [
    "# x, y, and z\n",
    "\n",
    "ref = np.array([[0., 0., 0.],\n",
    "                [0., 0., 0.],\n",
    "                [0., 0., 0.],\n",
    "                [0., 0., 0.]])\n",
    "\n",
    "target = np.array([[0., 1., 0.], # north, 0\n",
    "                   [1., 0., 0.],\n",
    "                   [0., -1., 0.],\n",
    "                   [-1., 0., 0.]])"
   ]
  },
  {
   "cell_type": "code",
   "execution_count": 7,
   "id": "1b4c37cb",
   "metadata": {},
   "outputs": [
    {
     "name": "stdout",
     "output_type": "stream",
     "text": [
      "Warning, Azimuth Calculation might be wrong for vertically offset points\n"
     ]
    },
    {
     "data": {
      "text/plain": [
       "array([  0.,  90., 180., 270.])"
      ]
     },
     "execution_count": 7,
     "metadata": {},
     "output_type": "execute_result"
    }
   ],
   "source": [
    "geometry_class = GeoCalculator(ref, target)\n",
    "geometry_class.calculate_azimuth()"
   ]
  },
  {
   "cell_type": "markdown",
   "id": "6ac6d6b9",
   "metadata": {},
   "source": [
    "# Random u and v data"
   ]
  },
  {
   "cell_type": "code",
   "execution_count": 8,
   "id": "7794c10a",
   "metadata": {},
   "outputs": [],
   "source": [
    "# Set the number of examples\n",
    "num_examples = 100\n",
    "\n",
    "# Generate random u and v components using a normal distribution with mean 0 and standard deviation 5\n",
    "u_data = np.random.normal(loc=0, scale=5, size=num_examples)\n",
    "v_data = np.random.normal(loc=0, scale=5, size=num_examples)"
   ]
  },
  {
   "cell_type": "code",
   "execution_count": 9,
   "id": "2f75cb66",
   "metadata": {},
   "outputs": [
    {
     "data": {
      "image/png": "[encoded data removed]",
      "text/plain": [
       "<Figure size 1000x600 with 2 Axes>"
      ]
     },
     "metadata": {},
     "output_type": "display_data"
    }
   ],
   "source": [
    "n_bins = 17\n",
    "\n",
    "# Create the subplots\n",
    "fig, (ax1, ax2) = plt.subplots(1, 2, figsize=(10, 6))\n",
    "\n",
    "# Create the histograms\n",
    "ax1.hist(u_data, bins=n_bins, edgecolor='black', alpha=0.7, label='u_data')\n",
    "ax2.hist(v_data, bins=n_bins, edgecolor='black', alpha=0.7, label='v_data')\n",
    "\n",
    "# Add labels and title\n",
    "ax1.set_xlabel('Value')\n",
    "ax1.set_ylabel('Frequency')\n",
    "ax1.set_title('Histogram of u_data')\n",
    "ax2.set_xlabel('Value')\n",
    "ax2.set_ylabel('Frequency')\n",
    "ax2.set_title('Histogram of v_data')\n",
    "\n",
    "# Add legend\n",
    "ax1.legend()\n",
    "ax2.legend()\n",
    "\n",
    "# Adjust layout\n",
    "plt.tight_layout()\n",
    "\n",
    "# Show the plot\n",
    "plt.show()"
   ]
  },
  {
   "cell_type": "markdown",
   "id": "587b5172",
   "metadata": {},
   "source": [
    "# Let's compare to MetPy Calc"
   ]
  },
  {
   "cell_type": "code",
   "execution_count": 10,
   "id": "b9c9961b",
   "metadata": {},
   "outputs": [],
   "source": [
    "from backtrack import polar"
   ]
  },
  {
   "cell_type": "code",
   "execution_count": 11,
   "id": "1152f43d",
   "metadata": {},
   "outputs": [],
   "source": [
    "from metpy.calc import wind_direction\n",
    "from metpy.calc import wind_speed\n",
    "\n",
    "from metpy.units import units"
   ]
  },
  {
   "cell_type": "code",
   "execution_count": 12,
   "id": "1b37dd1a",
   "metadata": {},
   "outputs": [],
   "source": [
    "angle, speed = polar(u_data,v_data)"
   ]
  },
  {
   "cell_type": "code",
   "execution_count": 13,
   "id": "c9deddfc",
   "metadata": {},
   "outputs": [],
   "source": [
    "wind_dir = wind_direction(u_data*units(\"m/s\"), v_data*units(\"m/s\"))\n",
    "\n",
    "windspeed = wind_speed(u_data*units(\"m/s\"), v_data*units(\"m/s\"))"
   ]
  },
  {
   "cell_type": "code",
   "execution_count": 14,
   "id": "ef3c967c",
   "metadata": {},
   "outputs": [
    {
     "name": "stdout",
     "output_type": "stream",
     "text": [
      "Arrays match within 6 decimal places!\n"
     ]
    }
   ],
   "source": [
    "if np.allclose(speed, windspeed.magnitude, rtol=1e-6):  # Relative tolerance of 1e-4\n",
    "    print(\"Arrays match within 6 decimal places!\")\n",
    "else:\n",
    "    print(\"Arrays do not match within 6 decimal places.\")"
   ]
  },
  {
   "cell_type": "markdown",
   "id": "4c86623c",
   "metadata": {},
   "source": [
    "Looks like the speeds match"
   ]
  },
  {
   "cell_type": "code",
   "execution_count": 15,
   "id": "80a3fb94",
   "metadata": {},
   "outputs": [
    {
     "name": "stdout",
     "output_type": "stream",
     "text": [
      "Arrays do not match within 6 decimal places.\n"
     ]
    }
   ],
   "source": [
    "if np.allclose(angle, wind_dir.magnitude, rtol=1e-6):  # Relative tolerance of 1e-4\n",
    "    print(\"Arrays match within 6 decimal places!\")\n",
    "else:\n",
    "    print(\"Arrays do not match within 6 decimal places.\")"
   ]
  },
  {
   "cell_type": "code",
   "execution_count": 16,
   "id": "7da8bfd6",
   "metadata": {},
   "outputs": [
    {
     "data": {
      "text/plain": [
       "<matplotlib.legend.Legend at 0x15f268a90>"
      ]
     },
     "execution_count": 16,
     "metadata": {},
     "output_type": "execute_result"
    },
    {
     "data": {
      "image/png": "[encoded data removed]",
      "text/plain": [
       "<Figure size 640x480 with 1 Axes>"
      ]
     },
     "metadata": {},
     "output_type": "display_data"
    }
   ],
   "source": [
    "plt.hist(angle,    bins=21, alpha=0.5, label='polar function')\n",
    "plt.hist(wind_dir, bins=21, alpha=0.5, label='metpy function')\n",
    "plt.legend()"
   ]
  },
  {
   "cell_type": "markdown",
   "id": "9dc86956",
   "metadata": {},
   "source": [
    "Let's test a pure east case"
   ]
  },
  {
   "cell_type": "code",
   "execution_count": 17,
   "id": "917c2b49",
   "metadata": {},
   "outputs": [
    {
     "data": {
      "text/plain": [
       "0.0"
      ]
     },
     "execution_count": 17,
     "metadata": {},
     "output_type": "execute_result"
    }
   ],
   "source": [
    "angle = np.rad2deg(np.arctan2(0, 10))\n",
    "angle"
   ]
  },
  {
   "cell_type": "code",
   "execution_count": 18,
   "id": "8610d63f",
   "metadata": {},
   "outputs": [
    {
     "data": {
      "text/html": [
       "270.0 degree"
      ],
      "text/latex": [
       "$\\begin{pmatrix}\\end{pmatrix}\\ \\mathrm{degree}$"
      ],
      "text/plain": [
       "array(270.) <Unit('degree')>"
      ]
     },
     "execution_count": 18,
     "metadata": {},
     "output_type": "execute_result"
    }
   ],
   "source": [
    "wind_dir = wind_direction(10*units(\"m/s\"), 0*units(\"m/s\"))\n",
    "wind_dir"
   ]
  },
  {
   "cell_type": "markdown",
   "id": "169f7780",
   "metadata": {},
   "source": [
    "If we want to do this the oceanographic way:"
   ]
  },
  {
   "cell_type": "code",
   "execution_count": 19,
   "id": "4f7c7317",
   "metadata": {},
   "outputs": [
    {
     "data": {
      "text/html": [
       "90.0 degree"
      ],
      "text/latex": [
       "$\\begin{pmatrix}\\end{pmatrix}\\ \\mathrm{degree}$"
      ],
      "text/plain": [
       "array(90.) <Unit('degree')>"
      ]
     },
     "execution_count": 19,
     "metadata": {},
     "output_type": "execute_result"
    }
   ],
   "source": [
    "wind_dir = wind_direction(10*units(\"m/s\"), 0*units(\"m/s\"), convention='to')\n",
    "wind_dir"
   ]
  },
  {
   "cell_type": "markdown",
   "id": "1af2deb0",
   "metadata": {},
   "source": [
    "From the north:"
   ]
  },
  {
   "cell_type": "code",
   "execution_count": 20,
   "id": "336335cf",
   "metadata": {},
   "outputs": [
    {
     "data": {
      "text/html": [
       "360.0 degree"
      ],
      "text/latex": [
       "$\\begin{pmatrix}\\end{pmatrix}\\ \\mathrm{degree}$"
      ],
      "text/plain": [
       "array(360.) <Unit('degree')>"
      ]
     },
     "execution_count": 20,
     "metadata": {},
     "output_type": "execute_result"
    }
   ],
   "source": [
    "wind_dir = wind_direction(0*units(\"m/s\"), -15*units(\"m/s\"))\n",
    "wind_dir"
   ]
  },
  {
   "cell_type": "markdown",
   "id": "cf4264a7",
   "metadata": {},
   "source": [
    "## 1. For the polar function, I reccomend replacing it with the MetPy function, as it will follow the convention for most atmospheric scienctists and matches the current azimuth function to have 0/360 as North.  It will also be less code to maintain and test :)"
   ]
  },
  {
   "cell_type": "markdown",
   "id": "688217f5",
   "metadata": {},
   "source": [
    "Now let's test the polar 2D function"
   ]
  },
  {
   "cell_type": "code",
   "execution_count": 21,
   "id": "cd55509f",
   "metadata": {},
   "outputs": [],
   "source": [
    "u_reshaped = u_data.reshape(10,10)*units(\"m/s\")\n",
    "v_reshaped = v_data.reshape(10,10)*units(\"m/s\")"
   ]
  },
  {
   "cell_type": "code",
   "execution_count": 22,
   "id": "8db0a118",
   "metadata": {},
   "outputs": [
    {
     "data": {
      "text/plain": [
       "array([[200.93383365, 248.83766077, 191.55536218, 253.099468  ,\n",
       "        175.65531975, 123.02974642, 325.8251086 , 323.64593993,\n",
       "        237.10627884, 272.39490052],\n",
       "       [193.7240149 , 200.19165849, 202.36893593, 244.85074709,\n",
       "        303.18582613, 264.14315382,  64.36416745, 213.6105938 ,\n",
       "        231.73775045, 173.32317964],\n",
       "       [182.91111904, 209.16881192, 154.27333997, 340.36413407,\n",
       "        245.70901146, 167.07249978, 300.86368947,  59.16098328,\n",
       "        190.0107537 ,  76.80329477],\n",
       "       [ 95.1612014 , 334.10361239, 259.67864643, 300.35578943,\n",
       "         36.99650152, 325.85380764, 289.14216956,  69.54234887,\n",
       "        227.32767029,  37.29839206],\n",
       "       [146.31242057, 173.95416487,  44.68594208, 149.43188762,\n",
       "        351.1833229 , 223.02029202, 283.46746773, 290.2121699 ,\n",
       "        237.93281878,  70.12226775],\n",
       "       [355.80106769,  76.40052992, 261.1401242 ,  59.85710226,\n",
       "        313.2201169 , 357.02215311, 322.98225821,  81.7877184 ,\n",
       "        115.30675058,  10.74427429],\n",
       "       [ 31.47748556, 308.77028252,  35.93035641,  43.74722647,\n",
       "        318.51057197,  52.86779763, 252.27637298,   3.33992006,\n",
       "        113.05791564, 347.04332063],\n",
       "       [ 16.91611674, 226.31209619,  66.88980484, 249.02866357,\n",
       "         66.01574423, 260.34305608, 203.9255979 , 163.51182608,\n",
       "         39.14747742, 310.96158798],\n",
       "       [ 51.62589537, 287.58232754,  21.13171794, 352.98332831,\n",
       "         73.94278775, 202.71722313, 109.92579065, 128.89118346,\n",
       "        303.14408906, 139.18390059],\n",
       "       [ 48.91711481, 204.03389052, 159.57763719,  60.32185504,\n",
       "         15.23955829, 222.02806926, 250.94993166, 214.91449036,\n",
       "         64.983402  , 177.17784635]])"
      ]
     },
     "execution_count": 22,
     "metadata": {},
     "output_type": "execute_result"
    }
   ],
   "source": [
    "wind_dir_2d = wind_direction(u_reshaped, v_reshaped)\n",
    "wind_dir_2d.magnitude"
   ]
  },
  {
   "cell_type": "code",
   "execution_count": 23,
   "id": "b64cd529",
   "metadata": {},
   "outputs": [
    {
     "data": {
      "text/plain": [
       "<matplotlib.image.AxesImage at 0x173f1d330>"
      ]
     },
     "execution_count": 23,
     "metadata": {},
     "output_type": "execute_result"
    },
    {
     "data": {
      "image/png": "[encoded data removed]",
      "text/plain": [
       "<Figure size 640x480 with 1 Axes>"
      ]
     },
     "metadata": {},
     "output_type": "display_data"
    }
   ],
   "source": [
    "plt.imshow(wind_dir_2d)"
   ]
  },
  {
   "cell_type": "code",
   "execution_count": 24,
   "id": "7b86c7ee",
   "metadata": {},
   "outputs": [],
   "source": [
    "wind_speed_2d = wind_speed(u_reshaped, \n",
    "                           v_reshaped)"
   ]
  },
  {
   "cell_type": "code",
   "execution_count": 25,
   "id": "746be9ea",
   "metadata": {},
   "outputs": [
    {
     "data": {
      "text/plain": [
       "<matplotlib.image.AxesImage at 0x173f891b0>"
      ]
     },
     "execution_count": 25,
     "metadata": {},
     "output_type": "execute_result"
    },
    {
     "data": {
      "image/png": "[encoded data removed]",
      "text/plain": [
       "<Figure size 640x480 with 1 Axes>"
      ]
     },
     "metadata": {},
     "output_type": "display_data"
    }
   ],
   "source": [
    "plt.imshow(wind_speed_2d)"
   ]
  },
  {
   "cell_type": "markdown",
   "id": "3362a0e9",
   "metadata": {},
   "source": [
    "## 2. For polar 2D, I reccomend using MetPy functions again as it does not require use of indicies for 2D arrays, and will match single point calculations as above as far as 0/360 being north. "
   ]
  },
  {
   "cell_type": "markdown",
   "id": "44ba553a",
   "metadata": {},
   "source": [
    "lets try to find Ch4 max, first lets make an array of random ch4 data"
   ]
  },
  {
   "cell_type": "code",
   "execution_count": 26,
   "id": "07700e5e",
   "metadata": {},
   "outputs": [],
   "source": [
    "# Define number of data points\n",
    "N = 5000\n",
    "\n",
    "# Generate random frequencies and amplitudes for sin and cos\n",
    "freq_sin = np.random.uniform(0.1, 0.5)\n",
    "amp_sin = np.random.uniform(0.5, 1.5)\n",
    "freq_cos = np.random.uniform(0.2, 0.8)\n",
    "amp_cos = np.random.uniform(0.5, 1.5)\n",
    "\n",
    "# Generate time series data as a 1D array\n",
    "t = np.linspace(0, 20, N)\n",
    "data = amp_sin * np.sin(freq_sin * t) + amp_cos * np.cos(freq_cos * t) + np.random.randn(N) * 0.05\n"
   ]
  },
  {
   "cell_type": "code",
   "execution_count": 27,
   "id": "a512a204",
   "metadata": {},
   "outputs": [
    {
     "data": {
      "text/plain": [
       "[<matplotlib.lines.Line2D at 0x174e04be0>]"
      ]
     },
     "execution_count": 27,
     "metadata": {},
     "output_type": "execute_result"
    },
    {
     "data": {
      "image/png": "[encoded data removed]",
      "text/plain": [
       "<Figure size 640x480 with 1 Axes>"
      ]
     },
     "metadata": {},
     "output_type": "display_data"
    }
   ],
   "source": [
    "plt.plot(data)"
   ]
  },
  {
   "cell_type": "code",
   "execution_count": 28,
   "id": "69324a40",
   "metadata": {},
   "outputs": [
    {
     "data": {
      "text/plain": [
       "True"
      ]
     },
     "execution_count": 28,
     "metadata": {},
     "output_type": "execute_result"
    }
   ],
   "source": [
    "np.size(data) == np.size(t)"
   ]
  },
  {
   "cell_type": "code",
   "execution_count": 29,
   "id": "45cc2d0f",
   "metadata": {},
   "outputs": [],
   "source": [
    "from backtrack import findmaxC, findmaxCH4_noloop"
   ]
  },
  {
   "cell_type": "code",
   "execution_count": 34,
   "id": "2535fd2d",
   "metadata": {},
   "outputs": [
    {
     "name": "stdout",
     "output_type": "stream",
     "text": [
      "CPU times: user 487 µs, sys: 1 µs, total: 488 µs\n",
      "Wall time: 490 µs\n"
     ]
    }
   ],
   "source": [
    "%%time\n",
    "\n",
    "max_c, time_max_c, ijk_max = findmaxC(data, t)"
   ]
  },
  {
   "cell_type": "code",
   "execution_count": 33,
   "id": "42b3d9c8",
   "metadata": {},
   "outputs": [
    {
     "name": "stdout",
     "output_type": "stream",
     "text": [
      "CPU times: user 41 µs, sys: 15 µs, total: 56 µs\n",
      "Wall time: 53.9 µs\n"
     ]
    }
   ],
   "source": [
    "%%time \n",
    "\n",
    "max_c_noloop, time_max_c_noloop, ijk_max_noloop = findmaxCH4_noloop(data, t)"
   ]
  },
  {
   "cell_type": "code",
   "execution_count": 32,
   "id": "487486bd",
   "metadata": {},
   "outputs": [
    {
     "name": "stdout",
     "output_type": "stream",
     "text": [
      "max_c: Passed\n",
      "time_max_c: Passed\n",
      "ijk_max: Passed\n"
     ]
    }
   ],
   "source": [
    "if max_c == max_c_noloop:\n",
    "    print(\"max_c: Passed\")\n",
    "else:\n",
    "    print(\"max_c: Failed\")\n",
    "\n",
    "if time_max_c == time_max_c_noloop:\n",
    "    print(\"time_max_c: Passed\")\n",
    "else:\n",
    "    print(\"time_max_c: Failed\")\n",
    "\n",
    "if ijk_max == ijk_max_noloop:\n",
    "    print(\"ijk_max: Passed\")\n",
    "else:\n",
    "    print(\"ijk_max: Failed\")"
   ]
  },
  {
   "cell_type": "markdown",
   "id": "b3e54a4a",
   "metadata": {},
   "source": [
    "## 3. Lets use the no-loop implementation, it is much faster and requires one less input"
   ]
  },
  {
   "cell_type": "markdown",
   "id": "4acd73a9",
   "metadata": {},
   "source": []
  }
 ],
 "metadata": {
  "kernelspec": {
   "display_name": "py10-viz",
   "language": "python",
   "name": "python3"
  },
  "language_info": {
   "codemirror_mode": {
    "name": "ipython",
    "version": 3
   },
   "file_extension": ".py",
   "mimetype": "text/x-python",
   "name": "python",
   "nbconvert_exporter": "python",
   "pygments_lexer": "ipython3",
   "version": "3.10.12"
  }
 },
 "nbformat": 4,
 "nbformat_minor": 5
}
