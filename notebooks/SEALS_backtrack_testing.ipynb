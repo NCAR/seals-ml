{
 "cells": [
  {
   "cell_type": "markdown",
   "id": "8f476814-f7e4-4e05-a18b-03167e350dfe",
   "metadata": {},
   "source": [
    "# Backtrack Testbed Notebook"
   ]
  },
  {
   "cell_type": "markdown",
   "id": "cd0a2c55-beff-4470-ab9e-703555abd3bc",
   "metadata": {},
   "source": [
    "Short notebook to test Bryans functions."
   ]
  },
  {
   "cell_type": "code",
   "execution_count": 31,
   "id": "260a2b87-deb0-4671-be8e-30f968f72c39",
   "metadata": {
    "tags": []
   },
   "outputs": [],
   "source": [
    "# Standard library\n",
    "import sys\n",
    "\n",
    "import numpy as np\n",
    "import xarray as xr\n",
    "import matplotlib.pyplot as plt\n",
    "\n",
    "import metpy "
   ]
  },
  {
   "cell_type": "markdown",
   "id": "f1f5077a",
   "metadata": {},
   "source": [
    "We want MetPy ver 1.6.1"
   ]
  },
  {
   "cell_type": "code",
   "execution_count": 2,
   "id": "8bc10c65",
   "metadata": {},
   "outputs": [],
   "source": [
    "# !pip install metpy --upgrade"
   ]
  },
  {
   "cell_type": "code",
   "execution_count": 2,
   "id": "9f3b5d01",
   "metadata": {},
   "outputs": [
    {
     "name": "stdout",
     "output_type": "stream",
     "text": [
      " Harnessing the power of MetPy version 1.6.1 ️\n"
     ]
    }
   ],
   "source": [
    "print(f\" Harnessing the power of MetPy version {metpy.__version__} ️\")"
   ]
  },
  {
   "cell_type": "code",
   "execution_count": 3,
   "id": "e785073f",
   "metadata": {},
   "outputs": [],
   "source": [
    "sys.path.insert(1, '../sealsml')"
   ]
  },
  {
   "cell_type": "markdown",
   "id": "19e3ef9f",
   "metadata": {},
   "source": [
    "# Azimuth Testing"
   ]
  },
  {
   "cell_type": "code",
   "execution_count": 30,
   "id": "54b1cc9c",
   "metadata": {},
   "outputs": [],
   "source": [
    "from geometry import GeoCalculator, polar_to_cartesian"
   ]
  },
  {
   "cell_type": "code",
   "execution_count": 5,
   "id": "482f4a47",
   "metadata": {},
   "outputs": [],
   "source": [
    "# x, y, and z\n",
    "\n",
    "ref = np.array([[0., 0., 0.],\n",
    "                [0., 0., 0.],\n",
    "                [0., 0., 0.],\n",
    "                [0., 0., 0.]])\n",
    "\n",
    "target = np.array([[0., 1., 0.], # north, 0\n",
    "                   [1., 0., 0.],\n",
    "                   [0., -1., 0.],\n",
    "                   [-1., 0., 0.]])"
   ]
  },
  {
   "cell_type": "code",
   "execution_count": 6,
   "id": "1b4c37cb",
   "metadata": {},
   "outputs": [
    {
     "name": "stdout",
     "output_type": "stream",
     "text": [
      "Warning, Azimuth Calculation might be wrong for vertically offset points\n"
     ]
    },
    {
     "data": {
      "text/plain": [
       "array([  0.,  90., 180., 270.])"
      ]
     },
     "execution_count": 6,
     "metadata": {},
     "output_type": "execute_result"
    }
   ],
   "source": [
    "geometry_class = GeoCalculator(ref, target)\n",
    "geometry_class.calculate_azimuth()"
   ]
  },
  {
   "cell_type": "markdown",
   "id": "6ac6d6b9",
   "metadata": {},
   "source": [
    "# Random u and v data"
   ]
  },
  {
   "cell_type": "code",
   "execution_count": 7,
   "id": "7794c10a",
   "metadata": {},
   "outputs": [],
   "source": [
    "# Set the number of examples\n",
    "num_examples = 100\n",
    "\n",
    "# Generate random u and v components using a normal distribution with mean 0 and standard deviation 5\n",
    "u_data = np.random.normal(loc=0, scale=5, size=num_examples)\n",
    "v_data = np.random.normal(loc=0, scale=5, size=num_examples)"
   ]
  },
  {
   "cell_type": "code",
   "execution_count": 8,
   "id": "2f75cb66",
   "metadata": {},
   "outputs": [
    {
     "data": {
      "image/png": "[encoded data removed]",
      "text/plain": [
       "<Figure size 1000x600 with 2 Axes>"
      ]
     },
     "metadata": {},
     "output_type": "display_data"
    }
   ],
   "source": [
    "n_bins = 17\n",
    "\n",
    "# Create the subplots\n",
    "fig, (ax1, ax2) = plt.subplots(1, 2, figsize=(10, 6))\n",
    "\n",
    "# Create the histograms\n",
    "ax1.hist(u_data, bins=n_bins, edgecolor='black', alpha=0.7, label='u_data')\n",
    "ax2.hist(v_data, bins=n_bins, edgecolor='black', alpha=0.7, label='v_data')\n",
    "\n",
    "# Add labels and title\n",
    "ax1.set_xlabel('Value')\n",
    "ax1.set_ylabel('Frequency')\n",
    "ax1.set_title('Histogram of u_data')\n",
    "ax2.set_xlabel('Value')\n",
    "ax2.set_ylabel('Frequency')\n",
    "ax2.set_title('Histogram of v_data')\n",
    "\n",
    "# Add legend\n",
    "ax1.legend()\n",
    "ax2.legend()\n",
    "\n",
    "# Adjust layout\n",
    "plt.tight_layout()\n",
    "\n",
    "# Show the plot\n",
    "plt.show()"
   ]
  },
  {
   "cell_type": "markdown",
   "id": "587b5172",
   "metadata": {},
   "source": [
    "# Let's show how to use MetPy Calc"
   ]
  },
  {
   "cell_type": "code",
   "execution_count": 9,
   "id": "1152f43d",
   "metadata": {},
   "outputs": [],
   "source": [
    "from metpy.calc import wind_direction\n",
    "from metpy.calc import wind_speed\n",
    "\n",
    "from metpy.units import units"
   ]
  },
  {
   "cell_type": "code",
   "execution_count": 11,
   "id": "c9deddfc",
   "metadata": {},
   "outputs": [
    {
     "data": {
      "text/html": [
       "<table><tbody><tr><th>Magnitude</th><td style='text-align:left;'><pre>[7.349764758102366 6.662121348309235 8.506519974121694 5.415437046956012<br> 4.935975311682743 5.992376486373621 10.125973153276044 7.321357839226664<br> 5.026325658049476 1.423521488336086 8.693104693432572 7.750849274456495<br> 3.4054530936564182 3.9710545256627907 10.650265220802286<br> 6.816005215113161 7.590697293987007 2.091365383147827 6.311114577015559<br> 2.8625032527291756 4.528800192143511 8.866200813546989 8.503736972985376<br> 3.7436116547735065 5.0726110934584145 5.038291085451696 7.227851537258303<br> 10.263038002996897 8.824951588315635 6.077500099138478 6.505189346449913<br> 2.7526798556606917 1.2471283368315456 5.118707419611475<br> 10.966370283748706 5.516416421785082 5.824597180945949 6.251973446715685<br> 12.300105814444725 4.915654412926562 10.023765958902638 6.881871000104925<br> 7.186519618558573 9.759323732829444 4.1384586673019275 10.792783800610305<br> 0.5753796593276105 3.8618538847010866 10.622553982249464<br> 4.089511442841965 8.612750809985902 6.20946477752976 14.954669054726171<br> 1.7119388685308332 3.674727448937895 11.659970083323433 4.294175879590604<br> 5.902305885245403 1.394742812118627 9.414882401432957 9.46033510520371<br> 8.071481123131406 7.344367310334781 5.533503255878472 7.683213552390208<br> 7.272073578524238 5.343488828928036 8.030723805575922 7.884008040432727<br> 14.021483913229948 1.6349718572007252 4.251894569150889 9.455623975113227<br> 4.605250985120657 8.47471899489689 14.654585708915082 4.236334452843257<br> 5.607010664822687 15.36336296170586 4.470559687838191 13.724447023726393<br> 1.981497492691223 3.8437410991202676 5.427429089007144 7.0353096102587305<br> 8.676898142550868 4.584340397297541 9.493800190794706 2.6926739159217057<br> 0.36472754802799773 10.248530151183742 2.94697770657408 11.41926823151612<br> 5.031875087756631 1.114920890891923 6.548819351503985 8.675016893799102<br> 13.423714263914816 7.6185321811356514 8.98243029093037]</pre></td></tr><tr><th>Units</th><td style='text-align:left;'>meter/second</td></tr></tbody></table>"
      ],
      "text/latex": [
       "$\\begin{pmatrix} &  &  &  &  &  &  &  &  &  &  &  &  &  &  &  &  &  &  &  &  &  &  &  &  &  &  &  &  &  &  &  &  &  &  &  &  &  &  &  &  &  &  &  &  &  &  &  &  &  &  &  &  &  &  &  &  &  &  &  &  &  &  &  &  &  &  &  &  &  &  &  &  &  &  &  &  &  &  &  &  &  &  &  &  &  &  &  &  &  &  &  &  &  &  &  &  &  &  & \\end{pmatrix}\\ \\frac{\\mathrm{meter}}{\\mathrm{second}}$"
      ],
      "text/plain": [
       "array([ 7.34976476,  6.66212135,  8.50651997,  5.41543705,  4.93597531,\n",
       "        5.99237649, 10.12597315,  7.32135784,  5.02632566,  1.42352149,\n",
       "        8.69310469,  7.75084927,  3.40545309,  3.97105453, 10.65026522,\n",
       "        6.81600522,  7.59069729,  2.09136538,  6.31111458,  2.86250325,\n",
       "        4.52880019,  8.86620081,  8.50373697,  3.74361165,  5.07261109,\n",
       "        5.03829109,  7.22785154, 10.263038  ,  8.82495159,  6.0775001 ,\n",
       "        6.50518935,  2.75267986,  1.24712834,  5.11870742, 10.96637028,\n",
       "        5.51641642,  5.82459718,  6.25197345, 12.30010581,  4.91565441,\n",
       "       10.02376596,  6.881871  ,  7.18651962,  9.75932373,  4.13845867,\n",
       "       10.7927838 ,  0.57537966,  3.86185388, 10.62255398,  4.08951144,\n",
       "        8.61275081,  6.20946478, 14.95466905,  1.71193887,  3.67472745,\n",
       "       11.65997008,  4.29417588,  5.90230589,  1.39474281,  9.4148824 ,\n",
       "        9.46033511,  8.07148112,  7.34436731,  5.53350326,  7.68321355,\n",
       "        7.27207358,  5.34348883,  8.03072381,  7.88400804, 14.02148391,\n",
       "        1.63497186,  4.25189457,  9.45562398,  4.60525099,  8.47471899,\n",
       "       14.65458571,  4.23633445,  5.60701066, 15.36336296,  4.47055969,\n",
       "       13.72444702,  1.98149749,  3.8437411 ,  5.42742909,  7.03530961,\n",
       "        8.67689814,  4.5843404 ,  9.49380019,  2.69267392,  0.36472755,\n",
       "       10.24853015,  2.94697771, 11.41926823,  5.03187509,  1.11492089,\n",
       "        6.54881935,  8.67501689, 13.42371426,  7.61853218,  8.98243029]) <Unit('meter / second')>"
      ]
     },
     "execution_count": 11,
     "metadata": {},
     "output_type": "execute_result"
    }
   ],
   "source": [
    "wind_dir = wind_direction(u_data*units(\"m/s\"), v_data*units(\"m/s\"))\n",
    "\n",
    "windspeed = wind_speed(u_data*units(\"m/s\"), v_data*units(\"m/s\"))\n",
    "windspeed"
   ]
  },
  {
   "cell_type": "markdown",
   "id": "44ba553a",
   "metadata": {},
   "source": [
    "# lets try to find Ch4 max, first lets make an array of random ch4 data"
   ]
  },
  {
   "cell_type": "code",
   "execution_count": 14,
   "id": "07700e5e",
   "metadata": {},
   "outputs": [
    {
     "data": {
      "text/plain": [
       "[<matplotlib.lines.Line2D at 0x12edea800>]"
      ]
     },
     "execution_count": 14,
     "metadata": {},
     "output_type": "execute_result"
    },
    {
     "data": {
      "image/png": "[encoded data removed]",
      "text/plain": [
       "<Figure size 640x480 with 1 Axes>"
      ]
     },
     "metadata": {},
     "output_type": "display_data"
    }
   ],
   "source": [
    "# Define number of data points\n",
    "N = 5000\n",
    "\n",
    "# Generate random frequencies and amplitudes for sin and cos\n",
    "freq_sin = np.random.uniform(0.1, 0.5)\n",
    "amp_sin = np.random.uniform(0.5, 1.5)\n",
    "freq_cos = np.random.uniform(0.2, 0.8)\n",
    "amp_cos = np.random.uniform(0.5, 1.5)\n",
    "\n",
    "# Generate time series data as a 1D array\n",
    "t = np.linspace(0, 20, N)\n",
    "data = amp_sin * np.sin(freq_sin * t) + amp_cos * np.cos(freq_cos * t) + np.random.randn(N) * 0.05\n",
    "\n",
    "plt.plot(data)\n"
   ]
  },
  {
   "cell_type": "code",
   "execution_count": 15,
   "id": "45cc2d0f",
   "metadata": {},
   "outputs": [],
   "source": [
    "from backtrack import findmaxCH4"
   ]
  },
  {
   "cell_type": "code",
   "execution_count": 16,
   "id": "42b3d9c8",
   "metadata": {},
   "outputs": [
    {
     "name": "stdout",
     "output_type": "stream",
     "text": [
      "CPU times: user 244 µs, sys: 103 µs, total: 347 µs\n",
      "Wall time: 339 µs\n"
     ]
    }
   ],
   "source": [
    "%%time\n",
    "max_c_noloop, time_max_c_noloop, ijk_max_noloop = findmaxCH4(data, t)"
   ]
  },
  {
   "cell_type": "markdown",
   "id": "0a3784aa",
   "metadata": {},
   "source": [
    "#### findmaxCH4 has been tested by Bryan, seems to work as intended"
   ]
  },
  {
   "cell_type": "markdown",
   "id": "0cce9720",
   "metadata": {},
   "source": [
    "# Backtrack Function Testing"
   ]
  },
  {
   "cell_type": "code",
   "execution_count": 17,
   "id": "b809f910",
   "metadata": {},
   "outputs": [],
   "source": [
    "from backtrack import backtrack"
   ]
  },
  {
   "cell_type": "markdown",
   "id": "5821725c",
   "metadata": {},
   "source": [
    "## These variables are all made up. Just looking to see what it requires and see if it runs. "
   ]
  },
  {
   "cell_type": "code",
   "execution_count": 18,
   "id": "7042238a",
   "metadata": {},
   "outputs": [],
   "source": [
    "sensor_x = 1\n",
    "sensor_y = 2\n",
    "\n",
    "pathmax = 3.2\n",
    "dt = 1\n",
    "\n",
    "ijk_start = 2\n",
    "\n",
    "u_sonic = u_data\n",
    "v_sonic = v_data"
   ]
  },
  {
   "cell_type": "code",
   "execution_count": 19,
   "id": "94813226",
   "metadata": {},
   "outputs": [
    {
     "data": {
      "text/plain": [
       "1"
      ]
     },
     "execution_count": 19,
     "metadata": {},
     "output_type": "execute_result"
    }
   ],
   "source": [
    "np.size(ijk_start)"
   ]
  },
  {
   "cell_type": "code",
   "execution_count": 20,
   "id": "89aa362e",
   "metadata": {},
   "outputs": [
    {
     "name": "stdout",
     "output_type": "stream",
     "text": [
      "CPU times: user 46 µs, sys: 1 µs, total: 47 µs\n",
      "Wall time: 49.1 µs\n"
     ]
    },
    {
     "data": {
      "text/plain": [
       "(0.19892212032823364, -6.80536985317612)"
      ]
     },
     "execution_count": 20,
     "metadata": {},
     "output_type": "execute_result"
    }
   ],
   "source": [
    "%%time\n",
    "backtrack(ijk_start, u_sonic, v_sonic, dt, sensor_x, sensor_y, pathmax)"
   ]
  },
  {
   "cell_type": "markdown",
   "id": "688d3eb2",
   "metadata": {},
   "source": [
    "### Pathmax Function"
   ]
  },
  {
   "cell_type": "code",
   "execution_count": 24,
   "id": "43077b4e",
   "metadata": {},
   "outputs": [],
   "source": [
    "from backtrack import pathmax"
   ]
  },
  {
   "cell_type": "code",
   "execution_count": 25,
   "id": "98e3837c",
   "metadata": {},
   "outputs": [],
   "source": [
    "factor_x = 0.5\n",
    "x_width = 11\n",
    "factor_y = 0.25\n",
    "y_width = (30, 2)\n"
   ]
  },
  {
   "cell_type": "code",
   "execution_count": 26,
   "id": "a8a0aa3b",
   "metadata": {},
   "outputs": [
    {
     "ename": "TypeError",
     "evalue": "All inputs must have the same length.",
     "output_type": "error",
     "traceback": [
      "\u001b[0;31m---------------------------------------------------------------------------\u001b[0m",
      "\u001b[0;31mTypeError\u001b[0m                                 Traceback (most recent call last)",
      "\u001b[1;32m/Users/thomasmartin/Documents/GitHub/seals-ml/notebooks/SEALS_backtrack_testing.ipynb Cell 32\u001b[0m line \u001b[0;36m1\n\u001b[0;32m----> <a href='vscode-notebook-cell:/Users/thomasmartin/Documents/GitHub/seals-ml/notebooks/SEALS_backtrack_testing.ipynb#X44sZmlsZQ%3D%3D?line=0'>1</a>\u001b[0m pathmax(factor_x, x_width, factor_y, y_width)\n",
      "File \u001b[0;32m~/Documents/GitHub/seals-ml/notebooks/../sealsml/backtrack.py:31\u001b[0m, in \u001b[0;36mpathmax\u001b[0;34m(factor_x, x_width, factor_y, y_width)\u001b[0m\n\u001b[1;32m     28\u001b[0m \u001b[39m# Check if all inputs have the same length\u001b[39;00m\n\u001b[1;32m     29\u001b[0m \u001b[39mif\u001b[39;00m \u001b[39mnot\u001b[39;00m np\u001b[39m.\u001b[39marray_equal(factor_x\u001b[39m.\u001b[39mshape, x_width\u001b[39m.\u001b[39mshape) \u001b[39mor\u001b[39;00m \u001b[39mnot\u001b[39;00m np\u001b[39m.\u001b[39marray_equal(factor_x\u001b[39m.\u001b[39mshape, factor_y\u001b[39m.\u001b[39mshape) \\\n\u001b[1;32m     30\u001b[0m   \u001b[39mor\u001b[39;00m \u001b[39mnot\u001b[39;00m np\u001b[39m.\u001b[39marray_equal(factor_x\u001b[39m.\u001b[39mshape, y_width\u001b[39m.\u001b[39mshape):\n\u001b[0;32m---> 31\u001b[0m     \u001b[39mraise\u001b[39;00m \u001b[39mTypeError\u001b[39;00m(\u001b[39m\"\u001b[39m\u001b[39mAll inputs must have the same length.\u001b[39m\u001b[39m\"\u001b[39m)\n\u001b[1;32m     33\u001b[0m \u001b[39m# Calculate pathmax using NumPy operations\u001b[39;00m\n\u001b[1;32m     34\u001b[0m \u001b[39mreturn\u001b[39;00m np\u001b[39m.\u001b[39mminimum(factor_x \u001b[39m*\u001b[39m x_width, factor_y \u001b[39m*\u001b[39m y_width)\n",
      "\u001b[0;31mTypeError\u001b[0m: All inputs must have the same length."
     ]
    }
   ],
   "source": [
    "pathmax(factor_x, x_width, factor_y, y_width)"
   ]
  },
  {
   "cell_type": "code",
   "execution_count": 27,
   "id": "ec362d96",
   "metadata": {},
   "outputs": [],
   "source": [
    "y_width = 30"
   ]
  },
  {
   "cell_type": "code",
   "execution_count": 28,
   "id": "05ca4830",
   "metadata": {},
   "outputs": [
    {
     "data": {
      "text/plain": [
       "5.5"
      ]
     },
     "execution_count": 28,
     "metadata": {},
     "output_type": "execute_result"
    }
   ],
   "source": [
    "pathmax(factor_x, x_width, factor_y, y_width)"
   ]
  },
  {
   "cell_type": "markdown",
   "id": "8406dbd6",
   "metadata": {},
   "source": [
    "### Data ingester for B Travis"
   ]
  },
  {
   "cell_type": "code",
   "execution_count": null,
   "id": "f876884f",
   "metadata": {},
   "outputs": [],
   "source": [
    "create_input_data_for_bryan(x, num_met_sensors =1, num_sensors = 3):\n",
    "    '''\n",
    "    This function uses numpy arrays as input\n",
    "\n",
    "    x[0]: same shape as encoder.values where each dimension is sample, sensor, time, variable ,mask \n",
    "    x[1]: same shape as decoder.values where each dimension is sample, pot_leak, target_time, variable, mask\n",
    "\n",
    "    The variable should have a length of 8: ['ref_distance', 'ref_azi_sin', 'ref_azi_cos', 'ref_elv', 'u', 'v', 'w', 'q_CH4']\n",
    "    '''\n",
    "    encoder = x[0]\n",
    "    decoder = x[1] # think unessary\n",
    "\n",
    "    # This is just used for debugging. Since it's outside of the loop, should not affect runtime that much.\n",
    "    print('encoder shape (x)', np.shape(encoder))\n",
    "    print('decoder shape (y)', np.shape(decoder))\n",
    "        \n",
    "    # Collapse on time. Time steps should be constant for this model. \n",
    "    max_time = np.max(encoder, axis=2) # this can be changed to 80th percentile or w/e\n",
    "\n",
    "    # make xarray datasets\n",
    "    dataset = xr.Dataset({\"data\": ([\"sample\", \"sensor\", \"variables\"], max_time)})\n",
    "    \n",
    "    for i in dataset.sample:\n",
    "        # pulling the information from the sensors, distance, azi_sin and azi_cos and ch4\n",
    "        ref_dist = dataset.isel(sample=i).data.values[:, 0]\n",
    "        azi_sin  = dataset.isel(sample=i).data.values[:, 1]\n",
    "        azi_cos  = dataset.isel(sample=i).data.values[:, 2]\n",
    "        ref_elevation  = dataset.isel(sample=i).data.values[:, 3]\n",
    "        u  = dataset.isel(sample=i).data.values[:, 4]\n",
    "        v  = dataset.isel(sample=i).data.values[:, 5]\n",
    "        ch4_data = dataset.isel(sample=i).data.values[:, 7]\n",
    "\n",
    "        combined_sensor = np.column_stack((ref_dist, azi_sin, azi_cos, ref_elevation, u, v, ch4_data))\n",
    "\n",
    "        # Number of met sensors is set constant here. This is one spot where some more clever logic might be needed\n",
    "        combined_sensor = combined_sensor[num_met_sensors:] # drops the met sensor, in this case it's the first row. \n",
    "        drop_masked_sensor =  combined_sensor[:num_sensors, :] # pulling the first three sensors\n",
    "\n",
    "        # This needs to be pathmaxx'ed and backtrack'd \n",
    "        u_export = u[0]\n",
    "        v_export = v[0]\n",
    "        x_, y_   = polar_to_cartesian(drop_masked_sensor[:, 0], drop_masked_sensor[:, 1], drop_masked_sensor[:, 2])\n",
    "        z_data   = drop_masked_sensor[:, 3]\n",
    "        ch4_data = drop_masked_sensor[:, 6]\n",
    "        \n",
    "        output_matrix = np.column_stack((x_, y_, z_data, ch4_data))\n",
    "        flattened_matrix = output_matrix.flatten()\n",
    "        export = np.append(flattened_matrix.reshape(-1, num_sensors*4), [u_export, v_export])\n",
    "\n",
    "    return export"
   ]
  }
 ],
 "metadata": {
  "kernelspec": {
   "display_name": "py10-viz",
   "language": "python",
   "name": "python3"
  },
  "language_info": {
   "codemirror_mode": {
    "name": "ipython",
    "version": 3
   },
   "file_extension": ".py",
   "mimetype": "text/x-python",
   "name": "python",
   "nbconvert_exporter": "python",
   "pygments_lexer": "ipython3",
   "version": "3.10.12"
  }
 },
 "nbformat": 4,
 "nbformat_minor": 5
}
