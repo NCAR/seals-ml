{
 "cells": [
  {
   "cell_type": "markdown",
   "id": "8f476814-f7e4-4e05-a18b-03167e350dfe",
   "metadata": {},
   "source": [
    "# Backtrack Testbed Notebook"
   ]
  },
  {
   "cell_type": "markdown",
   "id": "cd0a2c55-beff-4470-ab9e-703555abd3bc",
   "metadata": {},
   "source": [
    "Short notebook to test Bryans functions."
   ]
  },
  {
   "cell_type": "code",
   "execution_count": 1,
   "id": "260a2b87-deb0-4671-be8e-30f968f72c39",
   "metadata": {
    "tags": []
   },
   "outputs": [],
   "source": [
    "# Standard library\n",
    "import sys\n",
    "\n",
    "import numpy as np\n",
    "import xarray as xr\n",
    "import matplotlib.pyplot as plt"
   ]
  },
  {
   "cell_type": "code",
   "execution_count": 2,
   "id": "e785073f",
   "metadata": {},
   "outputs": [],
   "source": [
    "sys.path.insert(1, '../sealsml')"
   ]
  },
  {
   "cell_type": "markdown",
   "id": "44ba553a",
   "metadata": {},
   "source": [
    "# lets try to find Ch4 max, first lets make an array of random ch4 data"
   ]
  },
  {
   "cell_type": "code",
   "execution_count": 3,
   "id": "07700e5e",
   "metadata": {},
   "outputs": [
    {
     "data": {
      "text/plain": [
       "[<matplotlib.lines.Line2D at 0x119754280>]"
      ]
     },
     "execution_count": 3,
     "metadata": {},
     "output_type": "execute_result"
    },
    {
     "data": {
      "image/png": "[encoded data removed]",
      "text/plain": [
       "<Figure size 640x480 with 1 Axes>"
      ]
     },
     "metadata": {},
     "output_type": "display_data"
    }
   ],
   "source": [
    "# Define number of data points\n",
    "N = 5000\n",
    "\n",
    "# Generate random frequencies and amplitudes for sin and cos\n",
    "freq_sin = np.random.uniform(0.1, 0.5)\n",
    "amp_sin = np.random.uniform(0.5, 1.5)\n",
    "freq_cos = np.random.uniform(0.2, 0.8)\n",
    "amp_cos = np.random.uniform(0.5, 1.5)\n",
    "\n",
    "# Generate time series data as a 1D array\n",
    "t = np.linspace(0, 20, N)\n",
    "data = amp_sin * np.sin(freq_sin * t) + amp_cos * np.cos(freq_cos * t) + np.random.randn(N) * 0.05\n",
    "\n",
    "plt.plot(data)\n"
   ]
  },
  {
   "cell_type": "code",
   "execution_count": 4,
   "id": "45cc2d0f",
   "metadata": {},
   "outputs": [],
   "source": [
    "from backtrack import findmaxCH4"
   ]
  },
  {
   "cell_type": "code",
   "execution_count": 5,
   "id": "42b3d9c8",
   "metadata": {},
   "outputs": [],
   "source": [
    "max_c_noloop, time_max_c_noloop, ijk_max_noloop = findmaxCH4(data, t)"
   ]
  },
  {
   "cell_type": "markdown",
   "id": "0cce9720",
   "metadata": {},
   "source": [
    "# Backtrack Function Testing"
   ]
  },
  {
   "cell_type": "code",
   "execution_count": 6,
   "id": "b809f910",
   "metadata": {},
   "outputs": [],
   "source": [
    "from backtrack import backtrack"
   ]
  },
  {
   "cell_type": "markdown",
   "id": "5821725c",
   "metadata": {},
   "source": [
    "#### These variables are all made up. Just looking to see what it requires and see if it runs. "
   ]
  },
  {
   "cell_type": "code",
   "execution_count": 7,
   "id": "7042238a",
   "metadata": {},
   "outputs": [],
   "source": [
    "sensor_x = 1\n",
    "sensor_y = 2\n",
    "\n",
    "pathmax = 3.2\n",
    "dt = 1\n",
    "\n",
    "ijk_start = 2\n",
    "\n",
    "u_sonic = np.random.uniform(-10, 10, 50)\n",
    "v_sonic = np.random.uniform(-10, 10, 50)"
   ]
  },
  {
   "cell_type": "code",
   "execution_count": 8,
   "id": "94813226",
   "metadata": {},
   "outputs": [
    {
     "data": {
      "text/plain": [
       "1"
      ]
     },
     "execution_count": 8,
     "metadata": {},
     "output_type": "execute_result"
    }
   ],
   "source": [
    "np.size(ijk_start)"
   ]
  },
  {
   "cell_type": "code",
   "execution_count": 9,
   "id": "89aa362e",
   "metadata": {},
   "outputs": [
    {
     "data": {
      "text/plain": [
       "(-6.137538198787734, -8.440418918686838)"
      ]
     },
     "execution_count": 9,
     "metadata": {},
     "output_type": "execute_result"
    }
   ],
   "source": [
    "backtrack(ijk_start, u_sonic, v_sonic, dt, sensor_x, sensor_y, 5)"
   ]
  },
  {
   "cell_type": "markdown",
   "id": "688d3eb2",
   "metadata": {},
   "source": [
    "### Pathmax Function"
   ]
  },
  {
   "cell_type": "code",
   "execution_count": 10,
   "id": "43077b4e",
   "metadata": {},
   "outputs": [],
   "source": [
    "from backtrack import pathmax"
   ]
  },
  {
   "cell_type": "code",
   "execution_count": 11,
   "id": "98e3837c",
   "metadata": {},
   "outputs": [],
   "source": [
    "factor_x = 0.5\n",
    "x_width = 11\n",
    "factor_y = 0.25\n",
    "y_width = 30"
   ]
  },
  {
   "cell_type": "code",
   "execution_count": 12,
   "id": "05ca4830",
   "metadata": {},
   "outputs": [
    {
     "data": {
      "text/plain": [
       "5.5"
      ]
     },
     "execution_count": 12,
     "metadata": {},
     "output_type": "execute_result"
    }
   ],
   "source": [
    "paths = pathmax( x_width, y_width, factor_x, factor_y)\n",
    "paths"
   ]
  },
  {
   "cell_type": "markdown",
   "id": "8406dbd6",
   "metadata": {},
   "source": [
    "### Data ingester for B Travis"
   ]
  },
  {
   "cell_type": "code",
   "execution_count": 13,
   "id": "a05ec449",
   "metadata": {},
   "outputs": [],
   "source": [
    "data = '../test_data/training_data_SBL2m_Ug2p5_src1-8kg_b.5.nc'"
   ]
  },
  {
   "cell_type": "code",
   "execution_count": 14,
   "id": "e39405c9",
   "metadata": {},
   "outputs": [],
   "source": [
    "ds = xr.load_dataset(data)"
   ]
  },
  {
   "cell_type": "code",
   "execution_count": 15,
   "id": "277f0925",
   "metadata": {},
   "outputs": [],
   "source": [
    "x = ds.encoder_input.isel(mask=0).values"
   ]
  },
  {
   "cell_type": "code",
   "execution_count": 16,
   "id": "2e0eb798",
   "metadata": {},
   "outputs": [
    {
     "data": {
      "text/plain": [
       "(600, 10, 100, 8)"
      ]
     },
     "execution_count": 16,
     "metadata": {},
     "output_type": "execute_result"
    }
   ],
   "source": [
    "x.shape"
   ]
  },
  {
   "cell_type": "code",
   "execution_count": 17,
   "id": "b2276752",
   "metadata": {},
   "outputs": [],
   "source": [
    "from backtrack import create_backtrack_mlp_training_data"
   ]
  },
  {
   "cell_type": "code",
   "execution_count": 18,
   "id": "4f2344be",
   "metadata": {},
   "outputs": [
    {
     "name": "stdout",
     "output_type": "stream",
     "text": [
      "Shape of input x (600, 10, 100, 8)\n",
      "shape of export array: (1800, 14)\n"
     ]
    }
   ],
   "source": [
    "foo = create_backtrack_mlp_training_data(x)"
   ]
  },
  {
   "cell_type": "markdown",
   "id": "24e73ce9",
   "metadata": {},
   "source": [
    "## Export"
   ]
  },
  {
   "cell_type": "code",
   "execution_count": 19,
   "id": "03f1c23a",
   "metadata": {},
   "outputs": [],
   "source": [
    "from backtrack import mlp_target_output"
   ]
  },
  {
   "cell_type": "code",
   "execution_count": 20,
   "id": "2163a5e3",
   "metadata": {},
   "outputs": [],
   "source": [
    "tar_ = ds.target.values"
   ]
  },
  {
   "cell_type": "code",
   "execution_count": 21,
   "id": "116a129e",
   "metadata": {},
   "outputs": [],
   "source": [
    "y = ds.decoder_input.isel(mask=0).values\n",
    "y_ = y.squeeze()"
   ]
  },
  {
   "cell_type": "code",
   "execution_count": 22,
   "id": "d438fad2",
   "metadata": {},
   "outputs": [
    {
     "name": "stdout",
     "output_type": "stream",
     "text": [
      "number of samples [600]\n"
     ]
    }
   ],
   "source": [
    "yo = mlp_target_output(y, tar_)"
   ]
  },
  {
   "cell_type": "markdown",
   "id": "2400da0c",
   "metadata": {},
   "source": [
    "## Argmin of Distance"
   ]
  },
  {
   "cell_type": "markdown",
   "id": "af9bec16",
   "metadata": {},
   "source": [
    "We need a workflow to find the minimum distance, mark that as 1, and then pad it to 20 leak locations\n",
    "\n",
    "This needs to be functionized"
   ]
  },
  {
   "cell_type": "markdown",
   "id": "7b72cdf1",
   "metadata": {},
   "source": [
    "Padded to 20"
   ]
  },
  {
   "cell_type": "markdown",
   "id": "abfdcda7",
   "metadata": {},
   "source": [
    "### Let's try on 'real' data"
   ]
  },
  {
   "cell_type": "code",
   "execution_count": 26,
   "id": "39d75cf5",
   "metadata": {},
   "outputs": [
    {
     "data": {
      "text/plain": [
       "array([[-2.77672103, -1.16067796, -0.55579102],\n",
       "       [-1.28656005, -1.47456311,  2.53243166],\n",
       "       [ 1.53615408,  1.63573293,  2.38884223],\n",
       "       ...,\n",
       "       [-1.18904273,  0.07377446,  2.88613431],\n",
       "       [-2.68761148,  1.55378465,  0.97606152],\n",
       "       [ 2.21874621,  1.34912089,  1.97511056]])"
      ]
     },
     "execution_count": 26,
     "metadata": {},
     "output_type": "execute_result"
    }
   ],
   "source": [
    "mlp_output = np.random.uniform(-3, 3, size=(600, 3))\n",
    "mlp_output"
   ]
  },
  {
   "cell_type": "code",
   "execution_count": 27,
   "id": "86c66ee7",
   "metadata": {},
   "outputs": [
    {
     "data": {
      "text/plain": [
       "array([0.35266594, 1.82366216, 0.93321204])"
      ]
     },
     "execution_count": 27,
     "metadata": {},
     "output_type": "execute_result"
    }
   ],
   "source": [
    "mlp_output[11]"
   ]
  },
  {
   "cell_type": "code",
   "execution_count": 28,
   "id": "b97995f7",
   "metadata": {},
   "outputs": [],
   "source": [
    "from backtrack import argmin_mlp_eval"
   ]
  },
  {
   "cell_type": "code",
   "execution_count": 29,
   "id": "203aa299",
   "metadata": {},
   "outputs": [
    {
     "name": "stdout",
     "output_type": "stream",
     "text": [
      "Number of samples: 600\n",
      "Max number of leaks: 20\n",
      "Export shape (600, 1, 20)\n"
     ]
    }
   ],
   "source": [
    "yo = argmin_mlp_eval(y, mlp_output)"
   ]
  },
  {
   "cell_type": "code",
   "execution_count": 30,
   "id": "de8f7da4",
   "metadata": {},
   "outputs": [
    {
     "data": {
      "text/plain": [
       "array([[[0., 0., 0., ..., 0., 0., 0.]],\n",
       "\n",
       "       [[0., 1., 0., ..., 0., 0., 0.]],\n",
       "\n",
       "       [[0., 0., 1., ..., 0., 0., 0.]],\n",
       "\n",
       "       ...,\n",
       "\n",
       "       [[0., 0., 0., ..., 0., 0., 0.]],\n",
       "\n",
       "       [[0., 0., 0., ..., 0., 0., 0.]],\n",
       "\n",
       "       [[0., 0., 0., ..., 0., 0., 0.]]])"
      ]
     },
     "execution_count": 30,
     "metadata": {},
     "output_type": "execute_result"
    }
   ],
   "source": [
    "yo"
   ]
  }
 ],
 "metadata": {
  "kernelspec": {
   "display_name": "py10-viz",
   "language": "python",
   "name": "python3"
  },
  "language_info": {
   "codemirror_mode": {
    "name": "ipython",
    "version": 3
   },
   "file_extension": ".py",
   "mimetype": "text/x-python",
   "name": "python",
   "nbconvert_exporter": "python",
   "pygments_lexer": "ipython3",
   "version": "3.10.12"
  }
 },
 "nbformat": 4,
 "nbformat_minor": 5
}
